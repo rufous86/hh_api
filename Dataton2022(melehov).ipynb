{
  "cells": [
    {
      "cell_type": "markdown",
      "metadata": {
        "id": "view-in-github",
        "colab_type": "text"
      },
      "source": [
        "<a href=\"https://colab.research.google.com/github/rufous86/hh_api/blob/main/Dataton2022(melehov).ipynb\" target=\"_parent\"><img src=\"https://colab.research.google.com/assets/colab-badge.svg\" alt=\"Open In Colab\"/></a>"
      ]
    },
    {
      "cell_type": "code",
      "execution_count": null,
      "id": "fdb649e7",
      "metadata": {
        "id": "fdb649e7"
      },
      "outputs": [],
      "source": [
        "import requests\n",
        "from tqdm.notebook import tqdm\n",
        "import pandas as pd\n",
        "import numpy as np\n",
        "import matplotlib.pyplot as plt\n",
        "import seaborn as sns\n",
        "import plotly\n",
        "import plotly.express as px"
      ]
    },
    {
      "cell_type": "code",
      "execution_count": null,
      "id": "d5a9f5de",
      "metadata": {
        "id": "d5a9f5de",
        "outputId": "925b76a4-749e-4024-ac8e-b552020addf3",
        "colab": {
          "referenced_widgets": [
            "35cff1a729d14da2a6a3150b75af5c59",
            "f2e356b98f1343ccb8396d5df4b6a8b9",
            "d77c849dff41425fa2d7234cfdb0ef6e",
            "3fd64fc40b2f42a19435fbb45e2799a1",
            "8827d61cc18b4c3ab09b40247b17e638",
            "d9e86d5a22894d898c200c8c02d5bba3",
            "6e8c3c7aeda44d83b622bcc305332129",
            "fd1b5b93156248e2bf02fe22ea66e5fd",
            "b251625503b34e02a6cf2247d4e2f918",
            "640d59840444405095a4dd12240c0ef0",
            "dc8ce68b86cf400a832d3cb132322a2a",
            "40674dcb189b4299a5b28cfacd5066ac",
            "11f3a11793464cf7bca606d527e5d727",
            "9bc0cc35d9934edfb7dd261dc8c1d3ad",
            "1df66ffe4e724e0f9742f372fbfee8eb",
            "ef46de099c8c482cad9d8ddd8b3a9b1e",
            "111b01e03a62406393e9e19f2dbc40f1"
          ]
        }
      },
      "outputs": [
        {
          "data": {
            "application/vnd.jupyter.widget-view+json": {
              "model_id": "35cff1a729d14da2a6a3150b75af5c59",
              "version_major": 2,
              "version_minor": 0
            },
            "text/plain": [
              "  0%|          | 0/16 [00:00<?, ?it/s]"
            ]
          },
          "metadata": {},
          "output_type": "display_data"
        },
        {
          "name": "stdout",
          "output_type": "stream",
          "text": [
            "collecting <maching AND learning>\n"
          ]
        },
        {
          "data": {
            "application/vnd.jupyter.widget-view+json": {
              "model_id": "f2e356b98f1343ccb8396d5df4b6a8b9",
              "version_major": 2,
              "version_minor": 0
            },
            "text/plain": [
              "  0%|          | 0/100 [00:00<?, ?it/s]"
            ]
          },
          "metadata": {},
          "output_type": "display_data"
        },
        {
          "name": "stdout",
          "output_type": "stream",
          "text": [
            "collecting <data AND science>\n"
          ]
        },
        {
          "data": {
            "application/vnd.jupyter.widget-view+json": {
              "model_id": "d77c849dff41425fa2d7234cfdb0ef6e",
              "version_major": 2,
              "version_minor": 0
            },
            "text/plain": [
              "  0%|          | 0/100 [00:00<?, ?it/s]"
            ]
          },
          "metadata": {},
          "output_type": "display_data"
        },
        {
          "name": "stdout",
          "output_type": "stream",
          "text": [
            "collecting <sql>\n"
          ]
        },
        {
          "data": {
            "application/vnd.jupyter.widget-view+json": {
              "model_id": "3fd64fc40b2f42a19435fbb45e2799a1",
              "version_major": 2,
              "version_minor": 0
            },
            "text/plain": [
              "  0%|          | 0/100 [00:00<?, ?it/s]"
            ]
          },
          "metadata": {},
          "output_type": "display_data"
        },
        {
          "name": "stdout",
          "output_type": "stream",
          "text": [
            "collecting <NLP>\n"
          ]
        },
        {
          "data": {
            "application/vnd.jupyter.widget-view+json": {
              "model_id": "8827d61cc18b4c3ab09b40247b17e638",
              "version_major": 2,
              "version_minor": 0
            },
            "text/plain": [
              "  0%|          | 0/100 [00:00<?, ?it/s]"
            ]
          },
          "metadata": {},
          "output_type": "display_data"
        },
        {
          "name": "stdout",
          "output_type": "stream",
          "text": [
            "collecting <spark>\n"
          ]
        },
        {
          "data": {
            "application/vnd.jupyter.widget-view+json": {
              "model_id": "d9e86d5a22894d898c200c8c02d5bba3",
              "version_major": 2,
              "version_minor": 0
            },
            "text/plain": [
              "  0%|          | 0/100 [00:00<?, ?it/s]"
            ]
          },
          "metadata": {},
          "output_type": "display_data"
        },
        {
          "name": "stdout",
          "output_type": "stream",
          "text": [
            "collecting <hadoop>\n"
          ]
        },
        {
          "data": {
            "application/vnd.jupyter.widget-view+json": {
              "model_id": "6e8c3c7aeda44d83b622bcc305332129",
              "version_major": 2,
              "version_minor": 0
            },
            "text/plain": [
              "  0%|          | 0/100 [00:00<?, ?it/s]"
            ]
          },
          "metadata": {},
          "output_type": "display_data"
        },
        {
          "name": "stdout",
          "output_type": "stream",
          "text": [
            "collecting <pandas>\n"
          ]
        },
        {
          "data": {
            "application/vnd.jupyter.widget-view+json": {
              "model_id": "fd1b5b93156248e2bf02fe22ea66e5fd",
              "version_major": 2,
              "version_minor": 0
            },
            "text/plain": [
              "  0%|          | 0/100 [00:00<?, ?it/s]"
            ]
          },
          "metadata": {},
          "output_type": "display_data"
        },
        {
          "name": "stdout",
          "output_type": "stream",
          "text": [
            "collecting <dask>\n"
          ]
        },
        {
          "data": {
            "application/vnd.jupyter.widget-view+json": {
              "model_id": "b251625503b34e02a6cf2247d4e2f918",
              "version_major": 2,
              "version_minor": 0
            },
            "text/plain": [
              "  0%|          | 0/100 [00:00<?, ?it/s]"
            ]
          },
          "metadata": {},
          "output_type": "display_data"
        },
        {
          "name": "stdout",
          "output_type": "stream",
          "text": [
            "collecting <deep AND learning>\n"
          ]
        },
        {
          "data": {
            "application/vnd.jupyter.widget-view+json": {
              "model_id": "640d59840444405095a4dd12240c0ef0",
              "version_major": 2,
              "version_minor": 0
            },
            "text/plain": [
              "  0%|          | 0/100 [00:00<?, ?it/s]"
            ]
          },
          "metadata": {},
          "output_type": "display_data"
        },
        {
          "name": "stdout",
          "output_type": "stream",
          "text": [
            "collecting <pytorch>\n"
          ]
        },
        {
          "data": {
            "application/vnd.jupyter.widget-view+json": {
              "model_id": "dc8ce68b86cf400a832d3cb132322a2a",
              "version_major": 2,
              "version_minor": 0
            },
            "text/plain": [
              "  0%|          | 0/100 [00:00<?, ?it/s]"
            ]
          },
          "metadata": {},
          "output_type": "display_data"
        },
        {
          "name": "stdout",
          "output_type": "stream",
          "text": [
            "collecting <tensorflow>\n"
          ]
        },
        {
          "data": {
            "application/vnd.jupyter.widget-view+json": {
              "model_id": "40674dcb189b4299a5b28cfacd5066ac",
              "version_major": 2,
              "version_minor": 0
            },
            "text/plain": [
              "  0%|          | 0/100 [00:00<?, ?it/s]"
            ]
          },
          "metadata": {},
          "output_type": "display_data"
        },
        {
          "name": "stdout",
          "output_type": "stream",
          "text": [
            "collecting <keras>\n"
          ]
        },
        {
          "data": {
            "application/vnd.jupyter.widget-view+json": {
              "model_id": "11f3a11793464cf7bca606d527e5d727",
              "version_major": 2,
              "version_minor": 0
            },
            "text/plain": [
              "  0%|          | 0/100 [00:00<?, ?it/s]"
            ]
          },
          "metadata": {},
          "output_type": "display_data"
        },
        {
          "name": "stdout",
          "output_type": "stream",
          "text": [
            "collecting <ai AND developer>\n"
          ]
        },
        {
          "data": {
            "application/vnd.jupyter.widget-view+json": {
              "model_id": "9bc0cc35d9934edfb7dd261dc8c1d3ad",
              "version_major": 2,
              "version_minor": 0
            },
            "text/plain": [
              "  0%|          | 0/100 [00:00<?, ?it/s]"
            ]
          },
          "metadata": {},
          "output_type": "display_data"
        },
        {
          "name": "stdout",
          "output_type": "stream",
          "text": [
            "collecting <computer AND vision>\n"
          ]
        },
        {
          "data": {
            "application/vnd.jupyter.widget-view+json": {
              "model_id": "1df66ffe4e724e0f9742f372fbfee8eb",
              "version_major": 2,
              "version_minor": 0
            },
            "text/plain": [
              "  0%|          | 0/100 [00:00<?, ?it/s]"
            ]
          },
          "metadata": {},
          "output_type": "display_data"
        },
        {
          "name": "stdout",
          "output_type": "stream",
          "text": [
            "collecting <нейронные AND сети>\n"
          ]
        },
        {
          "data": {
            "application/vnd.jupyter.widget-view+json": {
              "model_id": "ef46de099c8c482cad9d8ddd8b3a9b1e",
              "version_major": 2,
              "version_minor": 0
            },
            "text/plain": [
              "  0%|          | 0/100 [00:00<?, ?it/s]"
            ]
          },
          "metadata": {},
          "output_type": "display_data"
        },
        {
          "name": "stdout",
          "output_type": "stream",
          "text": [
            "collecting <big AND data>\n"
          ]
        },
        {
          "data": {
            "application/vnd.jupyter.widget-view+json": {
              "model_id": "111b01e03a62406393e9e19f2dbc40f1",
              "version_major": 2,
              "version_minor": 0
            },
            "text/plain": [
              "  0%|          | 0/100 [00:00<?, ?it/s]"
            ]
          },
          "metadata": {},
          "output_type": "display_data"
        }
      ],
      "source": [
        "res = []\n",
        "def get_vacancy(vacancies, pages=100):\n",
        "    for vacancy in tqdm(vacancies):\n",
        "        print(f'collecting <{vacancy}>')\n",
        "        for page in tqdm(range(pages)):\n",
        "            params = {\n",
        "                'text': f'{vacancy}',\n",
        "                'page': page,\n",
        "                'per_page': 100,\n",
        "                'only_with_salary': 'true',\n",
        "                }\n",
        "            req = requests.get('https://api.hh.ru/vacancies', params).json()\n",
        "            if 'items' in req.keys():\n",
        "                res.extend(req['items'])\n",
        "\n",
        "vacancies = ['maching AND learning', 'data AND science', 'sql', 'NLP',\n",
        "             'spark', 'hadoop', 'pandas', 'dask', 'deep AND learning', 'pytorch',\n",
        "             'tensorflow', 'keras', 'ai AND developer', 'computer AND vision',\n",
        "            'нейронные AND сети', 'big AND data']\n",
        "get_vacancy(vacancies)\n",
        "\n",
        "data = pd.DataFrame(res)"
      ]
    },
    {
      "cell_type": "code",
      "execution_count": null,
      "id": "245db276",
      "metadata": {
        "id": "245db276",
        "outputId": "5ad1ef75-8085-4943-9113-37ec789e1052"
      },
      "outputs": [
        {
          "data": {
            "text/html": [
              "<div>\n",
              "<style scoped>\n",
              "    .dataframe tbody tr th:only-of-type {\n",
              "        vertical-align: middle;\n",
              "    }\n",
              "\n",
              "    .dataframe tbody tr th {\n",
              "        vertical-align: top;\n",
              "    }\n",
              "\n",
              "    .dataframe thead th {\n",
              "        text-align: right;\n",
              "    }\n",
              "</style>\n",
              "<table border=\"1\" class=\"dataframe\">\n",
              "  <thead>\n",
              "    <tr style=\"text-align: right;\">\n",
              "      <th></th>\n",
              "      <th>id</th>\n",
              "      <th>premium</th>\n",
              "      <th>name</th>\n",
              "      <th>department</th>\n",
              "      <th>has_test</th>\n",
              "      <th>response_letter_required</th>\n",
              "      <th>area</th>\n",
              "      <th>salary</th>\n",
              "      <th>type</th>\n",
              "      <th>address</th>\n",
              "      <th>...</th>\n",
              "      <th>alternate_url</th>\n",
              "      <th>relations</th>\n",
              "      <th>employer</th>\n",
              "      <th>snippet</th>\n",
              "      <th>contacts</th>\n",
              "      <th>schedule</th>\n",
              "      <th>working_days</th>\n",
              "      <th>working_time_intervals</th>\n",
              "      <th>working_time_modes</th>\n",
              "      <th>accept_temporary</th>\n",
              "    </tr>\n",
              "  </thead>\n",
              "  <tbody>\n",
              "    <tr>\n",
              "      <th>0</th>\n",
              "      <td>73259890</td>\n",
              "      <td>False</td>\n",
              "      <td>Senior Machine Learning Engineer</td>\n",
              "      <td>None</td>\n",
              "      <td>False</td>\n",
              "      <td>False</td>\n",
              "      <td>{'id': '1', 'name': 'Москва', 'url': 'https://...</td>\n",
              "      <td>{'from': 4000, 'to': 5800, 'currency': 'EUR', ...</td>\n",
              "      <td>{'id': 'open', 'name': 'Открытая'}</td>\n",
              "      <td>None</td>\n",
              "      <td>...</td>\n",
              "      <td>https://hh.ru/vacancy/73259890</td>\n",
              "      <td>[]</td>\n",
              "      <td>{'id': '5372145', 'name': 'F-ONE', 'url': 'htt...</td>\n",
              "      <td>{'requirement': 'We believe that a strong unde...</td>\n",
              "      <td>None</td>\n",
              "      <td>{'id': 'fullDay', 'name': 'Полный день'}</td>\n",
              "      <td>[]</td>\n",
              "      <td>[]</td>\n",
              "      <td>[]</td>\n",
              "      <td>True</td>\n",
              "    </tr>\n",
              "    <tr>\n",
              "      <th>1</th>\n",
              "      <td>74140621</td>\n",
              "      <td>False</td>\n",
              "      <td>Data Engineer</td>\n",
              "      <td>None</td>\n",
              "      <td>False</td>\n",
              "      <td>False</td>\n",
              "      <td>{'id': '13', 'name': 'Армения', 'url': 'https:...</td>\n",
              "      <td>{'from': None, 'to': 5000, 'currency': 'USD', ...</td>\n",
              "      <td>{'id': 'open', 'name': 'Открытая'}</td>\n",
              "      <td>None</td>\n",
              "      <td>...</td>\n",
              "      <td>https://hh.ru/vacancy/74140621</td>\n",
              "      <td>[]</td>\n",
              "      <td>{'id': '9849', 'name': 'Social Discovery Ventu...</td>\n",
              "      <td>{'requirement': 'Опыт анализа большого объема ...</td>\n",
              "      <td>None</td>\n",
              "      <td>{'id': 'fullDay', 'name': 'Полный день'}</td>\n",
              "      <td>[]</td>\n",
              "      <td>[]</td>\n",
              "      <td>[]</td>\n",
              "      <td>True</td>\n",
              "    </tr>\n",
              "  </tbody>\n",
              "</table>\n",
              "<p>2 rows × 29 columns</p>\n",
              "</div>"
            ],
            "text/plain": [
              "         id  premium                              name department  has_test  \\\n",
              "0  73259890    False  Senior Machine Learning Engineer       None     False   \n",
              "1  74140621    False                     Data Engineer       None     False   \n",
              "\n",
              "   response_letter_required  \\\n",
              "0                     False   \n",
              "1                     False   \n",
              "\n",
              "                                                area  \\\n",
              "0  {'id': '1', 'name': 'Москва', 'url': 'https://...   \n",
              "1  {'id': '13', 'name': 'Армения', 'url': 'https:...   \n",
              "\n",
              "                                              salary  \\\n",
              "0  {'from': 4000, 'to': 5800, 'currency': 'EUR', ...   \n",
              "1  {'from': None, 'to': 5000, 'currency': 'USD', ...   \n",
              "\n",
              "                                 type address  ...  \\\n",
              "0  {'id': 'open', 'name': 'Открытая'}    None  ...   \n",
              "1  {'id': 'open', 'name': 'Открытая'}    None  ...   \n",
              "\n",
              "                    alternate_url relations  \\\n",
              "0  https://hh.ru/vacancy/73259890        []   \n",
              "1  https://hh.ru/vacancy/74140621        []   \n",
              "\n",
              "                                            employer  \\\n",
              "0  {'id': '5372145', 'name': 'F-ONE', 'url': 'htt...   \n",
              "1  {'id': '9849', 'name': 'Social Discovery Ventu...   \n",
              "\n",
              "                                             snippet  contacts  \\\n",
              "0  {'requirement': 'We believe that a strong unde...      None   \n",
              "1  {'requirement': 'Опыт анализа большого объема ...      None   \n",
              "\n",
              "                                   schedule working_days  \\\n",
              "0  {'id': 'fullDay', 'name': 'Полный день'}           []   \n",
              "1  {'id': 'fullDay', 'name': 'Полный день'}           []   \n",
              "\n",
              "  working_time_intervals working_time_modes accept_temporary  \n",
              "0                     []                 []             True  \n",
              "1                     []                 []             True  \n",
              "\n",
              "[2 rows x 29 columns]"
            ]
          },
          "execution_count": 17,
          "metadata": {},
          "output_type": "execute_result"
        }
      ],
      "source": [
        "data.head(2)"
      ]
    },
    {
      "cell_type": "code",
      "execution_count": null,
      "id": "f5e252fa",
      "metadata": {
        "id": "f5e252fa",
        "outputId": "1ac7b0cb-04da-4166-f61f-49043ab575ad"
      },
      "outputs": [
        {
          "data": {
            "text/html": [
              "<div>\n",
              "<style scoped>\n",
              "    .dataframe tbody tr th:only-of-type {\n",
              "        vertical-align: middle;\n",
              "    }\n",
              "\n",
              "    .dataframe tbody tr th {\n",
              "        vertical-align: top;\n",
              "    }\n",
              "\n",
              "    .dataframe thead th {\n",
              "        text-align: right;\n",
              "    }\n",
              "</style>\n",
              "<table border=\"1\" class=\"dataframe\">\n",
              "  <thead>\n",
              "    <tr style=\"text-align: right;\">\n",
              "      <th></th>\n",
              "      <th>name</th>\n",
              "      <th>salary</th>\n",
              "      <th>schedule</th>\n",
              "      <th>accept_temporary</th>\n",
              "      <th>area</th>\n",
              "      <th>published_at</th>\n",
              "    </tr>\n",
              "  </thead>\n",
              "  <tbody>\n",
              "    <tr>\n",
              "      <th>0</th>\n",
              "      <td>Senior Machine Learning Engineer</td>\n",
              "      <td>{'from': 4000, 'to': 5800, 'currency': 'EUR', ...</td>\n",
              "      <td>{'id': 'fullDay', 'name': 'Полный день'}</td>\n",
              "      <td>True</td>\n",
              "      <td>{'id': '1', 'name': 'Москва', 'url': 'https://...</td>\n",
              "      <td>2022-12-24T01:29:25+0300</td>\n",
              "    </tr>\n",
              "    <tr>\n",
              "      <th>1</th>\n",
              "      <td>Data Engineer</td>\n",
              "      <td>{'from': None, 'to': 5000, 'currency': 'USD', ...</td>\n",
              "      <td>{'id': 'fullDay', 'name': 'Полный день'}</td>\n",
              "      <td>True</td>\n",
              "      <td>{'id': '13', 'name': 'Армения', 'url': 'https:...</td>\n",
              "      <td>2022-12-22T12:13:48+0300</td>\n",
              "    </tr>\n",
              "    <tr>\n",
              "      <th>2</th>\n",
              "      <td>Аналитик Data Science (консультант)</td>\n",
              "      <td>{'from': 15, 'to': 20, 'currency': 'USD', 'gro...</td>\n",
              "      <td>{'id': 'remote', 'name': 'Удаленная работа'}</td>\n",
              "      <td>False</td>\n",
              "      <td>{'id': '1', 'name': 'Москва', 'url': 'https://...</td>\n",
              "      <td>2022-12-23T09:18:27+0300</td>\n",
              "    </tr>\n",
              "    <tr>\n",
              "      <th>3</th>\n",
              "      <td>Machine learning engineer/ разработчик машинно...</td>\n",
              "      <td>{'from': 200000, 'to': 400000, 'currency': 'RU...</td>\n",
              "      <td>{'id': 'remote', 'name': 'Удаленная работа'}</td>\n",
              "      <td>False</td>\n",
              "      <td>{'id': '72', 'name': 'Пермь', 'url': 'https://...</td>\n",
              "      <td>2022-12-19T13:22:24+0300</td>\n",
              "    </tr>\n",
              "    <tr>\n",
              "      <th>4</th>\n",
              "      <td>Data Engineer</td>\n",
              "      <td>{'from': None, 'to': 5000, 'currency': 'USD', ...</td>\n",
              "      <td>{'id': 'fullDay', 'name': 'Полный день'}</td>\n",
              "      <td>True</td>\n",
              "      <td>{'id': '2758', 'name': 'Тбилиси', 'url': 'http...</td>\n",
              "      <td>2022-12-22T12:13:48+0300</td>\n",
              "    </tr>\n",
              "  </tbody>\n",
              "</table>\n",
              "</div>"
            ],
            "text/plain": [
              "                                                name  \\\n",
              "0                   Senior Machine Learning Engineer   \n",
              "1                                      Data Engineer   \n",
              "2                Аналитик Data Science (консультант)   \n",
              "3  Machine learning engineer/ разработчик машинно...   \n",
              "4                                      Data Engineer   \n",
              "\n",
              "                                              salary  \\\n",
              "0  {'from': 4000, 'to': 5800, 'currency': 'EUR', ...   \n",
              "1  {'from': None, 'to': 5000, 'currency': 'USD', ...   \n",
              "2  {'from': 15, 'to': 20, 'currency': 'USD', 'gro...   \n",
              "3  {'from': 200000, 'to': 400000, 'currency': 'RU...   \n",
              "4  {'from': None, 'to': 5000, 'currency': 'USD', ...   \n",
              "\n",
              "                                       schedule  accept_temporary  \\\n",
              "0      {'id': 'fullDay', 'name': 'Полный день'}              True   \n",
              "1      {'id': 'fullDay', 'name': 'Полный день'}              True   \n",
              "2  {'id': 'remote', 'name': 'Удаленная работа'}             False   \n",
              "3  {'id': 'remote', 'name': 'Удаленная работа'}             False   \n",
              "4      {'id': 'fullDay', 'name': 'Полный день'}              True   \n",
              "\n",
              "                                                area              published_at  \n",
              "0  {'id': '1', 'name': 'Москва', 'url': 'https://...  2022-12-24T01:29:25+0300  \n",
              "1  {'id': '13', 'name': 'Армения', 'url': 'https:...  2022-12-22T12:13:48+0300  \n",
              "2  {'id': '1', 'name': 'Москва', 'url': 'https://...  2022-12-23T09:18:27+0300  \n",
              "3  {'id': '72', 'name': 'Пермь', 'url': 'https://...  2022-12-19T13:22:24+0300  \n",
              "4  {'id': '2758', 'name': 'Тбилиси', 'url': 'http...  2022-12-22T12:13:48+0300  "
            ]
          },
          "execution_count": 18,
          "metadata": {},
          "output_type": "execute_result"
        }
      ],
      "source": [
        "df = data.copy()\n",
        "\n",
        "columns = ['name', 'salary', 'schedule', 'accept_temporary', 'area', 'published_at']\n",
        "df = df[columns]\n",
        "df.head()"
      ]
    },
    {
      "cell_type": "code",
      "execution_count": null,
      "id": "746e845a",
      "metadata": {
        "id": "746e845a",
        "outputId": "b019a65d-5389-45e6-bb21-b339c2384ed7"
      },
      "outputs": [
        {
          "data": {
            "text/html": [
              "<div>\n",
              "<style scoped>\n",
              "    .dataframe tbody tr th:only-of-type {\n",
              "        vertical-align: middle;\n",
              "    }\n",
              "\n",
              "    .dataframe tbody tr th {\n",
              "        vertical-align: top;\n",
              "    }\n",
              "\n",
              "    .dataframe thead th {\n",
              "        text-align: right;\n",
              "    }\n",
              "</style>\n",
              "<table border=\"1\" class=\"dataframe\">\n",
              "  <thead>\n",
              "    <tr style=\"text-align: right;\">\n",
              "      <th></th>\n",
              "      <th>name</th>\n",
              "      <th>schedule</th>\n",
              "      <th>accept_temporary</th>\n",
              "      <th>published_at</th>\n",
              "      <th>city</th>\n",
              "      <th>salary_from</th>\n",
              "      <th>salary_to</th>\n",
              "      <th>salary_currency</th>\n",
              "    </tr>\n",
              "  </thead>\n",
              "  <tbody>\n",
              "    <tr>\n",
              "      <th>0</th>\n",
              "      <td>Senior Machine Learning Engineer</td>\n",
              "      <td>fullDay</td>\n",
              "      <td>True</td>\n",
              "      <td>2022-12-24T01:29:25+0300</td>\n",
              "      <td>Москва</td>\n",
              "      <td>4000.0</td>\n",
              "      <td>5800.0</td>\n",
              "      <td>EUR</td>\n",
              "    </tr>\n",
              "    <tr>\n",
              "      <th>1</th>\n",
              "      <td>Data Engineer</td>\n",
              "      <td>fullDay</td>\n",
              "      <td>True</td>\n",
              "      <td>2022-12-22T12:13:48+0300</td>\n",
              "      <td>Армения</td>\n",
              "      <td>NaN</td>\n",
              "      <td>5000.0</td>\n",
              "      <td>USD</td>\n",
              "    </tr>\n",
              "    <tr>\n",
              "      <th>2</th>\n",
              "      <td>Аналитик Data Science (консультант)</td>\n",
              "      <td>remote</td>\n",
              "      <td>False</td>\n",
              "      <td>2022-12-23T09:18:27+0300</td>\n",
              "      <td>Москва</td>\n",
              "      <td>15.0</td>\n",
              "      <td>20.0</td>\n",
              "      <td>USD</td>\n",
              "    </tr>\n",
              "    <tr>\n",
              "      <th>3</th>\n",
              "      <td>Machine learning engineer/ разработчик машинно...</td>\n",
              "      <td>remote</td>\n",
              "      <td>False</td>\n",
              "      <td>2022-12-19T13:22:24+0300</td>\n",
              "      <td>Пермь</td>\n",
              "      <td>200000.0</td>\n",
              "      <td>400000.0</td>\n",
              "      <td>RUR</td>\n",
              "    </tr>\n",
              "    <tr>\n",
              "      <th>4</th>\n",
              "      <td>Data Engineer</td>\n",
              "      <td>fullDay</td>\n",
              "      <td>True</td>\n",
              "      <td>2022-12-22T12:13:48+0300</td>\n",
              "      <td>Тбилиси</td>\n",
              "      <td>NaN</td>\n",
              "      <td>5000.0</td>\n",
              "      <td>USD</td>\n",
              "    </tr>\n",
              "  </tbody>\n",
              "</table>\n",
              "</div>"
            ],
            "text/plain": [
              "                                                name schedule  \\\n",
              "0                   Senior Machine Learning Engineer  fullDay   \n",
              "1                                      Data Engineer  fullDay   \n",
              "2                Аналитик Data Science (консультант)   remote   \n",
              "3  Machine learning engineer/ разработчик машинно...   remote   \n",
              "4                                      Data Engineer  fullDay   \n",
              "\n",
              "   accept_temporary              published_at     city  salary_from  \\\n",
              "0              True  2022-12-24T01:29:25+0300   Москва       4000.0   \n",
              "1              True  2022-12-22T12:13:48+0300  Армения          NaN   \n",
              "2             False  2022-12-23T09:18:27+0300   Москва         15.0   \n",
              "3             False  2022-12-19T13:22:24+0300    Пермь     200000.0   \n",
              "4              True  2022-12-22T12:13:48+0300  Тбилиси          NaN   \n",
              "\n",
              "   salary_to salary_currency  \n",
              "0     5800.0             EUR  \n",
              "1     5000.0             USD  \n",
              "2       20.0             USD  \n",
              "3   400000.0             RUR  \n",
              "4     5000.0             USD  "
            ]
          },
          "execution_count": 19,
          "metadata": {},
          "output_type": "execute_result"
        }
      ],
      "source": [
        "df[\"city\"] = (df[\"area\"]\n",
        "                     .apply(lambda x: x.get(\"name\") \n",
        "                                      if isinstance(x, dict) \n",
        "                                      else np.nan))\n",
        "df[\"schedule\"] = (df[\"schedule\"]\n",
        "                     .apply(lambda x: x.get(\"id\") \n",
        "                                      if isinstance(x, dict) \n",
        "                                      else np.nan))\n",
        "df[\"salary_from\"] = (df[\"salary\"]\n",
        "                     .apply(lambda x: x.get(\"from\") \n",
        "                                      if isinstance(x, dict) \n",
        "                                      else np.nan))\n",
        "df[\"salary_to\"] = (df[\"salary\"]\n",
        "                     .apply(lambda x: x.get(\"to\") \n",
        "                                      if isinstance(x, dict) \n",
        "                                      else np.nan))\n",
        "df[\"salary_currency\"] = (df[\"salary\"]\n",
        "                     .apply(lambda x: x.get(\"currency\") \n",
        "                                      if isinstance(x, dict) \n",
        "                                      else np.nan))\n",
        "\n",
        "df = df.drop(['salary', 'area'], axis=1)\n",
        "df.head()"
      ]
    },
    {
      "cell_type": "code",
      "execution_count": null,
      "id": "22881357",
      "metadata": {
        "id": "22881357",
        "outputId": "1940c2fa-7876-4d35-a81d-09eaf49221fc"
      },
      "outputs": [
        {
          "name": "stdout",
          "output_type": "stream",
          "text": [
            "Requirement already satisfied: currencyconverter in c:\\anaconda\\lib\\site-packages (0.17.4)\n"
          ]
        }
      ],
      "source": [
        "! pip install currencyconverter"
      ]
    },
    {
      "cell_type": "code",
      "execution_count": null,
      "id": "9dcfcd68",
      "metadata": {
        "id": "9dcfcd68"
      },
      "outputs": [],
      "source": [
        "from currency_converter import CurrencyConverter\n",
        "c = CurrencyConverter()\n",
        "c.currencies\n",
        "\n",
        "def currency_convert(salary, salary_currency):\n",
        "    if salary_currency == 'RUR':\n",
        "        salary_currency = 'RUB'\n",
        "    if salary_currency not in c.currencies:\n",
        "        return np.nan\n",
        "    return salary * c.convert(1, 'RUB', salary_currency)**(-1)"
      ]
    },
    {
      "cell_type": "code",
      "execution_count": null,
      "id": "c66b0288",
      "metadata": {
        "id": "c66b0288",
        "outputId": "28b61c53-7b93-41dd-b01c-52855a6a13c8"
      },
      "outputs": [
        {
          "data": {
            "text/html": [
              "<div>\n",
              "<style scoped>\n",
              "    .dataframe tbody tr th:only-of-type {\n",
              "        vertical-align: middle;\n",
              "    }\n",
              "\n",
              "    .dataframe tbody tr th {\n",
              "        vertical-align: top;\n",
              "    }\n",
              "\n",
              "    .dataframe thead th {\n",
              "        text-align: right;\n",
              "    }\n",
              "</style>\n",
              "<table border=\"1\" class=\"dataframe\">\n",
              "  <thead>\n",
              "    <tr style=\"text-align: right;\">\n",
              "      <th></th>\n",
              "      <th>name</th>\n",
              "      <th>schedule</th>\n",
              "      <th>accept_temporary</th>\n",
              "      <th>published_at</th>\n",
              "      <th>city</th>\n",
              "      <th>salary_from</th>\n",
              "      <th>salary_to</th>\n",
              "    </tr>\n",
              "  </thead>\n",
              "  <tbody>\n",
              "    <tr>\n",
              "      <th>0</th>\n",
              "      <td>Senior Machine Learning Engineer</td>\n",
              "      <td>fullDay</td>\n",
              "      <td>True</td>\n",
              "      <td>2022-12-24T01:29:25+0300</td>\n",
              "      <td>Москва</td>\n",
              "      <td>468804.0</td>\n",
              "      <td>679765.8</td>\n",
              "    </tr>\n",
              "    <tr>\n",
              "      <th>1</th>\n",
              "      <td>Data Engineer</td>\n",
              "      <td>fullDay</td>\n",
              "      <td>True</td>\n",
              "      <td>2022-12-22T12:13:48+0300</td>\n",
              "      <td>Армения</td>\n",
              "      <td>NaN</td>\n",
              "      <td>525000.0</td>\n",
              "    </tr>\n",
              "    <tr>\n",
              "      <th>2</th>\n",
              "      <td>Аналитик Data Science (консультант)</td>\n",
              "      <td>remote</td>\n",
              "      <td>False</td>\n",
              "      <td>2022-12-23T09:18:27+0300</td>\n",
              "      <td>Москва</td>\n",
              "      <td>1575.0</td>\n",
              "      <td>2100.0</td>\n",
              "    </tr>\n",
              "    <tr>\n",
              "      <th>3</th>\n",
              "      <td>Machine learning engineer/ разработчик машинно...</td>\n",
              "      <td>remote</td>\n",
              "      <td>False</td>\n",
              "      <td>2022-12-19T13:22:24+0300</td>\n",
              "      <td>Пермь</td>\n",
              "      <td>200000.0</td>\n",
              "      <td>400000.0</td>\n",
              "    </tr>\n",
              "    <tr>\n",
              "      <th>4</th>\n",
              "      <td>Data Engineer</td>\n",
              "      <td>fullDay</td>\n",
              "      <td>True</td>\n",
              "      <td>2022-12-22T12:13:48+0300</td>\n",
              "      <td>Тбилиси</td>\n",
              "      <td>NaN</td>\n",
              "      <td>525000.0</td>\n",
              "    </tr>\n",
              "    <tr>\n",
              "      <th>...</th>\n",
              "      <td>...</td>\n",
              "      <td>...</td>\n",
              "      <td>...</td>\n",
              "      <td>...</td>\n",
              "      <td>...</td>\n",
              "      <td>...</td>\n",
              "      <td>...</td>\n",
              "    </tr>\n",
              "    <tr>\n",
              "      <th>3196</th>\n",
              "      <td>Frontend-разработчик Vue</td>\n",
              "      <td>remote</td>\n",
              "      <td>False</td>\n",
              "      <td>2022-11-28T10:16:33+0300</td>\n",
              "      <td>Екатеринбург</td>\n",
              "      <td>90000.0</td>\n",
              "      <td>160000.0</td>\n",
              "    </tr>\n",
              "    <tr>\n",
              "      <th>3197</th>\n",
              "      <td>PHP Fullstack разработчик (удалённая работа)</td>\n",
              "      <td>remote</td>\n",
              "      <td>False</td>\n",
              "      <td>2022-11-28T11:20:51+0300</td>\n",
              "      <td>Москва</td>\n",
              "      <td>200000.0</td>\n",
              "      <td>NaN</td>\n",
              "    </tr>\n",
              "    <tr>\n",
              "      <th>3198</th>\n",
              "      <td>Стажер в продажи</td>\n",
              "      <td>fullDay</td>\n",
              "      <td>False</td>\n",
              "      <td>2022-11-27T15:32:26+0300</td>\n",
              "      <td>Москва</td>\n",
              "      <td>NaN</td>\n",
              "      <td>37000.0</td>\n",
              "    </tr>\n",
              "    <tr>\n",
              "      <th>3199</th>\n",
              "      <td>Инженер технической поддержки</td>\n",
              "      <td>fullDay</td>\n",
              "      <td>False</td>\n",
              "      <td>2022-11-28T10:57:55+0300</td>\n",
              "      <td>Казань</td>\n",
              "      <td>50000.0</td>\n",
              "      <td>NaN</td>\n",
              "    </tr>\n",
              "    <tr>\n",
              "      <th>3200</th>\n",
              "      <td>Менеджер по работе с клиентами</td>\n",
              "      <td>remote</td>\n",
              "      <td>False</td>\n",
              "      <td>2022-11-25T16:52:59+0300</td>\n",
              "      <td>Москва</td>\n",
              "      <td>50000.0</td>\n",
              "      <td>60000.0</td>\n",
              "    </tr>\n",
              "  </tbody>\n",
              "</table>\n",
              "<p>3201 rows × 7 columns</p>\n",
              "</div>"
            ],
            "text/plain": [
              "                                                   name schedule  \\\n",
              "0                      Senior Machine Learning Engineer  fullDay   \n",
              "1                                         Data Engineer  fullDay   \n",
              "2                   Аналитик Data Science (консультант)   remote   \n",
              "3     Machine learning engineer/ разработчик машинно...   remote   \n",
              "4                                         Data Engineer  fullDay   \n",
              "...                                                 ...      ...   \n",
              "3196                           Frontend-разработчик Vue   remote   \n",
              "3197       PHP Fullstack разработчик (удалённая работа)   remote   \n",
              "3198                                   Стажер в продажи  fullDay   \n",
              "3199                      Инженер технической поддержки  fullDay   \n",
              "3200                     Менеджер по работе с клиентами   remote   \n",
              "\n",
              "      accept_temporary              published_at          city  salary_from  \\\n",
              "0                 True  2022-12-24T01:29:25+0300        Москва     468804.0   \n",
              "1                 True  2022-12-22T12:13:48+0300       Армения          NaN   \n",
              "2                False  2022-12-23T09:18:27+0300        Москва       1575.0   \n",
              "3                False  2022-12-19T13:22:24+0300         Пермь     200000.0   \n",
              "4                 True  2022-12-22T12:13:48+0300       Тбилиси          NaN   \n",
              "...                ...                       ...           ...          ...   \n",
              "3196             False  2022-11-28T10:16:33+0300  Екатеринбург      90000.0   \n",
              "3197             False  2022-11-28T11:20:51+0300        Москва     200000.0   \n",
              "3198             False  2022-11-27T15:32:26+0300        Москва          NaN   \n",
              "3199             False  2022-11-28T10:57:55+0300        Казань      50000.0   \n",
              "3200             False  2022-11-25T16:52:59+0300        Москва      50000.0   \n",
              "\n",
              "      salary_to  \n",
              "0      679765.8  \n",
              "1      525000.0  \n",
              "2        2100.0  \n",
              "3      400000.0  \n",
              "4      525000.0  \n",
              "...         ...  \n",
              "3196   160000.0  \n",
              "3197        NaN  \n",
              "3198    37000.0  \n",
              "3199        NaN  \n",
              "3200    60000.0  \n",
              "\n",
              "[3201 rows x 7 columns]"
            ]
          },
          "execution_count": 22,
          "metadata": {},
          "output_type": "execute_result"
        }
      ],
      "source": [
        "df['salary_from'] = df.apply(lambda x: currency_convert(x['salary_from'], x['salary_currency']), axis=1)\n",
        "df['salary_to'] = df.apply(lambda x: currency_convert(x['salary_to'], x['salary_currency']), axis=1)\n",
        "df.drop('salary_currency', axis=1)"
      ]
    },
    {
      "cell_type": "code",
      "execution_count": null,
      "id": "36e802ec",
      "metadata": {
        "id": "36e802ec"
      },
      "outputs": [],
      "source": [
        "df = df.drop_duplicates()"
      ]
    },
    {
      "cell_type": "code",
      "execution_count": null,
      "id": "8c4ff168",
      "metadata": {
        "id": "8c4ff168"
      },
      "outputs": [],
      "source": [
        "df=df.drop('salary_currency', axis=1)"
      ]
    },
    {
      "cell_type": "code",
      "execution_count": null,
      "id": "b4884dc5",
      "metadata": {
        "id": "b4884dc5"
      },
      "outputs": [],
      "source": [
        "df['salary_from'] = df['salary_from'].fillna(df['salary_to'])\n",
        "df['salary_to'] = df['salary_to'].fillna(df['salary_from'])\n",
        "df = df.dropna(subset=['salary_from', 'salary_to'])"
      ]
    },
    {
      "cell_type": "markdown",
      "id": "76fd2a4e",
      "metadata": {
        "id": "76fd2a4e"
      },
      "source": [
        "## Проведем разведочный анализ"
      ]
    },
    {
      "cell_type": "markdown",
      "id": "911fc7de",
      "metadata": {
        "id": "911fc7de"
      },
      "source": [
        "Для дальнейшего анализа все данные по зарплатам приведены к валюте RUB (рубли)"
      ]
    },
    {
      "cell_type": "code",
      "execution_count": null,
      "id": "eebb4141",
      "metadata": {
        "id": "eebb4141",
        "outputId": "eb51ae9e-2616-4c0e-a99e-2869fa02f6b1"
      },
      "outputs": [
        {
          "data": {
            "text/html": [
              "<div>\n",
              "<style scoped>\n",
              "    .dataframe tbody tr th:only-of-type {\n",
              "        vertical-align: middle;\n",
              "    }\n",
              "\n",
              "    .dataframe tbody tr th {\n",
              "        vertical-align: top;\n",
              "    }\n",
              "\n",
              "    .dataframe thead th {\n",
              "        text-align: right;\n",
              "    }\n",
              "</style>\n",
              "<table border=\"1\" class=\"dataframe\">\n",
              "  <thead>\n",
              "    <tr style=\"text-align: right;\">\n",
              "      <th></th>\n",
              "      <th>name</th>\n",
              "      <th>schedule</th>\n",
              "      <th>accept_temporary</th>\n",
              "      <th>published_at</th>\n",
              "      <th>city</th>\n",
              "      <th>salary_from</th>\n",
              "      <th>salary_to</th>\n",
              "    </tr>\n",
              "  </thead>\n",
              "  <tbody>\n",
              "    <tr>\n",
              "      <th>0</th>\n",
              "      <td>Senior Machine Learning Engineer</td>\n",
              "      <td>fullDay</td>\n",
              "      <td>True</td>\n",
              "      <td>2022-12-24T01:29:25+0300</td>\n",
              "      <td>Москва</td>\n",
              "      <td>468804.0</td>\n",
              "      <td>679765.8</td>\n",
              "    </tr>\n",
              "    <tr>\n",
              "      <th>1</th>\n",
              "      <td>Data Engineer</td>\n",
              "      <td>fullDay</td>\n",
              "      <td>True</td>\n",
              "      <td>2022-12-22T12:13:48+0300</td>\n",
              "      <td>Армения</td>\n",
              "      <td>525000.0</td>\n",
              "      <td>525000.0</td>\n",
              "    </tr>\n",
              "    <tr>\n",
              "      <th>2</th>\n",
              "      <td>Аналитик Data Science (консультант)</td>\n",
              "      <td>remote</td>\n",
              "      <td>False</td>\n",
              "      <td>2022-12-23T09:18:27+0300</td>\n",
              "      <td>Москва</td>\n",
              "      <td>1575.0</td>\n",
              "      <td>2100.0</td>\n",
              "    </tr>\n",
              "    <tr>\n",
              "      <th>3</th>\n",
              "      <td>Machine learning engineer/ разработчик машинно...</td>\n",
              "      <td>remote</td>\n",
              "      <td>False</td>\n",
              "      <td>2022-12-19T13:22:24+0300</td>\n",
              "      <td>Пермь</td>\n",
              "      <td>200000.0</td>\n",
              "      <td>400000.0</td>\n",
              "    </tr>\n",
              "    <tr>\n",
              "      <th>4</th>\n",
              "      <td>Data Engineer</td>\n",
              "      <td>fullDay</td>\n",
              "      <td>True</td>\n",
              "      <td>2022-12-22T12:13:48+0300</td>\n",
              "      <td>Тбилиси</td>\n",
              "      <td>525000.0</td>\n",
              "      <td>525000.0</td>\n",
              "    </tr>\n",
              "  </tbody>\n",
              "</table>\n",
              "</div>"
            ],
            "text/plain": [
              "                                                name schedule  \\\n",
              "0                   Senior Machine Learning Engineer  fullDay   \n",
              "1                                      Data Engineer  fullDay   \n",
              "2                Аналитик Data Science (консультант)   remote   \n",
              "3  Machine learning engineer/ разработчик машинно...   remote   \n",
              "4                                      Data Engineer  fullDay   \n",
              "\n",
              "   accept_temporary              published_at     city  salary_from  salary_to  \n",
              "0              True  2022-12-24T01:29:25+0300   Москва     468804.0   679765.8  \n",
              "1              True  2022-12-22T12:13:48+0300  Армения     525000.0   525000.0  \n",
              "2             False  2022-12-23T09:18:27+0300   Москва       1575.0     2100.0  \n",
              "3             False  2022-12-19T13:22:24+0300    Пермь     200000.0   400000.0  \n",
              "4              True  2022-12-22T12:13:48+0300  Тбилиси     525000.0   525000.0  "
            ]
          },
          "execution_count": 35,
          "metadata": {},
          "output_type": "execute_result"
        }
      ],
      "source": [
        "df.head()"
      ]
    },
    {
      "cell_type": "code",
      "execution_count": null,
      "id": "256aef26",
      "metadata": {
        "id": "256aef26",
        "outputId": "808d5bf0-80d1-4c9c-8fe9-931e9cf288ab"
      },
      "outputs": [
        {
          "data": {
            "text/plain": [
              "(2694, 7)"
            ]
          },
          "execution_count": 185,
          "metadata": {},
          "output_type": "execute_result"
        }
      ],
      "source": [
        "df.shape"
      ]
    },
    {
      "cell_type": "code",
      "execution_count": null,
      "id": "f3f98003",
      "metadata": {
        "id": "f3f98003",
        "outputId": "4fc87f12-ca5c-4159-99a2-b918d27416bf"
      },
      "outputs": [
        {
          "data": {
            "text/plain": [
              "33.52"
            ]
          },
          "execution_count": 222,
          "metadata": {},
          "output_type": "execute_result"
        }
      ],
      "source": [
        "round((df.query('city == \"Москва\"')['city'].count())/(df.shape[0])*100,2)\n",
        "# Более 30 % вакансий размещены в Москве"
      ]
    },
    {
      "cell_type": "code",
      "execution_count": null,
      "id": "d39de459",
      "metadata": {
        "id": "d39de459",
        "outputId": "ae9beabc-8055-4e5c-82c5-953d187cd77a"
      },
      "outputs": [
        {
          "data": {
            "text/html": [
              "<div>\n",
              "<style scoped>\n",
              "    .dataframe tbody tr th:only-of-type {\n",
              "        vertical-align: middle;\n",
              "    }\n",
              "\n",
              "    .dataframe tbody tr th {\n",
              "        vertical-align: top;\n",
              "    }\n",
              "\n",
              "    .dataframe thead th {\n",
              "        text-align: right;\n",
              "    }\n",
              "</style>\n",
              "<table border=\"1\" class=\"dataframe\">\n",
              "  <thead>\n",
              "    <tr style=\"text-align: right;\">\n",
              "      <th></th>\n",
              "      <th>name</th>\n",
              "      <th>schedule</th>\n",
              "      <th>accept_temporary</th>\n",
              "      <th>published_at</th>\n",
              "      <th>city</th>\n",
              "      <th>salary_from</th>\n",
              "      <th>salary_to</th>\n",
              "    </tr>\n",
              "  </thead>\n",
              "  <tbody>\n",
              "    <tr>\n",
              "      <th>6</th>\n",
              "      <td>Machine Learning Engineer</td>\n",
              "      <td>remote</td>\n",
              "      <td>True</td>\n",
              "      <td>2022-12-16T10:16:26+0300</td>\n",
              "      <td>Тбилиси</td>\n",
              "      <td>420000.0</td>\n",
              "      <td>840000.000</td>\n",
              "    </tr>\n",
              "    <tr>\n",
              "      <th>13</th>\n",
              "      <td>Senior Machine Learning Engineer</td>\n",
              "      <td>fullDay</td>\n",
              "      <td>False</td>\n",
              "      <td>2022-12-05T16:50:48+0300</td>\n",
              "      <td>Кипр</td>\n",
              "      <td>644605.5</td>\n",
              "      <td>820407.000</td>\n",
              "    </tr>\n",
              "    <tr>\n",
              "      <th>66</th>\n",
              "      <td>Senior/Middle Rust Developer</td>\n",
              "      <td>fullDay</td>\n",
              "      <td>False</td>\n",
              "      <td>2022-11-30T15:23:55+0300</td>\n",
              "      <td>Москва</td>\n",
              "      <td>525000.0</td>\n",
              "      <td>945000.000</td>\n",
              "    </tr>\n",
              "    <tr>\n",
              "      <th>202</th>\n",
              "      <td>C++ developer to Berlin</td>\n",
              "      <td>fullDay</td>\n",
              "      <td>False</td>\n",
              "      <td>2022-11-29T18:08:06+0300</td>\n",
              "      <td>Германия</td>\n",
              "      <td>879007.5</td>\n",
              "      <td>1269755.634</td>\n",
              "    </tr>\n",
              "    <tr>\n",
              "      <th>232</th>\n",
              "      <td>Специалист по IT</td>\n",
              "      <td>fullDay</td>\n",
              "      <td>False</td>\n",
              "      <td>2022-12-24T12:56:25+0300</td>\n",
              "      <td>Тбилиси</td>\n",
              "      <td>105000.0</td>\n",
              "      <td>1050000.000</td>\n",
              "    </tr>\n",
              "    <tr>\n",
              "      <th>1095</th>\n",
              "      <td>Backend Software Engineer (relocation to Austria)</td>\n",
              "      <td>fullDay</td>\n",
              "      <td>False</td>\n",
              "      <td>2022-12-19T11:58:16+0300</td>\n",
              "      <td>Баку</td>\n",
              "      <td>5860050.0</td>\n",
              "      <td>7032060.000</td>\n",
              "    </tr>\n",
              "    <tr>\n",
              "      <th>1171</th>\n",
              "      <td>Senior Android developer (релокация в Великобр...</td>\n",
              "      <td>shift</td>\n",
              "      <td>False</td>\n",
              "      <td>2022-12-21T10:55:05+0300</td>\n",
              "      <td>Новосибирск</td>\n",
              "      <td>630000.0</td>\n",
              "      <td>871500.000</td>\n",
              "    </tr>\n",
              "    <tr>\n",
              "      <th>1359</th>\n",
              "      <td>Full Stack Developer JavaScript (Middle+/Senior)</td>\n",
              "      <td>remote</td>\n",
              "      <td>False</td>\n",
              "      <td>2022-12-24T13:56:09+0300</td>\n",
              "      <td>Москва</td>\n",
              "      <td>1050000.0</td>\n",
              "      <td>1050000.000</td>\n",
              "    </tr>\n",
              "    <tr>\n",
              "      <th>3139</th>\n",
              "      <td>Senior PHP Developer (Yepp)</td>\n",
              "      <td>fullDay</td>\n",
              "      <td>False</td>\n",
              "      <td>2022-12-14T15:39:36+0300</td>\n",
              "      <td>Кипр</td>\n",
              "      <td>586005.0</td>\n",
              "      <td>820407.000</td>\n",
              "    </tr>\n",
              "    <tr>\n",
              "      <th>3164</th>\n",
              "      <td>Старший С++ разработчик (Лимасcол, Кипр)</td>\n",
              "      <td>fullDay</td>\n",
              "      <td>False</td>\n",
              "      <td>2022-12-06T16:01:17+0300</td>\n",
              "      <td>Москва</td>\n",
              "      <td>644605.5</td>\n",
              "      <td>820407.000</td>\n",
              "    </tr>\n",
              "  </tbody>\n",
              "</table>\n",
              "</div>"
            ],
            "text/plain": [
              "                                                   name schedule  \\\n",
              "6                             Machine Learning Engineer   remote   \n",
              "13                     Senior Machine Learning Engineer  fullDay   \n",
              "66                         Senior/Middle Rust Developer  fullDay   \n",
              "202                             C++ developer to Berlin  fullDay   \n",
              "232                                    Специалист по IT  fullDay   \n",
              "1095  Backend Software Engineer (relocation to Austria)  fullDay   \n",
              "1171  Senior Android developer (релокация в Великобр...    shift   \n",
              "1359   Full Stack Developer JavaScript (Middle+/Senior)   remote   \n",
              "3139                        Senior PHP Developer (Yepp)  fullDay   \n",
              "3164           Старший С++ разработчик (Лимасcол, Кипр)  fullDay   \n",
              "\n",
              "      accept_temporary              published_at         city  salary_from  \\\n",
              "6                 True  2022-12-16T10:16:26+0300      Тбилиси     420000.0   \n",
              "13               False  2022-12-05T16:50:48+0300         Кипр     644605.5   \n",
              "66               False  2022-11-30T15:23:55+0300       Москва     525000.0   \n",
              "202              False  2022-11-29T18:08:06+0300     Германия     879007.5   \n",
              "232              False  2022-12-24T12:56:25+0300      Тбилиси     105000.0   \n",
              "1095             False  2022-12-19T11:58:16+0300         Баку    5860050.0   \n",
              "1171             False  2022-12-21T10:55:05+0300  Новосибирск     630000.0   \n",
              "1359             False  2022-12-24T13:56:09+0300       Москва    1050000.0   \n",
              "3139             False  2022-12-14T15:39:36+0300         Кипр     586005.0   \n",
              "3164             False  2022-12-06T16:01:17+0300       Москва     644605.5   \n",
              "\n",
              "        salary_to  \n",
              "6      840000.000  \n",
              "13     820407.000  \n",
              "66     945000.000  \n",
              "202   1269755.634  \n",
              "232   1050000.000  \n",
              "1095  7032060.000  \n",
              "1171   871500.000  \n",
              "1359  1050000.000  \n",
              "3139   820407.000  \n",
              "3164   820407.000  "
            ]
          },
          "execution_count": 132,
          "metadata": {},
          "output_type": "execute_result"
        }
      ],
      "source": [
        "df.query('salary_to > 800000')"
      ]
    },
    {
      "cell_type": "markdown",
      "id": "a05c8d54",
      "metadata": {
        "id": "a05c8d54"
      },
      "source": [
        "Есть несколько вакансий с вилкой, превышающей 800 тыс руб, а в некоторых случаях, превышающей 1 млн руб. \\\n",
        "Это т.н. выбросы \\\n",
        "Такие высокооплачиваемые вакансии распространяются на опытных специалистов: программистов и ML-инженеров. Подобные вакансии предполагают релокацию в страны Европы или Среднего Востока."
      ]
    },
    {
      "cell_type": "markdown",
      "id": "5693974f",
      "metadata": {
        "id": "5693974f"
      },
      "source": [
        "При построении графиков убираем salary_from и salary_to, которые превышают 800000 рублей. \\\n",
        "Таких значений достаточно мало, но они портят графики распределения."
      ]
    },
    {
      "cell_type": "code",
      "execution_count": null,
      "id": "fcb80daf",
      "metadata": {
        "id": "fcb80daf",
        "outputId": "ae83d1a3-cab5-452c-ac6d-c7d8b892364f"
      },
      "outputs": [
        {
          "data": {
            "text/plain": [
              "''"
            ]
          },
          "execution_count": 174,
          "metadata": {},
          "output_type": "execute_result"
        },
        {
          "data": {
            "image/png": "[encoded data removed]",
            "text/plain": [
              "<Figure size 1152x720 with 2 Axes>"
            ]
          },
          "metadata": {
            "needs_background": "light"
          },
          "output_type": "display_data"
        }
      ],
      "source": [
        "fig, axes = plt.subplots(nrows=1, ncols=2, figsize=(16, 10))\n",
        "axes[0].hist(data=df.query('salary_from < 800000'), x='salary_from', color=\"green\", ),\n",
        "axes[1].hist(data=df.query('salary_to < 800000'), x='salary_to', color=\"red\")\n",
        "axes[0].set_title('Распределение salary_from')\n",
        "axes[1].set_title('Распределение salary_to')\n",
        ";"
      ]
    },
    {
      "cell_type": "code",
      "execution_count": null,
      "id": "09fb15e7",
      "metadata": {
        "id": "09fb15e7",
        "outputId": "d5778a8c-5d42-42fd-e761-1361f7813ab6"
      },
      "outputs": [
        {
          "data": {
            "text/plain": [
              "''"
            ]
          },
          "execution_count": 175,
          "metadata": {},
          "output_type": "execute_result"
        },
        {
          "data": {
            "image/png": "[encoded data removed]",
            "text/plain": [
              "<Figure size 1152x720 with 2 Axes>"
            ]
          },
          "metadata": {
            "needs_background": "light"
          },
          "output_type": "display_data"
        }
      ],
      "source": [
        "fig, axes = plt.subplots(1, 2, figsize=(16, 10))\n",
        "sns.histplot(data=df.query('salary_from < 800000'), x= 'salary_from', ax=axes[0], color='green', kde=True)\n",
        "sns.histplot(data=df.query('salary_to < 800000'), x= 'salary_to', ax=axes[1], color='red',kde=True)\n",
        "axes[0].set_title('Распределение salary_from')\n",
        "axes[1].set_title('Распределение salary_to')\n",
        ";"
      ]
    },
    {
      "cell_type": "code",
      "execution_count": null,
      "id": "fab30a53",
      "metadata": {
        "id": "fab30a53",
        "outputId": "54d0462b-16d9-4dba-aab3-9ca4bfa52bdd"
      },
      "outputs": [
        {
          "data": {
            "image/png": "[encoded data removed]",
            "text/plain": [
              "<Figure size 1008x576 with 1 Axes>"
            ]
          },
          "metadata": {
            "needs_background": "light"
          },
          "output_type": "display_data"
        }
      ],
      "source": [
        "fig = plt.figure(figsize=(14, 8))\n",
        "sns.histplot(data=df.query('salary_from < 800000'), \n",
        "             x='salary_from',\n",
        "             color='green',\n",
        "             kde=True,\n",
        "             )\n",
        "plt.title('Распределение salary_from')\n",
        "plt.show()"
      ]
    },
    {
      "cell_type": "code",
      "execution_count": null,
      "id": "f00a15e2",
      "metadata": {
        "id": "f00a15e2",
        "outputId": "44fea7c1-5689-4a88-be08-d8d60d626d2e"
      },
      "outputs": [
        {
          "data": {
            "image/png": "[encoded data removed]",
            "text/plain": [
              "<Figure size 1008x576 with 1 Axes>"
            ]
          },
          "metadata": {
            "needs_background": "light"
          },
          "output_type": "display_data"
        }
      ],
      "source": [
        "fig = plt.figure(figsize=(14, 8))\n",
        "sns.histplot(data=df.query('salary_to < 800000'), \n",
        "             x='salary_to',\n",
        "             color='red',\n",
        "             kde=True,\n",
        "             )\n",
        "plt.title('Распределение salary_to')\n",
        "plt.show()"
      ]
    },
    {
      "cell_type": "markdown",
      "id": "b82447b4",
      "metadata": {
        "id": "b82447b4"
      },
      "source": [
        "Наблюдаем, гистограммы распределений смещены в левую сторону. Это объясняется тем, что 75% вакансий имеют зарплатную вилку до 160(salary_from) - 200(salary_to)к"
      ]
    },
    {
      "cell_type": "code",
      "execution_count": null,
      "id": "5062241f",
      "metadata": {
        "id": "5062241f",
        "outputId": "eecca1f1-e935-462f-9bdc-7c96e8a99885"
      },
      "outputs": [
        {
          "data": {
            "text/html": [
              "<div>\n",
              "<style scoped>\n",
              "    .dataframe tbody tr th:only-of-type {\n",
              "        vertical-align: middle;\n",
              "    }\n",
              "\n",
              "    .dataframe tbody tr th {\n",
              "        vertical-align: top;\n",
              "    }\n",
              "\n",
              "    .dataframe thead th {\n",
              "        text-align: right;\n",
              "    }\n",
              "</style>\n",
              "<table border=\"1\" class=\"dataframe\">\n",
              "  <thead>\n",
              "    <tr style=\"text-align: right;\">\n",
              "      <th></th>\n",
              "      <th>salary_from</th>\n",
              "      <th>salary_to</th>\n",
              "    </tr>\n",
              "  </thead>\n",
              "  <tbody>\n",
              "    <tr>\n",
              "      <th>count</th>\n",
              "      <td>2684.000000</td>\n",
              "      <td>2684.000000</td>\n",
              "    </tr>\n",
              "    <tr>\n",
              "      <th>mean</th>\n",
              "      <td>126116.878204</td>\n",
              "      <td>151912.649106</td>\n",
              "    </tr>\n",
              "    <tr>\n",
              "      <th>std</th>\n",
              "      <td>103322.692208</td>\n",
              "      <td>120024.945193</td>\n",
              "    </tr>\n",
              "    <tr>\n",
              "      <th>min</th>\n",
              "      <td>110.000000</td>\n",
              "      <td>110.000000</td>\n",
              "    </tr>\n",
              "    <tr>\n",
              "      <th>25%</th>\n",
              "      <td>60000.000000</td>\n",
              "      <td>65000.000000</td>\n",
              "    </tr>\n",
              "    <tr>\n",
              "      <th>50%</th>\n",
              "      <td>100000.000000</td>\n",
              "      <td>120000.000000</td>\n",
              "    </tr>\n",
              "    <tr>\n",
              "      <th>75%</th>\n",
              "      <td>160000.000000</td>\n",
              "      <td>200000.000000</td>\n",
              "    </tr>\n",
              "    <tr>\n",
              "      <th>max</th>\n",
              "      <td>761806.500000</td>\n",
              "      <td>787500.000000</td>\n",
              "    </tr>\n",
              "  </tbody>\n",
              "</table>\n",
              "</div>"
            ],
            "text/plain": [
              "         salary_from      salary_to\n",
              "count    2684.000000    2684.000000\n",
              "mean   126116.878204  151912.649106\n",
              "std    103322.692208  120024.945193\n",
              "min       110.000000     110.000000\n",
              "25%     60000.000000   65000.000000\n",
              "50%    100000.000000  120000.000000\n",
              "75%    160000.000000  200000.000000\n",
              "max    761806.500000  787500.000000"
            ]
          },
          "execution_count": 219,
          "metadata": {},
          "output_type": "execute_result"
        }
      ],
      "source": [
        "df.query('salary_to < 800000').describe()"
      ]
    },
    {
      "cell_type": "code",
      "execution_count": null,
      "id": "3733ccd0",
      "metadata": {
        "id": "3733ccd0",
        "outputId": "0f3569d4-7ef8-48fd-97e3-847794920656"
      },
      "outputs": [
        {
          "data": {
            "text/plain": [
              "''"
            ]
          },
          "execution_count": 178,
          "metadata": {},
          "output_type": "execute_result"
        },
        {
          "data": {
            "image/png": "[encoded data removed]",
            "text/plain": [
              "<Figure size 1152x720 with 2 Axes>"
            ]
          },
          "metadata": {
            "needs_background": "light"
          },
          "output_type": "display_data"
        }
      ],
      "source": [
        "fig, axes = plt.subplots(1, 2, figsize=(16, 10))\n",
        "sns.boxplot(data=df.query('salary_from < 800000'), y= 'salary_from', ax=axes[0], color='green')\n",
        "sns.boxplot(data=df.query('salary_to < 800000'), y= 'salary_to', ax=axes[1], color='red')\n",
        "axes[0].set_title('Распределение salary_from')\n",
        "axes[1].set_title('Распределение salary_to')\n",
        ";"
      ]
    },
    {
      "cell_type": "code",
      "execution_count": null,
      "id": "d8be8bc3",
      "metadata": {
        "id": "d8be8bc3",
        "outputId": "076f2909-86d8-48d4-dc0d-55cfb00ff89d"
      },
      "outputs": [
        {
          "data": {
            "text/plain": [
              "5"
            ]
          },
          "execution_count": 195,
          "metadata": {},
          "output_type": "execute_result"
        }
      ],
      "source": [
        "df['schedule'].nunique()"
      ]
    },
    {
      "cell_type": "code",
      "execution_count": null,
      "id": "508dca6f",
      "metadata": {
        "id": "508dca6f",
        "outputId": "7b35ec60-36dd-4d1d-afa4-277d50537e37"
      },
      "outputs": [
        {
          "data": {
            "text/plain": [
              "''"
            ]
          },
          "execution_count": 202,
          "metadata": {},
          "output_type": "execute_result"
        },
        {
          "data": {
            "image/png": "[encoded data removed]",
            "text/plain": [
              "<Figure size 1152x720 with 2 Axes>"
            ]
          },
          "metadata": {
            "needs_background": "light"
          },
          "output_type": "display_data"
        }
      ],
      "source": [
        "fig, axes = plt.subplots(1, 2, figsize=(16, 10))\n",
        "sns.barplot(data=df.query('salary_from < 800000'), x='schedule', y= 'salary_from',ax=axes[0])\n",
        "sns.barplot(data=df.query('salary_to < 800000'), x='schedule', y= 'salary_to', ax=axes[1])\n",
        "axes[0].set_title('Средняя зарплата (salary_from) при каждом виде занятости')\n",
        "axes[1].set_title('Средняя зарплата (salary_to) при каждом виде занятости')\n",
        ";"
      ]
    },
    {
      "cell_type": "code",
      "execution_count": null,
      "id": "7a94c48a",
      "metadata": {
        "id": "7a94c48a",
        "outputId": "3b180d30-4ab2-4f14-8f7b-27ef3c664a08"
      },
      "outputs": [
        {
          "data": {
            "text/plain": [
              "''"
            ]
          },
          "execution_count": 216,
          "metadata": {},
          "output_type": "execute_result"
        },
        {
          "data": {
            "image/png": "[encoded data removed]",
            "text/plain": [
              "<Figure size 1152x1152 with 2 Axes>"
            ]
          },
          "metadata": {
            "needs_background": "light"
          },
          "output_type": "display_data"
        }
      ],
      "source": [
        "fig, axes = plt.subplots(2, 1, figsize=(16, 16))\n",
        "sns.barplot(data=df.query('salary_from < 800000'), x='schedule', y= 'salary_from', hue='accept_temporary', orient='v',ax=axes[0])\n",
        "sns.barplot(data=df.query('salary_to < 800000'), x='schedule', y= 'salary_to', hue='accept_temporary', orient='v', ax=axes[1])\n",
        "axes[0].set_title('Средняя зарплата (salary_from) при каждом виде занятости с учетом того, является ли работа временной')\n",
        "axes[1].set_title('Средняя зарплата (salary_to) при каждом виде занятости с учетом того, является ли работа временной')\n",
        ";"
      ]
    },
    {
      "cell_type": "markdown",
      "id": "6572a7bd",
      "metadata": {
        "id": "6572a7bd"
      },
      "source": [
        "Видим, что при сменном графике работы и при работе вахтовым методом не предполагается временная занятость. \\\n",
        "При занятости полный день и удаленно можно получать больше, если работа является временной."
      ]
    },
    {
      "cell_type": "code",
      "execution_count": null,
      "id": "1056a3e2",
      "metadata": {
        "id": "1056a3e2",
        "outputId": "23850bd8-d690-4777-aae7-6368af6225c0"
      },
      "outputs": [
        {
          "data": {
            "text/html": [
              "<div>\n",
              "<style scoped>\n",
              "    .dataframe tbody tr th:only-of-type {\n",
              "        vertical-align: middle;\n",
              "    }\n",
              "\n",
              "    .dataframe tbody tr th {\n",
              "        vertical-align: top;\n",
              "    }\n",
              "\n",
              "    .dataframe thead th {\n",
              "        text-align: right;\n",
              "    }\n",
              "</style>\n",
              "<table border=\"1\" class=\"dataframe\">\n",
              "  <thead>\n",
              "    <tr style=\"text-align: right;\">\n",
              "      <th></th>\n",
              "      <th>name</th>\n",
              "      <th>schedule</th>\n",
              "      <th>accept_temporary</th>\n",
              "      <th>published_at</th>\n",
              "      <th>city</th>\n",
              "      <th>salary_from</th>\n",
              "      <th>salary_to</th>\n",
              "    </tr>\n",
              "  </thead>\n",
              "  <tbody>\n",
              "    <tr>\n",
              "      <th>0</th>\n",
              "      <td>Senior Machine Learning Engineer</td>\n",
              "      <td>fullDay</td>\n",
              "      <td>True</td>\n",
              "      <td>2022-12-24T01:29:25+0300</td>\n",
              "      <td>Москва</td>\n",
              "      <td>468804.0</td>\n",
              "      <td>679765.8</td>\n",
              "    </tr>\n",
              "    <tr>\n",
              "      <th>1</th>\n",
              "      <td>Data Engineer</td>\n",
              "      <td>fullDay</td>\n",
              "      <td>True</td>\n",
              "      <td>2022-12-22T12:13:48+0300</td>\n",
              "      <td>Армения</td>\n",
              "      <td>525000.0</td>\n",
              "      <td>525000.0</td>\n",
              "    </tr>\n",
              "    <tr>\n",
              "      <th>2</th>\n",
              "      <td>Аналитик Data Science (консультант)</td>\n",
              "      <td>remote</td>\n",
              "      <td>False</td>\n",
              "      <td>2022-12-23T09:18:27+0300</td>\n",
              "      <td>Москва</td>\n",
              "      <td>1575.0</td>\n",
              "      <td>2100.0</td>\n",
              "    </tr>\n",
              "    <tr>\n",
              "      <th>3</th>\n",
              "      <td>Machine learning engineer/ разработчик машинно...</td>\n",
              "      <td>remote</td>\n",
              "      <td>False</td>\n",
              "      <td>2022-12-19T13:22:24+0300</td>\n",
              "      <td>Пермь</td>\n",
              "      <td>200000.0</td>\n",
              "      <td>400000.0</td>\n",
              "    </tr>\n",
              "    <tr>\n",
              "      <th>4</th>\n",
              "      <td>Data Engineer</td>\n",
              "      <td>fullDay</td>\n",
              "      <td>True</td>\n",
              "      <td>2022-12-22T12:13:48+0300</td>\n",
              "      <td>Тбилиси</td>\n",
              "      <td>525000.0</td>\n",
              "      <td>525000.0</td>\n",
              "    </tr>\n",
              "  </tbody>\n",
              "</table>\n",
              "</div>"
            ],
            "text/plain": [
              "                                                name schedule  \\\n",
              "0                   Senior Machine Learning Engineer  fullDay   \n",
              "1                                      Data Engineer  fullDay   \n",
              "2                Аналитик Data Science (консультант)   remote   \n",
              "3  Machine learning engineer/ разработчик машинно...   remote   \n",
              "4                                      Data Engineer  fullDay   \n",
              "\n",
              "   accept_temporary              published_at     city  salary_from  salary_to  \n",
              "0              True  2022-12-24T01:29:25+0300   Москва     468804.0   679765.8  \n",
              "1              True  2022-12-22T12:13:48+0300  Армения     525000.0   525000.0  \n",
              "2             False  2022-12-23T09:18:27+0300   Москва       1575.0     2100.0  \n",
              "3             False  2022-12-19T13:22:24+0300    Пермь     200000.0   400000.0  \n",
              "4              True  2022-12-22T12:13:48+0300  Тбилиси     525000.0   525000.0  "
            ]
          },
          "execution_count": 223,
          "metadata": {},
          "output_type": "execute_result"
        }
      ],
      "source": [
        "df.head()"
      ]
    },
    {
      "cell_type": "code",
      "execution_count": null,
      "id": "a5935b6c",
      "metadata": {
        "id": "a5935b6c",
        "outputId": "770c4c17-4d9f-422f-906e-a6b4dbb1b6ca"
      },
      "outputs": [
        {
          "data": {
            "application/vnd.plotly.v1+json": {
              "config": {
                "plotlyServerURL": "https://plot.ly"
              },
              "data": [
                {
                  "branchvalues": "total",
                  "domain": {
                    "x": [
                      0,
                      1
                    ],
                    "y": [
                      0,
                      1
                    ]
                  },
                  "hovertemplate": "labels=%{label}<br>salary_from=%{value}<br>parent=%{parent}<br>id=%{id}<extra></extra>",
                  "ids": [
                    "Абакан",
                    "Адлер",
                    "Азов",
                    "Алматы",
                    "Альметьевск",
                    "Ангарск",
                    "Армавир",
                    "Армения",
                    "Артем",
                    "Архангельск",
                    "Астана",
                    "Астрахань",
                    "Бабаево",
                    "Баку",
                    "Балашиха",
                    "Барнаул",
                    "Батайск",
                    "Батуми",
                    "Белгород",
                    "Белово",
                    "Бердск",
                    "Бийск",
                    "Бишкек",
                    "Благовещенск (Амурская область)",
                    "Брянск",
                    "Великий Новгород",
                    "Верхняя Пышма",
                    "Видное",
                    "Владивосток",
                    "Владимир",
                    "Волгоград",
                    "Волгодонск",
                    "Волжский (Волгоградская область)",
                    "Вологда",
                    "Вольно-Надеждинское",
                    "Воронеж",
                    "Гомель",
                    "Горно-Алтайск",
                    "Губкин",
                    "Гусев",
                    "Джанкой",
                    "Дзержинск (Нижегородская область)",
                    "Димитровград",
                    "Дмитров",
                    "Долгопрудный",
                    "Домодедово",
                    "Екатеринбург",
                    "Елабуга",
                    "Елец",
                    "Железногорск (Красноярский край)",
                    "Железнодорожный",
                    "Жуковский",
                    "Звенигород",
                    "Зеленоград",
                    "Златоуст",
                    "Иваново (Ивановская область)",
                    "Ивантеевка",
                    "Ижевск",
                    "Иннополис",
                    "Иркутск",
                    "Ирландия",
                    "Искитим",
                    "Истра",
                    "Йошкар-Ола",
                    "Казань",
                    "Калининград",
                    "Калтан",
                    "Калуга",
                    "Кашира",
                    "Кемерово",
                    "Керчь",
                    "Кипр",
                    "Киров (Кировская область)",
                    "Кировград",
                    "Кирово-Чепецк",
                    "Клин",
                    "Ковров",
                    "Коломна",
                    "Колпино",
                    "Конаково",
                    "Королев",
                    "Кострома",
                    "Котельники",
                    "Котовск (Тамбовская область)",
                    "Красково",
                    "Красногорск",
                    "Краснодар",
                    "Краснознаменск (Московская область)",
                    "Краснотурьинск",
                    "Красноярск",
                    "Курган",
                    "Курск",
                    "Латвия",
                    "Лебедянь",
                    "Лениногорск",
                    "Липецк",
                    "Лобня",
                    "Люберцы",
                    "Магадан",
                    "Магнитогорск",
                    "Майкоп",
                    "Майма",
                    "Малаховка (Московская область)",
                    "Махачкала",
                    "Междуреченск",
                    "Менделеевск",
                    "Мензелинск",
                    "Миасс",
                    "Минск",
                    "Москва",
                    "Мурманск",
                    "Муром",
                    "Мытищи",
                    "Набережные Челны",
                    "Невинномысск",
                    "Нефтекамск",
                    "Нефтеюганск",
                    "Нижневартовск",
                    "Нижнекамск",
                    "Нижний Новгород",
                    "Нижний Тагил",
                    "Новобатайск",
                    "Новокузнецк",
                    "Новокуйбышевск",
                    "Новомосковск (Тульская область)",
                    "Новороссийск",
                    "Новосибирск",
                    "Новочеркасск",
                    "Новый Уренгой",
                    "Ногинск",
                    "Норильск",
                    "ОАЭ",
                    "Обнинск",
                    "Одинцово",
                    "Озерск (Челябинская область)",
                    "Октябрьский (Республика Башкортостан)",
                    "Омск",
                    "Орел",
                    "Оренбург",
                    "Орехово-Зуево",
                    "Орск",
                    "Осинники",
                    "Павлодар",
                    "Пенза",
                    "Пермь",
                    "Петрозаводск",
                    "Петропавловск-Камчатский",
                    "Подольск (Московская область)",
                    "Польша",
                    "Прокопьевск",
                    "Псков",
                    "Пушкино (Московская область)",
                    "Пятигорск",
                    "Раменское",
                    "Реутов",
                    "Ростов-на-Дону",
                    "Рубцовск",
                    "Рыбинск",
                    "Рязань",
                    "США",
                    "Салехард",
                    "Самара",
                    "Самарское",
                    "Санкт-Петербург",
                    "Саранск",
                    "Саратов",
                    "Сатка",
                    "Светлый",
                    "Севастополь",
                    "Северодвинск",
                    "Северск (Томская область)",
                    "Сент-Винсент и Гренадины",
                    "Сербия",
                    "Сергиев Посад",
                    "Серов",
                    "Серпухов",
                    "Симферополь",
                    "Смоленск",
                    "Солнечногорск",
                    "Сосновоборск",
                    "Сочи",
                    "Спасск-Дальний",
                    "Среднеуральск",
                    "Ставрополь",
                    "Старый Оскол",
                    "Стерлитамак",
                    "Строитель (Белгородская область)",
                    "Сургут",
                    "Таганрог",
                    "Таиланд",
                    "Тамбов",
                    "Ташкент",
                    "Тбилиси",
                    "Тверь",
                    "Тольятти",
                    "Томилино",
                    "Томск",
                    "Троицк (Московская область)",
                    "Тула",
                    "Турция",
                    "Тюмень",
                    "Улан-Удэ",
                    "Ульяновск",
                    "Уфа",
                    "Хабаровск",
                    "Ханты-Мансийск",
                    "Химки",
                    "Чалтырь",
                    "Чапаевск",
                    "Чебаркуль",
                    "Чебоксары",
                    "Челябинск",
                    "Череповец",
                    "Черногория",
                    "Черняховск",
                    "Чехия",
                    "Чехов",
                    "Чита",
                    "Чолпон-Ата",
                    "Чёрное (Московская область)",
                    "Шебекино",
                    "Шымкент",
                    "Щелково",
                    "Электросталь",
                    "Энгельс",
                    "Южно-Сахалинск",
                    "Юрга",
                    "Якутск",
                    "Ярославль"
                  ],
                  "labels": [
                    "Абакан",
                    "Адлер",
                    "Азов",
                    "Алматы",
                    "Альметьевск",
                    "Ангарск",
                    "Армавир",
                    "Армения",
                    "Артем",
                    "Архангельск",
                    "Астана",
                    "Астрахань",
                    "Бабаево",
                    "Баку",
                    "Балашиха",
                    "Барнаул",
                    "Батайск",
                    "Батуми",
                    "Белгород",
                    "Белово",
                    "Бердск",
                    "Бийск",
                    "Бишкек",
                    "Благовещенск (Амурская область)",
                    "Брянск",
                    "Великий Новгород",
                    "Верхняя Пышма",
                    "Видное",
                    "Владивосток",
                    "Владимир",
                    "Волгоград",
                    "Волгодонск",
                    "Волжский (Волгоградская область)",
                    "Вологда",
                    "Вольно-Надеждинское",
                    "Воронеж",
                    "Гомель",
                    "Горно-Алтайск",
                    "Губкин",
                    "Гусев",
                    "Джанкой",
                    "Дзержинск (Нижегородская область)",
                    "Димитровград",
                    "Дмитров",
                    "Долгопрудный",
                    "Домодедово",
                    "Екатеринбург",
                    "Елабуга",
                    "Елец",
                    "Железногорск (Красноярский край)",
                    "Железнодорожный",
                    "Жуковский",
                    "Звенигород",
                    "Зеленоград",
                    "Златоуст",
                    "Иваново (Ивановская область)",
                    "Ивантеевка",
                    "Ижевск",
                    "Иннополис",
                    "Иркутск",
                    "Ирландия",
                    "Искитим",
                    "Истра",
                    "Йошкар-Ола",
                    "Казань",
                    "Калининград",
                    "Калтан",
                    "Калуга",
                    "Кашира",
                    "Кемерово",
                    "Керчь",
                    "Кипр",
                    "Киров (Кировская область)",
                    "Кировград",
                    "Кирово-Чепецк",
                    "Клин",
                    "Ковров",
                    "Коломна",
                    "Колпино",
                    "Конаково",
                    "Королев",
                    "Кострома",
                    "Котельники",
                    "Котовск (Тамбовская область)",
                    "Красково",
                    "Красногорск",
                    "Краснодар",
                    "Краснознаменск (Московская область)",
                    "Краснотурьинск",
                    "Красноярск",
                    "Курган",
                    "Курск",
                    "Латвия",
                    "Лебедянь",
                    "Лениногорск",
                    "Липецк",
                    "Лобня",
                    "Люберцы",
                    "Магадан",
                    "Магнитогорск",
                    "Майкоп",
                    "Майма",
                    "Малаховка (Московская область)",
                    "Махачкала",
                    "Междуреченск",
                    "Менделеевск",
                    "Мензелинск",
                    "Миасс",
                    "Минск",
                    "Москва",
                    "Мурманск",
                    "Муром",
                    "Мытищи",
                    "Набережные Челны",
                    "Невинномысск",
                    "Нефтекамск",
                    "Нефтеюганск",
                    "Нижневартовск",
                    "Нижнекамск",
                    "Нижний Новгород",
                    "Нижний Тагил",
                    "Новобатайск",
                    "Новокузнецк",
                    "Новокуйбышевск",
                    "Новомосковск (Тульская область)",
                    "Новороссийск",
                    "Новосибирск",
                    "Новочеркасск",
                    "Новый Уренгой",
                    "Ногинск",
                    "Норильск",
                    "ОАЭ",
                    "Обнинск",
                    "Одинцово",
                    "Озерск (Челябинская область)",
                    "Октябрьский (Республика Башкортостан)",
                    "Омск",
                    "Орел",
                    "Оренбург",
                    "Орехово-Зуево",
                    "Орск",
                    "Осинники",
                    "Павлодар",
                    "Пенза",
                    "Пермь",
                    "Петрозаводск",
                    "Петропавловск-Камчатский",
                    "Подольск (Московская область)",
                    "Польша",
                    "Прокопьевск",
                    "Псков",
                    "Пушкино (Московская область)",
                    "Пятигорск",
                    "Раменское",
                    "Реутов",
                    "Ростов-на-Дону",
                    "Рубцовск",
                    "Рыбинск",
                    "Рязань",
                    "США",
                    "Салехард",
                    "Самара",
                    "Самарское",
                    "Санкт-Петербург",
                    "Саранск",
                    "Саратов",
                    "Сатка",
                    "Светлый",
                    "Севастополь",
                    "Северодвинск",
                    "Северск (Томская область)",
                    "Сент-Винсент и Гренадины",
                    "Сербия",
                    "Сергиев Посад",
                    "Серов",
                    "Серпухов",
                    "Симферополь",
                    "Смоленск",
                    "Солнечногорск",
                    "Сосновоборск",
                    "Сочи",
                    "Спасск-Дальний",
                    "Среднеуральск",
                    "Ставрополь",
                    "Старый Оскол",
                    "Стерлитамак",
                    "Строитель (Белгородская область)",
                    "Сургут",
                    "Таганрог",
                    "Таиланд",
                    "Тамбов",
                    "Ташкент",
                    "Тбилиси",
                    "Тверь",
                    "Тольятти",
                    "Томилино",
                    "Томск",
                    "Троицк (Московская область)",
                    "Тула",
                    "Турция",
                    "Тюмень",
                    "Улан-Удэ",
                    "Ульяновск",
                    "Уфа",
                    "Хабаровск",
                    "Ханты-Мансийск",
                    "Химки",
                    "Чалтырь",
                    "Чапаевск",
                    "Чебаркуль",
                    "Чебоксары",
                    "Челябинск",
                    "Череповец",
                    "Черногория",
                    "Черняховск",
                    "Чехия",
                    "Чехов",
                    "Чита",
                    "Чолпон-Ата",
                    "Чёрное (Московская область)",
                    "Шебекино",
                    "Шымкент",
                    "Щелково",
                    "Электросталь",
                    "Энгельс",
                    "Южно-Сахалинск",
                    "Юрга",
                    "Якутск",
                    "Ярославль"
                  ],
                  "name": "",
                  "parents": [
                    "",
                    "",
                    "",
                    "",
                    "",
                    "",
                    "",
                    "",
                    "",
                    "",
                    "",
                    "",
                    "",
                    "",
                    "",
                    "",
                    "",
                    "",
                    "",
                    "",
                    "",
                    "",
                    "",
                    "",
                    "",
                    "",
                    "",
                    "",
                    "",
                    "",
                    "",
                    "",
                    "",
                    "",
                    "",
                    "",
                    "",
                    "",
                    "",
                    "",
                    "",
                    "",
                    "",
                    "",
                    "",
                    "",
                    "",
                    "",
                    "",
                    "",
                    "",
                    "",
                    "",
                    "",
                    "",
                    "",
                    "",
                    "",
                    "",
                    "",
                    "",
                    "",
                    "",
                    "",
                    "",
                    "",
                    "",
                    "",
                    "",
                    "",
                    "",
                    "",
                    "",
                    "",
                    "",
                    "",
                    "",
                    "",
                    "",
                    "",
                    "",
                    "",
                    "",
                    "",
                    "",
                    "",
                    "",
                    "",
                    "",
                    "",
                    "",
                    "",
                    "",
                    "",
                    "",
                    "",
                    "",
                    "",
                    "",
                    "",
                    "",
                    "",
                    "",
                    "",
                    "",
                    "",
                    "",
                    "",
                    "",
                    "",
                    "",
                    "",
                    "",
                    "",
                    "",
                    "",
                    "",
                    "",
                    "",
                    "",
                    "",
                    "",
                    "",
                    "",
                    "",
                    "",
                    "",
                    "",
                    "",
                    "",
                    "",
                    "",
                    "",
                    "",
                    "",
                    "",
                    "",
                    "",
                    "",
                    "",
                    "",
                    "",
                    "",
                    "",
                    "",
                    "",
                    "",
                    "",
                    "",
                    "",
                    "",
                    "",
                    "",
                    "",
                    "",
                    "",
                    "",
                    "",
                    "",
                    "",
                    "",
                    "",
                    "",
                    "",
                    "",
                    "",
                    "",
                    "",
                    "",
                    "",
                    "",
                    "",
                    "",
                    "",
                    "",
                    "",
                    "",
                    "",
                    "",
                    "",
                    "",
                    "",
                    "",
                    "",
                    "",
                    "",
                    "",
                    "",
                    "",
                    "",
                    "",
                    "",
                    "",
                    "",
                    "",
                    "",
                    "",
                    "",
                    "",
                    "",
                    "",
                    "",
                    "",
                    "",
                    "",
                    "",
                    "",
                    "",
                    "",
                    "",
                    "",
                    "",
                    "",
                    "",
                    "",
                    "",
                    "",
                    "",
                    "",
                    "",
                    "",
                    "",
                    "",
                    "",
                    "",
                    "",
                    "",
                    "",
                    ""
                  ],
                  "type": "treemap",
                  "values": [
                    27500,
                    31000,
                    30000,
                    2277203.5,
                    133000,
                    40000,
                    13000,
                    4282999.999999999,
                    180000,
                    40000,
                    2400505,
                    337400,
                    47400,
                    1079999.9999999998,
                    13000,
                    1018000,
                    121400,
                    1199999.9999999998,
                    1213200,
                    60000,
                    13000,
                    13000,
                    927499.9999999999,
                    290000,
                    368000,
                    153000,
                    95000,
                    130000,
                    4321000,
                    828000,
                    1616000,
                    13000,
                    253000,
                    258000,
                    60000,
                    2867800,
                    20000,
                    31000,
                    29910,
                    69750,
                    50000,
                    13000,
                    51100,
                    150000,
                    100000,
                    168050,
                    9578271.5,
                    58000,
                    88000,
                    121000,
                    130000,
                    263000,
                    130000,
                    520000,
                    200000,
                    1004000,
                    130000,
                    723000,
                    600000,
                    940000,
                    314999.99999999994,
                    63100,
                    120000,
                    183000,
                    7091203.5,
                    1011750,
                    70000,
                    310000,
                    130000,
                    479500,
                    50000,
                    4336437,
                    1389000,
                    60000,
                    35000,
                    180000,
                    38000,
                    13000,
                    120200,
                    135000,
                    373000,
                    132000,
                    130000,
                    48000,
                    260000,
                    343000,
                    5151503.5,
                    120000,
                    30000,
                    2642753,
                    373000,
                    421000,
                    234402.00000000003,
                    100000,
                    35000,
                    206000,
                    130000,
                    748000,
                    68000,
                    764500,
                    50000,
                    31000,
                    130000,
                    273000,
                    65000,
                    35000,
                    35000,
                    160000,
                    851999.9999999999,
                    150721900.5,
                    440000,
                    30000,
                    633000,
                    299967,
                    70000,
                    13000,
                    99338,
                    366338,
                    138000,
                    6628199,
                    353000,
                    39400,
                    293000,
                    63000,
                    13000,
                    113000,
                    10831000,
                    13000,
                    150000,
                    313000,
                    130000,
                    209999.99999999997,
                    210000,
                    13000,
                    238000,
                    13000,
                    2196000,
                    203000,
                    445000,
                    130000,
                    63000,
                    70000,
                    20999.999999999996,
                    93000,
                    3167000,
                    130000,
                    108000,
                    243000,
                    524999.9999999999,
                    50000,
                    13000,
                    60000,
                    103000,
                    440000,
                    143000,
                    4279900,
                    13000,
                    380000,
                    472000,
                    520799.99999999994,
                    88000,
                    3932786.5,
                    39400,
                    34861114,
                    163000,
                    1207700,
                    100000,
                    60000,
                    596800,
                    40000,
                    40000,
                    73499.99999999999,
                    1707222.5999999999,
                    130000,
                    30000,
                    201500,
                    108000,
                    398000,
                    190000,
                    50000,
                    2606171,
                    30000,
                    135000,
                    533000,
                    221000,
                    63000,
                    106000,
                    562338,
                    225000,
                    70000,
                    222280,
                    2677499.9999999995,
                    8167414.499999999,
                    978671,
                    898400,
                    80000,
                    3194000,
                    230000,
                    1040750,
                    2497703.4999999995,
                    3197338,
                    80000,
                    353000,
                    2602203.5,
                    1112500,
                    99338,
                    663000,
                    65000,
                    31805,
                    100000,
                    856000,
                    2392800,
                    188800,
                    524999.9999999999,
                    50000,
                    18000,
                    130000,
                    410000,
                    73499.99999999999,
                    150000,
                    51000,
                    199000,
                    143000,
                    282000,
                    13000,
                    75000,
                    30000,
                    42000,
                    1269200
                  ]
                }
              ],
              "layout": {
                "height": 600,
                "legend": {
                  "tracegroupgap": 0
                },
                "template": {
                  "data": {
                    "bar": [
                      {
                        "error_x": {
                          "color": "#2a3f5f"
                        },
                        "error_y": {
                          "color": "#2a3f5f"
                        },
                        "marker": {
                          "line": {
                            "color": "#E5ECF6",
                            "width": 0.5
                          },
                          "pattern": {
                            "fillmode": "overlay",
                            "size": 10,
                            "solidity": 0.2
                          }
                        },
                        "type": "bar"
                      }
                    ],
                    "barpolar": [
                      {
                        "marker": {
                          "line": {
                            "color": "#E5ECF6",
                            "width": 0.5
                          },
                          "pattern": {
                            "fillmode": "overlay",
                            "size": 10,
                            "solidity": 0.2
                          }
                        },
                        "type": "barpolar"
                      }
                    ],
                    "carpet": [
                      {
                        "aaxis": {
                          "endlinecolor": "#2a3f5f",
                          "gridcolor": "white",
                          "linecolor": "white",
                          "minorgridcolor": "white",
                          "startlinecolor": "#2a3f5f"
                        },
                        "baxis": {
                          "endlinecolor": "#2a3f5f",
                          "gridcolor": "white",
                          "linecolor": "white",
                          "minorgridcolor": "white",
                          "startlinecolor": "#2a3f5f"
                        },
                        "type": "carpet"
                      }
                    ],
                    "choropleth": [
                      {
                        "colorbar": {
                          "outlinewidth": 0,
                          "ticks": ""
                        },
                        "type": "choropleth"
                      }
                    ],
                    "contour": [
                      {
                        "colorbar": {
                          "outlinewidth": 0,
                          "ticks": ""
                        },
                        "colorscale": [
                          [
                            0,
                            "#0d0887"
                          ],
                          [
                            0.1111111111111111,
                            "#46039f"
                          ],
                          [
                            0.2222222222222222,
                            "#7201a8"
                          ],
                          [
                            0.3333333333333333,
                            "#9c179e"
                          ],
                          [
                            0.4444444444444444,
                            "#bd3786"
                          ],
                          [
                            0.5555555555555556,
                            "#d8576b"
                          ],
                          [
                            0.6666666666666666,
                            "#ed7953"
                          ],
                          [
                            0.7777777777777778,
                            "#fb9f3a"
                          ],
                          [
                            0.8888888888888888,
                            "#fdca26"
                          ],
                          [
                            1,
                            "#f0f921"
                          ]
                        ],
                        "type": "contour"
                      }
                    ],
                    "contourcarpet": [
                      {
                        "colorbar": {
                          "outlinewidth": 0,
                          "ticks": ""
                        },
                        "type": "contourcarpet"
                      }
                    ],
                    "heatmap": [
                      {
                        "colorbar": {
                          "outlinewidth": 0,
                          "ticks": ""
                        },
                        "colorscale": [
                          [
                            0,
                            "#0d0887"
                          ],
                          [
                            0.1111111111111111,
                            "#46039f"
                          ],
                          [
                            0.2222222222222222,
                            "#7201a8"
                          ],
                          [
                            0.3333333333333333,
                            "#9c179e"
                          ],
                          [
                            0.4444444444444444,
                            "#bd3786"
                          ],
                          [
                            0.5555555555555556,
                            "#d8576b"
                          ],
                          [
                            0.6666666666666666,
                            "#ed7953"
                          ],
                          [
                            0.7777777777777778,
                            "#fb9f3a"
                          ],
                          [
                            0.8888888888888888,
                            "#fdca26"
                          ],
                          [
                            1,
                            "#f0f921"
                          ]
                        ],
                        "type": "heatmap"
                      }
                    ],
                    "heatmapgl": [
                      {
                        "colorbar": {
                          "outlinewidth": 0,
                          "ticks": ""
                        },
                        "colorscale": [
                          [
                            0,
                            "#0d0887"
                          ],
                          [
                            0.1111111111111111,
                            "#46039f"
                          ],
                          [
                            0.2222222222222222,
                            "#7201a8"
                          ],
                          [
                            0.3333333333333333,
                            "#9c179e"
                          ],
                          [
                            0.4444444444444444,
                            "#bd3786"
                          ],
                          [
                            0.5555555555555556,
                            "#d8576b"
                          ],
                          [
                            0.6666666666666666,
                            "#ed7953"
                          ],
                          [
                            0.7777777777777778,
                            "#fb9f3a"
                          ],
                          [
                            0.8888888888888888,
                            "#fdca26"
                          ],
                          [
                            1,
                            "#f0f921"
                          ]
                        ],
                        "type": "heatmapgl"
                      }
                    ],
                    "histogram": [
                      {
                        "marker": {
                          "pattern": {
                            "fillmode": "overlay",
                            "size": 10,
                            "solidity": 0.2
                          }
                        },
                        "type": "histogram"
                      }
                    ],
                    "histogram2d": [
                      {
                        "colorbar": {
                          "outlinewidth": 0,
                          "ticks": ""
                        },
                        "colorscale": [
                          [
                            0,
                            "#0d0887"
                          ],
                          [
                            0.1111111111111111,
                            "#46039f"
                          ],
                          [
                            0.2222222222222222,
                            "#7201a8"
                          ],
                          [
                            0.3333333333333333,
                            "#9c179e"
                          ],
                          [
                            0.4444444444444444,
                            "#bd3786"
                          ],
                          [
                            0.5555555555555556,
                            "#d8576b"
                          ],
                          [
                            0.6666666666666666,
                            "#ed7953"
                          ],
                          [
                            0.7777777777777778,
                            "#fb9f3a"
                          ],
                          [
                            0.8888888888888888,
                            "#fdca26"
                          ],
                          [
                            1,
                            "#f0f921"
                          ]
                        ],
                        "type": "histogram2d"
                      }
                    ],
                    "histogram2dcontour": [
                      {
                        "colorbar": {
                          "outlinewidth": 0,
                          "ticks": ""
                        },
                        "colorscale": [
                          [
                            0,
                            "#0d0887"
                          ],
                          [
                            0.1111111111111111,
                            "#46039f"
                          ],
                          [
                            0.2222222222222222,
                            "#7201a8"
                          ],
                          [
                            0.3333333333333333,
                            "#9c179e"
                          ],
                          [
                            0.4444444444444444,
                            "#bd3786"
                          ],
                          [
                            0.5555555555555556,
                            "#d8576b"
                          ],
                          [
                            0.6666666666666666,
                            "#ed7953"
                          ],
                          [
                            0.7777777777777778,
                            "#fb9f3a"
                          ],
                          [
                            0.8888888888888888,
                            "#fdca26"
                          ],
                          [
                            1,
                            "#f0f921"
                          ]
                        ],
                        "type": "histogram2dcontour"
                      }
                    ],
                    "mesh3d": [
                      {
                        "colorbar": {
                          "outlinewidth": 0,
                          "ticks": ""
                        },
                        "type": "mesh3d"
                      }
                    ],
                    "parcoords": [
                      {
                        "line": {
                          "colorbar": {
                            "outlinewidth": 0,
                            "ticks": ""
                          }
                        },
                        "type": "parcoords"
                      }
                    ],
                    "pie": [
                      {
                        "automargin": true,
                        "type": "pie"
                      }
                    ],
                    "scatter": [
                      {
                        "fillpattern": {
                          "fillmode": "overlay",
                          "size": 10,
                          "solidity": 0.2
                        },
                        "type": "scatter"
                      }
                    ],
                    "scatter3d": [
                      {
                        "line": {
                          "colorbar": {
                            "outlinewidth": 0,
                            "ticks": ""
                          }
                        },
                        "marker": {
                          "colorbar": {
                            "outlinewidth": 0,
                            "ticks": ""
                          }
                        },
                        "type": "scatter3d"
                      }
                    ],
                    "scattercarpet": [
                      {
                        "marker": {
                          "colorbar": {
                            "outlinewidth": 0,
                            "ticks": ""
                          }
                        },
                        "type": "scattercarpet"
                      }
                    ],
                    "scattergeo": [
                      {
                        "marker": {
                          "colorbar": {
                            "outlinewidth": 0,
                            "ticks": ""
                          }
                        },
                        "type": "scattergeo"
                      }
                    ],
                    "scattergl": [
                      {
                        "marker": {
                          "colorbar": {
                            "outlinewidth": 0,
                            "ticks": ""
                          }
                        },
                        "type": "scattergl"
                      }
                    ],
                    "scattermapbox": [
                      {
                        "marker": {
                          "colorbar": {
                            "outlinewidth": 0,
                            "ticks": ""
                          }
                        },
                        "type": "scattermapbox"
                      }
                    ],
                    "scatterpolar": [
                      {
                        "marker": {
                          "colorbar": {
                            "outlinewidth": 0,
                            "ticks": ""
                          }
                        },
                        "type": "scatterpolar"
                      }
                    ],
                    "scatterpolargl": [
                      {
                        "marker": {
                          "colorbar": {
                            "outlinewidth": 0,
                            "ticks": ""
                          }
                        },
                        "type": "scatterpolargl"
                      }
                    ],
                    "scatterternary": [
                      {
                        "marker": {
                          "colorbar": {
                            "outlinewidth": 0,
                            "ticks": ""
                          }
                        },
                        "type": "scatterternary"
                      }
                    ],
                    "surface": [
                      {
                        "colorbar": {
                          "outlinewidth": 0,
                          "ticks": ""
                        },
                        "colorscale": [
                          [
                            0,
                            "#0d0887"
                          ],
                          [
                            0.1111111111111111,
                            "#46039f"
                          ],
                          [
                            0.2222222222222222,
                            "#7201a8"
                          ],
                          [
                            0.3333333333333333,
                            "#9c179e"
                          ],
                          [
                            0.4444444444444444,
                            "#bd3786"
                          ],
                          [
                            0.5555555555555556,
                            "#d8576b"
                          ],
                          [
                            0.6666666666666666,
                            "#ed7953"
                          ],
                          [
                            0.7777777777777778,
                            "#fb9f3a"
                          ],
                          [
                            0.8888888888888888,
                            "#fdca26"
                          ],
                          [
                            1,
                            "#f0f921"
                          ]
                        ],
                        "type": "surface"
                      }
                    ],
                    "table": [
                      {
                        "cells": {
                          "fill": {
                            "color": "#EBF0F8"
                          },
                          "line": {
                            "color": "white"
                          }
                        },
                        "header": {
                          "fill": {
                            "color": "#C8D4E3"
                          },
                          "line": {
                            "color": "white"
                          }
                        },
                        "type": "table"
                      }
                    ]
                  },
                  "layout": {
                    "annotationdefaults": {
                      "arrowcolor": "#2a3f5f",
                      "arrowhead": 0,
                      "arrowwidth": 1
                    },
                    "autotypenumbers": "strict",
                    "coloraxis": {
                      "colorbar": {
                        "outlinewidth": 0,
                        "ticks": ""
                      }
                    },
                    "colorscale": {
                      "diverging": [
                        [
                          0,
                          "#8e0152"
                        ],
                        [
                          0.1,
                          "#c51b7d"
                        ],
                        [
                          0.2,
                          "#de77ae"
                        ],
                        [
                          0.3,
                          "#f1b6da"
                        ],
                        [
                          0.4,
                          "#fde0ef"
                        ],
                        [
                          0.5,
                          "#f7f7f7"
                        ],
                        [
                          0.6,
                          "#e6f5d0"
                        ],
                        [
                          0.7,
                          "#b8e186"
                        ],
                        [
                          0.8,
                          "#7fbc41"
                        ],
                        [
                          0.9,
                          "#4d9221"
                        ],
                        [
                          1,
                          "#276419"
                        ]
                      ],
                      "sequential": [
                        [
                          0,
                          "#0d0887"
                        ],
                        [
                          0.1111111111111111,
                          "#46039f"
                        ],
                        [
                          0.2222222222222222,
                          "#7201a8"
                        ],
                        [
                          0.3333333333333333,
                          "#9c179e"
                        ],
                        [
                          0.4444444444444444,
                          "#bd3786"
                        ],
                        [
                          0.5555555555555556,
                          "#d8576b"
                        ],
                        [
                          0.6666666666666666,
                          "#ed7953"
                        ],
                        [
                          0.7777777777777778,
                          "#fb9f3a"
                        ],
                        [
                          0.8888888888888888,
                          "#fdca26"
                        ],
                        [
                          1,
                          "#f0f921"
                        ]
                      ],
                      "sequentialminus": [
                        [
                          0,
                          "#0d0887"
                        ],
                        [
                          0.1111111111111111,
                          "#46039f"
                        ],
                        [
                          0.2222222222222222,
                          "#7201a8"
                        ],
                        [
                          0.3333333333333333,
                          "#9c179e"
                        ],
                        [
                          0.4444444444444444,
                          "#bd3786"
                        ],
                        [
                          0.5555555555555556,
                          "#d8576b"
                        ],
                        [
                          0.6666666666666666,
                          "#ed7953"
                        ],
                        [
                          0.7777777777777778,
                          "#fb9f3a"
                        ],
                        [
                          0.8888888888888888,
                          "#fdca26"
                        ],
                        [
                          1,
                          "#f0f921"
                        ]
                      ]
                    },
                    "colorway": [
                      "#636efa",
                      "#EF553B",
                      "#00cc96",
                      "#ab63fa",
                      "#FFA15A",
                      "#19d3f3",
                      "#FF6692",
                      "#B6E880",
                      "#FF97FF",
                      "#FECB52"
                    ],
                    "font": {
                      "color": "#2a3f5f"
                    },
                    "geo": {
                      "bgcolor": "white",
                      "lakecolor": "white",
                      "landcolor": "#E5ECF6",
                      "showlakes": true,
                      "showland": true,
                      "subunitcolor": "white"
                    },
                    "hoverlabel": {
                      "align": "left"
                    },
                    "hovermode": "closest",
                    "mapbox": {
                      "style": "light"
                    },
                    "paper_bgcolor": "white",
                    "plot_bgcolor": "#E5ECF6",
                    "polar": {
                      "angularaxis": {
                        "gridcolor": "white",
                        "linecolor": "white",
                        "ticks": ""
                      },
                      "bgcolor": "#E5ECF6",
                      "radialaxis": {
                        "gridcolor": "white",
                        "linecolor": "white",
                        "ticks": ""
                      }
                    },
                    "scene": {
                      "xaxis": {
                        "backgroundcolor": "#E5ECF6",
                        "gridcolor": "white",
                        "gridwidth": 2,
                        "linecolor": "white",
                        "showbackground": true,
                        "ticks": "",
                        "zerolinecolor": "white"
                      },
                      "yaxis": {
                        "backgroundcolor": "#E5ECF6",
                        "gridcolor": "white",
                        "gridwidth": 2,
                        "linecolor": "white",
                        "showbackground": true,
                        "ticks": "",
                        "zerolinecolor": "white"
                      },
                      "zaxis": {
                        "backgroundcolor": "#E5ECF6",
                        "gridcolor": "white",
                        "gridwidth": 2,
                        "linecolor": "white",
                        "showbackground": true,
                        "ticks": "",
                        "zerolinecolor": "white"
                      }
                    },
                    "shapedefaults": {
                      "line": {
                        "color": "#2a3f5f"
                      }
                    },
                    "ternary": {
                      "aaxis": {
                        "gridcolor": "white",
                        "linecolor": "white",
                        "ticks": ""
                      },
                      "baxis": {
                        "gridcolor": "white",
                        "linecolor": "white",
                        "ticks": ""
                      },
                      "bgcolor": "#E5ECF6",
                      "caxis": {
                        "gridcolor": "white",
                        "linecolor": "white",
                        "ticks": ""
                      }
                    },
                    "title": {
                      "x": 0.05
                    },
                    "xaxis": {
                      "automargin": true,
                      "gridcolor": "white",
                      "linecolor": "white",
                      "ticks": "",
                      "title": {
                        "standoff": 15
                      },
                      "zerolinecolor": "white",
                      "zerolinewidth": 2
                    },
                    "yaxis": {
                      "automargin": true,
                      "gridcolor": "white",
                      "linecolor": "white",
                      "ticks": "",
                      "title": {
                        "standoff": 15
                      },
                      "zerolinecolor": "white",
                      "zerolinewidth": 2
                    }
                  }
                },
                "title": {
                  "text": "Насыщенность городов вакансиями (по уровню salary_from)"
                },
                "width": 1000
              }
            },
            "text/html": [
              "<div>                            <div id=\"a9d2bd97-dc71-425f-a14d-83b8ee857ea6\" class=\"plotly-graph-div\" style=\"height:600px; width:1000px;\"></div>            <script type=\"text/javascript\">                require([\"plotly\"], function(Plotly) {                    window.PLOTLYENV=window.PLOTLYENV || {};                                    if (document.getElementById(\"a9d2bd97-dc71-425f-a14d-83b8ee857ea6\")) {                    Plotly.newPlot(                        \"a9d2bd97-dc71-425f-a14d-83b8ee857ea6\",                        [{\"branchvalues\":\"total\",\"domain\":{\"x\":[0.0,1.0],\"y\":[0.0,1.0]},\"hovertemplate\":\"labels=%{label}<br>salary_from=%{value}<br>parent=%{parent}<br>id=%{id}<extra></extra>\",\"ids\":[\"\\u0410\\u0431\\u0430\\u043a\\u0430\\u043d\",\"\\u0410\\u0434\\u043b\\u0435\\u0440\",\"\\u0410\\u0437\\u043e\\u0432\",\"\\u0410\\u043b\\u043c\\u0430\\u0442\\u044b\",\"\\u0410\\u043b\\u044c\\u043c\\u0435\\u0442\\u044c\\u0435\\u0432\\u0441\\u043a\",\"\\u0410\\u043d\\u0433\\u0430\\u0440\\u0441\\u043a\",\"\\u0410\\u0440\\u043c\\u0430\\u0432\\u0438\\u0440\",\"\\u0410\\u0440\\u043c\\u0435\\u043d\\u0438\\u044f\",\"\\u0410\\u0440\\u0442\\u0435\\u043c\",\"\\u0410\\u0440\\u0445\\u0430\\u043d\\u0433\\u0435\\u043b\\u044c\\u0441\\u043a\",\"\\u0410\\u0441\\u0442\\u0430\\u043d\\u0430\",\"\\u0410\\u0441\\u0442\\u0440\\u0430\\u0445\\u0430\\u043d\\u044c\",\"\\u0411\\u0430\\u0431\\u0430\\u0435\\u0432\\u043e\",\"\\u0411\\u0430\\u043a\\u0443\",\"\\u0411\\u0430\\u043b\\u0430\\u0448\\u0438\\u0445\\u0430\",\"\\u0411\\u0430\\u0440\\u043d\\u0430\\u0443\\u043b\",\"\\u0411\\u0430\\u0442\\u0430\\u0439\\u0441\\u043a\",\"\\u0411\\u0430\\u0442\\u0443\\u043c\\u0438\",\"\\u0411\\u0435\\u043b\\u0433\\u043e\\u0440\\u043e\\u0434\",\"\\u0411\\u0435\\u043b\\u043e\\u0432\\u043e\",\"\\u0411\\u0435\\u0440\\u0434\\u0441\\u043a\",\"\\u0411\\u0438\\u0439\\u0441\\u043a\",\"\\u0411\\u0438\\u0448\\u043a\\u0435\\u043a\",\"\\u0411\\u043b\\u0430\\u0433\\u043e\\u0432\\u0435\\u0449\\u0435\\u043d\\u0441\\u043a (\\u0410\\u043c\\u0443\\u0440\\u0441\\u043a\\u0430\\u044f \\u043e\\u0431\\u043b\\u0430\\u0441\\u0442\\u044c)\",\"\\u0411\\u0440\\u044f\\u043d\\u0441\\u043a\",\"\\u0412\\u0435\\u043b\\u0438\\u043a\\u0438\\u0439 \\u041d\\u043e\\u0432\\u0433\\u043e\\u0440\\u043e\\u0434\",\"\\u0412\\u0435\\u0440\\u0445\\u043d\\u044f\\u044f \\u041f\\u044b\\u0448\\u043c\\u0430\",\"\\u0412\\u0438\\u0434\\u043d\\u043e\\u0435\",\"\\u0412\\u043b\\u0430\\u0434\\u0438\\u0432\\u043e\\u0441\\u0442\\u043e\\u043a\",\"\\u0412\\u043b\\u0430\\u0434\\u0438\\u043c\\u0438\\u0440\",\"\\u0412\\u043e\\u043b\\u0433\\u043e\\u0433\\u0440\\u0430\\u0434\",\"\\u0412\\u043e\\u043b\\u0433\\u043e\\u0434\\u043e\\u043d\\u0441\\u043a\",\"\\u0412\\u043e\\u043b\\u0436\\u0441\\u043a\\u0438\\u0439 (\\u0412\\u043e\\u043b\\u0433\\u043e\\u0433\\u0440\\u0430\\u0434\\u0441\\u043a\\u0430\\u044f \\u043e\\u0431\\u043b\\u0430\\u0441\\u0442\\u044c)\",\"\\u0412\\u043e\\u043b\\u043e\\u0433\\u0434\\u0430\",\"\\u0412\\u043e\\u043b\\u044c\\u043d\\u043e-\\u041d\\u0430\\u0434\\u0435\\u0436\\u0434\\u0438\\u043d\\u0441\\u043a\\u043e\\u0435\",\"\\u0412\\u043e\\u0440\\u043e\\u043d\\u0435\\u0436\",\"\\u0413\\u043e\\u043c\\u0435\\u043b\\u044c\",\"\\u0413\\u043e\\u0440\\u043d\\u043e-\\u0410\\u043b\\u0442\\u0430\\u0439\\u0441\\u043a\",\"\\u0413\\u0443\\u0431\\u043a\\u0438\\u043d\",\"\\u0413\\u0443\\u0441\\u0435\\u0432\",\"\\u0414\\u0436\\u0430\\u043d\\u043a\\u043e\\u0439\",\"\\u0414\\u0437\\u0435\\u0440\\u0436\\u0438\\u043d\\u0441\\u043a (\\u041d\\u0438\\u0436\\u0435\\u0433\\u043e\\u0440\\u043e\\u0434\\u0441\\u043a\\u0430\\u044f \\u043e\\u0431\\u043b\\u0430\\u0441\\u0442\\u044c)\",\"\\u0414\\u0438\\u043c\\u0438\\u0442\\u0440\\u043e\\u0432\\u0433\\u0440\\u0430\\u0434\",\"\\u0414\\u043c\\u0438\\u0442\\u0440\\u043e\\u0432\",\"\\u0414\\u043e\\u043b\\u0433\\u043e\\u043f\\u0440\\u0443\\u0434\\u043d\\u044b\\u0439\",\"\\u0414\\u043e\\u043c\\u043e\\u0434\\u0435\\u0434\\u043e\\u0432\\u043e\",\"\\u0415\\u043a\\u0430\\u0442\\u0435\\u0440\\u0438\\u043d\\u0431\\u0443\\u0440\\u0433\",\"\\u0415\\u043b\\u0430\\u0431\\u0443\\u0433\\u0430\",\"\\u0415\\u043b\\u0435\\u0446\",\"\\u0416\\u0435\\u043b\\u0435\\u0437\\u043d\\u043e\\u0433\\u043e\\u0440\\u0441\\u043a (\\u041a\\u0440\\u0430\\u0441\\u043d\\u043e\\u044f\\u0440\\u0441\\u043a\\u0438\\u0439 \\u043a\\u0440\\u0430\\u0439)\",\"\\u0416\\u0435\\u043b\\u0435\\u0437\\u043d\\u043e\\u0434\\u043e\\u0440\\u043e\\u0436\\u043d\\u044b\\u0439\",\"\\u0416\\u0443\\u043a\\u043e\\u0432\\u0441\\u043a\\u0438\\u0439\",\"\\u0417\\u0432\\u0435\\u043d\\u0438\\u0433\\u043e\\u0440\\u043e\\u0434\",\"\\u0417\\u0435\\u043b\\u0435\\u043d\\u043e\\u0433\\u0440\\u0430\\u0434\",\"\\u0417\\u043b\\u0430\\u0442\\u043e\\u0443\\u0441\\u0442\",\"\\u0418\\u0432\\u0430\\u043d\\u043e\\u0432\\u043e (\\u0418\\u0432\\u0430\\u043d\\u043e\\u0432\\u0441\\u043a\\u0430\\u044f \\u043e\\u0431\\u043b\\u0430\\u0441\\u0442\\u044c)\",\"\\u0418\\u0432\\u0430\\u043d\\u0442\\u0435\\u0435\\u0432\\u043a\\u0430\",\"\\u0418\\u0436\\u0435\\u0432\\u0441\\u043a\",\"\\u0418\\u043d\\u043d\\u043e\\u043f\\u043e\\u043b\\u0438\\u0441\",\"\\u0418\\u0440\\u043a\\u0443\\u0442\\u0441\\u043a\",\"\\u0418\\u0440\\u043b\\u0430\\u043d\\u0434\\u0438\\u044f\",\"\\u0418\\u0441\\u043a\\u0438\\u0442\\u0438\\u043c\",\"\\u0418\\u0441\\u0442\\u0440\\u0430\",\"\\u0419\\u043e\\u0448\\u043a\\u0430\\u0440-\\u041e\\u043b\\u0430\",\"\\u041a\\u0430\\u0437\\u0430\\u043d\\u044c\",\"\\u041a\\u0430\\u043b\\u0438\\u043d\\u0438\\u043d\\u0433\\u0440\\u0430\\u0434\",\"\\u041a\\u0430\\u043b\\u0442\\u0430\\u043d\",\"\\u041a\\u0430\\u043b\\u0443\\u0433\\u0430\",\"\\u041a\\u0430\\u0448\\u0438\\u0440\\u0430\",\"\\u041a\\u0435\\u043c\\u0435\\u0440\\u043e\\u0432\\u043e\",\"\\u041a\\u0435\\u0440\\u0447\\u044c\",\"\\u041a\\u0438\\u043f\\u0440\",\"\\u041a\\u0438\\u0440\\u043e\\u0432 (\\u041a\\u0438\\u0440\\u043e\\u0432\\u0441\\u043a\\u0430\\u044f \\u043e\\u0431\\u043b\\u0430\\u0441\\u0442\\u044c)\",\"\\u041a\\u0438\\u0440\\u043e\\u0432\\u0433\\u0440\\u0430\\u0434\",\"\\u041a\\u0438\\u0440\\u043e\\u0432\\u043e-\\u0427\\u0435\\u043f\\u0435\\u0446\\u043a\",\"\\u041a\\u043b\\u0438\\u043d\",\"\\u041a\\u043e\\u0432\\u0440\\u043e\\u0432\",\"\\u041a\\u043e\\u043b\\u043e\\u043c\\u043d\\u0430\",\"\\u041a\\u043e\\u043b\\u043f\\u0438\\u043d\\u043e\",\"\\u041a\\u043e\\u043d\\u0430\\u043a\\u043e\\u0432\\u043e\",\"\\u041a\\u043e\\u0440\\u043e\\u043b\\u0435\\u0432\",\"\\u041a\\u043e\\u0441\\u0442\\u0440\\u043e\\u043c\\u0430\",\"\\u041a\\u043e\\u0442\\u0435\\u043b\\u044c\\u043d\\u0438\\u043a\\u0438\",\"\\u041a\\u043e\\u0442\\u043e\\u0432\\u0441\\u043a (\\u0422\\u0430\\u043c\\u0431\\u043e\\u0432\\u0441\\u043a\\u0430\\u044f \\u043e\\u0431\\u043b\\u0430\\u0441\\u0442\\u044c)\",\"\\u041a\\u0440\\u0430\\u0441\\u043a\\u043e\\u0432\\u043e\",\"\\u041a\\u0440\\u0430\\u0441\\u043d\\u043e\\u0433\\u043e\\u0440\\u0441\\u043a\",\"\\u041a\\u0440\\u0430\\u0441\\u043d\\u043e\\u0434\\u0430\\u0440\",\"\\u041a\\u0440\\u0430\\u0441\\u043d\\u043e\\u0437\\u043d\\u0430\\u043c\\u0435\\u043d\\u0441\\u043a (\\u041c\\u043e\\u0441\\u043a\\u043e\\u0432\\u0441\\u043a\\u0430\\u044f \\u043e\\u0431\\u043b\\u0430\\u0441\\u0442\\u044c)\",\"\\u041a\\u0440\\u0430\\u0441\\u043d\\u043e\\u0442\\u0443\\u0440\\u044c\\u0438\\u043d\\u0441\\u043a\",\"\\u041a\\u0440\\u0430\\u0441\\u043d\\u043e\\u044f\\u0440\\u0441\\u043a\",\"\\u041a\\u0443\\u0440\\u0433\\u0430\\u043d\",\"\\u041a\\u0443\\u0440\\u0441\\u043a\",\"\\u041b\\u0430\\u0442\\u0432\\u0438\\u044f\",\"\\u041b\\u0435\\u0431\\u0435\\u0434\\u044f\\u043d\\u044c\",\"\\u041b\\u0435\\u043d\\u0438\\u043d\\u043e\\u0433\\u043e\\u0440\\u0441\\u043a\",\"\\u041b\\u0438\\u043f\\u0435\\u0446\\u043a\",\"\\u041b\\u043e\\u0431\\u043d\\u044f\",\"\\u041b\\u044e\\u0431\\u0435\\u0440\\u0446\\u044b\",\"\\u041c\\u0430\\u0433\\u0430\\u0434\\u0430\\u043d\",\"\\u041c\\u0430\\u0433\\u043d\\u0438\\u0442\\u043e\\u0433\\u043e\\u0440\\u0441\\u043a\",\"\\u041c\\u0430\\u0439\\u043a\\u043e\\u043f\",\"\\u041c\\u0430\\u0439\\u043c\\u0430\",\"\\u041c\\u0430\\u043b\\u0430\\u0445\\u043e\\u0432\\u043a\\u0430 (\\u041c\\u043e\\u0441\\u043a\\u043e\\u0432\\u0441\\u043a\\u0430\\u044f \\u043e\\u0431\\u043b\\u0430\\u0441\\u0442\\u044c)\",\"\\u041c\\u0430\\u0445\\u0430\\u0447\\u043a\\u0430\\u043b\\u0430\",\"\\u041c\\u0435\\u0436\\u0434\\u0443\\u0440\\u0435\\u0447\\u0435\\u043d\\u0441\\u043a\",\"\\u041c\\u0435\\u043d\\u0434\\u0435\\u043b\\u0435\\u0435\\u0432\\u0441\\u043a\",\"\\u041c\\u0435\\u043d\\u0437\\u0435\\u043b\\u0438\\u043d\\u0441\\u043a\",\"\\u041c\\u0438\\u0430\\u0441\\u0441\",\"\\u041c\\u0438\\u043d\\u0441\\u043a\",\"\\u041c\\u043e\\u0441\\u043a\\u0432\\u0430\",\"\\u041c\\u0443\\u0440\\u043c\\u0430\\u043d\\u0441\\u043a\",\"\\u041c\\u0443\\u0440\\u043e\\u043c\",\"\\u041c\\u044b\\u0442\\u0438\\u0449\\u0438\",\"\\u041d\\u0430\\u0431\\u0435\\u0440\\u0435\\u0436\\u043d\\u044b\\u0435 \\u0427\\u0435\\u043b\\u043d\\u044b\",\"\\u041d\\u0435\\u0432\\u0438\\u043d\\u043d\\u043e\\u043c\\u044b\\u0441\\u0441\\u043a\",\"\\u041d\\u0435\\u0444\\u0442\\u0435\\u043a\\u0430\\u043c\\u0441\\u043a\",\"\\u041d\\u0435\\u0444\\u0442\\u0435\\u044e\\u0433\\u0430\\u043d\\u0441\\u043a\",\"\\u041d\\u0438\\u0436\\u043d\\u0435\\u0432\\u0430\\u0440\\u0442\\u043e\\u0432\\u0441\\u043a\",\"\\u041d\\u0438\\u0436\\u043d\\u0435\\u043a\\u0430\\u043c\\u0441\\u043a\",\"\\u041d\\u0438\\u0436\\u043d\\u0438\\u0439 \\u041d\\u043e\\u0432\\u0433\\u043e\\u0440\\u043e\\u0434\",\"\\u041d\\u0438\\u0436\\u043d\\u0438\\u0439 \\u0422\\u0430\\u0433\\u0438\\u043b\",\"\\u041d\\u043e\\u0432\\u043e\\u0431\\u0430\\u0442\\u0430\\u0439\\u0441\\u043a\",\"\\u041d\\u043e\\u0432\\u043e\\u043a\\u0443\\u0437\\u043d\\u0435\\u0446\\u043a\",\"\\u041d\\u043e\\u0432\\u043e\\u043a\\u0443\\u0439\\u0431\\u044b\\u0448\\u0435\\u0432\\u0441\\u043a\",\"\\u041d\\u043e\\u0432\\u043e\\u043c\\u043e\\u0441\\u043a\\u043e\\u0432\\u0441\\u043a (\\u0422\\u0443\\u043b\\u044c\\u0441\\u043a\\u0430\\u044f \\u043e\\u0431\\u043b\\u0430\\u0441\\u0442\\u044c)\",\"\\u041d\\u043e\\u0432\\u043e\\u0440\\u043e\\u0441\\u0441\\u0438\\u0439\\u0441\\u043a\",\"\\u041d\\u043e\\u0432\\u043e\\u0441\\u0438\\u0431\\u0438\\u0440\\u0441\\u043a\",\"\\u041d\\u043e\\u0432\\u043e\\u0447\\u0435\\u0440\\u043a\\u0430\\u0441\\u0441\\u043a\",\"\\u041d\\u043e\\u0432\\u044b\\u0439 \\u0423\\u0440\\u0435\\u043d\\u0433\\u043e\\u0439\",\"\\u041d\\u043e\\u0433\\u0438\\u043d\\u0441\\u043a\",\"\\u041d\\u043e\\u0440\\u0438\\u043b\\u044c\\u0441\\u043a\",\"\\u041e\\u0410\\u042d\",\"\\u041e\\u0431\\u043d\\u0438\\u043d\\u0441\\u043a\",\"\\u041e\\u0434\\u0438\\u043d\\u0446\\u043e\\u0432\\u043e\",\"\\u041e\\u0437\\u0435\\u0440\\u0441\\u043a (\\u0427\\u0435\\u043b\\u044f\\u0431\\u0438\\u043d\\u0441\\u043a\\u0430\\u044f \\u043e\\u0431\\u043b\\u0430\\u0441\\u0442\\u044c)\",\"\\u041e\\u043a\\u0442\\u044f\\u0431\\u0440\\u044c\\u0441\\u043a\\u0438\\u0439 (\\u0420\\u0435\\u0441\\u043f\\u0443\\u0431\\u043b\\u0438\\u043a\\u0430 \\u0411\\u0430\\u0448\\u043a\\u043e\\u0440\\u0442\\u043e\\u0441\\u0442\\u0430\\u043d)\",\"\\u041e\\u043c\\u0441\\u043a\",\"\\u041e\\u0440\\u0435\\u043b\",\"\\u041e\\u0440\\u0435\\u043d\\u0431\\u0443\\u0440\\u0433\",\"\\u041e\\u0440\\u0435\\u0445\\u043e\\u0432\\u043e-\\u0417\\u0443\\u0435\\u0432\\u043e\",\"\\u041e\\u0440\\u0441\\u043a\",\"\\u041e\\u0441\\u0438\\u043d\\u043d\\u0438\\u043a\\u0438\",\"\\u041f\\u0430\\u0432\\u043b\\u043e\\u0434\\u0430\\u0440\",\"\\u041f\\u0435\\u043d\\u0437\\u0430\",\"\\u041f\\u0435\\u0440\\u043c\\u044c\",\"\\u041f\\u0435\\u0442\\u0440\\u043e\\u0437\\u0430\\u0432\\u043e\\u0434\\u0441\\u043a\",\"\\u041f\\u0435\\u0442\\u0440\\u043e\\u043f\\u0430\\u0432\\u043b\\u043e\\u0432\\u0441\\u043a-\\u041a\\u0430\\u043c\\u0447\\u0430\\u0442\\u0441\\u043a\\u0438\\u0439\",\"\\u041f\\u043e\\u0434\\u043e\\u043b\\u044c\\u0441\\u043a (\\u041c\\u043e\\u0441\\u043a\\u043e\\u0432\\u0441\\u043a\\u0430\\u044f \\u043e\\u0431\\u043b\\u0430\\u0441\\u0442\\u044c)\",\"\\u041f\\u043e\\u043b\\u044c\\u0448\\u0430\",\"\\u041f\\u0440\\u043e\\u043a\\u043e\\u043f\\u044c\\u0435\\u0432\\u0441\\u043a\",\"\\u041f\\u0441\\u043a\\u043e\\u0432\",\"\\u041f\\u0443\\u0448\\u043a\\u0438\\u043d\\u043e (\\u041c\\u043e\\u0441\\u043a\\u043e\\u0432\\u0441\\u043a\\u0430\\u044f \\u043e\\u0431\\u043b\\u0430\\u0441\\u0442\\u044c)\",\"\\u041f\\u044f\\u0442\\u0438\\u0433\\u043e\\u0440\\u0441\\u043a\",\"\\u0420\\u0430\\u043c\\u0435\\u043d\\u0441\\u043a\\u043e\\u0435\",\"\\u0420\\u0435\\u0443\\u0442\\u043e\\u0432\",\"\\u0420\\u043e\\u0441\\u0442\\u043e\\u0432-\\u043d\\u0430-\\u0414\\u043e\\u043d\\u0443\",\"\\u0420\\u0443\\u0431\\u0446\\u043e\\u0432\\u0441\\u043a\",\"\\u0420\\u044b\\u0431\\u0438\\u043d\\u0441\\u043a\",\"\\u0420\\u044f\\u0437\\u0430\\u043d\\u044c\",\"\\u0421\\u0428\\u0410\",\"\\u0421\\u0430\\u043b\\u0435\\u0445\\u0430\\u0440\\u0434\",\"\\u0421\\u0430\\u043c\\u0430\\u0440\\u0430\",\"\\u0421\\u0430\\u043c\\u0430\\u0440\\u0441\\u043a\\u043e\\u0435\",\"\\u0421\\u0430\\u043d\\u043a\\u0442-\\u041f\\u0435\\u0442\\u0435\\u0440\\u0431\\u0443\\u0440\\u0433\",\"\\u0421\\u0430\\u0440\\u0430\\u043d\\u0441\\u043a\",\"\\u0421\\u0430\\u0440\\u0430\\u0442\\u043e\\u0432\",\"\\u0421\\u0430\\u0442\\u043a\\u0430\",\"\\u0421\\u0432\\u0435\\u0442\\u043b\\u044b\\u0439\",\"\\u0421\\u0435\\u0432\\u0430\\u0441\\u0442\\u043e\\u043f\\u043e\\u043b\\u044c\",\"\\u0421\\u0435\\u0432\\u0435\\u0440\\u043e\\u0434\\u0432\\u0438\\u043d\\u0441\\u043a\",\"\\u0421\\u0435\\u0432\\u0435\\u0440\\u0441\\u043a (\\u0422\\u043e\\u043c\\u0441\\u043a\\u0430\\u044f \\u043e\\u0431\\u043b\\u0430\\u0441\\u0442\\u044c)\",\"\\u0421\\u0435\\u043d\\u0442-\\u0412\\u0438\\u043d\\u0441\\u0435\\u043d\\u0442 \\u0438 \\u0413\\u0440\\u0435\\u043d\\u0430\\u0434\\u0438\\u043d\\u044b\",\"\\u0421\\u0435\\u0440\\u0431\\u0438\\u044f\",\"\\u0421\\u0435\\u0440\\u0433\\u0438\\u0435\\u0432 \\u041f\\u043e\\u0441\\u0430\\u0434\",\"\\u0421\\u0435\\u0440\\u043e\\u0432\",\"\\u0421\\u0435\\u0440\\u043f\\u0443\\u0445\\u043e\\u0432\",\"\\u0421\\u0438\\u043c\\u0444\\u0435\\u0440\\u043e\\u043f\\u043e\\u043b\\u044c\",\"\\u0421\\u043c\\u043e\\u043b\\u0435\\u043d\\u0441\\u043a\",\"\\u0421\\u043e\\u043b\\u043d\\u0435\\u0447\\u043d\\u043e\\u0433\\u043e\\u0440\\u0441\\u043a\",\"\\u0421\\u043e\\u0441\\u043d\\u043e\\u0432\\u043e\\u0431\\u043e\\u0440\\u0441\\u043a\",\"\\u0421\\u043e\\u0447\\u0438\",\"\\u0421\\u043f\\u0430\\u0441\\u0441\\u043a-\\u0414\\u0430\\u043b\\u044c\\u043d\\u0438\\u0439\",\"\\u0421\\u0440\\u0435\\u0434\\u043d\\u0435\\u0443\\u0440\\u0430\\u043b\\u044c\\u0441\\u043a\",\"\\u0421\\u0442\\u0430\\u0432\\u0440\\u043e\\u043f\\u043e\\u043b\\u044c\",\"\\u0421\\u0442\\u0430\\u0440\\u044b\\u0439 \\u041e\\u0441\\u043a\\u043e\\u043b\",\"\\u0421\\u0442\\u0435\\u0440\\u043b\\u0438\\u0442\\u0430\\u043c\\u0430\\u043a\",\"\\u0421\\u0442\\u0440\\u043e\\u0438\\u0442\\u0435\\u043b\\u044c (\\u0411\\u0435\\u043b\\u0433\\u043e\\u0440\\u043e\\u0434\\u0441\\u043a\\u0430\\u044f \\u043e\\u0431\\u043b\\u0430\\u0441\\u0442\\u044c)\",\"\\u0421\\u0443\\u0440\\u0433\\u0443\\u0442\",\"\\u0422\\u0430\\u0433\\u0430\\u043d\\u0440\\u043e\\u0433\",\"\\u0422\\u0430\\u0438\\u043b\\u0430\\u043d\\u0434\",\"\\u0422\\u0430\\u043c\\u0431\\u043e\\u0432\",\"\\u0422\\u0430\\u0448\\u043a\\u0435\\u043d\\u0442\",\"\\u0422\\u0431\\u0438\\u043b\\u0438\\u0441\\u0438\",\"\\u0422\\u0432\\u0435\\u0440\\u044c\",\"\\u0422\\u043e\\u043b\\u044c\\u044f\\u0442\\u0442\\u0438\",\"\\u0422\\u043e\\u043c\\u0438\\u043b\\u0438\\u043d\\u043e\",\"\\u0422\\u043e\\u043c\\u0441\\u043a\",\"\\u0422\\u0440\\u043e\\u0438\\u0446\\u043a (\\u041c\\u043e\\u0441\\u043a\\u043e\\u0432\\u0441\\u043a\\u0430\\u044f \\u043e\\u0431\\u043b\\u0430\\u0441\\u0442\\u044c)\",\"\\u0422\\u0443\\u043b\\u0430\",\"\\u0422\\u0443\\u0440\\u0446\\u0438\\u044f\",\"\\u0422\\u044e\\u043c\\u0435\\u043d\\u044c\",\"\\u0423\\u043b\\u0430\\u043d-\\u0423\\u0434\\u044d\",\"\\u0423\\u043b\\u044c\\u044f\\u043d\\u043e\\u0432\\u0441\\u043a\",\"\\u0423\\u0444\\u0430\",\"\\u0425\\u0430\\u0431\\u0430\\u0440\\u043e\\u0432\\u0441\\u043a\",\"\\u0425\\u0430\\u043d\\u0442\\u044b-\\u041c\\u0430\\u043d\\u0441\\u0438\\u0439\\u0441\\u043a\",\"\\u0425\\u0438\\u043c\\u043a\\u0438\",\"\\u0427\\u0430\\u043b\\u0442\\u044b\\u0440\\u044c\",\"\\u0427\\u0430\\u043f\\u0430\\u0435\\u0432\\u0441\\u043a\",\"\\u0427\\u0435\\u0431\\u0430\\u0440\\u043a\\u0443\\u043b\\u044c\",\"\\u0427\\u0435\\u0431\\u043e\\u043a\\u0441\\u0430\\u0440\\u044b\",\"\\u0427\\u0435\\u043b\\u044f\\u0431\\u0438\\u043d\\u0441\\u043a\",\"\\u0427\\u0435\\u0440\\u0435\\u043f\\u043e\\u0432\\u0435\\u0446\",\"\\u0427\\u0435\\u0440\\u043d\\u043e\\u0433\\u043e\\u0440\\u0438\\u044f\",\"\\u0427\\u0435\\u0440\\u043d\\u044f\\u0445\\u043e\\u0432\\u0441\\u043a\",\"\\u0427\\u0435\\u0445\\u0438\\u044f\",\"\\u0427\\u0435\\u0445\\u043e\\u0432\",\"\\u0427\\u0438\\u0442\\u0430\",\"\\u0427\\u043e\\u043b\\u043f\\u043e\\u043d-\\u0410\\u0442\\u0430\",\"\\u0427\\u0451\\u0440\\u043d\\u043e\\u0435 (\\u041c\\u043e\\u0441\\u043a\\u043e\\u0432\\u0441\\u043a\\u0430\\u044f \\u043e\\u0431\\u043b\\u0430\\u0441\\u0442\\u044c)\",\"\\u0428\\u0435\\u0431\\u0435\\u043a\\u0438\\u043d\\u043e\",\"\\u0428\\u044b\\u043c\\u043a\\u0435\\u043d\\u0442\",\"\\u0429\\u0435\\u043b\\u043a\\u043e\\u0432\\u043e\",\"\\u042d\\u043b\\u0435\\u043a\\u0442\\u0440\\u043e\\u0441\\u0442\\u0430\\u043b\\u044c\",\"\\u042d\\u043d\\u0433\\u0435\\u043b\\u044c\\u0441\",\"\\u042e\\u0436\\u043d\\u043e-\\u0421\\u0430\\u0445\\u0430\\u043b\\u0438\\u043d\\u0441\\u043a\",\"\\u042e\\u0440\\u0433\\u0430\",\"\\u042f\\u043a\\u0443\\u0442\\u0441\\u043a\",\"\\u042f\\u0440\\u043e\\u0441\\u043b\\u0430\\u0432\\u043b\\u044c\"],\"labels\":[\"\\u0410\\u0431\\u0430\\u043a\\u0430\\u043d\",\"\\u0410\\u0434\\u043b\\u0435\\u0440\",\"\\u0410\\u0437\\u043e\\u0432\",\"\\u0410\\u043b\\u043c\\u0430\\u0442\\u044b\",\"\\u0410\\u043b\\u044c\\u043c\\u0435\\u0442\\u044c\\u0435\\u0432\\u0441\\u043a\",\"\\u0410\\u043d\\u0433\\u0430\\u0440\\u0441\\u043a\",\"\\u0410\\u0440\\u043c\\u0430\\u0432\\u0438\\u0440\",\"\\u0410\\u0440\\u043c\\u0435\\u043d\\u0438\\u044f\",\"\\u0410\\u0440\\u0442\\u0435\\u043c\",\"\\u0410\\u0440\\u0445\\u0430\\u043d\\u0433\\u0435\\u043b\\u044c\\u0441\\u043a\",\"\\u0410\\u0441\\u0442\\u0430\\u043d\\u0430\",\"\\u0410\\u0441\\u0442\\u0440\\u0430\\u0445\\u0430\\u043d\\u044c\",\"\\u0411\\u0430\\u0431\\u0430\\u0435\\u0432\\u043e\",\"\\u0411\\u0430\\u043a\\u0443\",\"\\u0411\\u0430\\u043b\\u0430\\u0448\\u0438\\u0445\\u0430\",\"\\u0411\\u0430\\u0440\\u043d\\u0430\\u0443\\u043b\",\"\\u0411\\u0430\\u0442\\u0430\\u0439\\u0441\\u043a\",\"\\u0411\\u0430\\u0442\\u0443\\u043c\\u0438\",\"\\u0411\\u0435\\u043b\\u0433\\u043e\\u0440\\u043e\\u0434\",\"\\u0411\\u0435\\u043b\\u043e\\u0432\\u043e\",\"\\u0411\\u0435\\u0440\\u0434\\u0441\\u043a\",\"\\u0411\\u0438\\u0439\\u0441\\u043a\",\"\\u0411\\u0438\\u0448\\u043a\\u0435\\u043a\",\"\\u0411\\u043b\\u0430\\u0433\\u043e\\u0432\\u0435\\u0449\\u0435\\u043d\\u0441\\u043a (\\u0410\\u043c\\u0443\\u0440\\u0441\\u043a\\u0430\\u044f \\u043e\\u0431\\u043b\\u0430\\u0441\\u0442\\u044c)\",\"\\u0411\\u0440\\u044f\\u043d\\u0441\\u043a\",\"\\u0412\\u0435\\u043b\\u0438\\u043a\\u0438\\u0439 \\u041d\\u043e\\u0432\\u0433\\u043e\\u0440\\u043e\\u0434\",\"\\u0412\\u0435\\u0440\\u0445\\u043d\\u044f\\u044f \\u041f\\u044b\\u0448\\u043c\\u0430\",\"\\u0412\\u0438\\u0434\\u043d\\u043e\\u0435\",\"\\u0412\\u043b\\u0430\\u0434\\u0438\\u0432\\u043e\\u0441\\u0442\\u043e\\u043a\",\"\\u0412\\u043b\\u0430\\u0434\\u0438\\u043c\\u0438\\u0440\",\"\\u0412\\u043e\\u043b\\u0433\\u043e\\u0433\\u0440\\u0430\\u0434\",\"\\u0412\\u043e\\u043b\\u0433\\u043e\\u0434\\u043e\\u043d\\u0441\\u043a\",\"\\u0412\\u043e\\u043b\\u0436\\u0441\\u043a\\u0438\\u0439 (\\u0412\\u043e\\u043b\\u0433\\u043e\\u0433\\u0440\\u0430\\u0434\\u0441\\u043a\\u0430\\u044f \\u043e\\u0431\\u043b\\u0430\\u0441\\u0442\\u044c)\",\"\\u0412\\u043e\\u043b\\u043e\\u0433\\u0434\\u0430\",\"\\u0412\\u043e\\u043b\\u044c\\u043d\\u043e-\\u041d\\u0430\\u0434\\u0435\\u0436\\u0434\\u0438\\u043d\\u0441\\u043a\\u043e\\u0435\",\"\\u0412\\u043e\\u0440\\u043e\\u043d\\u0435\\u0436\",\"\\u0413\\u043e\\u043c\\u0435\\u043b\\u044c\",\"\\u0413\\u043e\\u0440\\u043d\\u043e-\\u0410\\u043b\\u0442\\u0430\\u0439\\u0441\\u043a\",\"\\u0413\\u0443\\u0431\\u043a\\u0438\\u043d\",\"\\u0413\\u0443\\u0441\\u0435\\u0432\",\"\\u0414\\u0436\\u0430\\u043d\\u043a\\u043e\\u0439\",\"\\u0414\\u0437\\u0435\\u0440\\u0436\\u0438\\u043d\\u0441\\u043a (\\u041d\\u0438\\u0436\\u0435\\u0433\\u043e\\u0440\\u043e\\u0434\\u0441\\u043a\\u0430\\u044f \\u043e\\u0431\\u043b\\u0430\\u0441\\u0442\\u044c)\",\"\\u0414\\u0438\\u043c\\u0438\\u0442\\u0440\\u043e\\u0432\\u0433\\u0440\\u0430\\u0434\",\"\\u0414\\u043c\\u0438\\u0442\\u0440\\u043e\\u0432\",\"\\u0414\\u043e\\u043b\\u0433\\u043e\\u043f\\u0440\\u0443\\u0434\\u043d\\u044b\\u0439\",\"\\u0414\\u043e\\u043c\\u043e\\u0434\\u0435\\u0434\\u043e\\u0432\\u043e\",\"\\u0415\\u043a\\u0430\\u0442\\u0435\\u0440\\u0438\\u043d\\u0431\\u0443\\u0440\\u0433\",\"\\u0415\\u043b\\u0430\\u0431\\u0443\\u0433\\u0430\",\"\\u0415\\u043b\\u0435\\u0446\",\"\\u0416\\u0435\\u043b\\u0435\\u0437\\u043d\\u043e\\u0433\\u043e\\u0440\\u0441\\u043a (\\u041a\\u0440\\u0430\\u0441\\u043d\\u043e\\u044f\\u0440\\u0441\\u043a\\u0438\\u0439 \\u043a\\u0440\\u0430\\u0439)\",\"\\u0416\\u0435\\u043b\\u0435\\u0437\\u043d\\u043e\\u0434\\u043e\\u0440\\u043e\\u0436\\u043d\\u044b\\u0439\",\"\\u0416\\u0443\\u043a\\u043e\\u0432\\u0441\\u043a\\u0438\\u0439\",\"\\u0417\\u0432\\u0435\\u043d\\u0438\\u0433\\u043e\\u0440\\u043e\\u0434\",\"\\u0417\\u0435\\u043b\\u0435\\u043d\\u043e\\u0433\\u0440\\u0430\\u0434\",\"\\u0417\\u043b\\u0430\\u0442\\u043e\\u0443\\u0441\\u0442\",\"\\u0418\\u0432\\u0430\\u043d\\u043e\\u0432\\u043e (\\u0418\\u0432\\u0430\\u043d\\u043e\\u0432\\u0441\\u043a\\u0430\\u044f \\u043e\\u0431\\u043b\\u0430\\u0441\\u0442\\u044c)\",\"\\u0418\\u0432\\u0430\\u043d\\u0442\\u0435\\u0435\\u0432\\u043a\\u0430\",\"\\u0418\\u0436\\u0435\\u0432\\u0441\\u043a\",\"\\u0418\\u043d\\u043d\\u043e\\u043f\\u043e\\u043b\\u0438\\u0441\",\"\\u0418\\u0440\\u043a\\u0443\\u0442\\u0441\\u043a\",\"\\u0418\\u0440\\u043b\\u0430\\u043d\\u0434\\u0438\\u044f\",\"\\u0418\\u0441\\u043a\\u0438\\u0442\\u0438\\u043c\",\"\\u0418\\u0441\\u0442\\u0440\\u0430\",\"\\u0419\\u043e\\u0448\\u043a\\u0430\\u0440-\\u041e\\u043b\\u0430\",\"\\u041a\\u0430\\u0437\\u0430\\u043d\\u044c\",\"\\u041a\\u0430\\u043b\\u0438\\u043d\\u0438\\u043d\\u0433\\u0440\\u0430\\u0434\",\"\\u041a\\u0430\\u043b\\u0442\\u0430\\u043d\",\"\\u041a\\u0430\\u043b\\u0443\\u0433\\u0430\",\"\\u041a\\u0430\\u0448\\u0438\\u0440\\u0430\",\"\\u041a\\u0435\\u043c\\u0435\\u0440\\u043e\\u0432\\u043e\",\"\\u041a\\u0435\\u0440\\u0447\\u044c\",\"\\u041a\\u0438\\u043f\\u0440\",\"\\u041a\\u0438\\u0440\\u043e\\u0432 (\\u041a\\u0438\\u0440\\u043e\\u0432\\u0441\\u043a\\u0430\\u044f \\u043e\\u0431\\u043b\\u0430\\u0441\\u0442\\u044c)\",\"\\u041a\\u0438\\u0440\\u043e\\u0432\\u0433\\u0440\\u0430\\u0434\",\"\\u041a\\u0438\\u0440\\u043e\\u0432\\u043e-\\u0427\\u0435\\u043f\\u0435\\u0446\\u043a\",\"\\u041a\\u043b\\u0438\\u043d\",\"\\u041a\\u043e\\u0432\\u0440\\u043e\\u0432\",\"\\u041a\\u043e\\u043b\\u043e\\u043c\\u043d\\u0430\",\"\\u041a\\u043e\\u043b\\u043f\\u0438\\u043d\\u043e\",\"\\u041a\\u043e\\u043d\\u0430\\u043a\\u043e\\u0432\\u043e\",\"\\u041a\\u043e\\u0440\\u043e\\u043b\\u0435\\u0432\",\"\\u041a\\u043e\\u0441\\u0442\\u0440\\u043e\\u043c\\u0430\",\"\\u041a\\u043e\\u0442\\u0435\\u043b\\u044c\\u043d\\u0438\\u043a\\u0438\",\"\\u041a\\u043e\\u0442\\u043e\\u0432\\u0441\\u043a (\\u0422\\u0430\\u043c\\u0431\\u043e\\u0432\\u0441\\u043a\\u0430\\u044f \\u043e\\u0431\\u043b\\u0430\\u0441\\u0442\\u044c)\",\"\\u041a\\u0440\\u0430\\u0441\\u043a\\u043e\\u0432\\u043e\",\"\\u041a\\u0440\\u0430\\u0441\\u043d\\u043e\\u0433\\u043e\\u0440\\u0441\\u043a\",\"\\u041a\\u0440\\u0430\\u0441\\u043d\\u043e\\u0434\\u0430\\u0440\",\"\\u041a\\u0440\\u0430\\u0441\\u043d\\u043e\\u0437\\u043d\\u0430\\u043c\\u0435\\u043d\\u0441\\u043a (\\u041c\\u043e\\u0441\\u043a\\u043e\\u0432\\u0441\\u043a\\u0430\\u044f \\u043e\\u0431\\u043b\\u0430\\u0441\\u0442\\u044c)\",\"\\u041a\\u0440\\u0430\\u0441\\u043d\\u043e\\u0442\\u0443\\u0440\\u044c\\u0438\\u043d\\u0441\\u043a\",\"\\u041a\\u0440\\u0430\\u0441\\u043d\\u043e\\u044f\\u0440\\u0441\\u043a\",\"\\u041a\\u0443\\u0440\\u0433\\u0430\\u043d\",\"\\u041a\\u0443\\u0440\\u0441\\u043a\",\"\\u041b\\u0430\\u0442\\u0432\\u0438\\u044f\",\"\\u041b\\u0435\\u0431\\u0435\\u0434\\u044f\\u043d\\u044c\",\"\\u041b\\u0435\\u043d\\u0438\\u043d\\u043e\\u0433\\u043e\\u0440\\u0441\\u043a\",\"\\u041b\\u0438\\u043f\\u0435\\u0446\\u043a\",\"\\u041b\\u043e\\u0431\\u043d\\u044f\",\"\\u041b\\u044e\\u0431\\u0435\\u0440\\u0446\\u044b\",\"\\u041c\\u0430\\u0433\\u0430\\u0434\\u0430\\u043d\",\"\\u041c\\u0430\\u0433\\u043d\\u0438\\u0442\\u043e\\u0433\\u043e\\u0440\\u0441\\u043a\",\"\\u041c\\u0430\\u0439\\u043a\\u043e\\u043f\",\"\\u041c\\u0430\\u0439\\u043c\\u0430\",\"\\u041c\\u0430\\u043b\\u0430\\u0445\\u043e\\u0432\\u043a\\u0430 (\\u041c\\u043e\\u0441\\u043a\\u043e\\u0432\\u0441\\u043a\\u0430\\u044f \\u043e\\u0431\\u043b\\u0430\\u0441\\u0442\\u044c)\",\"\\u041c\\u0430\\u0445\\u0430\\u0447\\u043a\\u0430\\u043b\\u0430\",\"\\u041c\\u0435\\u0436\\u0434\\u0443\\u0440\\u0435\\u0447\\u0435\\u043d\\u0441\\u043a\",\"\\u041c\\u0435\\u043d\\u0434\\u0435\\u043b\\u0435\\u0435\\u0432\\u0441\\u043a\",\"\\u041c\\u0435\\u043d\\u0437\\u0435\\u043b\\u0438\\u043d\\u0441\\u043a\",\"\\u041c\\u0438\\u0430\\u0441\\u0441\",\"\\u041c\\u0438\\u043d\\u0441\\u043a\",\"\\u041c\\u043e\\u0441\\u043a\\u0432\\u0430\",\"\\u041c\\u0443\\u0440\\u043c\\u0430\\u043d\\u0441\\u043a\",\"\\u041c\\u0443\\u0440\\u043e\\u043c\",\"\\u041c\\u044b\\u0442\\u0438\\u0449\\u0438\",\"\\u041d\\u0430\\u0431\\u0435\\u0440\\u0435\\u0436\\u043d\\u044b\\u0435 \\u0427\\u0435\\u043b\\u043d\\u044b\",\"\\u041d\\u0435\\u0432\\u0438\\u043d\\u043d\\u043e\\u043c\\u044b\\u0441\\u0441\\u043a\",\"\\u041d\\u0435\\u0444\\u0442\\u0435\\u043a\\u0430\\u043c\\u0441\\u043a\",\"\\u041d\\u0435\\u0444\\u0442\\u0435\\u044e\\u0433\\u0430\\u043d\\u0441\\u043a\",\"\\u041d\\u0438\\u0436\\u043d\\u0435\\u0432\\u0430\\u0440\\u0442\\u043e\\u0432\\u0441\\u043a\",\"\\u041d\\u0438\\u0436\\u043d\\u0435\\u043a\\u0430\\u043c\\u0441\\u043a\",\"\\u041d\\u0438\\u0436\\u043d\\u0438\\u0439 \\u041d\\u043e\\u0432\\u0433\\u043e\\u0440\\u043e\\u0434\",\"\\u041d\\u0438\\u0436\\u043d\\u0438\\u0439 \\u0422\\u0430\\u0433\\u0438\\u043b\",\"\\u041d\\u043e\\u0432\\u043e\\u0431\\u0430\\u0442\\u0430\\u0439\\u0441\\u043a\",\"\\u041d\\u043e\\u0432\\u043e\\u043a\\u0443\\u0437\\u043d\\u0435\\u0446\\u043a\",\"\\u041d\\u043e\\u0432\\u043e\\u043a\\u0443\\u0439\\u0431\\u044b\\u0448\\u0435\\u0432\\u0441\\u043a\",\"\\u041d\\u043e\\u0432\\u043e\\u043c\\u043e\\u0441\\u043a\\u043e\\u0432\\u0441\\u043a (\\u0422\\u0443\\u043b\\u044c\\u0441\\u043a\\u0430\\u044f \\u043e\\u0431\\u043b\\u0430\\u0441\\u0442\\u044c)\",\"\\u041d\\u043e\\u0432\\u043e\\u0440\\u043e\\u0441\\u0441\\u0438\\u0439\\u0441\\u043a\",\"\\u041d\\u043e\\u0432\\u043e\\u0441\\u0438\\u0431\\u0438\\u0440\\u0441\\u043a\",\"\\u041d\\u043e\\u0432\\u043e\\u0447\\u0435\\u0440\\u043a\\u0430\\u0441\\u0441\\u043a\",\"\\u041d\\u043e\\u0432\\u044b\\u0439 \\u0423\\u0440\\u0435\\u043d\\u0433\\u043e\\u0439\",\"\\u041d\\u043e\\u0433\\u0438\\u043d\\u0441\\u043a\",\"\\u041d\\u043e\\u0440\\u0438\\u043b\\u044c\\u0441\\u043a\",\"\\u041e\\u0410\\u042d\",\"\\u041e\\u0431\\u043d\\u0438\\u043d\\u0441\\u043a\",\"\\u041e\\u0434\\u0438\\u043d\\u0446\\u043e\\u0432\\u043e\",\"\\u041e\\u0437\\u0435\\u0440\\u0441\\u043a (\\u0427\\u0435\\u043b\\u044f\\u0431\\u0438\\u043d\\u0441\\u043a\\u0430\\u044f \\u043e\\u0431\\u043b\\u0430\\u0441\\u0442\\u044c)\",\"\\u041e\\u043a\\u0442\\u044f\\u0431\\u0440\\u044c\\u0441\\u043a\\u0438\\u0439 (\\u0420\\u0435\\u0441\\u043f\\u0443\\u0431\\u043b\\u0438\\u043a\\u0430 \\u0411\\u0430\\u0448\\u043a\\u043e\\u0440\\u0442\\u043e\\u0441\\u0442\\u0430\\u043d)\",\"\\u041e\\u043c\\u0441\\u043a\",\"\\u041e\\u0440\\u0435\\u043b\",\"\\u041e\\u0440\\u0435\\u043d\\u0431\\u0443\\u0440\\u0433\",\"\\u041e\\u0440\\u0435\\u0445\\u043e\\u0432\\u043e-\\u0417\\u0443\\u0435\\u0432\\u043e\",\"\\u041e\\u0440\\u0441\\u043a\",\"\\u041e\\u0441\\u0438\\u043d\\u043d\\u0438\\u043a\\u0438\",\"\\u041f\\u0430\\u0432\\u043b\\u043e\\u0434\\u0430\\u0440\",\"\\u041f\\u0435\\u043d\\u0437\\u0430\",\"\\u041f\\u0435\\u0440\\u043c\\u044c\",\"\\u041f\\u0435\\u0442\\u0440\\u043e\\u0437\\u0430\\u0432\\u043e\\u0434\\u0441\\u043a\",\"\\u041f\\u0435\\u0442\\u0440\\u043e\\u043f\\u0430\\u0432\\u043b\\u043e\\u0432\\u0441\\u043a-\\u041a\\u0430\\u043c\\u0447\\u0430\\u0442\\u0441\\u043a\\u0438\\u0439\",\"\\u041f\\u043e\\u0434\\u043e\\u043b\\u044c\\u0441\\u043a (\\u041c\\u043e\\u0441\\u043a\\u043e\\u0432\\u0441\\u043a\\u0430\\u044f \\u043e\\u0431\\u043b\\u0430\\u0441\\u0442\\u044c)\",\"\\u041f\\u043e\\u043b\\u044c\\u0448\\u0430\",\"\\u041f\\u0440\\u043e\\u043a\\u043e\\u043f\\u044c\\u0435\\u0432\\u0441\\u043a\",\"\\u041f\\u0441\\u043a\\u043e\\u0432\",\"\\u041f\\u0443\\u0448\\u043a\\u0438\\u043d\\u043e (\\u041c\\u043e\\u0441\\u043a\\u043e\\u0432\\u0441\\u043a\\u0430\\u044f \\u043e\\u0431\\u043b\\u0430\\u0441\\u0442\\u044c)\",\"\\u041f\\u044f\\u0442\\u0438\\u0433\\u043e\\u0440\\u0441\\u043a\",\"\\u0420\\u0430\\u043c\\u0435\\u043d\\u0441\\u043a\\u043e\\u0435\",\"\\u0420\\u0435\\u0443\\u0442\\u043e\\u0432\",\"\\u0420\\u043e\\u0441\\u0442\\u043e\\u0432-\\u043d\\u0430-\\u0414\\u043e\\u043d\\u0443\",\"\\u0420\\u0443\\u0431\\u0446\\u043e\\u0432\\u0441\\u043a\",\"\\u0420\\u044b\\u0431\\u0438\\u043d\\u0441\\u043a\",\"\\u0420\\u044f\\u0437\\u0430\\u043d\\u044c\",\"\\u0421\\u0428\\u0410\",\"\\u0421\\u0430\\u043b\\u0435\\u0445\\u0430\\u0440\\u0434\",\"\\u0421\\u0430\\u043c\\u0430\\u0440\\u0430\",\"\\u0421\\u0430\\u043c\\u0430\\u0440\\u0441\\u043a\\u043e\\u0435\",\"\\u0421\\u0430\\u043d\\u043a\\u0442-\\u041f\\u0435\\u0442\\u0435\\u0440\\u0431\\u0443\\u0440\\u0433\",\"\\u0421\\u0430\\u0440\\u0430\\u043d\\u0441\\u043a\",\"\\u0421\\u0430\\u0440\\u0430\\u0442\\u043e\\u0432\",\"\\u0421\\u0430\\u0442\\u043a\\u0430\",\"\\u0421\\u0432\\u0435\\u0442\\u043b\\u044b\\u0439\",\"\\u0421\\u0435\\u0432\\u0430\\u0441\\u0442\\u043e\\u043f\\u043e\\u043b\\u044c\",\"\\u0421\\u0435\\u0432\\u0435\\u0440\\u043e\\u0434\\u0432\\u0438\\u043d\\u0441\\u043a\",\"\\u0421\\u0435\\u0432\\u0435\\u0440\\u0441\\u043a (\\u0422\\u043e\\u043c\\u0441\\u043a\\u0430\\u044f \\u043e\\u0431\\u043b\\u0430\\u0441\\u0442\\u044c)\",\"\\u0421\\u0435\\u043d\\u0442-\\u0412\\u0438\\u043d\\u0441\\u0435\\u043d\\u0442 \\u0438 \\u0413\\u0440\\u0435\\u043d\\u0430\\u0434\\u0438\\u043d\\u044b\",\"\\u0421\\u0435\\u0440\\u0431\\u0438\\u044f\",\"\\u0421\\u0435\\u0440\\u0433\\u0438\\u0435\\u0432 \\u041f\\u043e\\u0441\\u0430\\u0434\",\"\\u0421\\u0435\\u0440\\u043e\\u0432\",\"\\u0421\\u0435\\u0440\\u043f\\u0443\\u0445\\u043e\\u0432\",\"\\u0421\\u0438\\u043c\\u0444\\u0435\\u0440\\u043e\\u043f\\u043e\\u043b\\u044c\",\"\\u0421\\u043c\\u043e\\u043b\\u0435\\u043d\\u0441\\u043a\",\"\\u0421\\u043e\\u043b\\u043d\\u0435\\u0447\\u043d\\u043e\\u0433\\u043e\\u0440\\u0441\\u043a\",\"\\u0421\\u043e\\u0441\\u043d\\u043e\\u0432\\u043e\\u0431\\u043e\\u0440\\u0441\\u043a\",\"\\u0421\\u043e\\u0447\\u0438\",\"\\u0421\\u043f\\u0430\\u0441\\u0441\\u043a-\\u0414\\u0430\\u043b\\u044c\\u043d\\u0438\\u0439\",\"\\u0421\\u0440\\u0435\\u0434\\u043d\\u0435\\u0443\\u0440\\u0430\\u043b\\u044c\\u0441\\u043a\",\"\\u0421\\u0442\\u0430\\u0432\\u0440\\u043e\\u043f\\u043e\\u043b\\u044c\",\"\\u0421\\u0442\\u0430\\u0440\\u044b\\u0439 \\u041e\\u0441\\u043a\\u043e\\u043b\",\"\\u0421\\u0442\\u0435\\u0440\\u043b\\u0438\\u0442\\u0430\\u043c\\u0430\\u043a\",\"\\u0421\\u0442\\u0440\\u043e\\u0438\\u0442\\u0435\\u043b\\u044c (\\u0411\\u0435\\u043b\\u0433\\u043e\\u0440\\u043e\\u0434\\u0441\\u043a\\u0430\\u044f \\u043e\\u0431\\u043b\\u0430\\u0441\\u0442\\u044c)\",\"\\u0421\\u0443\\u0440\\u0433\\u0443\\u0442\",\"\\u0422\\u0430\\u0433\\u0430\\u043d\\u0440\\u043e\\u0433\",\"\\u0422\\u0430\\u0438\\u043b\\u0430\\u043d\\u0434\",\"\\u0422\\u0430\\u043c\\u0431\\u043e\\u0432\",\"\\u0422\\u0430\\u0448\\u043a\\u0435\\u043d\\u0442\",\"\\u0422\\u0431\\u0438\\u043b\\u0438\\u0441\\u0438\",\"\\u0422\\u0432\\u0435\\u0440\\u044c\",\"\\u0422\\u043e\\u043b\\u044c\\u044f\\u0442\\u0442\\u0438\",\"\\u0422\\u043e\\u043c\\u0438\\u043b\\u0438\\u043d\\u043e\",\"\\u0422\\u043e\\u043c\\u0441\\u043a\",\"\\u0422\\u0440\\u043e\\u0438\\u0446\\u043a (\\u041c\\u043e\\u0441\\u043a\\u043e\\u0432\\u0441\\u043a\\u0430\\u044f \\u043e\\u0431\\u043b\\u0430\\u0441\\u0442\\u044c)\",\"\\u0422\\u0443\\u043b\\u0430\",\"\\u0422\\u0443\\u0440\\u0446\\u0438\\u044f\",\"\\u0422\\u044e\\u043c\\u0435\\u043d\\u044c\",\"\\u0423\\u043b\\u0430\\u043d-\\u0423\\u0434\\u044d\",\"\\u0423\\u043b\\u044c\\u044f\\u043d\\u043e\\u0432\\u0441\\u043a\",\"\\u0423\\u0444\\u0430\",\"\\u0425\\u0430\\u0431\\u0430\\u0440\\u043e\\u0432\\u0441\\u043a\",\"\\u0425\\u0430\\u043d\\u0442\\u044b-\\u041c\\u0430\\u043d\\u0441\\u0438\\u0439\\u0441\\u043a\",\"\\u0425\\u0438\\u043c\\u043a\\u0438\",\"\\u0427\\u0430\\u043b\\u0442\\u044b\\u0440\\u044c\",\"\\u0427\\u0430\\u043f\\u0430\\u0435\\u0432\\u0441\\u043a\",\"\\u0427\\u0435\\u0431\\u0430\\u0440\\u043a\\u0443\\u043b\\u044c\",\"\\u0427\\u0435\\u0431\\u043e\\u043a\\u0441\\u0430\\u0440\\u044b\",\"\\u0427\\u0435\\u043b\\u044f\\u0431\\u0438\\u043d\\u0441\\u043a\",\"\\u0427\\u0435\\u0440\\u0435\\u043f\\u043e\\u0432\\u0435\\u0446\",\"\\u0427\\u0435\\u0440\\u043d\\u043e\\u0433\\u043e\\u0440\\u0438\\u044f\",\"\\u0427\\u0435\\u0440\\u043d\\u044f\\u0445\\u043e\\u0432\\u0441\\u043a\",\"\\u0427\\u0435\\u0445\\u0438\\u044f\",\"\\u0427\\u0435\\u0445\\u043e\\u0432\",\"\\u0427\\u0438\\u0442\\u0430\",\"\\u0427\\u043e\\u043b\\u043f\\u043e\\u043d-\\u0410\\u0442\\u0430\",\"\\u0427\\u0451\\u0440\\u043d\\u043e\\u0435 (\\u041c\\u043e\\u0441\\u043a\\u043e\\u0432\\u0441\\u043a\\u0430\\u044f \\u043e\\u0431\\u043b\\u0430\\u0441\\u0442\\u044c)\",\"\\u0428\\u0435\\u0431\\u0435\\u043a\\u0438\\u043d\\u043e\",\"\\u0428\\u044b\\u043c\\u043a\\u0435\\u043d\\u0442\",\"\\u0429\\u0435\\u043b\\u043a\\u043e\\u0432\\u043e\",\"\\u042d\\u043b\\u0435\\u043a\\u0442\\u0440\\u043e\\u0441\\u0442\\u0430\\u043b\\u044c\",\"\\u042d\\u043d\\u0433\\u0435\\u043b\\u044c\\u0441\",\"\\u042e\\u0436\\u043d\\u043e-\\u0421\\u0430\\u0445\\u0430\\u043b\\u0438\\u043d\\u0441\\u043a\",\"\\u042e\\u0440\\u0433\\u0430\",\"\\u042f\\u043a\\u0443\\u0442\\u0441\\u043a\",\"\\u042f\\u0440\\u043e\\u0441\\u043b\\u0430\\u0432\\u043b\\u044c\"],\"name\":\"\",\"parents\":[\"\",\"\",\"\",\"\",\"\",\"\",\"\",\"\",\"\",\"\",\"\",\"\",\"\",\"\",\"\",\"\",\"\",\"\",\"\",\"\",\"\",\"\",\"\",\"\",\"\",\"\",\"\",\"\",\"\",\"\",\"\",\"\",\"\",\"\",\"\",\"\",\"\",\"\",\"\",\"\",\"\",\"\",\"\",\"\",\"\",\"\",\"\",\"\",\"\",\"\",\"\",\"\",\"\",\"\",\"\",\"\",\"\",\"\",\"\",\"\",\"\",\"\",\"\",\"\",\"\",\"\",\"\",\"\",\"\",\"\",\"\",\"\",\"\",\"\",\"\",\"\",\"\",\"\",\"\",\"\",\"\",\"\",\"\",\"\",\"\",\"\",\"\",\"\",\"\",\"\",\"\",\"\",\"\",\"\",\"\",\"\",\"\",\"\",\"\",\"\",\"\",\"\",\"\",\"\",\"\",\"\",\"\",\"\",\"\",\"\",\"\",\"\",\"\",\"\",\"\",\"\",\"\",\"\",\"\",\"\",\"\",\"\",\"\",\"\",\"\",\"\",\"\",\"\",\"\",\"\",\"\",\"\",\"\",\"\",\"\",\"\",\"\",\"\",\"\",\"\",\"\",\"\",\"\",\"\",\"\",\"\",\"\",\"\",\"\",\"\",\"\",\"\",\"\",\"\",\"\",\"\",\"\",\"\",\"\",\"\",\"\",\"\",\"\",\"\",\"\",\"\",\"\",\"\",\"\",\"\",\"\",\"\",\"\",\"\",\"\",\"\",\"\",\"\",\"\",\"\",\"\",\"\",\"\",\"\",\"\",\"\",\"\",\"\",\"\",\"\",\"\",\"\",\"\",\"\",\"\",\"\",\"\",\"\",\"\",\"\",\"\",\"\",\"\",\"\",\"\",\"\",\"\",\"\",\"\",\"\",\"\",\"\",\"\",\"\",\"\",\"\",\"\",\"\",\"\",\"\",\"\",\"\",\"\",\"\",\"\",\"\",\"\",\"\",\"\"],\"values\":[27500.0,31000.0,30000.0,2277203.5,133000.0,40000.0,13000.0,4282999.999999999,180000.0,40000.0,2400505.0,337400.0,47400.0,1079999.9999999998,13000.0,1018000.0,121400.0,1199999.9999999998,1213200.0,60000.0,13000.0,13000.0,927499.9999999999,290000.0,368000.0,153000.0,95000.0,130000.0,4321000.0,828000.0,1616000.0,13000.0,253000.0,258000.0,60000.0,2867800.0,20000.0,31000.0,29910.0,69750.0,50000.0,13000.0,51100.0,150000.0,100000.0,168050.0,9578271.5,58000.0,88000.0,121000.0,130000.0,263000.0,130000.0,520000.0,200000.0,1004000.0,130000.0,723000.0,600000.0,940000.0,314999.99999999994,63100.0,120000.0,183000.0,7091203.5,1011750.0,70000.0,310000.0,130000.0,479500.0,50000.0,4336437.0,1389000.0,60000.0,35000.0,180000.0,38000.0,13000.0,120200.0,135000.0,373000.0,132000.0,130000.0,48000.0,260000.0,343000.0,5151503.5,120000.0,30000.0,2642753.0,373000.0,421000.0,234402.00000000003,100000.0,35000.0,206000.0,130000.0,748000.0,68000.0,764500.0,50000.0,31000.0,130000.0,273000.0,65000.0,35000.0,35000.0,160000.0,851999.9999999999,150721900.5,440000.0,30000.0,633000.0,299967.0,70000.0,13000.0,99338.0,366338.0,138000.0,6628199.0,353000.0,39400.0,293000.0,63000.0,13000.0,113000.0,10831000.0,13000.0,150000.0,313000.0,130000.0,209999.99999999997,210000.0,13000.0,238000.0,13000.0,2196000.0,203000.0,445000.0,130000.0,63000.0,70000.0,20999.999999999996,93000.0,3167000.0,130000.0,108000.0,243000.0,524999.9999999999,50000.0,13000.0,60000.0,103000.0,440000.0,143000.0,4279900.0,13000.0,380000.0,472000.0,520799.99999999994,88000.0,3932786.5,39400.0,34861114.0,163000.0,1207700.0,100000.0,60000.0,596800.0,40000.0,40000.0,73499.99999999999,1707222.5999999999,130000.0,30000.0,201500.0,108000.0,398000.0,190000.0,50000.0,2606171.0,30000.0,135000.0,533000.0,221000.0,63000.0,106000.0,562338.0,225000.0,70000.0,222280.0,2677499.9999999995,8167414.499999999,978671.0,898400.0,80000.0,3194000.0,230000.0,1040750.0,2497703.4999999995,3197338.0,80000.0,353000.0,2602203.5,1112500.0,99338.0,663000.0,65000.0,31805.0,100000.0,856000.0,2392800.0,188800.0,524999.9999999999,50000.0,18000.0,130000.0,410000.0,73499.99999999999,150000.0,51000.0,199000.0,143000.0,282000.0,13000.0,75000.0,30000.0,42000.0,1269200.0],\"type\":\"treemap\"}],                        {\"template\":{\"data\":{\"histogram2dcontour\":[{\"type\":\"histogram2dcontour\",\"colorbar\":{\"outlinewidth\":0,\"ticks\":\"\"},\"colorscale\":[[0.0,\"#0d0887\"],[0.1111111111111111,\"#46039f\"],[0.2222222222222222,\"#7201a8\"],[0.3333333333333333,\"#9c179e\"],[0.4444444444444444,\"#bd3786\"],[0.5555555555555556,\"#d8576b\"],[0.6666666666666666,\"#ed7953\"],[0.7777777777777778,\"#fb9f3a\"],[0.8888888888888888,\"#fdca26\"],[1.0,\"#f0f921\"]]}],\"choropleth\":[{\"type\":\"choropleth\",\"colorbar\":{\"outlinewidth\":0,\"ticks\":\"\"}}],\"histogram2d\":[{\"type\":\"histogram2d\",\"colorbar\":{\"outlinewidth\":0,\"ticks\":\"\"},\"colorscale\":[[0.0,\"#0d0887\"],[0.1111111111111111,\"#46039f\"],[0.2222222222222222,\"#7201a8\"],[0.3333333333333333,\"#9c179e\"],[0.4444444444444444,\"#bd3786\"],[0.5555555555555556,\"#d8576b\"],[0.6666666666666666,\"#ed7953\"],[0.7777777777777778,\"#fb9f3a\"],[0.8888888888888888,\"#fdca26\"],[1.0,\"#f0f921\"]]}],\"heatmap\":[{\"type\":\"heatmap\",\"colorbar\":{\"outlinewidth\":0,\"ticks\":\"\"},\"colorscale\":[[0.0,\"#0d0887\"],[0.1111111111111111,\"#46039f\"],[0.2222222222222222,\"#7201a8\"],[0.3333333333333333,\"#9c179e\"],[0.4444444444444444,\"#bd3786\"],[0.5555555555555556,\"#d8576b\"],[0.6666666666666666,\"#ed7953\"],[0.7777777777777778,\"#fb9f3a\"],[0.8888888888888888,\"#fdca26\"],[1.0,\"#f0f921\"]]}],\"heatmapgl\":[{\"type\":\"heatmapgl\",\"colorbar\":{\"outlinewidth\":0,\"ticks\":\"\"},\"colorscale\":[[0.0,\"#0d0887\"],[0.1111111111111111,\"#46039f\"],[0.2222222222222222,\"#7201a8\"],[0.3333333333333333,\"#9c179e\"],[0.4444444444444444,\"#bd3786\"],[0.5555555555555556,\"#d8576b\"],[0.6666666666666666,\"#ed7953\"],[0.7777777777777778,\"#fb9f3a\"],[0.8888888888888888,\"#fdca26\"],[1.0,\"#f0f921\"]]}],\"contourcarpet\":[{\"type\":\"contourcarpet\",\"colorbar\":{\"outlinewidth\":0,\"ticks\":\"\"}}],\"contour\":[{\"type\":\"contour\",\"colorbar\":{\"outlinewidth\":0,\"ticks\":\"\"},\"colorscale\":[[0.0,\"#0d0887\"],[0.1111111111111111,\"#46039f\"],[0.2222222222222222,\"#7201a8\"],[0.3333333333333333,\"#9c179e\"],[0.4444444444444444,\"#bd3786\"],[0.5555555555555556,\"#d8576b\"],[0.6666666666666666,\"#ed7953\"],[0.7777777777777778,\"#fb9f3a\"],[0.8888888888888888,\"#fdca26\"],[1.0,\"#f0f921\"]]}],\"surface\":[{\"type\":\"surface\",\"colorbar\":{\"outlinewidth\":0,\"ticks\":\"\"},\"colorscale\":[[0.0,\"#0d0887\"],[0.1111111111111111,\"#46039f\"],[0.2222222222222222,\"#7201a8\"],[0.3333333333333333,\"#9c179e\"],[0.4444444444444444,\"#bd3786\"],[0.5555555555555556,\"#d8576b\"],[0.6666666666666666,\"#ed7953\"],[0.7777777777777778,\"#fb9f3a\"],[0.8888888888888888,\"#fdca26\"],[1.0,\"#f0f921\"]]}],\"mesh3d\":[{\"type\":\"mesh3d\",\"colorbar\":{\"outlinewidth\":0,\"ticks\":\"\"}}],\"scatter\":[{\"fillpattern\":{\"fillmode\":\"overlay\",\"size\":10,\"solidity\":0.2},\"type\":\"scatter\"}],\"parcoords\":[{\"type\":\"parcoords\",\"line\":{\"colorbar\":{\"outlinewidth\":0,\"ticks\":\"\"}}}],\"scatterpolargl\":[{\"type\":\"scatterpolargl\",\"marker\":{\"colorbar\":{\"outlinewidth\":0,\"ticks\":\"\"}}}],\"bar\":[{\"error_x\":{\"color\":\"#2a3f5f\"},\"error_y\":{\"color\":\"#2a3f5f\"},\"marker\":{\"line\":{\"color\":\"#E5ECF6\",\"width\":0.5},\"pattern\":{\"fillmode\":\"overlay\",\"size\":10,\"solidity\":0.2}},\"type\":\"bar\"}],\"scattergeo\":[{\"type\":\"scattergeo\",\"marker\":{\"colorbar\":{\"outlinewidth\":0,\"ticks\":\"\"}}}],\"scatterpolar\":[{\"type\":\"scatterpolar\",\"marker\":{\"colorbar\":{\"outlinewidth\":0,\"ticks\":\"\"}}}],\"histogram\":[{\"marker\":{\"pattern\":{\"fillmode\":\"overlay\",\"size\":10,\"solidity\":0.2}},\"type\":\"histogram\"}],\"scattergl\":[{\"type\":\"scattergl\",\"marker\":{\"colorbar\":{\"outlinewidth\":0,\"ticks\":\"\"}}}],\"scatter3d\":[{\"type\":\"scatter3d\",\"line\":{\"colorbar\":{\"outlinewidth\":0,\"ticks\":\"\"}},\"marker\":{\"colorbar\":{\"outlinewidth\":0,\"ticks\":\"\"}}}],\"scattermapbox\":[{\"type\":\"scattermapbox\",\"marker\":{\"colorbar\":{\"outlinewidth\":0,\"ticks\":\"\"}}}],\"scatterternary\":[{\"type\":\"scatterternary\",\"marker\":{\"colorbar\":{\"outlinewidth\":0,\"ticks\":\"\"}}}],\"scattercarpet\":[{\"type\":\"scattercarpet\",\"marker\":{\"colorbar\":{\"outlinewidth\":0,\"ticks\":\"\"}}}],\"carpet\":[{\"aaxis\":{\"endlinecolor\":\"#2a3f5f\",\"gridcolor\":\"white\",\"linecolor\":\"white\",\"minorgridcolor\":\"white\",\"startlinecolor\":\"#2a3f5f\"},\"baxis\":{\"endlinecolor\":\"#2a3f5f\",\"gridcolor\":\"white\",\"linecolor\":\"white\",\"minorgridcolor\":\"white\",\"startlinecolor\":\"#2a3f5f\"},\"type\":\"carpet\"}],\"table\":[{\"cells\":{\"fill\":{\"color\":\"#EBF0F8\"},\"line\":{\"color\":\"white\"}},\"header\":{\"fill\":{\"color\":\"#C8D4E3\"},\"line\":{\"color\":\"white\"}},\"type\":\"table\"}],\"barpolar\":[{\"marker\":{\"line\":{\"color\":\"#E5ECF6\",\"width\":0.5},\"pattern\":{\"fillmode\":\"overlay\",\"size\":10,\"solidity\":0.2}},\"type\":\"barpolar\"}],\"pie\":[{\"automargin\":true,\"type\":\"pie\"}]},\"layout\":{\"autotypenumbers\":\"strict\",\"colorway\":[\"#636efa\",\"#EF553B\",\"#00cc96\",\"#ab63fa\",\"#FFA15A\",\"#19d3f3\",\"#FF6692\",\"#B6E880\",\"#FF97FF\",\"#FECB52\"],\"font\":{\"color\":\"#2a3f5f\"},\"hovermode\":\"closest\",\"hoverlabel\":{\"align\":\"left\"},\"paper_bgcolor\":\"white\",\"plot_bgcolor\":\"#E5ECF6\",\"polar\":{\"bgcolor\":\"#E5ECF6\",\"angularaxis\":{\"gridcolor\":\"white\",\"linecolor\":\"white\",\"ticks\":\"\"},\"radialaxis\":{\"gridcolor\":\"white\",\"linecolor\":\"white\",\"ticks\":\"\"}},\"ternary\":{\"bgcolor\":\"#E5ECF6\",\"aaxis\":{\"gridcolor\":\"white\",\"linecolor\":\"white\",\"ticks\":\"\"},\"baxis\":{\"gridcolor\":\"white\",\"linecolor\":\"white\",\"ticks\":\"\"},\"caxis\":{\"gridcolor\":\"white\",\"linecolor\":\"white\",\"ticks\":\"\"}},\"coloraxis\":{\"colorbar\":{\"outlinewidth\":0,\"ticks\":\"\"}},\"colorscale\":{\"sequential\":[[0.0,\"#0d0887\"],[0.1111111111111111,\"#46039f\"],[0.2222222222222222,\"#7201a8\"],[0.3333333333333333,\"#9c179e\"],[0.4444444444444444,\"#bd3786\"],[0.5555555555555556,\"#d8576b\"],[0.6666666666666666,\"#ed7953\"],[0.7777777777777778,\"#fb9f3a\"],[0.8888888888888888,\"#fdca26\"],[1.0,\"#f0f921\"]],\"sequentialminus\":[[0.0,\"#0d0887\"],[0.1111111111111111,\"#46039f\"],[0.2222222222222222,\"#7201a8\"],[0.3333333333333333,\"#9c179e\"],[0.4444444444444444,\"#bd3786\"],[0.5555555555555556,\"#d8576b\"],[0.6666666666666666,\"#ed7953\"],[0.7777777777777778,\"#fb9f3a\"],[0.8888888888888888,\"#fdca26\"],[1.0,\"#f0f921\"]],\"diverging\":[[0,\"#8e0152\"],[0.1,\"#c51b7d\"],[0.2,\"#de77ae\"],[0.3,\"#f1b6da\"],[0.4,\"#fde0ef\"],[0.5,\"#f7f7f7\"],[0.6,\"#e6f5d0\"],[0.7,\"#b8e186\"],[0.8,\"#7fbc41\"],[0.9,\"#4d9221\"],[1,\"#276419\"]]},\"xaxis\":{\"gridcolor\":\"white\",\"linecolor\":\"white\",\"ticks\":\"\",\"title\":{\"standoff\":15},\"zerolinecolor\":\"white\",\"automargin\":true,\"zerolinewidth\":2},\"yaxis\":{\"gridcolor\":\"white\",\"linecolor\":\"white\",\"ticks\":\"\",\"title\":{\"standoff\":15},\"zerolinecolor\":\"white\",\"automargin\":true,\"zerolinewidth\":2},\"scene\":{\"xaxis\":{\"backgroundcolor\":\"#E5ECF6\",\"gridcolor\":\"white\",\"linecolor\":\"white\",\"showbackground\":true,\"ticks\":\"\",\"zerolinecolor\":\"white\",\"gridwidth\":2},\"yaxis\":{\"backgroundcolor\":\"#E5ECF6\",\"gridcolor\":\"white\",\"linecolor\":\"white\",\"showbackground\":true,\"ticks\":\"\",\"zerolinecolor\":\"white\",\"gridwidth\":2},\"zaxis\":{\"backgroundcolor\":\"#E5ECF6\",\"gridcolor\":\"white\",\"linecolor\":\"white\",\"showbackground\":true,\"ticks\":\"\",\"zerolinecolor\":\"white\",\"gridwidth\":2}},\"shapedefaults\":{\"line\":{\"color\":\"#2a3f5f\"}},\"annotationdefaults\":{\"arrowcolor\":\"#2a3f5f\",\"arrowhead\":0,\"arrowwidth\":1},\"geo\":{\"bgcolor\":\"white\",\"landcolor\":\"#E5ECF6\",\"subunitcolor\":\"white\",\"showland\":true,\"showlakes\":true,\"lakecolor\":\"white\"},\"title\":{\"x\":0.05},\"mapbox\":{\"style\":\"light\"}}},\"legend\":{\"tracegroupgap\":0},\"title\":{\"text\":\"\\u041d\\u0430\\u0441\\u044b\\u0449\\u0435\\u043d\\u043d\\u043e\\u0441\\u0442\\u044c \\u0433\\u043e\\u0440\\u043e\\u0434\\u043e\\u0432 \\u0432\\u0430\\u043a\\u0430\\u043d\\u0441\\u0438\\u044f\\u043c\\u0438 (\\u043f\\u043e \\u0443\\u0440\\u043e\\u0432\\u043d\\u044e salary_from)\"},\"height\":600,\"width\":1000},                        {\"responsive\": true}                    ).then(function(){\n",
              "                            \n",
              "var gd = document.getElementById('a9d2bd97-dc71-425f-a14d-83b8ee857ea6');\n",
              "var x = new MutationObserver(function (mutations, observer) {{\n",
              "        var display = window.getComputedStyle(gd).display;\n",
              "        if (!display || display === 'none') {{\n",
              "            console.log([gd, 'removed!']);\n",
              "            Plotly.purge(gd);\n",
              "            observer.disconnect();\n",
              "        }}\n",
              "}});\n",
              "\n",
              "// Listen for the removal of the full notebook cells\n",
              "var notebookContainer = gd.closest('#notebook-container');\n",
              "if (notebookContainer) {{\n",
              "    x.observe(notebookContainer, {childList: true});\n",
              "}}\n",
              "\n",
              "// Listen for the clearing of the current output cell\n",
              "var outputEl = gd.closest('.output');\n",
              "if (outputEl) {{\n",
              "    x.observe(outputEl, {childList: true});\n",
              "}}\n",
              "\n",
              "                        })                };                });            </script>        </div>"
            ]
          },
          "metadata": {},
          "output_type": "display_data"
        }
      ],
      "source": [
        "treemap_data1 = df.query('salary_from < 800000').groupby(by=['city'], as_index=False)[['salary_from']].mean()\n",
        "\n",
        "fig = px.treemap(\n",
        "    data_frame=df.query('salary_from < 800000'), \n",
        "    path=['city'], \n",
        "    values='salary_from', \n",
        "    height=600, \n",
        "    width=1000, \n",
        "    title='Насыщенность городов вакансиями (по уровню salary_from)'\n",
        ")\n",
        "fig.show()\n"
      ]
    },
    {
      "cell_type": "code",
      "execution_count": null,
      "id": "d7d2edb4",
      "metadata": {
        "id": "d7d2edb4",
        "outputId": "b60997f6-2e89-4e14-b492-239bd5874ea7"
      },
      "outputs": [
        {
          "data": {
            "application/vnd.plotly.v1+json": {
              "config": {
                "plotlyServerURL": "https://plot.ly"
              },
              "data": [
                {
                  "branchvalues": "total",
                  "domain": {
                    "x": [
                      0,
                      1
                    ],
                    "y": [
                      0,
                      1
                    ]
                  },
                  "hovertemplate": "labels=%{label}<br>salary_to=%{value}<br>parent=%{parent}<br>id=%{id}<extra></extra>",
                  "ids": [
                    "Абакан",
                    "Адлер",
                    "Азов",
                    "Алматы",
                    "Альметьевск",
                    "Ангарск",
                    "Армавир",
                    "Армения",
                    "Артем",
                    "Архангельск",
                    "Астана",
                    "Астрахань",
                    "Бабаево",
                    "Баку",
                    "Балашиха",
                    "Барнаул",
                    "Батайск",
                    "Батуми",
                    "Белгород",
                    "Белово",
                    "Бердск",
                    "Бийск",
                    "Бишкек",
                    "Благовещенск (Амурская область)",
                    "Брянск",
                    "Великий Новгород",
                    "Верхняя Пышма",
                    "Видное",
                    "Владивосток",
                    "Владимир",
                    "Волгоград",
                    "Волгодонск",
                    "Волжский (Волгоградская область)",
                    "Вологда",
                    "Вольно-Надеждинское",
                    "Воронеж",
                    "Гомель",
                    "Горно-Алтайск",
                    "Губкин",
                    "Гусев",
                    "Джанкой",
                    "Дзержинск (Нижегородская область)",
                    "Димитровград",
                    "Дмитров",
                    "Долгопрудный",
                    "Домодедово",
                    "Екатеринбург",
                    "Елабуга",
                    "Елец",
                    "Железногорск (Красноярский край)",
                    "Железнодорожный",
                    "Жуковский",
                    "Звенигород",
                    "Зеленоград",
                    "Златоуст",
                    "Иваново (Ивановская область)",
                    "Ивантеевка",
                    "Ижевск",
                    "Иннополис",
                    "Иркутск",
                    "Ирландия",
                    "Искитим",
                    "Истра",
                    "Йошкар-Ола",
                    "Казань",
                    "Калининград",
                    "Калтан",
                    "Калуга",
                    "Кашира",
                    "Кемерово",
                    "Керчь",
                    "Кипр",
                    "Киров (Кировская область)",
                    "Кировград",
                    "Кирово-Чепецк",
                    "Клин",
                    "Ковров",
                    "Коломна",
                    "Колпино",
                    "Конаково",
                    "Королев",
                    "Кострома",
                    "Котельники",
                    "Котовск (Тамбовская область)",
                    "Красково",
                    "Красногорск",
                    "Краснодар",
                    "Краснознаменск (Московская область)",
                    "Краснотурьинск",
                    "Красноярск",
                    "Курган",
                    "Курск",
                    "Латвия",
                    "Лебедянь",
                    "Лениногорск",
                    "Липецк",
                    "Лобня",
                    "Люберцы",
                    "Магадан",
                    "Магнитогорск",
                    "Майкоп",
                    "Майма",
                    "Малаховка (Московская область)",
                    "Махачкала",
                    "Междуреченск",
                    "Менделеевск",
                    "Мензелинск",
                    "Миасс",
                    "Минск",
                    "Москва",
                    "Мурманск",
                    "Муром",
                    "Мытищи",
                    "Набережные Челны",
                    "Невинномысск",
                    "Нефтекамск",
                    "Нефтеюганск",
                    "Нижневартовск",
                    "Нижнекамск",
                    "Нижний Новгород",
                    "Нижний Тагил",
                    "Новобатайск",
                    "Новокузнецк",
                    "Новокуйбышевск",
                    "Новомосковск (Тульская область)",
                    "Новороссийск",
                    "Новосибирск",
                    "Новочеркасск",
                    "Новый Уренгой",
                    "Ногинск",
                    "Норильск",
                    "ОАЭ",
                    "Обнинск",
                    "Одинцово",
                    "Озерск (Челябинская область)",
                    "Октябрьский (Республика Башкортостан)",
                    "Омск",
                    "Орел",
                    "Оренбург",
                    "Орехово-Зуево",
                    "Орск",
                    "Осинники",
                    "Павлодар",
                    "Пенза",
                    "Пермь",
                    "Петрозаводск",
                    "Петропавловск-Камчатский",
                    "Подольск (Московская область)",
                    "Польша",
                    "Прокопьевск",
                    "Псков",
                    "Пушкино (Московская область)",
                    "Пятигорск",
                    "Раменское",
                    "Реутов",
                    "Ростов-на-Дону",
                    "Рубцовск",
                    "Рыбинск",
                    "Рязань",
                    "США",
                    "Салехард",
                    "Самара",
                    "Самарское",
                    "Санкт-Петербург",
                    "Саранск",
                    "Саратов",
                    "Сатка",
                    "Светлый",
                    "Севастополь",
                    "Северодвинск",
                    "Северск (Томская область)",
                    "Сент-Винсент и Гренадины",
                    "Сербия",
                    "Сергиев Посад",
                    "Серов",
                    "Серпухов",
                    "Симферополь",
                    "Смоленск",
                    "Солнечногорск",
                    "Сосновоборск",
                    "Сочи",
                    "Спасск-Дальний",
                    "Среднеуральск",
                    "Ставрополь",
                    "Старый Оскол",
                    "Стерлитамак",
                    "Строитель (Белгородская область)",
                    "Сургут",
                    "Таганрог",
                    "Таиланд",
                    "Тамбов",
                    "Ташкент",
                    "Тбилиси",
                    "Тверь",
                    "Тольятти",
                    "Томилино",
                    "Томск",
                    "Троицк (Московская область)",
                    "Тула",
                    "Турция",
                    "Тюмень",
                    "Улан-Удэ",
                    "Ульяновск",
                    "Уфа",
                    "Хабаровск",
                    "Ханты-Мансийск",
                    "Химки",
                    "Чалтырь",
                    "Чапаевск",
                    "Чебаркуль",
                    "Чебоксары",
                    "Челябинск",
                    "Череповец",
                    "Черногория",
                    "Черняховск",
                    "Чехия",
                    "Чехов",
                    "Чита",
                    "Чолпон-Ата",
                    "Чёрное (Московская область)",
                    "Шебекино",
                    "Шымкент",
                    "Щелково",
                    "Электросталь",
                    "Энгельс",
                    "Южно-Сахалинск",
                    "Юрга",
                    "Якутск",
                    "Ярославль"
                  ],
                  "labels": [
                    "Абакан",
                    "Адлер",
                    "Азов",
                    "Алматы",
                    "Альметьевск",
                    "Ангарск",
                    "Армавир",
                    "Армения",
                    "Артем",
                    "Архангельск",
                    "Астана",
                    "Астрахань",
                    "Бабаево",
                    "Баку",
                    "Балашиха",
                    "Барнаул",
                    "Батайск",
                    "Батуми",
                    "Белгород",
                    "Белово",
                    "Бердск",
                    "Бийск",
                    "Бишкек",
                    "Благовещенск (Амурская область)",
                    "Брянск",
                    "Великий Новгород",
                    "Верхняя Пышма",
                    "Видное",
                    "Владивосток",
                    "Владимир",
                    "Волгоград",
                    "Волгодонск",
                    "Волжский (Волгоградская область)",
                    "Вологда",
                    "Вольно-Надеждинское",
                    "Воронеж",
                    "Гомель",
                    "Горно-Алтайск",
                    "Губкин",
                    "Гусев",
                    "Джанкой",
                    "Дзержинск (Нижегородская область)",
                    "Димитровград",
                    "Дмитров",
                    "Долгопрудный",
                    "Домодедово",
                    "Екатеринбург",
                    "Елабуга",
                    "Елец",
                    "Железногорск (Красноярский край)",
                    "Железнодорожный",
                    "Жуковский",
                    "Звенигород",
                    "Зеленоград",
                    "Златоуст",
                    "Иваново (Ивановская область)",
                    "Ивантеевка",
                    "Ижевск",
                    "Иннополис",
                    "Иркутск",
                    "Ирландия",
                    "Искитим",
                    "Истра",
                    "Йошкар-Ола",
                    "Казань",
                    "Калининград",
                    "Калтан",
                    "Калуга",
                    "Кашира",
                    "Кемерово",
                    "Керчь",
                    "Кипр",
                    "Киров (Кировская область)",
                    "Кировград",
                    "Кирово-Чепецк",
                    "Клин",
                    "Ковров",
                    "Коломна",
                    "Колпино",
                    "Конаково",
                    "Королев",
                    "Кострома",
                    "Котельники",
                    "Котовск (Тамбовская область)",
                    "Красково",
                    "Красногорск",
                    "Краснодар",
                    "Краснознаменск (Московская область)",
                    "Краснотурьинск",
                    "Красноярск",
                    "Курган",
                    "Курск",
                    "Латвия",
                    "Лебедянь",
                    "Лениногорск",
                    "Липецк",
                    "Лобня",
                    "Люберцы",
                    "Магадан",
                    "Магнитогорск",
                    "Майкоп",
                    "Майма",
                    "Малаховка (Московская область)",
                    "Махачкала",
                    "Междуреченск",
                    "Менделеевск",
                    "Мензелинск",
                    "Миасс",
                    "Минск",
                    "Москва",
                    "Мурманск",
                    "Муром",
                    "Мытищи",
                    "Набережные Челны",
                    "Невинномысск",
                    "Нефтекамск",
                    "Нефтеюганск",
                    "Нижневартовск",
                    "Нижнекамск",
                    "Нижний Новгород",
                    "Нижний Тагил",
                    "Новобатайск",
                    "Новокузнецк",
                    "Новокуйбышевск",
                    "Новомосковск (Тульская область)",
                    "Новороссийск",
                    "Новосибирск",
                    "Новочеркасск",
                    "Новый Уренгой",
                    "Ногинск",
                    "Норильск",
                    "ОАЭ",
                    "Обнинск",
                    "Одинцово",
                    "Озерск (Челябинская область)",
                    "Октябрьский (Республика Башкортостан)",
                    "Омск",
                    "Орел",
                    "Оренбург",
                    "Орехово-Зуево",
                    "Орск",
                    "Осинники",
                    "Павлодар",
                    "Пенза",
                    "Пермь",
                    "Петрозаводск",
                    "Петропавловск-Камчатский",
                    "Подольск (Московская область)",
                    "Польша",
                    "Прокопьевск",
                    "Псков",
                    "Пушкино (Московская область)",
                    "Пятигорск",
                    "Раменское",
                    "Реутов",
                    "Ростов-на-Дону",
                    "Рубцовск",
                    "Рыбинск",
                    "Рязань",
                    "США",
                    "Салехард",
                    "Самара",
                    "Самарское",
                    "Санкт-Петербург",
                    "Саранск",
                    "Саратов",
                    "Сатка",
                    "Светлый",
                    "Севастополь",
                    "Северодвинск",
                    "Северск (Томская область)",
                    "Сент-Винсент и Гренадины",
                    "Сербия",
                    "Сергиев Посад",
                    "Серов",
                    "Серпухов",
                    "Симферополь",
                    "Смоленск",
                    "Солнечногорск",
                    "Сосновоборск",
                    "Сочи",
                    "Спасск-Дальний",
                    "Среднеуральск",
                    "Ставрополь",
                    "Старый Оскол",
                    "Стерлитамак",
                    "Строитель (Белгородская область)",
                    "Сургут",
                    "Таганрог",
                    "Таиланд",
                    "Тамбов",
                    "Ташкент",
                    "Тбилиси",
                    "Тверь",
                    "Тольятти",
                    "Томилино",
                    "Томск",
                    "Троицк (Московская область)",
                    "Тула",
                    "Турция",
                    "Тюмень",
                    "Улан-Удэ",
                    "Ульяновск",
                    "Уфа",
                    "Хабаровск",
                    "Ханты-Мансийск",
                    "Химки",
                    "Чалтырь",
                    "Чапаевск",
                    "Чебаркуль",
                    "Чебоксары",
                    "Челябинск",
                    "Череповец",
                    "Черногория",
                    "Черняховск",
                    "Чехия",
                    "Чехов",
                    "Чита",
                    "Чолпон-Ата",
                    "Чёрное (Московская область)",
                    "Шебекино",
                    "Шымкент",
                    "Щелково",
                    "Электросталь",
                    "Энгельс",
                    "Южно-Сахалинск",
                    "Юрга",
                    "Якутск",
                    "Ярославль"
                  ],
                  "name": "",
                  "parents": [
                    "",
                    "",
                    "",
                    "",
                    "",
                    "",
                    "",
                    "",
                    "",
                    "",
                    "",
                    "",
                    "",
                    "",
                    "",
                    "",
                    "",
                    "",
                    "",
                    "",
                    "",
                    "",
                    "",
                    "",
                    "",
                    "",
                    "",
                    "",
                    "",
                    "",
                    "",
                    "",
                    "",
                    "",
                    "",
                    "",
                    "",
                    "",
                    "",
                    "",
                    "",
                    "",
                    "",
                    "",
                    "",
                    "",
                    "",
                    "",
                    "",
                    "",
                    "",
                    "",
                    "",
                    "",
                    "",
                    "",
                    "",
                    "",
                    "",
                    "",
                    "",
                    "",
                    "",
                    "",
                    "",
                    "",
                    "",
                    "",
                    "",
                    "",
                    "",
                    "",
                    "",
                    "",
                    "",
                    "",
                    "",
                    "",
                    "",
                    "",
                    "",
                    "",
                    "",
                    "",
                    "",
                    "",
                    "",
                    "",
                    "",
                    "",
                    "",
                    "",
                    "",
                    "",
                    "",
                    "",
                    "",
                    "",
                    "",
                    "",
                    "",
                    "",
                    "",
                    "",
                    "",
                    "",
                    "",
                    "",
                    "",
                    "",
                    "",
                    "",
                    "",
                    "",
                    "",
                    "",
                    "",
                    "",
                    "",
                    "",
                    "",
                    "",
                    "",
                    "",
                    "",
                    "",
                    "",
                    "",
                    "",
                    "",
                    "",
                    "",
                    "",
                    "",
                    "",
                    "",
                    "",
                    "",
                    "",
                    "",
                    "",
                    "",
                    "",
                    "",
                    "",
                    "",
                    "",
                    "",
                    "",
                    "",
                    "",
                    "",
                    "",
                    "",
                    "",
                    "",
                    "",
                    "",
                    "",
                    "",
                    "",
                    "",
                    "",
                    "",
                    "",
                    "",
                    "",
                    "",
                    "",
                    "",
                    "",
                    "",
                    "",
                    "",
                    "",
                    "",
                    "",
                    "",
                    "",
                    "",
                    "",
                    "",
                    "",
                    "",
                    "",
                    "",
                    "",
                    "",
                    "",
                    "",
                    "",
                    "",
                    "",
                    "",
                    "",
                    "",
                    "",
                    "",
                    "",
                    "",
                    "",
                    "",
                    "",
                    "",
                    "",
                    "",
                    "",
                    "",
                    "",
                    "",
                    "",
                    "",
                    "",
                    "",
                    "",
                    "",
                    "",
                    "",
                    "",
                    "",
                    "",
                    "",
                    "",
                    "",
                    "",
                    "",
                    "",
                    "",
                    ""
                  ],
                  "type": "treemap",
                  "values": [
                    27500,
                    31000,
                    45000,
                    3561703.4999999995,
                    146000,
                    40000,
                    26000,
                    4608499.999999999,
                    210000,
                    80000,
                    3055005,
                    350400,
                    47400,
                    1587499.9999999998,
                    33800,
                    1441800,
                    121400,
                    1269999.9999999998,
                    1474000,
                    60000,
                    33800,
                    26000,
                    1379999.9999999998,
                    290000,
                    638800,
                    176000,
                    125000,
                    200000,
                    5067000,
                    968800,
                    1863800,
                    33800,
                    296000,
                    391000,
                    60000,
                    4200600,
                    20000,
                    31000,
                    36812,
                    69750,
                    50000,
                    33800,
                    56700,
                    200000,
                    100000,
                    251050,
                    11215874.5,
                    58000,
                    160000,
                    121000,
                    200000,
                    283800,
                    200000,
                    670000,
                    200000,
                    1102000,
                    200000,
                    888800,
                    700000,
                    1015000,
                    356999.99999999994,
                    68400,
                    170000,
                    276000,
                    8541404.5,
                    1322550,
                    70000,
                    448800,
                    200000,
                    500300,
                    63000,
                    3398829,
                    1517000,
                    60000,
                    35000,
                    250000,
                    50000,
                    26000,
                    170200,
                    155000,
                    523800,
                    191000,
                    200000,
                    48000,
                    260000,
                    451000,
                    5977504.5,
                    150000,
                    40000,
                    3538767,
                    453800,
                    583800,
                    351603,
                    100000,
                    70000,
                    378800,
                    200000,
                    838800,
                    75000,
                    1070300,
                    86000,
                    31000,
                    130000,
                    436000,
                    80000,
                    70000,
                    70000,
                    200000,
                    1102500,
                    175944454.4,
                    460000,
                    35000,
                    763800,
                    462967,
                    70000,
                    26000,
                    99338,
                    389338,
                    193800,
                    7458999,
                    383800,
                    39400,
                    321000,
                    153800,
                    33800,
                    133800,
                    12426800,
                    26000,
                    200000,
                    436000,
                    186000,
                    419999.99999999994,
                    210000,
                    26000,
                    420000,
                    33800,
                    2563800,
                    325800,
                    563300,
                    200000,
                    76000,
                    70000,
                    20999.999999999996,
                    158800,
                    4157800,
                    180000,
                    115000,
                    353800,
                    524999.9999999999,
                    60000,
                    33800,
                    80000,
                    123800,
                    510000,
                    233800,
                    5564700,
                    33800,
                    380000,
                    602800,
                    587999.9999999999,
                    88000,
                    5126690.5,
                    39400,
                    42697204,
                    176000,
                    1440500,
                    100000,
                    60000,
                    617600,
                    40000,
                    40000,
                    209999.99999999997,
                    2342564.8,
                    200000,
                    40000,
                    292300,
                    138800,
                    558800,
                    260000,
                    50000,
                    3041971,
                    40000,
                    155000,
                    608800,
                    306000,
                    83800,
                    106000,
                    710338,
                    280800,
                    70000,
                    318355,
                    4147499.9999999995,
                    8261914.499999999,
                    1102574,
                    1211400,
                    80000,
                    3882300,
                    320000,
                    1085550,
                    2707703.4999999995,
                    3903138,
                    120000,
                    593800,
                    3450204.5,
                    1325000,
                    99338,
                    796000,
                    65000,
                    31805,
                    100000,
                    981000,
                    2588600,
                    201800,
                    524999.9999999999,
                    50000,
                    18000,
                    200000,
                    450000,
                    101849.99999999999,
                    180000,
                    51000,
                    199000,
                    233800,
                    352000,
                    26000,
                    75900,
                    35000,
                    60000,
                    1789200
                  ]
                }
              ],
              "layout": {
                "height": 600,
                "legend": {
                  "tracegroupgap": 0
                },
                "template": {
                  "data": {
                    "bar": [
                      {
                        "error_x": {
                          "color": "#2a3f5f"
                        },
                        "error_y": {
                          "color": "#2a3f5f"
                        },
                        "marker": {
                          "line": {
                            "color": "#E5ECF6",
                            "width": 0.5
                          },
                          "pattern": {
                            "fillmode": "overlay",
                            "size": 10,
                            "solidity": 0.2
                          }
                        },
                        "type": "bar"
                      }
                    ],
                    "barpolar": [
                      {
                        "marker": {
                          "line": {
                            "color": "#E5ECF6",
                            "width": 0.5
                          },
                          "pattern": {
                            "fillmode": "overlay",
                            "size": 10,
                            "solidity": 0.2
                          }
                        },
                        "type": "barpolar"
                      }
                    ],
                    "carpet": [
                      {
                        "aaxis": {
                          "endlinecolor": "#2a3f5f",
                          "gridcolor": "white",
                          "linecolor": "white",
                          "minorgridcolor": "white",
                          "startlinecolor": "#2a3f5f"
                        },
                        "baxis": {
                          "endlinecolor": "#2a3f5f",
                          "gridcolor": "white",
                          "linecolor": "white",
                          "minorgridcolor": "white",
                          "startlinecolor": "#2a3f5f"
                        },
                        "type": "carpet"
                      }
                    ],
                    "choropleth": [
                      {
                        "colorbar": {
                          "outlinewidth": 0,
                          "ticks": ""
                        },
                        "type": "choropleth"
                      }
                    ],
                    "contour": [
                      {
                        "colorbar": {
                          "outlinewidth": 0,
                          "ticks": ""
                        },
                        "colorscale": [
                          [
                            0,
                            "#0d0887"
                          ],
                          [
                            0.1111111111111111,
                            "#46039f"
                          ],
                          [
                            0.2222222222222222,
                            "#7201a8"
                          ],
                          [
                            0.3333333333333333,
                            "#9c179e"
                          ],
                          [
                            0.4444444444444444,
                            "#bd3786"
                          ],
                          [
                            0.5555555555555556,
                            "#d8576b"
                          ],
                          [
                            0.6666666666666666,
                            "#ed7953"
                          ],
                          [
                            0.7777777777777778,
                            "#fb9f3a"
                          ],
                          [
                            0.8888888888888888,
                            "#fdca26"
                          ],
                          [
                            1,
                            "#f0f921"
                          ]
                        ],
                        "type": "contour"
                      }
                    ],
                    "contourcarpet": [
                      {
                        "colorbar": {
                          "outlinewidth": 0,
                          "ticks": ""
                        },
                        "type": "contourcarpet"
                      }
                    ],
                    "heatmap": [
                      {
                        "colorbar": {
                          "outlinewidth": 0,
                          "ticks": ""
                        },
                        "colorscale": [
                          [
                            0,
                            "#0d0887"
                          ],
                          [
                            0.1111111111111111,
                            "#46039f"
                          ],
                          [
                            0.2222222222222222,
                            "#7201a8"
                          ],
                          [
                            0.3333333333333333,
                            "#9c179e"
                          ],
                          [
                            0.4444444444444444,
                            "#bd3786"
                          ],
                          [
                            0.5555555555555556,
                            "#d8576b"
                          ],
                          [
                            0.6666666666666666,
                            "#ed7953"
                          ],
                          [
                            0.7777777777777778,
                            "#fb9f3a"
                          ],
                          [
                            0.8888888888888888,
                            "#fdca26"
                          ],
                          [
                            1,
                            "#f0f921"
                          ]
                        ],
                        "type": "heatmap"
                      }
                    ],
                    "heatmapgl": [
                      {
                        "colorbar": {
                          "outlinewidth": 0,
                          "ticks": ""
                        },
                        "colorscale": [
                          [
                            0,
                            "#0d0887"
                          ],
                          [
                            0.1111111111111111,
                            "#46039f"
                          ],
                          [
                            0.2222222222222222,
                            "#7201a8"
                          ],
                          [
                            0.3333333333333333,
                            "#9c179e"
                          ],
                          [
                            0.4444444444444444,
                            "#bd3786"
                          ],
                          [
                            0.5555555555555556,
                            "#d8576b"
                          ],
                          [
                            0.6666666666666666,
                            "#ed7953"
                          ],
                          [
                            0.7777777777777778,
                            "#fb9f3a"
                          ],
                          [
                            0.8888888888888888,
                            "#fdca26"
                          ],
                          [
                            1,
                            "#f0f921"
                          ]
                        ],
                        "type": "heatmapgl"
                      }
                    ],
                    "histogram": [
                      {
                        "marker": {
                          "pattern": {
                            "fillmode": "overlay",
                            "size": 10,
                            "solidity": 0.2
                          }
                        },
                        "type": "histogram"
                      }
                    ],
                    "histogram2d": [
                      {
                        "colorbar": {
                          "outlinewidth": 0,
                          "ticks": ""
                        },
                        "colorscale": [
                          [
                            0,
                            "#0d0887"
                          ],
                          [
                            0.1111111111111111,
                            "#46039f"
                          ],
                          [
                            0.2222222222222222,
                            "#7201a8"
                          ],
                          [
                            0.3333333333333333,
                            "#9c179e"
                          ],
                          [
                            0.4444444444444444,
                            "#bd3786"
                          ],
                          [
                            0.5555555555555556,
                            "#d8576b"
                          ],
                          [
                            0.6666666666666666,
                            "#ed7953"
                          ],
                          [
                            0.7777777777777778,
                            "#fb9f3a"
                          ],
                          [
                            0.8888888888888888,
                            "#fdca26"
                          ],
                          [
                            1,
                            "#f0f921"
                          ]
                        ],
                        "type": "histogram2d"
                      }
                    ],
                    "histogram2dcontour": [
                      {
                        "colorbar": {
                          "outlinewidth": 0,
                          "ticks": ""
                        },
                        "colorscale": [
                          [
                            0,
                            "#0d0887"
                          ],
                          [
                            0.1111111111111111,
                            "#46039f"
                          ],
                          [
                            0.2222222222222222,
                            "#7201a8"
                          ],
                          [
                            0.3333333333333333,
                            "#9c179e"
                          ],
                          [
                            0.4444444444444444,
                            "#bd3786"
                          ],
                          [
                            0.5555555555555556,
                            "#d8576b"
                          ],
                          [
                            0.6666666666666666,
                            "#ed7953"
                          ],
                          [
                            0.7777777777777778,
                            "#fb9f3a"
                          ],
                          [
                            0.8888888888888888,
                            "#fdca26"
                          ],
                          [
                            1,
                            "#f0f921"
                          ]
                        ],
                        "type": "histogram2dcontour"
                      }
                    ],
                    "mesh3d": [
                      {
                        "colorbar": {
                          "outlinewidth": 0,
                          "ticks": ""
                        },
                        "type": "mesh3d"
                      }
                    ],
                    "parcoords": [
                      {
                        "line": {
                          "colorbar": {
                            "outlinewidth": 0,
                            "ticks": ""
                          }
                        },
                        "type": "parcoords"
                      }
                    ],
                    "pie": [
                      {
                        "automargin": true,
                        "type": "pie"
                      }
                    ],
                    "scatter": [
                      {
                        "fillpattern": {
                          "fillmode": "overlay",
                          "size": 10,
                          "solidity": 0.2
                        },
                        "type": "scatter"
                      }
                    ],
                    "scatter3d": [
                      {
                        "line": {
                          "colorbar": {
                            "outlinewidth": 0,
                            "ticks": ""
                          }
                        },
                        "marker": {
                          "colorbar": {
                            "outlinewidth": 0,
                            "ticks": ""
                          }
                        },
                        "type": "scatter3d"
                      }
                    ],
                    "scattercarpet": [
                      {
                        "marker": {
                          "colorbar": {
                            "outlinewidth": 0,
                            "ticks": ""
                          }
                        },
                        "type": "scattercarpet"
                      }
                    ],
                    "scattergeo": [
                      {
                        "marker": {
                          "colorbar": {
                            "outlinewidth": 0,
                            "ticks": ""
                          }
                        },
                        "type": "scattergeo"
                      }
                    ],
                    "scattergl": [
                      {
                        "marker": {
                          "colorbar": {
                            "outlinewidth": 0,
                            "ticks": ""
                          }
                        },
                        "type": "scattergl"
                      }
                    ],
                    "scattermapbox": [
                      {
                        "marker": {
                          "colorbar": {
                            "outlinewidth": 0,
                            "ticks": ""
                          }
                        },
                        "type": "scattermapbox"
                      }
                    ],
                    "scatterpolar": [
                      {
                        "marker": {
                          "colorbar": {
                            "outlinewidth": 0,
                            "ticks": ""
                          }
                        },
                        "type": "scatterpolar"
                      }
                    ],
                    "scatterpolargl": [
                      {
                        "marker": {
                          "colorbar": {
                            "outlinewidth": 0,
                            "ticks": ""
                          }
                        },
                        "type": "scatterpolargl"
                      }
                    ],
                    "scatterternary": [
                      {
                        "marker": {
                          "colorbar": {
                            "outlinewidth": 0,
                            "ticks": ""
                          }
                        },
                        "type": "scatterternary"
                      }
                    ],
                    "surface": [
                      {
                        "colorbar": {
                          "outlinewidth": 0,
                          "ticks": ""
                        },
                        "colorscale": [
                          [
                            0,
                            "#0d0887"
                          ],
                          [
                            0.1111111111111111,
                            "#46039f"
                          ],
                          [
                            0.2222222222222222,
                            "#7201a8"
                          ],
                          [
                            0.3333333333333333,
                            "#9c179e"
                          ],
                          [
                            0.4444444444444444,
                            "#bd3786"
                          ],
                          [
                            0.5555555555555556,
                            "#d8576b"
                          ],
                          [
                            0.6666666666666666,
                            "#ed7953"
                          ],
                          [
                            0.7777777777777778,
                            "#fb9f3a"
                          ],
                          [
                            0.8888888888888888,
                            "#fdca26"
                          ],
                          [
                            1,
                            "#f0f921"
                          ]
                        ],
                        "type": "surface"
                      }
                    ],
                    "table": [
                      {
                        "cells": {
                          "fill": {
                            "color": "#EBF0F8"
                          },
                          "line": {
                            "color": "white"
                          }
                        },
                        "header": {
                          "fill": {
                            "color": "#C8D4E3"
                          },
                          "line": {
                            "color": "white"
                          }
                        },
                        "type": "table"
                      }
                    ]
                  },
                  "layout": {
                    "annotationdefaults": {
                      "arrowcolor": "#2a3f5f",
                      "arrowhead": 0,
                      "arrowwidth": 1
                    },
                    "autotypenumbers": "strict",
                    "coloraxis": {
                      "colorbar": {
                        "outlinewidth": 0,
                        "ticks": ""
                      }
                    },
                    "colorscale": {
                      "diverging": [
                        [
                          0,
                          "#8e0152"
                        ],
                        [
                          0.1,
                          "#c51b7d"
                        ],
                        [
                          0.2,
                          "#de77ae"
                        ],
                        [
                          0.3,
                          "#f1b6da"
                        ],
                        [
                          0.4,
                          "#fde0ef"
                        ],
                        [
                          0.5,
                          "#f7f7f7"
                        ],
                        [
                          0.6,
                          "#e6f5d0"
                        ],
                        [
                          0.7,
                          "#b8e186"
                        ],
                        [
                          0.8,
                          "#7fbc41"
                        ],
                        [
                          0.9,
                          "#4d9221"
                        ],
                        [
                          1,
                          "#276419"
                        ]
                      ],
                      "sequential": [
                        [
                          0,
                          "#0d0887"
                        ],
                        [
                          0.1111111111111111,
                          "#46039f"
                        ],
                        [
                          0.2222222222222222,
                          "#7201a8"
                        ],
                        [
                          0.3333333333333333,
                          "#9c179e"
                        ],
                        [
                          0.4444444444444444,
                          "#bd3786"
                        ],
                        [
                          0.5555555555555556,
                          "#d8576b"
                        ],
                        [
                          0.6666666666666666,
                          "#ed7953"
                        ],
                        [
                          0.7777777777777778,
                          "#fb9f3a"
                        ],
                        [
                          0.8888888888888888,
                          "#fdca26"
                        ],
                        [
                          1,
                          "#f0f921"
                        ]
                      ],
                      "sequentialminus": [
                        [
                          0,
                          "#0d0887"
                        ],
                        [
                          0.1111111111111111,
                          "#46039f"
                        ],
                        [
                          0.2222222222222222,
                          "#7201a8"
                        ],
                        [
                          0.3333333333333333,
                          "#9c179e"
                        ],
                        [
                          0.4444444444444444,
                          "#bd3786"
                        ],
                        [
                          0.5555555555555556,
                          "#d8576b"
                        ],
                        [
                          0.6666666666666666,
                          "#ed7953"
                        ],
                        [
                          0.7777777777777778,
                          "#fb9f3a"
                        ],
                        [
                          0.8888888888888888,
                          "#fdca26"
                        ],
                        [
                          1,
                          "#f0f921"
                        ]
                      ]
                    },
                    "colorway": [
                      "#636efa",
                      "#EF553B",
                      "#00cc96",
                      "#ab63fa",
                      "#FFA15A",
                      "#19d3f3",
                      "#FF6692",
                      "#B6E880",
                      "#FF97FF",
                      "#FECB52"
                    ],
                    "font": {
                      "color": "#2a3f5f"
                    },
                    "geo": {
                      "bgcolor": "white",
                      "lakecolor": "white",
                      "landcolor": "#E5ECF6",
                      "showlakes": true,
                      "showland": true,
                      "subunitcolor": "white"
                    },
                    "hoverlabel": {
                      "align": "left"
                    },
                    "hovermode": "closest",
                    "mapbox": {
                      "style": "light"
                    },
                    "paper_bgcolor": "white",
                    "plot_bgcolor": "#E5ECF6",
                    "polar": {
                      "angularaxis": {
                        "gridcolor": "white",
                        "linecolor": "white",
                        "ticks": ""
                      },
                      "bgcolor": "#E5ECF6",
                      "radialaxis": {
                        "gridcolor": "white",
                        "linecolor": "white",
                        "ticks": ""
                      }
                    },
                    "scene": {
                      "xaxis": {
                        "backgroundcolor": "#E5ECF6",
                        "gridcolor": "white",
                        "gridwidth": 2,
                        "linecolor": "white",
                        "showbackground": true,
                        "ticks": "",
                        "zerolinecolor": "white"
                      },
                      "yaxis": {
                        "backgroundcolor": "#E5ECF6",
                        "gridcolor": "white",
                        "gridwidth": 2,
                        "linecolor": "white",
                        "showbackground": true,
                        "ticks": "",
                        "zerolinecolor": "white"
                      },
                      "zaxis": {
                        "backgroundcolor": "#E5ECF6",
                        "gridcolor": "white",
                        "gridwidth": 2,
                        "linecolor": "white",
                        "showbackground": true,
                        "ticks": "",
                        "zerolinecolor": "white"
                      }
                    },
                    "shapedefaults": {
                      "line": {
                        "color": "#2a3f5f"
                      }
                    },
                    "ternary": {
                      "aaxis": {
                        "gridcolor": "white",
                        "linecolor": "white",
                        "ticks": ""
                      },
                      "baxis": {
                        "gridcolor": "white",
                        "linecolor": "white",
                        "ticks": ""
                      },
                      "bgcolor": "#E5ECF6",
                      "caxis": {
                        "gridcolor": "white",
                        "linecolor": "white",
                        "ticks": ""
                      }
                    },
                    "title": {
                      "x": 0.05
                    },
                    "xaxis": {
                      "automargin": true,
                      "gridcolor": "white",
                      "linecolor": "white",
                      "ticks": "",
                      "title": {
                        "standoff": 15
                      },
                      "zerolinecolor": "white",
                      "zerolinewidth": 2
                    },
                    "yaxis": {
                      "automargin": true,
                      "gridcolor": "white",
                      "linecolor": "white",
                      "ticks": "",
                      "title": {
                        "standoff": 15
                      },
                      "zerolinecolor": "white",
                      "zerolinewidth": 2
                    }
                  }
                },
                "title": {
                  "text": "Насыщенность городов вакансиями (по уровню salary_to)"
                },
                "width": 1000
              }
            },
            "text/html": [
              "<div>                            <div id=\"e897c42f-c1c3-4a4b-8ca7-807b07175304\" class=\"plotly-graph-div\" style=\"height:600px; width:1000px;\"></div>            <script type=\"text/javascript\">                require([\"plotly\"], function(Plotly) {                    window.PLOTLYENV=window.PLOTLYENV || {};                                    if (document.getElementById(\"e897c42f-c1c3-4a4b-8ca7-807b07175304\")) {                    Plotly.newPlot(                        \"e897c42f-c1c3-4a4b-8ca7-807b07175304\",                        [{\"branchvalues\":\"total\",\"domain\":{\"x\":[0.0,1.0],\"y\":[0.0,1.0]},\"hovertemplate\":\"labels=%{label}<br>salary_to=%{value}<br>parent=%{parent}<br>id=%{id}<extra></extra>\",\"ids\":[\"\\u0410\\u0431\\u0430\\u043a\\u0430\\u043d\",\"\\u0410\\u0434\\u043b\\u0435\\u0440\",\"\\u0410\\u0437\\u043e\\u0432\",\"\\u0410\\u043b\\u043c\\u0430\\u0442\\u044b\",\"\\u0410\\u043b\\u044c\\u043c\\u0435\\u0442\\u044c\\u0435\\u0432\\u0441\\u043a\",\"\\u0410\\u043d\\u0433\\u0430\\u0440\\u0441\\u043a\",\"\\u0410\\u0440\\u043c\\u0430\\u0432\\u0438\\u0440\",\"\\u0410\\u0440\\u043c\\u0435\\u043d\\u0438\\u044f\",\"\\u0410\\u0440\\u0442\\u0435\\u043c\",\"\\u0410\\u0440\\u0445\\u0430\\u043d\\u0433\\u0435\\u043b\\u044c\\u0441\\u043a\",\"\\u0410\\u0441\\u0442\\u0430\\u043d\\u0430\",\"\\u0410\\u0441\\u0442\\u0440\\u0430\\u0445\\u0430\\u043d\\u044c\",\"\\u0411\\u0430\\u0431\\u0430\\u0435\\u0432\\u043e\",\"\\u0411\\u0430\\u043a\\u0443\",\"\\u0411\\u0430\\u043b\\u0430\\u0448\\u0438\\u0445\\u0430\",\"\\u0411\\u0430\\u0440\\u043d\\u0430\\u0443\\u043b\",\"\\u0411\\u0430\\u0442\\u0430\\u0439\\u0441\\u043a\",\"\\u0411\\u0430\\u0442\\u0443\\u043c\\u0438\",\"\\u0411\\u0435\\u043b\\u0433\\u043e\\u0440\\u043e\\u0434\",\"\\u0411\\u0435\\u043b\\u043e\\u0432\\u043e\",\"\\u0411\\u0435\\u0440\\u0434\\u0441\\u043a\",\"\\u0411\\u0438\\u0439\\u0441\\u043a\",\"\\u0411\\u0438\\u0448\\u043a\\u0435\\u043a\",\"\\u0411\\u043b\\u0430\\u0433\\u043e\\u0432\\u0435\\u0449\\u0435\\u043d\\u0441\\u043a (\\u0410\\u043c\\u0443\\u0440\\u0441\\u043a\\u0430\\u044f \\u043e\\u0431\\u043b\\u0430\\u0441\\u0442\\u044c)\",\"\\u0411\\u0440\\u044f\\u043d\\u0441\\u043a\",\"\\u0412\\u0435\\u043b\\u0438\\u043a\\u0438\\u0439 \\u041d\\u043e\\u0432\\u0433\\u043e\\u0440\\u043e\\u0434\",\"\\u0412\\u0435\\u0440\\u0445\\u043d\\u044f\\u044f \\u041f\\u044b\\u0448\\u043c\\u0430\",\"\\u0412\\u0438\\u0434\\u043d\\u043e\\u0435\",\"\\u0412\\u043b\\u0430\\u0434\\u0438\\u0432\\u043e\\u0441\\u0442\\u043e\\u043a\",\"\\u0412\\u043b\\u0430\\u0434\\u0438\\u043c\\u0438\\u0440\",\"\\u0412\\u043e\\u043b\\u0433\\u043e\\u0433\\u0440\\u0430\\u0434\",\"\\u0412\\u043e\\u043b\\u0433\\u043e\\u0434\\u043e\\u043d\\u0441\\u043a\",\"\\u0412\\u043e\\u043b\\u0436\\u0441\\u043a\\u0438\\u0439 (\\u0412\\u043e\\u043b\\u0433\\u043e\\u0433\\u0440\\u0430\\u0434\\u0441\\u043a\\u0430\\u044f \\u043e\\u0431\\u043b\\u0430\\u0441\\u0442\\u044c)\",\"\\u0412\\u043e\\u043b\\u043e\\u0433\\u0434\\u0430\",\"\\u0412\\u043e\\u043b\\u044c\\u043d\\u043e-\\u041d\\u0430\\u0434\\u0435\\u0436\\u0434\\u0438\\u043d\\u0441\\u043a\\u043e\\u0435\",\"\\u0412\\u043e\\u0440\\u043e\\u043d\\u0435\\u0436\",\"\\u0413\\u043e\\u043c\\u0435\\u043b\\u044c\",\"\\u0413\\u043e\\u0440\\u043d\\u043e-\\u0410\\u043b\\u0442\\u0430\\u0439\\u0441\\u043a\",\"\\u0413\\u0443\\u0431\\u043a\\u0438\\u043d\",\"\\u0413\\u0443\\u0441\\u0435\\u0432\",\"\\u0414\\u0436\\u0430\\u043d\\u043a\\u043e\\u0439\",\"\\u0414\\u0437\\u0435\\u0440\\u0436\\u0438\\u043d\\u0441\\u043a (\\u041d\\u0438\\u0436\\u0435\\u0433\\u043e\\u0440\\u043e\\u0434\\u0441\\u043a\\u0430\\u044f \\u043e\\u0431\\u043b\\u0430\\u0441\\u0442\\u044c)\",\"\\u0414\\u0438\\u043c\\u0438\\u0442\\u0440\\u043e\\u0432\\u0433\\u0440\\u0430\\u0434\",\"\\u0414\\u043c\\u0438\\u0442\\u0440\\u043e\\u0432\",\"\\u0414\\u043e\\u043b\\u0433\\u043e\\u043f\\u0440\\u0443\\u0434\\u043d\\u044b\\u0439\",\"\\u0414\\u043e\\u043c\\u043e\\u0434\\u0435\\u0434\\u043e\\u0432\\u043e\",\"\\u0415\\u043a\\u0430\\u0442\\u0435\\u0440\\u0438\\u043d\\u0431\\u0443\\u0440\\u0433\",\"\\u0415\\u043b\\u0430\\u0431\\u0443\\u0433\\u0430\",\"\\u0415\\u043b\\u0435\\u0446\",\"\\u0416\\u0435\\u043b\\u0435\\u0437\\u043d\\u043e\\u0433\\u043e\\u0440\\u0441\\u043a (\\u041a\\u0440\\u0430\\u0441\\u043d\\u043e\\u044f\\u0440\\u0441\\u043a\\u0438\\u0439 \\u043a\\u0440\\u0430\\u0439)\",\"\\u0416\\u0435\\u043b\\u0435\\u0437\\u043d\\u043e\\u0434\\u043e\\u0440\\u043e\\u0436\\u043d\\u044b\\u0439\",\"\\u0416\\u0443\\u043a\\u043e\\u0432\\u0441\\u043a\\u0438\\u0439\",\"\\u0417\\u0432\\u0435\\u043d\\u0438\\u0433\\u043e\\u0440\\u043e\\u0434\",\"\\u0417\\u0435\\u043b\\u0435\\u043d\\u043e\\u0433\\u0440\\u0430\\u0434\",\"\\u0417\\u043b\\u0430\\u0442\\u043e\\u0443\\u0441\\u0442\",\"\\u0418\\u0432\\u0430\\u043d\\u043e\\u0432\\u043e (\\u0418\\u0432\\u0430\\u043d\\u043e\\u0432\\u0441\\u043a\\u0430\\u044f \\u043e\\u0431\\u043b\\u0430\\u0441\\u0442\\u044c)\",\"\\u0418\\u0432\\u0430\\u043d\\u0442\\u0435\\u0435\\u0432\\u043a\\u0430\",\"\\u0418\\u0436\\u0435\\u0432\\u0441\\u043a\",\"\\u0418\\u043d\\u043d\\u043e\\u043f\\u043e\\u043b\\u0438\\u0441\",\"\\u0418\\u0440\\u043a\\u0443\\u0442\\u0441\\u043a\",\"\\u0418\\u0440\\u043b\\u0430\\u043d\\u0434\\u0438\\u044f\",\"\\u0418\\u0441\\u043a\\u0438\\u0442\\u0438\\u043c\",\"\\u0418\\u0441\\u0442\\u0440\\u0430\",\"\\u0419\\u043e\\u0448\\u043a\\u0430\\u0440-\\u041e\\u043b\\u0430\",\"\\u041a\\u0430\\u0437\\u0430\\u043d\\u044c\",\"\\u041a\\u0430\\u043b\\u0438\\u043d\\u0438\\u043d\\u0433\\u0440\\u0430\\u0434\",\"\\u041a\\u0430\\u043b\\u0442\\u0430\\u043d\",\"\\u041a\\u0430\\u043b\\u0443\\u0433\\u0430\",\"\\u041a\\u0430\\u0448\\u0438\\u0440\\u0430\",\"\\u041a\\u0435\\u043c\\u0435\\u0440\\u043e\\u0432\\u043e\",\"\\u041a\\u0435\\u0440\\u0447\\u044c\",\"\\u041a\\u0438\\u043f\\u0440\",\"\\u041a\\u0438\\u0440\\u043e\\u0432 (\\u041a\\u0438\\u0440\\u043e\\u0432\\u0441\\u043a\\u0430\\u044f \\u043e\\u0431\\u043b\\u0430\\u0441\\u0442\\u044c)\",\"\\u041a\\u0438\\u0440\\u043e\\u0432\\u0433\\u0440\\u0430\\u0434\",\"\\u041a\\u0438\\u0440\\u043e\\u0432\\u043e-\\u0427\\u0435\\u043f\\u0435\\u0446\\u043a\",\"\\u041a\\u043b\\u0438\\u043d\",\"\\u041a\\u043e\\u0432\\u0440\\u043e\\u0432\",\"\\u041a\\u043e\\u043b\\u043e\\u043c\\u043d\\u0430\",\"\\u041a\\u043e\\u043b\\u043f\\u0438\\u043d\\u043e\",\"\\u041a\\u043e\\u043d\\u0430\\u043a\\u043e\\u0432\\u043e\",\"\\u041a\\u043e\\u0440\\u043e\\u043b\\u0435\\u0432\",\"\\u041a\\u043e\\u0441\\u0442\\u0440\\u043e\\u043c\\u0430\",\"\\u041a\\u043e\\u0442\\u0435\\u043b\\u044c\\u043d\\u0438\\u043a\\u0438\",\"\\u041a\\u043e\\u0442\\u043e\\u0432\\u0441\\u043a (\\u0422\\u0430\\u043c\\u0431\\u043e\\u0432\\u0441\\u043a\\u0430\\u044f \\u043e\\u0431\\u043b\\u0430\\u0441\\u0442\\u044c)\",\"\\u041a\\u0440\\u0430\\u0441\\u043a\\u043e\\u0432\\u043e\",\"\\u041a\\u0440\\u0430\\u0441\\u043d\\u043e\\u0433\\u043e\\u0440\\u0441\\u043a\",\"\\u041a\\u0440\\u0430\\u0441\\u043d\\u043e\\u0434\\u0430\\u0440\",\"\\u041a\\u0440\\u0430\\u0441\\u043d\\u043e\\u0437\\u043d\\u0430\\u043c\\u0435\\u043d\\u0441\\u043a (\\u041c\\u043e\\u0441\\u043a\\u043e\\u0432\\u0441\\u043a\\u0430\\u044f \\u043e\\u0431\\u043b\\u0430\\u0441\\u0442\\u044c)\",\"\\u041a\\u0440\\u0430\\u0441\\u043d\\u043e\\u0442\\u0443\\u0440\\u044c\\u0438\\u043d\\u0441\\u043a\",\"\\u041a\\u0440\\u0430\\u0441\\u043d\\u043e\\u044f\\u0440\\u0441\\u043a\",\"\\u041a\\u0443\\u0440\\u0433\\u0430\\u043d\",\"\\u041a\\u0443\\u0440\\u0441\\u043a\",\"\\u041b\\u0430\\u0442\\u0432\\u0438\\u044f\",\"\\u041b\\u0435\\u0431\\u0435\\u0434\\u044f\\u043d\\u044c\",\"\\u041b\\u0435\\u043d\\u0438\\u043d\\u043e\\u0433\\u043e\\u0440\\u0441\\u043a\",\"\\u041b\\u0438\\u043f\\u0435\\u0446\\u043a\",\"\\u041b\\u043e\\u0431\\u043d\\u044f\",\"\\u041b\\u044e\\u0431\\u0435\\u0440\\u0446\\u044b\",\"\\u041c\\u0430\\u0433\\u0430\\u0434\\u0430\\u043d\",\"\\u041c\\u0430\\u0433\\u043d\\u0438\\u0442\\u043e\\u0433\\u043e\\u0440\\u0441\\u043a\",\"\\u041c\\u0430\\u0439\\u043a\\u043e\\u043f\",\"\\u041c\\u0430\\u0439\\u043c\\u0430\",\"\\u041c\\u0430\\u043b\\u0430\\u0445\\u043e\\u0432\\u043a\\u0430 (\\u041c\\u043e\\u0441\\u043a\\u043e\\u0432\\u0441\\u043a\\u0430\\u044f \\u043e\\u0431\\u043b\\u0430\\u0441\\u0442\\u044c)\",\"\\u041c\\u0430\\u0445\\u0430\\u0447\\u043a\\u0430\\u043b\\u0430\",\"\\u041c\\u0435\\u0436\\u0434\\u0443\\u0440\\u0435\\u0447\\u0435\\u043d\\u0441\\u043a\",\"\\u041c\\u0435\\u043d\\u0434\\u0435\\u043b\\u0435\\u0435\\u0432\\u0441\\u043a\",\"\\u041c\\u0435\\u043d\\u0437\\u0435\\u043b\\u0438\\u043d\\u0441\\u043a\",\"\\u041c\\u0438\\u0430\\u0441\\u0441\",\"\\u041c\\u0438\\u043d\\u0441\\u043a\",\"\\u041c\\u043e\\u0441\\u043a\\u0432\\u0430\",\"\\u041c\\u0443\\u0440\\u043c\\u0430\\u043d\\u0441\\u043a\",\"\\u041c\\u0443\\u0440\\u043e\\u043c\",\"\\u041c\\u044b\\u0442\\u0438\\u0449\\u0438\",\"\\u041d\\u0430\\u0431\\u0435\\u0440\\u0435\\u0436\\u043d\\u044b\\u0435 \\u0427\\u0435\\u043b\\u043d\\u044b\",\"\\u041d\\u0435\\u0432\\u0438\\u043d\\u043d\\u043e\\u043c\\u044b\\u0441\\u0441\\u043a\",\"\\u041d\\u0435\\u0444\\u0442\\u0435\\u043a\\u0430\\u043c\\u0441\\u043a\",\"\\u041d\\u0435\\u0444\\u0442\\u0435\\u044e\\u0433\\u0430\\u043d\\u0441\\u043a\",\"\\u041d\\u0438\\u0436\\u043d\\u0435\\u0432\\u0430\\u0440\\u0442\\u043e\\u0432\\u0441\\u043a\",\"\\u041d\\u0438\\u0436\\u043d\\u0435\\u043a\\u0430\\u043c\\u0441\\u043a\",\"\\u041d\\u0438\\u0436\\u043d\\u0438\\u0439 \\u041d\\u043e\\u0432\\u0433\\u043e\\u0440\\u043e\\u0434\",\"\\u041d\\u0438\\u0436\\u043d\\u0438\\u0439 \\u0422\\u0430\\u0433\\u0438\\u043b\",\"\\u041d\\u043e\\u0432\\u043e\\u0431\\u0430\\u0442\\u0430\\u0439\\u0441\\u043a\",\"\\u041d\\u043e\\u0432\\u043e\\u043a\\u0443\\u0437\\u043d\\u0435\\u0446\\u043a\",\"\\u041d\\u043e\\u0432\\u043e\\u043a\\u0443\\u0439\\u0431\\u044b\\u0448\\u0435\\u0432\\u0441\\u043a\",\"\\u041d\\u043e\\u0432\\u043e\\u043c\\u043e\\u0441\\u043a\\u043e\\u0432\\u0441\\u043a (\\u0422\\u0443\\u043b\\u044c\\u0441\\u043a\\u0430\\u044f \\u043e\\u0431\\u043b\\u0430\\u0441\\u0442\\u044c)\",\"\\u041d\\u043e\\u0432\\u043e\\u0440\\u043e\\u0441\\u0441\\u0438\\u0439\\u0441\\u043a\",\"\\u041d\\u043e\\u0432\\u043e\\u0441\\u0438\\u0431\\u0438\\u0440\\u0441\\u043a\",\"\\u041d\\u043e\\u0432\\u043e\\u0447\\u0435\\u0440\\u043a\\u0430\\u0441\\u0441\\u043a\",\"\\u041d\\u043e\\u0432\\u044b\\u0439 \\u0423\\u0440\\u0435\\u043d\\u0433\\u043e\\u0439\",\"\\u041d\\u043e\\u0433\\u0438\\u043d\\u0441\\u043a\",\"\\u041d\\u043e\\u0440\\u0438\\u043b\\u044c\\u0441\\u043a\",\"\\u041e\\u0410\\u042d\",\"\\u041e\\u0431\\u043d\\u0438\\u043d\\u0441\\u043a\",\"\\u041e\\u0434\\u0438\\u043d\\u0446\\u043e\\u0432\\u043e\",\"\\u041e\\u0437\\u0435\\u0440\\u0441\\u043a (\\u0427\\u0435\\u043b\\u044f\\u0431\\u0438\\u043d\\u0441\\u043a\\u0430\\u044f \\u043e\\u0431\\u043b\\u0430\\u0441\\u0442\\u044c)\",\"\\u041e\\u043a\\u0442\\u044f\\u0431\\u0440\\u044c\\u0441\\u043a\\u0438\\u0439 (\\u0420\\u0435\\u0441\\u043f\\u0443\\u0431\\u043b\\u0438\\u043a\\u0430 \\u0411\\u0430\\u0448\\u043a\\u043e\\u0440\\u0442\\u043e\\u0441\\u0442\\u0430\\u043d)\",\"\\u041e\\u043c\\u0441\\u043a\",\"\\u041e\\u0440\\u0435\\u043b\",\"\\u041e\\u0440\\u0435\\u043d\\u0431\\u0443\\u0440\\u0433\",\"\\u041e\\u0440\\u0435\\u0445\\u043e\\u0432\\u043e-\\u0417\\u0443\\u0435\\u0432\\u043e\",\"\\u041e\\u0440\\u0441\\u043a\",\"\\u041e\\u0441\\u0438\\u043d\\u043d\\u0438\\u043a\\u0438\",\"\\u041f\\u0430\\u0432\\u043b\\u043e\\u0434\\u0430\\u0440\",\"\\u041f\\u0435\\u043d\\u0437\\u0430\",\"\\u041f\\u0435\\u0440\\u043c\\u044c\",\"\\u041f\\u0435\\u0442\\u0440\\u043e\\u0437\\u0430\\u0432\\u043e\\u0434\\u0441\\u043a\",\"\\u041f\\u0435\\u0442\\u0440\\u043e\\u043f\\u0430\\u0432\\u043b\\u043e\\u0432\\u0441\\u043a-\\u041a\\u0430\\u043c\\u0447\\u0430\\u0442\\u0441\\u043a\\u0438\\u0439\",\"\\u041f\\u043e\\u0434\\u043e\\u043b\\u044c\\u0441\\u043a (\\u041c\\u043e\\u0441\\u043a\\u043e\\u0432\\u0441\\u043a\\u0430\\u044f \\u043e\\u0431\\u043b\\u0430\\u0441\\u0442\\u044c)\",\"\\u041f\\u043e\\u043b\\u044c\\u0448\\u0430\",\"\\u041f\\u0440\\u043e\\u043a\\u043e\\u043f\\u044c\\u0435\\u0432\\u0441\\u043a\",\"\\u041f\\u0441\\u043a\\u043e\\u0432\",\"\\u041f\\u0443\\u0448\\u043a\\u0438\\u043d\\u043e (\\u041c\\u043e\\u0441\\u043a\\u043e\\u0432\\u0441\\u043a\\u0430\\u044f \\u043e\\u0431\\u043b\\u0430\\u0441\\u0442\\u044c)\",\"\\u041f\\u044f\\u0442\\u0438\\u0433\\u043e\\u0440\\u0441\\u043a\",\"\\u0420\\u0430\\u043c\\u0435\\u043d\\u0441\\u043a\\u043e\\u0435\",\"\\u0420\\u0435\\u0443\\u0442\\u043e\\u0432\",\"\\u0420\\u043e\\u0441\\u0442\\u043e\\u0432-\\u043d\\u0430-\\u0414\\u043e\\u043d\\u0443\",\"\\u0420\\u0443\\u0431\\u0446\\u043e\\u0432\\u0441\\u043a\",\"\\u0420\\u044b\\u0431\\u0438\\u043d\\u0441\\u043a\",\"\\u0420\\u044f\\u0437\\u0430\\u043d\\u044c\",\"\\u0421\\u0428\\u0410\",\"\\u0421\\u0430\\u043b\\u0435\\u0445\\u0430\\u0440\\u0434\",\"\\u0421\\u0430\\u043c\\u0430\\u0440\\u0430\",\"\\u0421\\u0430\\u043c\\u0430\\u0440\\u0441\\u043a\\u043e\\u0435\",\"\\u0421\\u0430\\u043d\\u043a\\u0442-\\u041f\\u0435\\u0442\\u0435\\u0440\\u0431\\u0443\\u0440\\u0433\",\"\\u0421\\u0430\\u0440\\u0430\\u043d\\u0441\\u043a\",\"\\u0421\\u0430\\u0440\\u0430\\u0442\\u043e\\u0432\",\"\\u0421\\u0430\\u0442\\u043a\\u0430\",\"\\u0421\\u0432\\u0435\\u0442\\u043b\\u044b\\u0439\",\"\\u0421\\u0435\\u0432\\u0430\\u0441\\u0442\\u043e\\u043f\\u043e\\u043b\\u044c\",\"\\u0421\\u0435\\u0432\\u0435\\u0440\\u043e\\u0434\\u0432\\u0438\\u043d\\u0441\\u043a\",\"\\u0421\\u0435\\u0432\\u0435\\u0440\\u0441\\u043a (\\u0422\\u043e\\u043c\\u0441\\u043a\\u0430\\u044f \\u043e\\u0431\\u043b\\u0430\\u0441\\u0442\\u044c)\",\"\\u0421\\u0435\\u043d\\u0442-\\u0412\\u0438\\u043d\\u0441\\u0435\\u043d\\u0442 \\u0438 \\u0413\\u0440\\u0435\\u043d\\u0430\\u0434\\u0438\\u043d\\u044b\",\"\\u0421\\u0435\\u0440\\u0431\\u0438\\u044f\",\"\\u0421\\u0435\\u0440\\u0433\\u0438\\u0435\\u0432 \\u041f\\u043e\\u0441\\u0430\\u0434\",\"\\u0421\\u0435\\u0440\\u043e\\u0432\",\"\\u0421\\u0435\\u0440\\u043f\\u0443\\u0445\\u043e\\u0432\",\"\\u0421\\u0438\\u043c\\u0444\\u0435\\u0440\\u043e\\u043f\\u043e\\u043b\\u044c\",\"\\u0421\\u043c\\u043e\\u043b\\u0435\\u043d\\u0441\\u043a\",\"\\u0421\\u043e\\u043b\\u043d\\u0435\\u0447\\u043d\\u043e\\u0433\\u043e\\u0440\\u0441\\u043a\",\"\\u0421\\u043e\\u0441\\u043d\\u043e\\u0432\\u043e\\u0431\\u043e\\u0440\\u0441\\u043a\",\"\\u0421\\u043e\\u0447\\u0438\",\"\\u0421\\u043f\\u0430\\u0441\\u0441\\u043a-\\u0414\\u0430\\u043b\\u044c\\u043d\\u0438\\u0439\",\"\\u0421\\u0440\\u0435\\u0434\\u043d\\u0435\\u0443\\u0440\\u0430\\u043b\\u044c\\u0441\\u043a\",\"\\u0421\\u0442\\u0430\\u0432\\u0440\\u043e\\u043f\\u043e\\u043b\\u044c\",\"\\u0421\\u0442\\u0430\\u0440\\u044b\\u0439 \\u041e\\u0441\\u043a\\u043e\\u043b\",\"\\u0421\\u0442\\u0435\\u0440\\u043b\\u0438\\u0442\\u0430\\u043c\\u0430\\u043a\",\"\\u0421\\u0442\\u0440\\u043e\\u0438\\u0442\\u0435\\u043b\\u044c (\\u0411\\u0435\\u043b\\u0433\\u043e\\u0440\\u043e\\u0434\\u0441\\u043a\\u0430\\u044f \\u043e\\u0431\\u043b\\u0430\\u0441\\u0442\\u044c)\",\"\\u0421\\u0443\\u0440\\u0433\\u0443\\u0442\",\"\\u0422\\u0430\\u0433\\u0430\\u043d\\u0440\\u043e\\u0433\",\"\\u0422\\u0430\\u0438\\u043b\\u0430\\u043d\\u0434\",\"\\u0422\\u0430\\u043c\\u0431\\u043e\\u0432\",\"\\u0422\\u0430\\u0448\\u043a\\u0435\\u043d\\u0442\",\"\\u0422\\u0431\\u0438\\u043b\\u0438\\u0441\\u0438\",\"\\u0422\\u0432\\u0435\\u0440\\u044c\",\"\\u0422\\u043e\\u043b\\u044c\\u044f\\u0442\\u0442\\u0438\",\"\\u0422\\u043e\\u043c\\u0438\\u043b\\u0438\\u043d\\u043e\",\"\\u0422\\u043e\\u043c\\u0441\\u043a\",\"\\u0422\\u0440\\u043e\\u0438\\u0446\\u043a (\\u041c\\u043e\\u0441\\u043a\\u043e\\u0432\\u0441\\u043a\\u0430\\u044f \\u043e\\u0431\\u043b\\u0430\\u0441\\u0442\\u044c)\",\"\\u0422\\u0443\\u043b\\u0430\",\"\\u0422\\u0443\\u0440\\u0446\\u0438\\u044f\",\"\\u0422\\u044e\\u043c\\u0435\\u043d\\u044c\",\"\\u0423\\u043b\\u0430\\u043d-\\u0423\\u0434\\u044d\",\"\\u0423\\u043b\\u044c\\u044f\\u043d\\u043e\\u0432\\u0441\\u043a\",\"\\u0423\\u0444\\u0430\",\"\\u0425\\u0430\\u0431\\u0430\\u0440\\u043e\\u0432\\u0441\\u043a\",\"\\u0425\\u0430\\u043d\\u0442\\u044b-\\u041c\\u0430\\u043d\\u0441\\u0438\\u0439\\u0441\\u043a\",\"\\u0425\\u0438\\u043c\\u043a\\u0438\",\"\\u0427\\u0430\\u043b\\u0442\\u044b\\u0440\\u044c\",\"\\u0427\\u0430\\u043f\\u0430\\u0435\\u0432\\u0441\\u043a\",\"\\u0427\\u0435\\u0431\\u0430\\u0440\\u043a\\u0443\\u043b\\u044c\",\"\\u0427\\u0435\\u0431\\u043e\\u043a\\u0441\\u0430\\u0440\\u044b\",\"\\u0427\\u0435\\u043b\\u044f\\u0431\\u0438\\u043d\\u0441\\u043a\",\"\\u0427\\u0435\\u0440\\u0435\\u043f\\u043e\\u0432\\u0435\\u0446\",\"\\u0427\\u0435\\u0440\\u043d\\u043e\\u0433\\u043e\\u0440\\u0438\\u044f\",\"\\u0427\\u0435\\u0440\\u043d\\u044f\\u0445\\u043e\\u0432\\u0441\\u043a\",\"\\u0427\\u0435\\u0445\\u0438\\u044f\",\"\\u0427\\u0435\\u0445\\u043e\\u0432\",\"\\u0427\\u0438\\u0442\\u0430\",\"\\u0427\\u043e\\u043b\\u043f\\u043e\\u043d-\\u0410\\u0442\\u0430\",\"\\u0427\\u0451\\u0440\\u043d\\u043e\\u0435 (\\u041c\\u043e\\u0441\\u043a\\u043e\\u0432\\u0441\\u043a\\u0430\\u044f \\u043e\\u0431\\u043b\\u0430\\u0441\\u0442\\u044c)\",\"\\u0428\\u0435\\u0431\\u0435\\u043a\\u0438\\u043d\\u043e\",\"\\u0428\\u044b\\u043c\\u043a\\u0435\\u043d\\u0442\",\"\\u0429\\u0435\\u043b\\u043a\\u043e\\u0432\\u043e\",\"\\u042d\\u043b\\u0435\\u043a\\u0442\\u0440\\u043e\\u0441\\u0442\\u0430\\u043b\\u044c\",\"\\u042d\\u043d\\u0433\\u0435\\u043b\\u044c\\u0441\",\"\\u042e\\u0436\\u043d\\u043e-\\u0421\\u0430\\u0445\\u0430\\u043b\\u0438\\u043d\\u0441\\u043a\",\"\\u042e\\u0440\\u0433\\u0430\",\"\\u042f\\u043a\\u0443\\u0442\\u0441\\u043a\",\"\\u042f\\u0440\\u043e\\u0441\\u043b\\u0430\\u0432\\u043b\\u044c\"],\"labels\":[\"\\u0410\\u0431\\u0430\\u043a\\u0430\\u043d\",\"\\u0410\\u0434\\u043b\\u0435\\u0440\",\"\\u0410\\u0437\\u043e\\u0432\",\"\\u0410\\u043b\\u043c\\u0430\\u0442\\u044b\",\"\\u0410\\u043b\\u044c\\u043c\\u0435\\u0442\\u044c\\u0435\\u0432\\u0441\\u043a\",\"\\u0410\\u043d\\u0433\\u0430\\u0440\\u0441\\u043a\",\"\\u0410\\u0440\\u043c\\u0430\\u0432\\u0438\\u0440\",\"\\u0410\\u0440\\u043c\\u0435\\u043d\\u0438\\u044f\",\"\\u0410\\u0440\\u0442\\u0435\\u043c\",\"\\u0410\\u0440\\u0445\\u0430\\u043d\\u0433\\u0435\\u043b\\u044c\\u0441\\u043a\",\"\\u0410\\u0441\\u0442\\u0430\\u043d\\u0430\",\"\\u0410\\u0441\\u0442\\u0440\\u0430\\u0445\\u0430\\u043d\\u044c\",\"\\u0411\\u0430\\u0431\\u0430\\u0435\\u0432\\u043e\",\"\\u0411\\u0430\\u043a\\u0443\",\"\\u0411\\u0430\\u043b\\u0430\\u0448\\u0438\\u0445\\u0430\",\"\\u0411\\u0430\\u0440\\u043d\\u0430\\u0443\\u043b\",\"\\u0411\\u0430\\u0442\\u0430\\u0439\\u0441\\u043a\",\"\\u0411\\u0430\\u0442\\u0443\\u043c\\u0438\",\"\\u0411\\u0435\\u043b\\u0433\\u043e\\u0440\\u043e\\u0434\",\"\\u0411\\u0435\\u043b\\u043e\\u0432\\u043e\",\"\\u0411\\u0435\\u0440\\u0434\\u0441\\u043a\",\"\\u0411\\u0438\\u0439\\u0441\\u043a\",\"\\u0411\\u0438\\u0448\\u043a\\u0435\\u043a\",\"\\u0411\\u043b\\u0430\\u0433\\u043e\\u0432\\u0435\\u0449\\u0435\\u043d\\u0441\\u043a (\\u0410\\u043c\\u0443\\u0440\\u0441\\u043a\\u0430\\u044f \\u043e\\u0431\\u043b\\u0430\\u0441\\u0442\\u044c)\",\"\\u0411\\u0440\\u044f\\u043d\\u0441\\u043a\",\"\\u0412\\u0435\\u043b\\u0438\\u043a\\u0438\\u0439 \\u041d\\u043e\\u0432\\u0433\\u043e\\u0440\\u043e\\u0434\",\"\\u0412\\u0435\\u0440\\u0445\\u043d\\u044f\\u044f \\u041f\\u044b\\u0448\\u043c\\u0430\",\"\\u0412\\u0438\\u0434\\u043d\\u043e\\u0435\",\"\\u0412\\u043b\\u0430\\u0434\\u0438\\u0432\\u043e\\u0441\\u0442\\u043e\\u043a\",\"\\u0412\\u043b\\u0430\\u0434\\u0438\\u043c\\u0438\\u0440\",\"\\u0412\\u043e\\u043b\\u0433\\u043e\\u0433\\u0440\\u0430\\u0434\",\"\\u0412\\u043e\\u043b\\u0433\\u043e\\u0434\\u043e\\u043d\\u0441\\u043a\",\"\\u0412\\u043e\\u043b\\u0436\\u0441\\u043a\\u0438\\u0439 (\\u0412\\u043e\\u043b\\u0433\\u043e\\u0433\\u0440\\u0430\\u0434\\u0441\\u043a\\u0430\\u044f \\u043e\\u0431\\u043b\\u0430\\u0441\\u0442\\u044c)\",\"\\u0412\\u043e\\u043b\\u043e\\u0433\\u0434\\u0430\",\"\\u0412\\u043e\\u043b\\u044c\\u043d\\u043e-\\u041d\\u0430\\u0434\\u0435\\u0436\\u0434\\u0438\\u043d\\u0441\\u043a\\u043e\\u0435\",\"\\u0412\\u043e\\u0440\\u043e\\u043d\\u0435\\u0436\",\"\\u0413\\u043e\\u043c\\u0435\\u043b\\u044c\",\"\\u0413\\u043e\\u0440\\u043d\\u043e-\\u0410\\u043b\\u0442\\u0430\\u0439\\u0441\\u043a\",\"\\u0413\\u0443\\u0431\\u043a\\u0438\\u043d\",\"\\u0413\\u0443\\u0441\\u0435\\u0432\",\"\\u0414\\u0436\\u0430\\u043d\\u043a\\u043e\\u0439\",\"\\u0414\\u0437\\u0435\\u0440\\u0436\\u0438\\u043d\\u0441\\u043a (\\u041d\\u0438\\u0436\\u0435\\u0433\\u043e\\u0440\\u043e\\u0434\\u0441\\u043a\\u0430\\u044f \\u043e\\u0431\\u043b\\u0430\\u0441\\u0442\\u044c)\",\"\\u0414\\u0438\\u043c\\u0438\\u0442\\u0440\\u043e\\u0432\\u0433\\u0440\\u0430\\u0434\",\"\\u0414\\u043c\\u0438\\u0442\\u0440\\u043e\\u0432\",\"\\u0414\\u043e\\u043b\\u0433\\u043e\\u043f\\u0440\\u0443\\u0434\\u043d\\u044b\\u0439\",\"\\u0414\\u043e\\u043c\\u043e\\u0434\\u0435\\u0434\\u043e\\u0432\\u043e\",\"\\u0415\\u043a\\u0430\\u0442\\u0435\\u0440\\u0438\\u043d\\u0431\\u0443\\u0440\\u0433\",\"\\u0415\\u043b\\u0430\\u0431\\u0443\\u0433\\u0430\",\"\\u0415\\u043b\\u0435\\u0446\",\"\\u0416\\u0435\\u043b\\u0435\\u0437\\u043d\\u043e\\u0433\\u043e\\u0440\\u0441\\u043a (\\u041a\\u0440\\u0430\\u0441\\u043d\\u043e\\u044f\\u0440\\u0441\\u043a\\u0438\\u0439 \\u043a\\u0440\\u0430\\u0439)\",\"\\u0416\\u0435\\u043b\\u0435\\u0437\\u043d\\u043e\\u0434\\u043e\\u0440\\u043e\\u0436\\u043d\\u044b\\u0439\",\"\\u0416\\u0443\\u043a\\u043e\\u0432\\u0441\\u043a\\u0438\\u0439\",\"\\u0417\\u0432\\u0435\\u043d\\u0438\\u0433\\u043e\\u0440\\u043e\\u0434\",\"\\u0417\\u0435\\u043b\\u0435\\u043d\\u043e\\u0433\\u0440\\u0430\\u0434\",\"\\u0417\\u043b\\u0430\\u0442\\u043e\\u0443\\u0441\\u0442\",\"\\u0418\\u0432\\u0430\\u043d\\u043e\\u0432\\u043e (\\u0418\\u0432\\u0430\\u043d\\u043e\\u0432\\u0441\\u043a\\u0430\\u044f \\u043e\\u0431\\u043b\\u0430\\u0441\\u0442\\u044c)\",\"\\u0418\\u0432\\u0430\\u043d\\u0442\\u0435\\u0435\\u0432\\u043a\\u0430\",\"\\u0418\\u0436\\u0435\\u0432\\u0441\\u043a\",\"\\u0418\\u043d\\u043d\\u043e\\u043f\\u043e\\u043b\\u0438\\u0441\",\"\\u0418\\u0440\\u043a\\u0443\\u0442\\u0441\\u043a\",\"\\u0418\\u0440\\u043b\\u0430\\u043d\\u0434\\u0438\\u044f\",\"\\u0418\\u0441\\u043a\\u0438\\u0442\\u0438\\u043c\",\"\\u0418\\u0441\\u0442\\u0440\\u0430\",\"\\u0419\\u043e\\u0448\\u043a\\u0430\\u0440-\\u041e\\u043b\\u0430\",\"\\u041a\\u0430\\u0437\\u0430\\u043d\\u044c\",\"\\u041a\\u0430\\u043b\\u0438\\u043d\\u0438\\u043d\\u0433\\u0440\\u0430\\u0434\",\"\\u041a\\u0430\\u043b\\u0442\\u0430\\u043d\",\"\\u041a\\u0430\\u043b\\u0443\\u0433\\u0430\",\"\\u041a\\u0430\\u0448\\u0438\\u0440\\u0430\",\"\\u041a\\u0435\\u043c\\u0435\\u0440\\u043e\\u0432\\u043e\",\"\\u041a\\u0435\\u0440\\u0447\\u044c\",\"\\u041a\\u0438\\u043f\\u0440\",\"\\u041a\\u0438\\u0440\\u043e\\u0432 (\\u041a\\u0438\\u0440\\u043e\\u0432\\u0441\\u043a\\u0430\\u044f \\u043e\\u0431\\u043b\\u0430\\u0441\\u0442\\u044c)\",\"\\u041a\\u0438\\u0440\\u043e\\u0432\\u0433\\u0440\\u0430\\u0434\",\"\\u041a\\u0438\\u0440\\u043e\\u0432\\u043e-\\u0427\\u0435\\u043f\\u0435\\u0446\\u043a\",\"\\u041a\\u043b\\u0438\\u043d\",\"\\u041a\\u043e\\u0432\\u0440\\u043e\\u0432\",\"\\u041a\\u043e\\u043b\\u043e\\u043c\\u043d\\u0430\",\"\\u041a\\u043e\\u043b\\u043f\\u0438\\u043d\\u043e\",\"\\u041a\\u043e\\u043d\\u0430\\u043a\\u043e\\u0432\\u043e\",\"\\u041a\\u043e\\u0440\\u043e\\u043b\\u0435\\u0432\",\"\\u041a\\u043e\\u0441\\u0442\\u0440\\u043e\\u043c\\u0430\",\"\\u041a\\u043e\\u0442\\u0435\\u043b\\u044c\\u043d\\u0438\\u043a\\u0438\",\"\\u041a\\u043e\\u0442\\u043e\\u0432\\u0441\\u043a (\\u0422\\u0430\\u043c\\u0431\\u043e\\u0432\\u0441\\u043a\\u0430\\u044f \\u043e\\u0431\\u043b\\u0430\\u0441\\u0442\\u044c)\",\"\\u041a\\u0440\\u0430\\u0441\\u043a\\u043e\\u0432\\u043e\",\"\\u041a\\u0440\\u0430\\u0441\\u043d\\u043e\\u0433\\u043e\\u0440\\u0441\\u043a\",\"\\u041a\\u0440\\u0430\\u0441\\u043d\\u043e\\u0434\\u0430\\u0440\",\"\\u041a\\u0440\\u0430\\u0441\\u043d\\u043e\\u0437\\u043d\\u0430\\u043c\\u0435\\u043d\\u0441\\u043a (\\u041c\\u043e\\u0441\\u043a\\u043e\\u0432\\u0441\\u043a\\u0430\\u044f \\u043e\\u0431\\u043b\\u0430\\u0441\\u0442\\u044c)\",\"\\u041a\\u0440\\u0430\\u0441\\u043d\\u043e\\u0442\\u0443\\u0440\\u044c\\u0438\\u043d\\u0441\\u043a\",\"\\u041a\\u0440\\u0430\\u0441\\u043d\\u043e\\u044f\\u0440\\u0441\\u043a\",\"\\u041a\\u0443\\u0440\\u0433\\u0430\\u043d\",\"\\u041a\\u0443\\u0440\\u0441\\u043a\",\"\\u041b\\u0430\\u0442\\u0432\\u0438\\u044f\",\"\\u041b\\u0435\\u0431\\u0435\\u0434\\u044f\\u043d\\u044c\",\"\\u041b\\u0435\\u043d\\u0438\\u043d\\u043e\\u0433\\u043e\\u0440\\u0441\\u043a\",\"\\u041b\\u0438\\u043f\\u0435\\u0446\\u043a\",\"\\u041b\\u043e\\u0431\\u043d\\u044f\",\"\\u041b\\u044e\\u0431\\u0435\\u0440\\u0446\\u044b\",\"\\u041c\\u0430\\u0433\\u0430\\u0434\\u0430\\u043d\",\"\\u041c\\u0430\\u0433\\u043d\\u0438\\u0442\\u043e\\u0433\\u043e\\u0440\\u0441\\u043a\",\"\\u041c\\u0430\\u0439\\u043a\\u043e\\u043f\",\"\\u041c\\u0430\\u0439\\u043c\\u0430\",\"\\u041c\\u0430\\u043b\\u0430\\u0445\\u043e\\u0432\\u043a\\u0430 (\\u041c\\u043e\\u0441\\u043a\\u043e\\u0432\\u0441\\u043a\\u0430\\u044f \\u043e\\u0431\\u043b\\u0430\\u0441\\u0442\\u044c)\",\"\\u041c\\u0430\\u0445\\u0430\\u0447\\u043a\\u0430\\u043b\\u0430\",\"\\u041c\\u0435\\u0436\\u0434\\u0443\\u0440\\u0435\\u0447\\u0435\\u043d\\u0441\\u043a\",\"\\u041c\\u0435\\u043d\\u0434\\u0435\\u043b\\u0435\\u0435\\u0432\\u0441\\u043a\",\"\\u041c\\u0435\\u043d\\u0437\\u0435\\u043b\\u0438\\u043d\\u0441\\u043a\",\"\\u041c\\u0438\\u0430\\u0441\\u0441\",\"\\u041c\\u0438\\u043d\\u0441\\u043a\",\"\\u041c\\u043e\\u0441\\u043a\\u0432\\u0430\",\"\\u041c\\u0443\\u0440\\u043c\\u0430\\u043d\\u0441\\u043a\",\"\\u041c\\u0443\\u0440\\u043e\\u043c\",\"\\u041c\\u044b\\u0442\\u0438\\u0449\\u0438\",\"\\u041d\\u0430\\u0431\\u0435\\u0440\\u0435\\u0436\\u043d\\u044b\\u0435 \\u0427\\u0435\\u043b\\u043d\\u044b\",\"\\u041d\\u0435\\u0432\\u0438\\u043d\\u043d\\u043e\\u043c\\u044b\\u0441\\u0441\\u043a\",\"\\u041d\\u0435\\u0444\\u0442\\u0435\\u043a\\u0430\\u043c\\u0441\\u043a\",\"\\u041d\\u0435\\u0444\\u0442\\u0435\\u044e\\u0433\\u0430\\u043d\\u0441\\u043a\",\"\\u041d\\u0438\\u0436\\u043d\\u0435\\u0432\\u0430\\u0440\\u0442\\u043e\\u0432\\u0441\\u043a\",\"\\u041d\\u0438\\u0436\\u043d\\u0435\\u043a\\u0430\\u043c\\u0441\\u043a\",\"\\u041d\\u0438\\u0436\\u043d\\u0438\\u0439 \\u041d\\u043e\\u0432\\u0433\\u043e\\u0440\\u043e\\u0434\",\"\\u041d\\u0438\\u0436\\u043d\\u0438\\u0439 \\u0422\\u0430\\u0433\\u0438\\u043b\",\"\\u041d\\u043e\\u0432\\u043e\\u0431\\u0430\\u0442\\u0430\\u0439\\u0441\\u043a\",\"\\u041d\\u043e\\u0432\\u043e\\u043a\\u0443\\u0437\\u043d\\u0435\\u0446\\u043a\",\"\\u041d\\u043e\\u0432\\u043e\\u043a\\u0443\\u0439\\u0431\\u044b\\u0448\\u0435\\u0432\\u0441\\u043a\",\"\\u041d\\u043e\\u0432\\u043e\\u043c\\u043e\\u0441\\u043a\\u043e\\u0432\\u0441\\u043a (\\u0422\\u0443\\u043b\\u044c\\u0441\\u043a\\u0430\\u044f \\u043e\\u0431\\u043b\\u0430\\u0441\\u0442\\u044c)\",\"\\u041d\\u043e\\u0432\\u043e\\u0440\\u043e\\u0441\\u0441\\u0438\\u0439\\u0441\\u043a\",\"\\u041d\\u043e\\u0432\\u043e\\u0441\\u0438\\u0431\\u0438\\u0440\\u0441\\u043a\",\"\\u041d\\u043e\\u0432\\u043e\\u0447\\u0435\\u0440\\u043a\\u0430\\u0441\\u0441\\u043a\",\"\\u041d\\u043e\\u0432\\u044b\\u0439 \\u0423\\u0440\\u0435\\u043d\\u0433\\u043e\\u0439\",\"\\u041d\\u043e\\u0433\\u0438\\u043d\\u0441\\u043a\",\"\\u041d\\u043e\\u0440\\u0438\\u043b\\u044c\\u0441\\u043a\",\"\\u041e\\u0410\\u042d\",\"\\u041e\\u0431\\u043d\\u0438\\u043d\\u0441\\u043a\",\"\\u041e\\u0434\\u0438\\u043d\\u0446\\u043e\\u0432\\u043e\",\"\\u041e\\u0437\\u0435\\u0440\\u0441\\u043a (\\u0427\\u0435\\u043b\\u044f\\u0431\\u0438\\u043d\\u0441\\u043a\\u0430\\u044f \\u043e\\u0431\\u043b\\u0430\\u0441\\u0442\\u044c)\",\"\\u041e\\u043a\\u0442\\u044f\\u0431\\u0440\\u044c\\u0441\\u043a\\u0438\\u0439 (\\u0420\\u0435\\u0441\\u043f\\u0443\\u0431\\u043b\\u0438\\u043a\\u0430 \\u0411\\u0430\\u0448\\u043a\\u043e\\u0440\\u0442\\u043e\\u0441\\u0442\\u0430\\u043d)\",\"\\u041e\\u043c\\u0441\\u043a\",\"\\u041e\\u0440\\u0435\\u043b\",\"\\u041e\\u0440\\u0435\\u043d\\u0431\\u0443\\u0440\\u0433\",\"\\u041e\\u0440\\u0435\\u0445\\u043e\\u0432\\u043e-\\u0417\\u0443\\u0435\\u0432\\u043e\",\"\\u041e\\u0440\\u0441\\u043a\",\"\\u041e\\u0441\\u0438\\u043d\\u043d\\u0438\\u043a\\u0438\",\"\\u041f\\u0430\\u0432\\u043b\\u043e\\u0434\\u0430\\u0440\",\"\\u041f\\u0435\\u043d\\u0437\\u0430\",\"\\u041f\\u0435\\u0440\\u043c\\u044c\",\"\\u041f\\u0435\\u0442\\u0440\\u043e\\u0437\\u0430\\u0432\\u043e\\u0434\\u0441\\u043a\",\"\\u041f\\u0435\\u0442\\u0440\\u043e\\u043f\\u0430\\u0432\\u043b\\u043e\\u0432\\u0441\\u043a-\\u041a\\u0430\\u043c\\u0447\\u0430\\u0442\\u0441\\u043a\\u0438\\u0439\",\"\\u041f\\u043e\\u0434\\u043e\\u043b\\u044c\\u0441\\u043a (\\u041c\\u043e\\u0441\\u043a\\u043e\\u0432\\u0441\\u043a\\u0430\\u044f \\u043e\\u0431\\u043b\\u0430\\u0441\\u0442\\u044c)\",\"\\u041f\\u043e\\u043b\\u044c\\u0448\\u0430\",\"\\u041f\\u0440\\u043e\\u043a\\u043e\\u043f\\u044c\\u0435\\u0432\\u0441\\u043a\",\"\\u041f\\u0441\\u043a\\u043e\\u0432\",\"\\u041f\\u0443\\u0448\\u043a\\u0438\\u043d\\u043e (\\u041c\\u043e\\u0441\\u043a\\u043e\\u0432\\u0441\\u043a\\u0430\\u044f \\u043e\\u0431\\u043b\\u0430\\u0441\\u0442\\u044c)\",\"\\u041f\\u044f\\u0442\\u0438\\u0433\\u043e\\u0440\\u0441\\u043a\",\"\\u0420\\u0430\\u043c\\u0435\\u043d\\u0441\\u043a\\u043e\\u0435\",\"\\u0420\\u0435\\u0443\\u0442\\u043e\\u0432\",\"\\u0420\\u043e\\u0441\\u0442\\u043e\\u0432-\\u043d\\u0430-\\u0414\\u043e\\u043d\\u0443\",\"\\u0420\\u0443\\u0431\\u0446\\u043e\\u0432\\u0441\\u043a\",\"\\u0420\\u044b\\u0431\\u0438\\u043d\\u0441\\u043a\",\"\\u0420\\u044f\\u0437\\u0430\\u043d\\u044c\",\"\\u0421\\u0428\\u0410\",\"\\u0421\\u0430\\u043b\\u0435\\u0445\\u0430\\u0440\\u0434\",\"\\u0421\\u0430\\u043c\\u0430\\u0440\\u0430\",\"\\u0421\\u0430\\u043c\\u0430\\u0440\\u0441\\u043a\\u043e\\u0435\",\"\\u0421\\u0430\\u043d\\u043a\\u0442-\\u041f\\u0435\\u0442\\u0435\\u0440\\u0431\\u0443\\u0440\\u0433\",\"\\u0421\\u0430\\u0440\\u0430\\u043d\\u0441\\u043a\",\"\\u0421\\u0430\\u0440\\u0430\\u0442\\u043e\\u0432\",\"\\u0421\\u0430\\u0442\\u043a\\u0430\",\"\\u0421\\u0432\\u0435\\u0442\\u043b\\u044b\\u0439\",\"\\u0421\\u0435\\u0432\\u0430\\u0441\\u0442\\u043e\\u043f\\u043e\\u043b\\u044c\",\"\\u0421\\u0435\\u0432\\u0435\\u0440\\u043e\\u0434\\u0432\\u0438\\u043d\\u0441\\u043a\",\"\\u0421\\u0435\\u0432\\u0435\\u0440\\u0441\\u043a (\\u0422\\u043e\\u043c\\u0441\\u043a\\u0430\\u044f \\u043e\\u0431\\u043b\\u0430\\u0441\\u0442\\u044c)\",\"\\u0421\\u0435\\u043d\\u0442-\\u0412\\u0438\\u043d\\u0441\\u0435\\u043d\\u0442 \\u0438 \\u0413\\u0440\\u0435\\u043d\\u0430\\u0434\\u0438\\u043d\\u044b\",\"\\u0421\\u0435\\u0440\\u0431\\u0438\\u044f\",\"\\u0421\\u0435\\u0440\\u0433\\u0438\\u0435\\u0432 \\u041f\\u043e\\u0441\\u0430\\u0434\",\"\\u0421\\u0435\\u0440\\u043e\\u0432\",\"\\u0421\\u0435\\u0440\\u043f\\u0443\\u0445\\u043e\\u0432\",\"\\u0421\\u0438\\u043c\\u0444\\u0435\\u0440\\u043e\\u043f\\u043e\\u043b\\u044c\",\"\\u0421\\u043c\\u043e\\u043b\\u0435\\u043d\\u0441\\u043a\",\"\\u0421\\u043e\\u043b\\u043d\\u0435\\u0447\\u043d\\u043e\\u0433\\u043e\\u0440\\u0441\\u043a\",\"\\u0421\\u043e\\u0441\\u043d\\u043e\\u0432\\u043e\\u0431\\u043e\\u0440\\u0441\\u043a\",\"\\u0421\\u043e\\u0447\\u0438\",\"\\u0421\\u043f\\u0430\\u0441\\u0441\\u043a-\\u0414\\u0430\\u043b\\u044c\\u043d\\u0438\\u0439\",\"\\u0421\\u0440\\u0435\\u0434\\u043d\\u0435\\u0443\\u0440\\u0430\\u043b\\u044c\\u0441\\u043a\",\"\\u0421\\u0442\\u0430\\u0432\\u0440\\u043e\\u043f\\u043e\\u043b\\u044c\",\"\\u0421\\u0442\\u0430\\u0440\\u044b\\u0439 \\u041e\\u0441\\u043a\\u043e\\u043b\",\"\\u0421\\u0442\\u0435\\u0440\\u043b\\u0438\\u0442\\u0430\\u043c\\u0430\\u043a\",\"\\u0421\\u0442\\u0440\\u043e\\u0438\\u0442\\u0435\\u043b\\u044c (\\u0411\\u0435\\u043b\\u0433\\u043e\\u0440\\u043e\\u0434\\u0441\\u043a\\u0430\\u044f \\u043e\\u0431\\u043b\\u0430\\u0441\\u0442\\u044c)\",\"\\u0421\\u0443\\u0440\\u0433\\u0443\\u0442\",\"\\u0422\\u0430\\u0433\\u0430\\u043d\\u0440\\u043e\\u0433\",\"\\u0422\\u0430\\u0438\\u043b\\u0430\\u043d\\u0434\",\"\\u0422\\u0430\\u043c\\u0431\\u043e\\u0432\",\"\\u0422\\u0430\\u0448\\u043a\\u0435\\u043d\\u0442\",\"\\u0422\\u0431\\u0438\\u043b\\u0438\\u0441\\u0438\",\"\\u0422\\u0432\\u0435\\u0440\\u044c\",\"\\u0422\\u043e\\u043b\\u044c\\u044f\\u0442\\u0442\\u0438\",\"\\u0422\\u043e\\u043c\\u0438\\u043b\\u0438\\u043d\\u043e\",\"\\u0422\\u043e\\u043c\\u0441\\u043a\",\"\\u0422\\u0440\\u043e\\u0438\\u0446\\u043a (\\u041c\\u043e\\u0441\\u043a\\u043e\\u0432\\u0441\\u043a\\u0430\\u044f \\u043e\\u0431\\u043b\\u0430\\u0441\\u0442\\u044c)\",\"\\u0422\\u0443\\u043b\\u0430\",\"\\u0422\\u0443\\u0440\\u0446\\u0438\\u044f\",\"\\u0422\\u044e\\u043c\\u0435\\u043d\\u044c\",\"\\u0423\\u043b\\u0430\\u043d-\\u0423\\u0434\\u044d\",\"\\u0423\\u043b\\u044c\\u044f\\u043d\\u043e\\u0432\\u0441\\u043a\",\"\\u0423\\u0444\\u0430\",\"\\u0425\\u0430\\u0431\\u0430\\u0440\\u043e\\u0432\\u0441\\u043a\",\"\\u0425\\u0430\\u043d\\u0442\\u044b-\\u041c\\u0430\\u043d\\u0441\\u0438\\u0439\\u0441\\u043a\",\"\\u0425\\u0438\\u043c\\u043a\\u0438\",\"\\u0427\\u0430\\u043b\\u0442\\u044b\\u0440\\u044c\",\"\\u0427\\u0430\\u043f\\u0430\\u0435\\u0432\\u0441\\u043a\",\"\\u0427\\u0435\\u0431\\u0430\\u0440\\u043a\\u0443\\u043b\\u044c\",\"\\u0427\\u0435\\u0431\\u043e\\u043a\\u0441\\u0430\\u0440\\u044b\",\"\\u0427\\u0435\\u043b\\u044f\\u0431\\u0438\\u043d\\u0441\\u043a\",\"\\u0427\\u0435\\u0440\\u0435\\u043f\\u043e\\u0432\\u0435\\u0446\",\"\\u0427\\u0435\\u0440\\u043d\\u043e\\u0433\\u043e\\u0440\\u0438\\u044f\",\"\\u0427\\u0435\\u0440\\u043d\\u044f\\u0445\\u043e\\u0432\\u0441\\u043a\",\"\\u0427\\u0435\\u0445\\u0438\\u044f\",\"\\u0427\\u0435\\u0445\\u043e\\u0432\",\"\\u0427\\u0438\\u0442\\u0430\",\"\\u0427\\u043e\\u043b\\u043f\\u043e\\u043d-\\u0410\\u0442\\u0430\",\"\\u0427\\u0451\\u0440\\u043d\\u043e\\u0435 (\\u041c\\u043e\\u0441\\u043a\\u043e\\u0432\\u0441\\u043a\\u0430\\u044f \\u043e\\u0431\\u043b\\u0430\\u0441\\u0442\\u044c)\",\"\\u0428\\u0435\\u0431\\u0435\\u043a\\u0438\\u043d\\u043e\",\"\\u0428\\u044b\\u043c\\u043a\\u0435\\u043d\\u0442\",\"\\u0429\\u0435\\u043b\\u043a\\u043e\\u0432\\u043e\",\"\\u042d\\u043b\\u0435\\u043a\\u0442\\u0440\\u043e\\u0441\\u0442\\u0430\\u043b\\u044c\",\"\\u042d\\u043d\\u0433\\u0435\\u043b\\u044c\\u0441\",\"\\u042e\\u0436\\u043d\\u043e-\\u0421\\u0430\\u0445\\u0430\\u043b\\u0438\\u043d\\u0441\\u043a\",\"\\u042e\\u0440\\u0433\\u0430\",\"\\u042f\\u043a\\u0443\\u0442\\u0441\\u043a\",\"\\u042f\\u0440\\u043e\\u0441\\u043b\\u0430\\u0432\\u043b\\u044c\"],\"name\":\"\",\"parents\":[\"\",\"\",\"\",\"\",\"\",\"\",\"\",\"\",\"\",\"\",\"\",\"\",\"\",\"\",\"\",\"\",\"\",\"\",\"\",\"\",\"\",\"\",\"\",\"\",\"\",\"\",\"\",\"\",\"\",\"\",\"\",\"\",\"\",\"\",\"\",\"\",\"\",\"\",\"\",\"\",\"\",\"\",\"\",\"\",\"\",\"\",\"\",\"\",\"\",\"\",\"\",\"\",\"\",\"\",\"\",\"\",\"\",\"\",\"\",\"\",\"\",\"\",\"\",\"\",\"\",\"\",\"\",\"\",\"\",\"\",\"\",\"\",\"\",\"\",\"\",\"\",\"\",\"\",\"\",\"\",\"\",\"\",\"\",\"\",\"\",\"\",\"\",\"\",\"\",\"\",\"\",\"\",\"\",\"\",\"\",\"\",\"\",\"\",\"\",\"\",\"\",\"\",\"\",\"\",\"\",\"\",\"\",\"\",\"\",\"\",\"\",\"\",\"\",\"\",\"\",\"\",\"\",\"\",\"\",\"\",\"\",\"\",\"\",\"\",\"\",\"\",\"\",\"\",\"\",\"\",\"\",\"\",\"\",\"\",\"\",\"\",\"\",\"\",\"\",\"\",\"\",\"\",\"\",\"\",\"\",\"\",\"\",\"\",\"\",\"\",\"\",\"\",\"\",\"\",\"\",\"\",\"\",\"\",\"\",\"\",\"\",\"\",\"\",\"\",\"\",\"\",\"\",\"\",\"\",\"\",\"\",\"\",\"\",\"\",\"\",\"\",\"\",\"\",\"\",\"\",\"\",\"\",\"\",\"\",\"\",\"\",\"\",\"\",\"\",\"\",\"\",\"\",\"\",\"\",\"\",\"\",\"\",\"\",\"\",\"\",\"\",\"\",\"\",\"\",\"\",\"\",\"\",\"\",\"\",\"\",\"\",\"\",\"\",\"\",\"\",\"\",\"\",\"\",\"\",\"\",\"\",\"\",\"\",\"\",\"\",\"\",\"\",\"\",\"\"],\"values\":[27500.0,31000.0,45000.0,3561703.4999999995,146000.0,40000.0,26000.0,4608499.999999999,210000.0,80000.0,3055005.0,350400.0,47400.0,1587499.9999999998,33800.0,1441800.0,121400.0,1269999.9999999998,1474000.0,60000.0,33800.0,26000.0,1379999.9999999998,290000.0,638800.0,176000.0,125000.0,200000.0,5067000.0,968800.0,1863800.0,33800.0,296000.0,391000.0,60000.0,4200600.0,20000.0,31000.0,36812.0,69750.0,50000.0,33800.0,56700.0,200000.0,100000.0,251050.0,11215874.5,58000.0,160000.0,121000.0,200000.0,283800.0,200000.0,670000.0,200000.0,1102000.0,200000.0,888800.0,700000.0,1015000.0,356999.99999999994,68400.0,170000.0,276000.0,8541404.5,1322550.0,70000.0,448800.0,200000.0,500300.0,63000.0,3398829.0,1517000.0,60000.0,35000.0,250000.0,50000.0,26000.0,170200.0,155000.0,523800.0,191000.0,200000.0,48000.0,260000.0,451000.0,5977504.5,150000.0,40000.0,3538767.0,453800.0,583800.0,351603.0,100000.0,70000.0,378800.0,200000.0,838800.0,75000.0,1070300.0,86000.0,31000.0,130000.0,436000.0,80000.0,70000.0,70000.0,200000.0,1102500.0,175944454.4,460000.0,35000.0,763800.0,462967.0,70000.0,26000.0,99338.0,389338.0,193800.0,7458999.0,383800.0,39400.0,321000.0,153800.0,33800.0,133800.0,12426800.0,26000.0,200000.0,436000.0,186000.0,419999.99999999994,210000.0,26000.0,420000.0,33800.0,2563800.0,325800.0,563300.0,200000.0,76000.0,70000.0,20999.999999999996,158800.0,4157800.0,180000.0,115000.0,353800.0,524999.9999999999,60000.0,33800.0,80000.0,123800.0,510000.0,233800.0,5564700.0,33800.0,380000.0,602800.0,587999.9999999999,88000.0,5126690.5,39400.0,42697204.0,176000.0,1440500.0,100000.0,60000.0,617600.0,40000.0,40000.0,209999.99999999997,2342564.8,200000.0,40000.0,292300.0,138800.0,558800.0,260000.0,50000.0,3041971.0,40000.0,155000.0,608800.0,306000.0,83800.0,106000.0,710338.0,280800.0,70000.0,318355.0,4147499.9999999995,8261914.499999999,1102574.0,1211400.0,80000.0,3882300.0,320000.0,1085550.0,2707703.4999999995,3903138.0,120000.0,593800.0,3450204.5,1325000.0,99338.0,796000.0,65000.0,31805.0,100000.0,981000.0,2588600.0,201800.0,524999.9999999999,50000.0,18000.0,200000.0,450000.0,101849.99999999999,180000.0,51000.0,199000.0,233800.0,352000.0,26000.0,75900.0,35000.0,60000.0,1789200.0],\"type\":\"treemap\"}],                        {\"template\":{\"data\":{\"histogram2dcontour\":[{\"type\":\"histogram2dcontour\",\"colorbar\":{\"outlinewidth\":0,\"ticks\":\"\"},\"colorscale\":[[0.0,\"#0d0887\"],[0.1111111111111111,\"#46039f\"],[0.2222222222222222,\"#7201a8\"],[0.3333333333333333,\"#9c179e\"],[0.4444444444444444,\"#bd3786\"],[0.5555555555555556,\"#d8576b\"],[0.6666666666666666,\"#ed7953\"],[0.7777777777777778,\"#fb9f3a\"],[0.8888888888888888,\"#fdca26\"],[1.0,\"#f0f921\"]]}],\"choropleth\":[{\"type\":\"choropleth\",\"colorbar\":{\"outlinewidth\":0,\"ticks\":\"\"}}],\"histogram2d\":[{\"type\":\"histogram2d\",\"colorbar\":{\"outlinewidth\":0,\"ticks\":\"\"},\"colorscale\":[[0.0,\"#0d0887\"],[0.1111111111111111,\"#46039f\"],[0.2222222222222222,\"#7201a8\"],[0.3333333333333333,\"#9c179e\"],[0.4444444444444444,\"#bd3786\"],[0.5555555555555556,\"#d8576b\"],[0.6666666666666666,\"#ed7953\"],[0.7777777777777778,\"#fb9f3a\"],[0.8888888888888888,\"#fdca26\"],[1.0,\"#f0f921\"]]}],\"heatmap\":[{\"type\":\"heatmap\",\"colorbar\":{\"outlinewidth\":0,\"ticks\":\"\"},\"colorscale\":[[0.0,\"#0d0887\"],[0.1111111111111111,\"#46039f\"],[0.2222222222222222,\"#7201a8\"],[0.3333333333333333,\"#9c179e\"],[0.4444444444444444,\"#bd3786\"],[0.5555555555555556,\"#d8576b\"],[0.6666666666666666,\"#ed7953\"],[0.7777777777777778,\"#fb9f3a\"],[0.8888888888888888,\"#fdca26\"],[1.0,\"#f0f921\"]]}],\"heatmapgl\":[{\"type\":\"heatmapgl\",\"colorbar\":{\"outlinewidth\":0,\"ticks\":\"\"},\"colorscale\":[[0.0,\"#0d0887\"],[0.1111111111111111,\"#46039f\"],[0.2222222222222222,\"#7201a8\"],[0.3333333333333333,\"#9c179e\"],[0.4444444444444444,\"#bd3786\"],[0.5555555555555556,\"#d8576b\"],[0.6666666666666666,\"#ed7953\"],[0.7777777777777778,\"#fb9f3a\"],[0.8888888888888888,\"#fdca26\"],[1.0,\"#f0f921\"]]}],\"contourcarpet\":[{\"type\":\"contourcarpet\",\"colorbar\":{\"outlinewidth\":0,\"ticks\":\"\"}}],\"contour\":[{\"type\":\"contour\",\"colorbar\":{\"outlinewidth\":0,\"ticks\":\"\"},\"colorscale\":[[0.0,\"#0d0887\"],[0.1111111111111111,\"#46039f\"],[0.2222222222222222,\"#7201a8\"],[0.3333333333333333,\"#9c179e\"],[0.4444444444444444,\"#bd3786\"],[0.5555555555555556,\"#d8576b\"],[0.6666666666666666,\"#ed7953\"],[0.7777777777777778,\"#fb9f3a\"],[0.8888888888888888,\"#fdca26\"],[1.0,\"#f0f921\"]]}],\"surface\":[{\"type\":\"surface\",\"colorbar\":{\"outlinewidth\":0,\"ticks\":\"\"},\"colorscale\":[[0.0,\"#0d0887\"],[0.1111111111111111,\"#46039f\"],[0.2222222222222222,\"#7201a8\"],[0.3333333333333333,\"#9c179e\"],[0.4444444444444444,\"#bd3786\"],[0.5555555555555556,\"#d8576b\"],[0.6666666666666666,\"#ed7953\"],[0.7777777777777778,\"#fb9f3a\"],[0.8888888888888888,\"#fdca26\"],[1.0,\"#f0f921\"]]}],\"mesh3d\":[{\"type\":\"mesh3d\",\"colorbar\":{\"outlinewidth\":0,\"ticks\":\"\"}}],\"scatter\":[{\"fillpattern\":{\"fillmode\":\"overlay\",\"size\":10,\"solidity\":0.2},\"type\":\"scatter\"}],\"parcoords\":[{\"type\":\"parcoords\",\"line\":{\"colorbar\":{\"outlinewidth\":0,\"ticks\":\"\"}}}],\"scatterpolargl\":[{\"type\":\"scatterpolargl\",\"marker\":{\"colorbar\":{\"outlinewidth\":0,\"ticks\":\"\"}}}],\"bar\":[{\"error_x\":{\"color\":\"#2a3f5f\"},\"error_y\":{\"color\":\"#2a3f5f\"},\"marker\":{\"line\":{\"color\":\"#E5ECF6\",\"width\":0.5},\"pattern\":{\"fillmode\":\"overlay\",\"size\":10,\"solidity\":0.2}},\"type\":\"bar\"}],\"scattergeo\":[{\"type\":\"scattergeo\",\"marker\":{\"colorbar\":{\"outlinewidth\":0,\"ticks\":\"\"}}}],\"scatterpolar\":[{\"type\":\"scatterpolar\",\"marker\":{\"colorbar\":{\"outlinewidth\":0,\"ticks\":\"\"}}}],\"histogram\":[{\"marker\":{\"pattern\":{\"fillmode\":\"overlay\",\"size\":10,\"solidity\":0.2}},\"type\":\"histogram\"}],\"scattergl\":[{\"type\":\"scattergl\",\"marker\":{\"colorbar\":{\"outlinewidth\":0,\"ticks\":\"\"}}}],\"scatter3d\":[{\"type\":\"scatter3d\",\"line\":{\"colorbar\":{\"outlinewidth\":0,\"ticks\":\"\"}},\"marker\":{\"colorbar\":{\"outlinewidth\":0,\"ticks\":\"\"}}}],\"scattermapbox\":[{\"type\":\"scattermapbox\",\"marker\":{\"colorbar\":{\"outlinewidth\":0,\"ticks\":\"\"}}}],\"scatterternary\":[{\"type\":\"scatterternary\",\"marker\":{\"colorbar\":{\"outlinewidth\":0,\"ticks\":\"\"}}}],\"scattercarpet\":[{\"type\":\"scattercarpet\",\"marker\":{\"colorbar\":{\"outlinewidth\":0,\"ticks\":\"\"}}}],\"carpet\":[{\"aaxis\":{\"endlinecolor\":\"#2a3f5f\",\"gridcolor\":\"white\",\"linecolor\":\"white\",\"minorgridcolor\":\"white\",\"startlinecolor\":\"#2a3f5f\"},\"baxis\":{\"endlinecolor\":\"#2a3f5f\",\"gridcolor\":\"white\",\"linecolor\":\"white\",\"minorgridcolor\":\"white\",\"startlinecolor\":\"#2a3f5f\"},\"type\":\"carpet\"}],\"table\":[{\"cells\":{\"fill\":{\"color\":\"#EBF0F8\"},\"line\":{\"color\":\"white\"}},\"header\":{\"fill\":{\"color\":\"#C8D4E3\"},\"line\":{\"color\":\"white\"}},\"type\":\"table\"}],\"barpolar\":[{\"marker\":{\"line\":{\"color\":\"#E5ECF6\",\"width\":0.5},\"pattern\":{\"fillmode\":\"overlay\",\"size\":10,\"solidity\":0.2}},\"type\":\"barpolar\"}],\"pie\":[{\"automargin\":true,\"type\":\"pie\"}]},\"layout\":{\"autotypenumbers\":\"strict\",\"colorway\":[\"#636efa\",\"#EF553B\",\"#00cc96\",\"#ab63fa\",\"#FFA15A\",\"#19d3f3\",\"#FF6692\",\"#B6E880\",\"#FF97FF\",\"#FECB52\"],\"font\":{\"color\":\"#2a3f5f\"},\"hovermode\":\"closest\",\"hoverlabel\":{\"align\":\"left\"},\"paper_bgcolor\":\"white\",\"plot_bgcolor\":\"#E5ECF6\",\"polar\":{\"bgcolor\":\"#E5ECF6\",\"angularaxis\":{\"gridcolor\":\"white\",\"linecolor\":\"white\",\"ticks\":\"\"},\"radialaxis\":{\"gridcolor\":\"white\",\"linecolor\":\"white\",\"ticks\":\"\"}},\"ternary\":{\"bgcolor\":\"#E5ECF6\",\"aaxis\":{\"gridcolor\":\"white\",\"linecolor\":\"white\",\"ticks\":\"\"},\"baxis\":{\"gridcolor\":\"white\",\"linecolor\":\"white\",\"ticks\":\"\"},\"caxis\":{\"gridcolor\":\"white\",\"linecolor\":\"white\",\"ticks\":\"\"}},\"coloraxis\":{\"colorbar\":{\"outlinewidth\":0,\"ticks\":\"\"}},\"colorscale\":{\"sequential\":[[0.0,\"#0d0887\"],[0.1111111111111111,\"#46039f\"],[0.2222222222222222,\"#7201a8\"],[0.3333333333333333,\"#9c179e\"],[0.4444444444444444,\"#bd3786\"],[0.5555555555555556,\"#d8576b\"],[0.6666666666666666,\"#ed7953\"],[0.7777777777777778,\"#fb9f3a\"],[0.8888888888888888,\"#fdca26\"],[1.0,\"#f0f921\"]],\"sequentialminus\":[[0.0,\"#0d0887\"],[0.1111111111111111,\"#46039f\"],[0.2222222222222222,\"#7201a8\"],[0.3333333333333333,\"#9c179e\"],[0.4444444444444444,\"#bd3786\"],[0.5555555555555556,\"#d8576b\"],[0.6666666666666666,\"#ed7953\"],[0.7777777777777778,\"#fb9f3a\"],[0.8888888888888888,\"#fdca26\"],[1.0,\"#f0f921\"]],\"diverging\":[[0,\"#8e0152\"],[0.1,\"#c51b7d\"],[0.2,\"#de77ae\"],[0.3,\"#f1b6da\"],[0.4,\"#fde0ef\"],[0.5,\"#f7f7f7\"],[0.6,\"#e6f5d0\"],[0.7,\"#b8e186\"],[0.8,\"#7fbc41\"],[0.9,\"#4d9221\"],[1,\"#276419\"]]},\"xaxis\":{\"gridcolor\":\"white\",\"linecolor\":\"white\",\"ticks\":\"\",\"title\":{\"standoff\":15},\"zerolinecolor\":\"white\",\"automargin\":true,\"zerolinewidth\":2},\"yaxis\":{\"gridcolor\":\"white\",\"linecolor\":\"white\",\"ticks\":\"\",\"title\":{\"standoff\":15},\"zerolinecolor\":\"white\",\"automargin\":true,\"zerolinewidth\":2},\"scene\":{\"xaxis\":{\"backgroundcolor\":\"#E5ECF6\",\"gridcolor\":\"white\",\"linecolor\":\"white\",\"showbackground\":true,\"ticks\":\"\",\"zerolinecolor\":\"white\",\"gridwidth\":2},\"yaxis\":{\"backgroundcolor\":\"#E5ECF6\",\"gridcolor\":\"white\",\"linecolor\":\"white\",\"showbackground\":true,\"ticks\":\"\",\"zerolinecolor\":\"white\",\"gridwidth\":2},\"zaxis\":{\"backgroundcolor\":\"#E5ECF6\",\"gridcolor\":\"white\",\"linecolor\":\"white\",\"showbackground\":true,\"ticks\":\"\",\"zerolinecolor\":\"white\",\"gridwidth\":2}},\"shapedefaults\":{\"line\":{\"color\":\"#2a3f5f\"}},\"annotationdefaults\":{\"arrowcolor\":\"#2a3f5f\",\"arrowhead\":0,\"arrowwidth\":1},\"geo\":{\"bgcolor\":\"white\",\"landcolor\":\"#E5ECF6\",\"subunitcolor\":\"white\",\"showland\":true,\"showlakes\":true,\"lakecolor\":\"white\"},\"title\":{\"x\":0.05},\"mapbox\":{\"style\":\"light\"}}},\"legend\":{\"tracegroupgap\":0},\"title\":{\"text\":\"\\u041d\\u0430\\u0441\\u044b\\u0449\\u0435\\u043d\\u043d\\u043e\\u0441\\u0442\\u044c \\u0433\\u043e\\u0440\\u043e\\u0434\\u043e\\u0432 \\u0432\\u0430\\u043a\\u0430\\u043d\\u0441\\u0438\\u044f\\u043c\\u0438 (\\u043f\\u043e \\u0443\\u0440\\u043e\\u0432\\u043d\\u044e salary_to)\"},\"height\":600,\"width\":1000},                        {\"responsive\": true}                    ).then(function(){\n",
              "                            \n",
              "var gd = document.getElementById('e897c42f-c1c3-4a4b-8ca7-807b07175304');\n",
              "var x = new MutationObserver(function (mutations, observer) {{\n",
              "        var display = window.getComputedStyle(gd).display;\n",
              "        if (!display || display === 'none') {{\n",
              "            console.log([gd, 'removed!']);\n",
              "            Plotly.purge(gd);\n",
              "            observer.disconnect();\n",
              "        }}\n",
              "}});\n",
              "\n",
              "// Listen for the removal of the full notebook cells\n",
              "var notebookContainer = gd.closest('#notebook-container');\n",
              "if (notebookContainer) {{\n",
              "    x.observe(notebookContainer, {childList: true});\n",
              "}}\n",
              "\n",
              "// Listen for the clearing of the current output cell\n",
              "var outputEl = gd.closest('.output');\n",
              "if (outputEl) {{\n",
              "    x.observe(outputEl, {childList: true});\n",
              "}}\n",
              "\n",
              "                        })                };                });            </script>        </div>"
            ]
          },
          "metadata": {},
          "output_type": "display_data"
        }
      ],
      "source": [
        "treemap_data2 = df.query('salary_to < 800000').groupby(by='city', as_index=False)[['salary_to']].mean()\n",
        "\n",
        "fig = px.treemap(\n",
        "    data_frame=df.query('salary_to < 800000'), \n",
        "    path=['city'], \n",
        "    values='salary_to', \n",
        "    height=600, \n",
        "    width=1000, \n",
        "    title='Насыщенность городов вакансиями (по уровню salary_to)'\n",
        ")\n",
        "fig.show()"
      ]
    },
    {
      "cell_type": "code",
      "execution_count": null,
      "id": "fb8ab3da",
      "metadata": {
        "id": "fb8ab3da"
      },
      "outputs": [],
      "source": []
    }
  ],
  "metadata": {
    "kernelspec": {
      "display_name": "Python 3 (ipykernel)",
      "language": "python",
      "name": "python3"
    },
    "language_info": {
      "codemirror_mode": {
        "name": "ipython",
        "version": 3
      },
      "file_extension": ".py",
      "mimetype": "text/x-python",
      "name": "python",
      "nbconvert_exporter": "python",
      "pygments_lexer": "ipython3",
      "version": "3.9.7"
    },
    "colab": {
      "provenance": [],
      "include_colab_link": true
    }
  },
  "nbformat": 4,
  "nbformat_minor": 5
}