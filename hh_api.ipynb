{
 "cells": [
  {
   "cell_type": "markdown",
   "metadata": {
    "colab_type": "text",
    "id": "view-in-github"
   },
   "source": [
    "<a href=\"https://colab.research.google.com/github/rufous86/hh_api/blob/main/hh_api.ipynb\" target=\"_parent\"><img src=\"https://colab.research.google.com/assets/colab-badge.svg\" alt=\"Open In Colab\"/></a>"
   ]
  },
  {
   "cell_type": "code",
   "execution_count": 2,
   "metadata": {
    "id": "rawzpU5J0j17"
   },
   "outputs": [],
   "source": [
    "# ! pip install geopy"
   ]
  },
  {
   "cell_type": "code",
   "execution_count": 4,
   "metadata": {
    "id": "D12ji2LUn8ti"
   },
   "outputs": [],
   "source": [
    "import requests\n",
    "from tqdm.notebook import tqdm\n",
    "import pandas as pd\n",
    "import numpy as np\n",
    "import matplotlib.pyplot as plt\n",
    "import seaborn as sns\n",
    "plt.style.use('seaborn')\n",
    "import plotly.express as px"
   ]
  },
  {
   "cell_type": "code",
   "execution_count": 5,
   "metadata": {
    "colab": {
     "base_uri": "https://localhost:8080/",
     "height": 232,
     "referenced_widgets": [
      "b19b76cee5ff4c798e2476a76f93a4b7",
      "d6fe6804f7b942258d3982430d0748ed",
      "a96c56bd715f4aa2b48e8f1321d759ba",
      "36fb1d60a7694814a15e833de0cdcf56",
      "9fb8180bc3374620b144148bfa274922",
      "501bbbc270d04c9fa220bd32d590e21c",
      "09bbb94cb76e4f63b5b6426a1168ae49",
      "0ea6eb083d29452085106baf4a625a7f",
      "606c839e2e4f492e859523d1e89796af",
      "099c89935b71489b809cd58d7fe91635",
      "8ea5e5a3f4dd42a8b2148e5e3b612245",
      "c3f6e9aa0b9f440abf47ccad74951322",
      "48ad59ceae9346eab0d1c960839ecc66",
      "fd9d27e89b62462b9e4edc45683bab4f",
      "4a8e332c1b28484d82f8dbd4033f6331",
      "5b652bee28194f41ad82d3a142673e77",
      "7fad11998cbd4447b3a7b53e679dcca1",
      "4085f5f3bd3348398cd17df35a184e10",
      "102b70b816634d81969e39252dc6f84b",
      "b0f80af756b845bdb9757a8b3f339f6d",
      "300253e2ded2423aaa3ea3156dd8cf12",
      "991882664b504efeb3759479bb857c99",
      "3b16b24c7f3840abaa33e44db721eeb8",
      "4c0ff2eb03994276b4d7dbe08126a049",
      "74eeda879853460e9ef998a650208147",
      "0ad0606a733944ed8fb2734b4c962095",
      "8c99063755254ae69663d6dc39790fe7",
      "d40c4433e17846eba60729d102af0ab0",
      "1214fa7dcc52469f8aff84addf271067",
      "584b9ba9b24c4cb39acca2bd389cb278",
      "89ff5e8987394182a86bf866a90fafc5",
      "a58e2068112840a6ac764c298a41b257",
      "c37ae15473294c19a99c930fdcbc8eb5",
      "149122715fe14b0695aa027a58fc9323",
      "0b99f9f611744225a06856f7a752f20b",
      "96b960a848d2405081d8b31ab9b3fcf7",
      "16628854deaa4899b5d1058eb642095b",
      "5f9e644b2b68472c88b17df0e1e5c6a8",
      "b4e540a1b7584b1bbadfe23f4b74e8b6",
      "0a92b5189d9a4db99c461847e1ebecd9",
      "14c58bb16b8b4a5c99db76d2d8e9550f",
      "79e307d0dcdd4c609f6a3092897c221e",
      "cd48616c5f214281aa63f45b1b6301a9",
      "352dbcf49f354877a1398b2129b6177f"
     ]
    },
    "id": "xaxMJ5FrTKRv",
    "outputId": "77c43da4-6883-4181-e45e-3edd6bf6ae7c"
   },
   "outputs": [
    {
     "name": "stdout",
     "output_type": "stream",
     "text": [
      "collecting аналитик\n"
     ]
    },
    {
     "data": {
      "application/vnd.jupyter.widget-view+json": {
       "model_id": "0e0e406599c14a4b9437a580a765c51e",
       "version_major": 2,
       "version_minor": 0
      },
      "text/plain": [
       "  0%|          | 0/50 [00:00<?, ?it/s]"
      ]
     },
     "metadata": {},
     "output_type": "display_data"
    },
    {
     "name": "stdout",
     "output_type": "stream",
     "text": [
      "collecting данные\n"
     ]
    },
    {
     "data": {
      "application/vnd.jupyter.widget-view+json": {
       "model_id": "6d6f37f39d084f65b41bce989c0e65ea",
       "version_major": 2,
       "version_minor": 0
      },
      "text/plain": [
       "  0%|          | 0/50 [00:00<?, ?it/s]"
      ]
     },
     "metadata": {},
     "output_type": "display_data"
    },
    {
     "name": "stdout",
     "output_type": "stream",
     "text": [
      "collecting data\n"
     ]
    },
    {
     "data": {
      "application/vnd.jupyter.widget-view+json": {
       "model_id": "cf68d3aef8d84fa192b11bc61ec21d5f",
       "version_major": 2,
       "version_minor": 0
      },
      "text/plain": [
       "  0%|          | 0/50 [00:00<?, ?it/s]"
      ]
     },
     "metadata": {},
     "output_type": "display_data"
    },
    {
     "name": "stdout",
     "output_type": "stream",
     "text": [
      "collecting analyst\n"
     ]
    },
    {
     "data": {
      "application/vnd.jupyter.widget-view+json": {
       "model_id": "80064ce0cd174a03bc8ffbbb505037fa",
       "version_major": 2,
       "version_minor": 0
      },
      "text/plain": [
       "  0%|          | 0/50 [00:00<?, ?it/s]"
      ]
     },
     "metadata": {},
     "output_type": "display_data"
    },
    {
     "data": {
      "text/plain": [
       "(5076, 30)"
      ]
     },
     "execution_count": 5,
     "metadata": {},
     "output_type": "execute_result"
    }
   ],
   "source": [
    "res = []\n",
    "def get_vacancy(vacancies, pages=50):\n",
    "    for vacancy in vacancies:\n",
    "        print(f'collecting {vacancy}')\n",
    "        for page in tqdm(range(pages)):\n",
    "            params = {\n",
    "                'text': f'NAME:{vacancy}',\n",
    "                'page': page,\n",
    "                'per_page': 100\n",
    "                }\n",
    "            req = requests.get('https://api.hh.ru/vacancies', params).json()\n",
    "            if 'items' in req.keys():\n",
    "                res.extend(req['items'])\n",
    "\n",
    "vacancies = ['аналитик', 'данные', 'data', 'analyst']\n",
    "get_vacancy(vacancies)\n",
    "\n",
    "data = pd.DataFrame(res)\n",
    "data.shape"
   ]
  },
  {
   "cell_type": "code",
   "execution_count": 55,
   "metadata": {
    "colab": {
     "base_uri": "https://localhost:8080/",
     "height": 206
    },
    "id": "s6FWdMckstlR",
    "outputId": "f896d734-1b1f-4a3a-f00a-a3df783b362b"
   },
   "outputs": [
    {
     "data": {
      "text/html": [
       "<div>\n",
       "<style scoped>\n",
       "    .dataframe tbody tr th:only-of-type {\n",
       "        vertical-align: middle;\n",
       "    }\n",
       "\n",
       "    .dataframe tbody tr th {\n",
       "        vertical-align: top;\n",
       "    }\n",
       "\n",
       "    .dataframe thead th {\n",
       "        text-align: right;\n",
       "    }\n",
       "</style>\n",
       "<table border=\"1\" class=\"dataframe\">\n",
       "  <thead>\n",
       "    <tr style=\"text-align: right;\">\n",
       "      <th></th>\n",
       "      <th>name</th>\n",
       "      <th>salary</th>\n",
       "      <th>schedule</th>\n",
       "      <th>area</th>\n",
       "    </tr>\n",
       "  </thead>\n",
       "  <tbody>\n",
       "    <tr>\n",
       "      <th>0</th>\n",
       "      <td>Аналитик</td>\n",
       "      <td>{'from': 60000, 'to': None, 'currency': 'RUR',...</td>\n",
       "      <td>{'id': 'fullDay', 'name': 'Полный день'}</td>\n",
       "      <td>{'id': '1641', 'name': 'Набережные Челны', 'ur...</td>\n",
       "    </tr>\n",
       "    <tr>\n",
       "      <th>1</th>\n",
       "      <td>Cпециалист по работе с данными и аналитике</td>\n",
       "      <td>{'from': 115000, 'to': 115000, 'currency': 'RU...</td>\n",
       "      <td>{'id': 'fullDay', 'name': 'Полный день'}</td>\n",
       "      <td>{'id': '1', 'name': 'Москва', 'url': 'https://...</td>\n",
       "    </tr>\n",
       "    <tr>\n",
       "      <th>2</th>\n",
       "      <td>Системный аналитик (удалённая работа, middle/s...</td>\n",
       "      <td>{'from': 300000, 'to': 400000, 'currency': 'RU...</td>\n",
       "      <td>{'id': 'remote', 'name': 'Удаленная работа'}</td>\n",
       "      <td>{'id': '1', 'name': 'Москва', 'url': 'https://...</td>\n",
       "    </tr>\n",
       "    <tr>\n",
       "      <th>3</th>\n",
       "      <td>Ведущий аналитик</td>\n",
       "      <td>{'from': 120000, 'to': 180000, 'currency': 'RU...</td>\n",
       "      <td>{'id': 'fullDay', 'name': 'Полный день'}</td>\n",
       "      <td>{'id': '2090', 'name': 'Королев', 'url': 'http...</td>\n",
       "    </tr>\n",
       "    <tr>\n",
       "      <th>4</th>\n",
       "      <td>Аналитик</td>\n",
       "      <td>None</td>\n",
       "      <td>{'id': 'fullDay', 'name': 'Полный день'}</td>\n",
       "      <td>{'id': '1', 'name': 'Москва', 'url': 'https://...</td>\n",
       "    </tr>\n",
       "  </tbody>\n",
       "</table>\n",
       "</div>"
      ],
      "text/plain": [
       "                                                name  \\\n",
       "0                                           Аналитик   \n",
       "1         Cпециалист по работе с данными и аналитике   \n",
       "2  Системный аналитик (удалённая работа, middle/s...   \n",
       "3                                   Ведущий аналитик   \n",
       "4                                           Аналитик   \n",
       "\n",
       "                                              salary  \\\n",
       "0  {'from': 60000, 'to': None, 'currency': 'RUR',...   \n",
       "1  {'from': 115000, 'to': 115000, 'currency': 'RU...   \n",
       "2  {'from': 300000, 'to': 400000, 'currency': 'RU...   \n",
       "3  {'from': 120000, 'to': 180000, 'currency': 'RU...   \n",
       "4                                               None   \n",
       "\n",
       "                                       schedule  \\\n",
       "0      {'id': 'fullDay', 'name': 'Полный день'}   \n",
       "1      {'id': 'fullDay', 'name': 'Полный день'}   \n",
       "2  {'id': 'remote', 'name': 'Удаленная работа'}   \n",
       "3      {'id': 'fullDay', 'name': 'Полный день'}   \n",
       "4      {'id': 'fullDay', 'name': 'Полный день'}   \n",
       "\n",
       "                                                area  \n",
       "0  {'id': '1641', 'name': 'Набережные Челны', 'ur...  \n",
       "1  {'id': '1', 'name': 'Москва', 'url': 'https://...  \n",
       "2  {'id': '1', 'name': 'Москва', 'url': 'https://...  \n",
       "3  {'id': '2090', 'name': 'Королев', 'url': 'http...  \n",
       "4  {'id': '1', 'name': 'Москва', 'url': 'https://...  "
      ]
     },
     "execution_count": 55,
     "metadata": {},
     "output_type": "execute_result"
    }
   ],
   "source": [
    "df = data.copy()\n",
    "columns = ['name', 'salary', 'schedule', 'area']\n",
    "df = df[columns]\n",
    "df.head()"
   ]
  },
  {
   "cell_type": "code",
   "execution_count": 56,
   "metadata": {
    "id": "3Ju3dyzHmcdi"
   },
   "outputs": [],
   "source": [
    "df[\"city\"] = (df[\"area\"]\n",
    "                     .apply(lambda x: x.get(\"name\") \n",
    "                                      if isinstance(x, dict) \n",
    "                                      else np.nan))\n",
    "df[\"schedule\"] = (df[\"schedule\"]\n",
    "                     .apply(lambda x: x.get(\"id\") \n",
    "                                      if isinstance(x, dict) \n",
    "                                      else np.nan))\n",
    "df[\"salary_from\"] = (df[\"salary\"]\n",
    "                     .apply(lambda x: x.get(\"from\") \n",
    "                                      if isinstance(x, dict) \n",
    "                                      else np.nan))\n",
    "df[\"salary_to\"] = (df[\"salary\"]\n",
    "                     .apply(lambda x: x.get(\"to\") \n",
    "                                      if isinstance(x, dict) \n",
    "                                      else np.nan))\n",
    "df[\"salary_currency\"] = (df[\"salary\"]\n",
    "                     .apply(lambda x: x.get(\"currency\") \n",
    "                                      if isinstance(x, dict) \n",
    "                                      else np.nan))\n",
    "# df[\"lat\"] = (df[\"address\"]\n",
    "#                      .apply(lambda x: x.get(\"lat\") \n",
    "#                                       if isinstance(x, dict) \n",
    "#                                       else np.nan))\n",
    "# df[\"lon\"] = (df[\"address\"]\n",
    "#                      .apply(lambda x: x.get(\"lng\") \n",
    "#                                       if isinstance(x, dict) \n",
    "#                                       else np.nan))\n",
    "\n",
    "df = df.drop(['salary', 'area'], axis=1)"
   ]
  },
  {
   "cell_type": "code",
   "execution_count": 57,
   "metadata": {
    "colab": {
     "base_uri": "https://localhost:8080/",
     "height": 206
    },
    "id": "pwr_lwTh0_ED",
    "outputId": "324ee69c-3509-4484-e584-80f1cdaceb7d"
   },
   "outputs": [
    {
     "data": {
      "text/html": [
       "<div>\n",
       "<style scoped>\n",
       "    .dataframe tbody tr th:only-of-type {\n",
       "        vertical-align: middle;\n",
       "    }\n",
       "\n",
       "    .dataframe tbody tr th {\n",
       "        vertical-align: top;\n",
       "    }\n",
       "\n",
       "    .dataframe thead th {\n",
       "        text-align: right;\n",
       "    }\n",
       "</style>\n",
       "<table border=\"1\" class=\"dataframe\">\n",
       "  <thead>\n",
       "    <tr style=\"text-align: right;\">\n",
       "      <th></th>\n",
       "      <th>name</th>\n",
       "      <th>schedule</th>\n",
       "      <th>city</th>\n",
       "      <th>salary_from</th>\n",
       "      <th>salary_to</th>\n",
       "      <th>salary_currency</th>\n",
       "    </tr>\n",
       "  </thead>\n",
       "  <tbody>\n",
       "    <tr>\n",
       "      <th>0</th>\n",
       "      <td>Аналитик</td>\n",
       "      <td>fullDay</td>\n",
       "      <td>Набережные Челны</td>\n",
       "      <td>60000.0</td>\n",
       "      <td>NaN</td>\n",
       "      <td>RUR</td>\n",
       "    </tr>\n",
       "    <tr>\n",
       "      <th>1</th>\n",
       "      <td>Cпециалист по работе с данными и аналитике</td>\n",
       "      <td>fullDay</td>\n",
       "      <td>Москва</td>\n",
       "      <td>115000.0</td>\n",
       "      <td>115000.0</td>\n",
       "      <td>RUR</td>\n",
       "    </tr>\n",
       "    <tr>\n",
       "      <th>2</th>\n",
       "      <td>Системный аналитик (удалённая работа, middle/s...</td>\n",
       "      <td>remote</td>\n",
       "      <td>Москва</td>\n",
       "      <td>300000.0</td>\n",
       "      <td>400000.0</td>\n",
       "      <td>RUR</td>\n",
       "    </tr>\n",
       "    <tr>\n",
       "      <th>3</th>\n",
       "      <td>Ведущий аналитик</td>\n",
       "      <td>fullDay</td>\n",
       "      <td>Королев</td>\n",
       "      <td>120000.0</td>\n",
       "      <td>180000.0</td>\n",
       "      <td>RUR</td>\n",
       "    </tr>\n",
       "    <tr>\n",
       "      <th>9</th>\n",
       "      <td>Аналитик</td>\n",
       "      <td>fullDay</td>\n",
       "      <td>Таганрог</td>\n",
       "      <td>92000.0</td>\n",
       "      <td>NaN</td>\n",
       "      <td>RUR</td>\n",
       "    </tr>\n",
       "  </tbody>\n",
       "</table>\n",
       "</div>"
      ],
      "text/plain": [
       "                                                name schedule  \\\n",
       "0                                           Аналитик  fullDay   \n",
       "1         Cпециалист по работе с данными и аналитике  fullDay   \n",
       "2  Системный аналитик (удалённая работа, middle/s...   remote   \n",
       "3                                   Ведущий аналитик  fullDay   \n",
       "9                                           Аналитик  fullDay   \n",
       "\n",
       "               city  salary_from  salary_to salary_currency  \n",
       "0  Набережные Челны      60000.0        NaN             RUR  \n",
       "1            Москва     115000.0   115000.0             RUR  \n",
       "2            Москва     300000.0   400000.0             RUR  \n",
       "3           Королев     120000.0   180000.0             RUR  \n",
       "9          Таганрог      92000.0        NaN             RUR  "
      ]
     },
     "execution_count": 57,
     "metadata": {},
     "output_type": "execute_result"
    }
   ],
   "source": [
    "df = df[df['salary_currency'] == 'RUR']\n",
    "df.head()"
   ]
  },
  {
   "cell_type": "code",
   "execution_count": 58,
   "metadata": {
    "colab": {
     "base_uri": "https://localhost:8080/"
    },
    "id": "SJ8v6yaPxSsx",
    "outputId": "6644d841-8b15-4166-c901-6959dcc0ca54"
   },
   "outputs": [
    {
     "data": {
      "text/plain": [
       "RUR    1241\n",
       "Name: salary_currency, dtype: int64"
      ]
     },
     "execution_count": 58,
     "metadata": {},
     "output_type": "execute_result"
    }
   ],
   "source": [
    "df['salary_currency'].value_counts()"
   ]
  },
  {
   "cell_type": "code",
   "execution_count": 59,
   "metadata": {},
   "outputs": [],
   "source": [
    "df['salary_from'] = df['salary_from'].fillna(df['salary_to'])\n",
    "df['salary_to'] = df['salary_to'].fillna(df['salary_from'])"
   ]
  },
  {
   "cell_type": "code",
   "execution_count": 60,
   "metadata": {
    "colab": {
     "base_uri": "https://localhost:8080/"
    },
    "id": "YdWOQirYtVdx",
    "outputId": "685e17a5-996e-4166-a41c-1ea6b7d6311d"
   },
   "outputs": [
    {
     "name": "stdout",
     "output_type": "stream",
     "text": [
      "<class 'pandas.core.frame.DataFrame'>\n",
      "Int64Index: 1241 entries, 0 to 5075\n",
      "Data columns (total 6 columns):\n",
      " #   Column           Non-Null Count  Dtype  \n",
      "---  ------           --------------  -----  \n",
      " 0   name             1241 non-null   object \n",
      " 1   schedule         1241 non-null   object \n",
      " 2   city             1241 non-null   object \n",
      " 3   salary_from      1241 non-null   float64\n",
      " 4   salary_to        1241 non-null   float64\n",
      " 5   salary_currency  1241 non-null   object \n",
      "dtypes: float64(2), object(4)\n",
      "memory usage: 67.9+ KB\n"
     ]
    }
   ],
   "source": [
    "df.info()"
   ]
  },
  {
   "cell_type": "code",
   "execution_count": 58,
   "metadata": {
    "id": "_RVj94Y-tzFV"
   },
   "outputs": [],
   "source": [
    "# df = df[df['salary_currency'] == 'RUR'][['name', 'schedule', 'city', 'salary_from', 'salary_to', 'salary_currency', 'lat', 'lon']]"
   ]
  },
  {
   "cell_type": "code",
   "execution_count": 59,
   "metadata": {
    "id": "K_eM0Z8P18Bq"
   },
   "outputs": [],
   "source": [
    "# df = df.dropna(axis=0, subset=['lat', 'lon'])\n",
    "# df.info()"
   ]
  },
  {
   "cell_type": "code",
   "execution_count": 61,
   "metadata": {
    "id": "fMntmaWW3q-H"
   },
   "outputs": [],
   "source": [
    "from geopy.geocoders import Nominatim\n",
    "geolocator = Nominatim(user_agent=\"geo\")\n",
    "\n",
    "def get_coords(city):\n",
    "    geo = geolocator.geocode(city)\n",
    "    if geo:\n",
    "        return geo.longitude, geo.latitude\n",
    "    else:\n",
    "        return np.nan, np.nan\n",
    "\n",
    "\n",
    "coords = pd.DataFrame(data=df['city'].unique(), columns=['city'])\n",
    "coords['(lon, lat)'] = (coords['city']\n",
    "                        .apply(lambda x: get_coords(x)))\n",
    "\n",
    "\n",
    "coords['lon'] = (coords['(lon, lat)']\n",
    "                        .apply(lambda x: x[0]))\n",
    "coords['lat'] = (coords['(lon, lat)']\n",
    "                        .apply(lambda x: x[1]))\n",
    "coords = coords.drop('(lon, lat)', axis=1)"
   ]
  },
  {
   "cell_type": "code",
   "execution_count": 62,
   "metadata": {
    "colab": {
     "base_uri": "https://localhost:8080/"
    },
    "id": "doDIMuK6JoEV",
    "outputId": "89416fb3-b9af-40bc-f904-1a5486f7b6f1"
   },
   "outputs": [],
   "source": [
    "total_vac = dict(df\n",
    "            .groupby('city')['name']\n",
    "            .agg('count')\n",
    "            )"
   ]
  },
  {
   "cell_type": "code",
   "execution_count": 63,
   "metadata": {
    "colab": {
     "base_uri": "https://localhost:8080/",
     "height": 206
    },
    "id": "m0yVySUZ8PaQ",
    "outputId": "1f64bfc5-97ce-4687-cf08-b29970badc99"
   },
   "outputs": [
    {
     "data": {
      "text/html": [
       "<div>\n",
       "<style scoped>\n",
       "    .dataframe tbody tr th:only-of-type {\n",
       "        vertical-align: middle;\n",
       "    }\n",
       "\n",
       "    .dataframe tbody tr th {\n",
       "        vertical-align: top;\n",
       "    }\n",
       "\n",
       "    .dataframe thead th {\n",
       "        text-align: right;\n",
       "    }\n",
       "</style>\n",
       "<table border=\"1\" class=\"dataframe\">\n",
       "  <thead>\n",
       "    <tr style=\"text-align: right;\">\n",
       "      <th></th>\n",
       "      <th>name</th>\n",
       "      <th>schedule</th>\n",
       "      <th>city</th>\n",
       "      <th>salary_from</th>\n",
       "      <th>salary_to</th>\n",
       "      <th>salary_currency</th>\n",
       "      <th>lon</th>\n",
       "      <th>lat</th>\n",
       "      <th>salary_mean</th>\n",
       "      <th>total_vac</th>\n",
       "    </tr>\n",
       "  </thead>\n",
       "  <tbody>\n",
       "    <tr>\n",
       "      <th>0</th>\n",
       "      <td>Аналитик</td>\n",
       "      <td>fullDay</td>\n",
       "      <td>Набережные Челны</td>\n",
       "      <td>60000.0</td>\n",
       "      <td>60000.0</td>\n",
       "      <td>RUR</td>\n",
       "      <td>52.399207</td>\n",
       "      <td>55.741977</td>\n",
       "      <td>60000.0</td>\n",
       "      <td>6</td>\n",
       "    </tr>\n",
       "    <tr>\n",
       "      <th>1</th>\n",
       "      <td>Аналитик</td>\n",
       "      <td>fullDay</td>\n",
       "      <td>Набережные Челны</td>\n",
       "      <td>35000.0</td>\n",
       "      <td>40000.0</td>\n",
       "      <td>RUR</td>\n",
       "      <td>52.399207</td>\n",
       "      <td>55.741977</td>\n",
       "      <td>37500.0</td>\n",
       "      <td>6</td>\n",
       "    </tr>\n",
       "    <tr>\n",
       "      <th>2</th>\n",
       "      <td>Аналитик</td>\n",
       "      <td>fullDay</td>\n",
       "      <td>Набережные Челны</td>\n",
       "      <td>15000.0</td>\n",
       "      <td>60000.0</td>\n",
       "      <td>RUR</td>\n",
       "      <td>52.399207</td>\n",
       "      <td>55.741977</td>\n",
       "      <td>37500.0</td>\n",
       "      <td>6</td>\n",
       "    </tr>\n",
       "    <tr>\n",
       "      <th>3</th>\n",
       "      <td>Специалист по Data Science</td>\n",
       "      <td>fullDay</td>\n",
       "      <td>Набережные Челны</td>\n",
       "      <td>76967.0</td>\n",
       "      <td>76967.0</td>\n",
       "      <td>RUR</td>\n",
       "      <td>52.399207</td>\n",
       "      <td>55.741977</td>\n",
       "      <td>76967.0</td>\n",
       "      <td>6</td>\n",
       "    </tr>\n",
       "    <tr>\n",
       "      <th>4</th>\n",
       "      <td>Аналитик</td>\n",
       "      <td>fullDay</td>\n",
       "      <td>Набережные Челны</td>\n",
       "      <td>60000.0</td>\n",
       "      <td>60000.0</td>\n",
       "      <td>RUR</td>\n",
       "      <td>52.399207</td>\n",
       "      <td>55.741977</td>\n",
       "      <td>60000.0</td>\n",
       "      <td>6</td>\n",
       "    </tr>\n",
       "  </tbody>\n",
       "</table>\n",
       "</div>"
      ],
      "text/plain": [
       "                         name schedule              city  salary_from  \\\n",
       "0                    Аналитик  fullDay  Набережные Челны      60000.0   \n",
       "1                    Аналитик  fullDay  Набережные Челны      35000.0   \n",
       "2                    Аналитик  fullDay  Набережные Челны      15000.0   \n",
       "3  Специалист по Data Science  fullDay  Набережные Челны      76967.0   \n",
       "4                    Аналитик  fullDay  Набережные Челны      60000.0   \n",
       "\n",
       "   salary_to salary_currency        lon        lat  salary_mean  total_vac  \n",
       "0    60000.0             RUR  52.399207  55.741977      60000.0          6  \n",
       "1    40000.0             RUR  52.399207  55.741977      37500.0          6  \n",
       "2    60000.0             RUR  52.399207  55.741977      37500.0          6  \n",
       "3    76967.0             RUR  52.399207  55.741977      76967.0          6  \n",
       "4    60000.0             RUR  52.399207  55.741977      60000.0          6  "
      ]
     },
     "execution_count": 63,
     "metadata": {},
     "output_type": "execute_result"
    }
   ],
   "source": [
    "df = df.merge(coords, on='city')\n",
    "df['salary_mean'] = (df['salary_from'] + df['salary_to']) / 2\n",
    "df['total_vac'] = (df['city']\n",
    "                .apply(lambda x: total_vac[x]))\n",
    "df.head()"
   ]
  },
  {
   "cell_type": "code",
   "execution_count": 81,
   "metadata": {},
   "outputs": [],
   "source": [
    "df_grouped = (df\n",
    "     .groupby('city')[['salary_mean', 'lon', 'lat', 'total_vac']]\n",
    "     .agg('mean')\n",
    "                         )"
   ]
  },
  {
   "cell_type": "code",
   "execution_count": 85,
   "metadata": {},
   "outputs": [],
   "source": [
    "df_grouped['city'] = df_grouped.index"
   ]
  },
  {
   "cell_type": "code",
   "execution_count": 116,
   "metadata": {
    "colab": {
     "base_uri": "https://localhost:8080/",
     "height": 1000
    },
    "id": "yoOud1HSkX0s",
    "outputId": "996e61e7-c287-4040-8358-b675986a0926"
   },
   "outputs": [
    {
     "data": {
      "application/vnd.plotly.v1+json": {
       "config": {
        "plotlyServerURL": "https://plot.ly"
       },
       "data": [
        {
         "geo": "geo",
         "hovertemplate": "salary_mean=%{marker.size}<br>city=%{text}<br>lat=%{lat}<br>lon=%{lon}<br>total_vac=%{marker.color}<extra></extra>",
         "lat": [
          54.9005008,
          46.3498308,
          53.34740200000001,
          50.5955595,
          54.75795,
          52.5394905,
          50.290527,
          53.24237780000001,
          55.5571496,
          43.1150678,
          56.1288899,
          48.7081906,
          59.218876,
          51.6605982,
          55.322518,
          60.024006,
          56.2382157,
          55.4368213,
          56.7362705,
          56.839104,
          55.7577131,
          null,
          55.9964233,
          55.8477605,
          56.6295264,
          56.86051745,
          52.289597,
          56.6328248,
          55.7823547,
          54.710128,
          54.5101087,
          56.415451,
          45.3534002,
          59.4733446,
          56.3355601,
          55.0995509,
          59.748444,
          55.9204898,
          57.7679158,
          55.6587214,
          45.7684014,
          56.0090968,
          52.6041877,
          55.6783142,
          53.4242184,
          44.6062079,
          42.9830241,
          55.8878706,
          55.7255585,
          55.75044609999999,
          55.9094928,
          55.7419774,
          56.3264816,
          55.0282171,
          69.3498394,
          54.991375,
          52.9685433,
          51.767452,
          53.1937836,
          58.02148705,
          59.722256,
          55.9939587,
          47.2213858,
          54.6295687,
          53.198627,
          59.938731999999995,
          51.53952715,
          44.565550300000005,
          60.143707,
          60.0981084,
          44.9521459,
          43.5854823,
          44.8632577,
          55.8070323,
          61.254032,
          47.2392184,
          52.731118499999994,
          56.8596713,
          53.51495,
          60.428493,
          58.6124279,
          54.1930321,
          57.153534,
          54.3107593,
          54.7261409,
          48.481403,
          55.8917293,
          56.1307195,
          55.15984079999999,
          52.033409,
          55.4985162,
          55.9206499,
          62.0274078,
          57.6263877
         ],
         "legendgroup": "",
         "lon": [
          52.2963777,
          48.0326203,
          83.7784496,
          36.5873394,
          83.1068095,
          85.2148673,
          127.527161,
          34.3668288,
          37.7087142,
          131.8855768,
          40.4075203,
          44.5153353,
          39.893276,
          39.2005858,
          38.6816824,
          30.646042,
          43.4617405,
          37.7680693,
          37.1623696,
          60.60824999999999,
          52.0539938,
          null,
          37.198534,
          48.5097031,
          40.5700972,
          53.19773074245531,
          104.280586,
          47.8972462,
          49.1242266,
          20.5105838,
          36.2598115,
          61.917797,
          36.4538645,
          49.2381709,
          36.7351318,
          38.7811165,
          30.604479,
          37.8326289,
          40.9269141,
          37.9798073,
          39.0261044,
          92.8725147,
          39.5936899,
          37.89377,
          58.983136,
          40.104053,
          47.5048717,
          52.308443,
          53.1071815,
          37.6174943,
          37.7339358,
          52.399207,
          44.0051395,
          82.9234509,
          88.200517,
          73.371529,
          36.0692477,
          55.097118,
          45.006741250609664,
          56.23076652679421,
          30.415731,
          40.3294411,
          39.7114196,
          39.7425039,
          50.113987,
          30.316229,
          46.03338615081432,
          33.45959860374677,
          30.207806,
          29.9597606,
          34.1024858,
          39.723109,
          43.4406913,
          38.1774172,
          73.3964,
          38.87550310009352,
          41.434199146086904,
          35.89524161906262,
          49.40757399999999,
          33.002235,
          82.0475315,
          37.61754,
          65.542274,
          48.3642771,
          55.947499,
          135.076935,
          37.4396994,
          47.2449597,
          61.4025547,
          113.500893,
          46.4186725,
          37.9915576,
          129.7319787,
          39.8933705
         ],
         "marker": {
          "color": [
           1,
           1,
           6,
           3,
           1,
           1,
           2,
           3,
           1,
           27,
           3,
           4,
           2,
           15,
           2,
           1,
           1,
           1,
           1,
           47,
           1,
           1,
           1,
           1,
           2,
           6,
           4,
           1,
           28,
           2,
           1,
           1,
           1,
           4,
           1,
           1,
           2,
           2,
           4,
           1,
           27,
           4,
           1,
           2,
           1,
           1,
           3,
           1,
           1,
           637,
           2,
           6,
           28,
           28,
           1,
           4,
           1,
           1,
           4,
           12,
           2,
           1,
           19,
           6,
           20,
           137,
           6,
           3,
           1,
           1,
           3,
           4,
           1,
           1,
           1,
           2,
           2,
           1,
           6,
           1,
           14,
           2,
           2,
           8,
           14,
           2,
           1,
           7,
           11,
           1,
           1,
           1,
           2,
           4
          ],
          "coloraxis": "coloraxis",
          "size": [
           54000,
           52500,
           70333.33333333333,
           44166.666666666664,
           50000,
           65000,
           70000,
           45983.333333333336,
           90000,
           91392.5925925926,
           40000,
           64212.5,
           46250,
           79513.33333333333,
           92500,
           45000,
           50000,
           90000,
           67500,
           71279.78723404255,
           130000,
           130000,
           60000,
           52500,
           86250,
           71083.33333333333,
           47250,
           34000,
           91250,
           48750,
           165000,
           50000,
           45000,
           51250,
           40000,
           92500,
           100000,
           150000,
           58750,
           80000,
           80611.11111111111,
           86250,
           100000,
           100000,
           130000,
           27000,
           73333.33333333333,
           54000,
           52500,
           151099.96860282574,
           92500,
           66994.5,
           100641.07142857143,
           93625,
           75000,
           47500,
           27000,
           30000,
           67500,
           105791.66666666667,
           100000,
           40000,
           74984.21052631579,
           52250,
           96985,
           115405.08029197081,
           66400,
           43333.333333333336,
           130000,
           130000,
           56666.666666666664,
           100000,
           60000,
           90000,
           35000,
           72250,
           80000,
           40000,
           58466.666666666664,
           80000,
           97857.14285714286,
           85000,
           52500,
           93125,
           60371.42857142857,
           50000,
           100000,
           67142.85714285714,
           54454.545454545456,
           50000,
           42000,
           130000,
           100000,
           124375
          ],
          "sizemode": "area",
          "sizeref": 412.5,
          "symbol": "circle"
         },
         "mode": "markers+text",
         "name": "",
         "showlegend": false,
         "text": [
          "Альметьевск",
          "Астрахань",
          "Барнаул",
          "Белгород",
          "Бердск",
          "Бийск",
          "Благовещенск (Амурская область)",
          "Брянск",
          "Видное",
          "Владивосток",
          "Владимир",
          "Волгоград",
          "Вологда",
          "Воронеж",
          "Воскресенск",
          "Всеволожск",
          "Дзержинск (Нижегородская область)",
          "Домодедово",
          "Дубна",
          "Екатеринбург",
          "Елабуга",
          "Зеленогорск (Ленинградская обл)",
          "Зеленоград",
          "Зеленодольск (Республика Татарстан)",
          "Иваново (Ивановская область)",
          "Ижевск",
          "Иркутск",
          "Йошкар-Ола",
          "Казань",
          "Калининград",
          "Калуга",
          "Каменск-Уральский",
          "Керчь",
          "Киров (Кировская область)",
          "Клин",
          "Коломна",
          "Колпино",
          "Королев",
          "Кострома",
          "Красково",
          "Краснодар",
          "Красноярск",
          "Липецк",
          "Люберцы",
          "Магнитогорск",
          "Майкоп",
          "Махачкала",
          "Менделеевск",
          "Мензелинск",
          "Москва",
          "Мытищи",
          "Набережные Челны",
          "Нижний Новгород",
          "Новосибирск",
          "Норильск",
          "Омск",
          "Орел",
          "Оренбург",
          "Пенза",
          "Пермь",
          "Пушкин",
          "Радужный (Владимирская область)",
          "Ростов-на-Дону",
          "Рязань",
          "Самара",
          "Санкт-Петербург",
          "Саратов",
          "Севастополь",
          "Сертолово",
          "Сестрорецк",
          "Симферополь",
          "Сочи",
          "Ставрополь",
          "Старая Купавна",
          "Сургут",
          "Таганрог",
          "Тамбов",
          "Тверь",
          "Тольятти",
          "Томилино",
          "Томск",
          "Тула",
          "Тюмень",
          "Ульяновск",
          "Уфа",
          "Хабаровск",
          "Химки",
          "Чебоксары",
          "Челябинск",
          "Чита",
          "Шумерля",
          "Щелково",
          "Якутск",
          "Ярославль"
         ],
         "type": "scattergeo"
        }
       ],
       "layout": {
        "coloraxis": {
         "colorbar": {
          "title": {
           "text": "total_vac"
          }
         },
         "colorscale": [
          [
           0,
           "rgb(0,0,131)"
          ],
          [
           0.2,
           "rgb(0,60,170)"
          ],
          [
           0.4,
           "rgb(5,255,255)"
          ],
          [
           0.6,
           "rgb(255,255,0)"
          ],
          [
           0.8,
           "rgb(250,0,0)"
          ],
          [
           1,
           "rgb(128,0,0)"
          ]
         ]
        },
        "geo": {
         "center": {},
         "domain": {
          "x": [
           0,
           1
          ],
          "y": [
           0,
           1
          ]
         }
        },
        "height": 900,
        "legend": {
         "itemsizing": "constant",
         "tracegroupgap": 0
        },
        "margin": {
         "t": 60
        },
        "template": {
         "data": {
          "bar": [
           {
            "error_x": {
             "color": "#2a3f5f"
            },
            "error_y": {
             "color": "#2a3f5f"
            },
            "marker": {
             "line": {
              "color": "#E5ECF6",
              "width": 0.5
             },
             "pattern": {
              "fillmode": "overlay",
              "size": 10,
              "solidity": 0.2
             }
            },
            "type": "bar"
           }
          ],
          "barpolar": [
           {
            "marker": {
             "line": {
              "color": "#E5ECF6",
              "width": 0.5
             },
             "pattern": {
              "fillmode": "overlay",
              "size": 10,
              "solidity": 0.2
             }
            },
            "type": "barpolar"
           }
          ],
          "carpet": [
           {
            "aaxis": {
             "endlinecolor": "#2a3f5f",
             "gridcolor": "white",
             "linecolor": "white",
             "minorgridcolor": "white",
             "startlinecolor": "#2a3f5f"
            },
            "baxis": {
             "endlinecolor": "#2a3f5f",
             "gridcolor": "white",
             "linecolor": "white",
             "minorgridcolor": "white",
             "startlinecolor": "#2a3f5f"
            },
            "type": "carpet"
           }
          ],
          "choropleth": [
           {
            "colorbar": {
             "outlinewidth": 0,
             "ticks": ""
            },
            "type": "choropleth"
           }
          ],
          "contour": [
           {
            "colorbar": {
             "outlinewidth": 0,
             "ticks": ""
            },
            "colorscale": [
             [
              0,
              "#0d0887"
             ],
             [
              0.1111111111111111,
              "#46039f"
             ],
             [
              0.2222222222222222,
              "#7201a8"
             ],
             [
              0.3333333333333333,
              "#9c179e"
             ],
             [
              0.4444444444444444,
              "#bd3786"
             ],
             [
              0.5555555555555556,
              "#d8576b"
             ],
             [
              0.6666666666666666,
              "#ed7953"
             ],
             [
              0.7777777777777778,
              "#fb9f3a"
             ],
             [
              0.8888888888888888,
              "#fdca26"
             ],
             [
              1,
              "#f0f921"
             ]
            ],
            "type": "contour"
           }
          ],
          "contourcarpet": [
           {
            "colorbar": {
             "outlinewidth": 0,
             "ticks": ""
            },
            "type": "contourcarpet"
           }
          ],
          "heatmap": [
           {
            "colorbar": {
             "outlinewidth": 0,
             "ticks": ""
            },
            "colorscale": [
             [
              0,
              "#0d0887"
             ],
             [
              0.1111111111111111,
              "#46039f"
             ],
             [
              0.2222222222222222,
              "#7201a8"
             ],
             [
              0.3333333333333333,
              "#9c179e"
             ],
             [
              0.4444444444444444,
              "#bd3786"
             ],
             [
              0.5555555555555556,
              "#d8576b"
             ],
             [
              0.6666666666666666,
              "#ed7953"
             ],
             [
              0.7777777777777778,
              "#fb9f3a"
             ],
             [
              0.8888888888888888,
              "#fdca26"
             ],
             [
              1,
              "#f0f921"
             ]
            ],
            "type": "heatmap"
           }
          ],
          "heatmapgl": [
           {
            "colorbar": {
             "outlinewidth": 0,
             "ticks": ""
            },
            "colorscale": [
             [
              0,
              "#0d0887"
             ],
             [
              0.1111111111111111,
              "#46039f"
             ],
             [
              0.2222222222222222,
              "#7201a8"
             ],
             [
              0.3333333333333333,
              "#9c179e"
             ],
             [
              0.4444444444444444,
              "#bd3786"
             ],
             [
              0.5555555555555556,
              "#d8576b"
             ],
             [
              0.6666666666666666,
              "#ed7953"
             ],
             [
              0.7777777777777778,
              "#fb9f3a"
             ],
             [
              0.8888888888888888,
              "#fdca26"
             ],
             [
              1,
              "#f0f921"
             ]
            ],
            "type": "heatmapgl"
           }
          ],
          "histogram": [
           {
            "marker": {
             "pattern": {
              "fillmode": "overlay",
              "size": 10,
              "solidity": 0.2
             }
            },
            "type": "histogram"
           }
          ],
          "histogram2d": [
           {
            "colorbar": {
             "outlinewidth": 0,
             "ticks": ""
            },
            "colorscale": [
             [
              0,
              "#0d0887"
             ],
             [
              0.1111111111111111,
              "#46039f"
             ],
             [
              0.2222222222222222,
              "#7201a8"
             ],
             [
              0.3333333333333333,
              "#9c179e"
             ],
             [
              0.4444444444444444,
              "#bd3786"
             ],
             [
              0.5555555555555556,
              "#d8576b"
             ],
             [
              0.6666666666666666,
              "#ed7953"
             ],
             [
              0.7777777777777778,
              "#fb9f3a"
             ],
             [
              0.8888888888888888,
              "#fdca26"
             ],
             [
              1,
              "#f0f921"
             ]
            ],
            "type": "histogram2d"
           }
          ],
          "histogram2dcontour": [
           {
            "colorbar": {
             "outlinewidth": 0,
             "ticks": ""
            },
            "colorscale": [
             [
              0,
              "#0d0887"
             ],
             [
              0.1111111111111111,
              "#46039f"
             ],
             [
              0.2222222222222222,
              "#7201a8"
             ],
             [
              0.3333333333333333,
              "#9c179e"
             ],
             [
              0.4444444444444444,
              "#bd3786"
             ],
             [
              0.5555555555555556,
              "#d8576b"
             ],
             [
              0.6666666666666666,
              "#ed7953"
             ],
             [
              0.7777777777777778,
              "#fb9f3a"
             ],
             [
              0.8888888888888888,
              "#fdca26"
             ],
             [
              1,
              "#f0f921"
             ]
            ],
            "type": "histogram2dcontour"
           }
          ],
          "mesh3d": [
           {
            "colorbar": {
             "outlinewidth": 0,
             "ticks": ""
            },
            "type": "mesh3d"
           }
          ],
          "parcoords": [
           {
            "line": {
             "colorbar": {
              "outlinewidth": 0,
              "ticks": ""
             }
            },
            "type": "parcoords"
           }
          ],
          "pie": [
           {
            "automargin": true,
            "type": "pie"
           }
          ],
          "scatter": [
           {
            "marker": {
             "colorbar": {
              "outlinewidth": 0,
              "ticks": ""
             }
            },
            "type": "scatter"
           }
          ],
          "scatter3d": [
           {
            "line": {
             "colorbar": {
              "outlinewidth": 0,
              "ticks": ""
             }
            },
            "marker": {
             "colorbar": {
              "outlinewidth": 0,
              "ticks": ""
             }
            },
            "type": "scatter3d"
           }
          ],
          "scattercarpet": [
           {
            "marker": {
             "colorbar": {
              "outlinewidth": 0,
              "ticks": ""
             }
            },
            "type": "scattercarpet"
           }
          ],
          "scattergeo": [
           {
            "marker": {
             "colorbar": {
              "outlinewidth": 0,
              "ticks": ""
             }
            },
            "type": "scattergeo"
           }
          ],
          "scattergl": [
           {
            "marker": {
             "colorbar": {
              "outlinewidth": 0,
              "ticks": ""
             }
            },
            "type": "scattergl"
           }
          ],
          "scattermapbox": [
           {
            "marker": {
             "colorbar": {
              "outlinewidth": 0,
              "ticks": ""
             }
            },
            "type": "scattermapbox"
           }
          ],
          "scatterpolar": [
           {
            "marker": {
             "colorbar": {
              "outlinewidth": 0,
              "ticks": ""
             }
            },
            "type": "scatterpolar"
           }
          ],
          "scatterpolargl": [
           {
            "marker": {
             "colorbar": {
              "outlinewidth": 0,
              "ticks": ""
             }
            },
            "type": "scatterpolargl"
           }
          ],
          "scatterternary": [
           {
            "marker": {
             "colorbar": {
              "outlinewidth": 0,
              "ticks": ""
             }
            },
            "type": "scatterternary"
           }
          ],
          "surface": [
           {
            "colorbar": {
             "outlinewidth": 0,
             "ticks": ""
            },
            "colorscale": [
             [
              0,
              "#0d0887"
             ],
             [
              0.1111111111111111,
              "#46039f"
             ],
             [
              0.2222222222222222,
              "#7201a8"
             ],
             [
              0.3333333333333333,
              "#9c179e"
             ],
             [
              0.4444444444444444,
              "#bd3786"
             ],
             [
              0.5555555555555556,
              "#d8576b"
             ],
             [
              0.6666666666666666,
              "#ed7953"
             ],
             [
              0.7777777777777778,
              "#fb9f3a"
             ],
             [
              0.8888888888888888,
              "#fdca26"
             ],
             [
              1,
              "#f0f921"
             ]
            ],
            "type": "surface"
           }
          ],
          "table": [
           {
            "cells": {
             "fill": {
              "color": "#EBF0F8"
             },
             "line": {
              "color": "white"
             }
            },
            "header": {
             "fill": {
              "color": "#C8D4E3"
             },
             "line": {
              "color": "white"
             }
            },
            "type": "table"
           }
          ]
         },
         "layout": {
          "annotationdefaults": {
           "arrowcolor": "#2a3f5f",
           "arrowhead": 0,
           "arrowwidth": 1
          },
          "autotypenumbers": "strict",
          "coloraxis": {
           "colorbar": {
            "outlinewidth": 0,
            "ticks": ""
           }
          },
          "colorscale": {
           "diverging": [
            [
             0,
             "#8e0152"
            ],
            [
             0.1,
             "#c51b7d"
            ],
            [
             0.2,
             "#de77ae"
            ],
            [
             0.3,
             "#f1b6da"
            ],
            [
             0.4,
             "#fde0ef"
            ],
            [
             0.5,
             "#f7f7f7"
            ],
            [
             0.6,
             "#e6f5d0"
            ],
            [
             0.7,
             "#b8e186"
            ],
            [
             0.8,
             "#7fbc41"
            ],
            [
             0.9,
             "#4d9221"
            ],
            [
             1,
             "#276419"
            ]
           ],
           "sequential": [
            [
             0,
             "#0d0887"
            ],
            [
             0.1111111111111111,
             "#46039f"
            ],
            [
             0.2222222222222222,
             "#7201a8"
            ],
            [
             0.3333333333333333,
             "#9c179e"
            ],
            [
             0.4444444444444444,
             "#bd3786"
            ],
            [
             0.5555555555555556,
             "#d8576b"
            ],
            [
             0.6666666666666666,
             "#ed7953"
            ],
            [
             0.7777777777777778,
             "#fb9f3a"
            ],
            [
             0.8888888888888888,
             "#fdca26"
            ],
            [
             1,
             "#f0f921"
            ]
           ],
           "sequentialminus": [
            [
             0,
             "#0d0887"
            ],
            [
             0.1111111111111111,
             "#46039f"
            ],
            [
             0.2222222222222222,
             "#7201a8"
            ],
            [
             0.3333333333333333,
             "#9c179e"
            ],
            [
             0.4444444444444444,
             "#bd3786"
            ],
            [
             0.5555555555555556,
             "#d8576b"
            ],
            [
             0.6666666666666666,
             "#ed7953"
            ],
            [
             0.7777777777777778,
             "#fb9f3a"
            ],
            [
             0.8888888888888888,
             "#fdca26"
            ],
            [
             1,
             "#f0f921"
            ]
           ]
          },
          "colorway": [
           "#636efa",
           "#EF553B",
           "#00cc96",
           "#ab63fa",
           "#FFA15A",
           "#19d3f3",
           "#FF6692",
           "#B6E880",
           "#FF97FF",
           "#FECB52"
          ],
          "font": {
           "color": "#2a3f5f"
          },
          "geo": {
           "bgcolor": "white",
           "lakecolor": "white",
           "landcolor": "#E5ECF6",
           "showlakes": true,
           "showland": true,
           "subunitcolor": "white"
          },
          "hoverlabel": {
           "align": "left"
          },
          "hovermode": "closest",
          "mapbox": {
           "style": "light"
          },
          "paper_bgcolor": "white",
          "plot_bgcolor": "#E5ECF6",
          "polar": {
           "angularaxis": {
            "gridcolor": "white",
            "linecolor": "white",
            "ticks": ""
           },
           "bgcolor": "#E5ECF6",
           "radialaxis": {
            "gridcolor": "white",
            "linecolor": "white",
            "ticks": ""
           }
          },
          "scene": {
           "xaxis": {
            "backgroundcolor": "#E5ECF6",
            "gridcolor": "white",
            "gridwidth": 2,
            "linecolor": "white",
            "showbackground": true,
            "ticks": "",
            "zerolinecolor": "white"
           },
           "yaxis": {
            "backgroundcolor": "#E5ECF6",
            "gridcolor": "white",
            "gridwidth": 2,
            "linecolor": "white",
            "showbackground": true,
            "ticks": "",
            "zerolinecolor": "white"
           },
           "zaxis": {
            "backgroundcolor": "#E5ECF6",
            "gridcolor": "white",
            "gridwidth": 2,
            "linecolor": "white",
            "showbackground": true,
            "ticks": "",
            "zerolinecolor": "white"
           }
          },
          "shapedefaults": {
           "line": {
            "color": "#2a3f5f"
           }
          },
          "ternary": {
           "aaxis": {
            "gridcolor": "white",
            "linecolor": "white",
            "ticks": ""
           },
           "baxis": {
            "gridcolor": "white",
            "linecolor": "white",
            "ticks": ""
           },
           "bgcolor": "#E5ECF6",
           "caxis": {
            "gridcolor": "white",
            "linecolor": "white",
            "ticks": ""
           }
          },
          "title": {
           "x": 0.05
          },
          "xaxis": {
           "automargin": true,
           "gridcolor": "white",
           "linecolor": "white",
           "ticks": "",
           "title": {
            "standoff": 15
           },
           "zerolinecolor": "white",
           "zerolinewidth": 2
          },
          "yaxis": {
           "automargin": true,
           "gridcolor": "white",
           "linecolor": "white",
           "ticks": "",
           "title": {
            "standoff": 15
           },
           "zerolinecolor": "white",
           "zerolinewidth": 2
          }
         }
        },
        "width": 1000
       }
      },
      "image/png": "[encoded data removed]",
      "text/html": [
       "<div>                            <div id=\"6c02aad5-10f7-4b30-9c5b-3d0d459251fd\" class=\"plotly-graph-div\" style=\"height:900px; width:1000px;\"></div>            <script type=\"text/javascript\">                require([\"plotly\"], function(Plotly) {                    window.PLOTLYENV=window.PLOTLYENV || {};                                    if (document.getElementById(\"6c02aad5-10f7-4b30-9c5b-3d0d459251fd\")) {                    Plotly.newPlot(                        \"6c02aad5-10f7-4b30-9c5b-3d0d459251fd\",                        [{\"geo\":\"geo\",\"hovertemplate\":\"salary_mean=%{marker.size}<br>city=%{text}<br>lat=%{lat}<br>lon=%{lon}<br>total_vac=%{marker.color}<extra></extra>\",\"lat\":[54.9005008,46.3498308,53.34740200000001,50.5955595,54.75795,52.5394905,50.290527,53.24237780000001,55.5571496,43.1150678,56.1288899,48.7081906,59.218876,51.6605982,55.322518,60.024006,56.2382157,55.4368213,56.7362705,56.839104,55.7577131,null,55.9964233,55.8477605,56.6295264,56.86051745,52.289597,56.6328248,55.7823547,54.710128,54.5101087,56.415451,45.3534002,59.4733446,56.3355601,55.0995509,59.748444,55.9204898,57.7679158,55.6587214,45.7684014,56.0090968,52.6041877,55.6783142,53.4242184,44.6062079,42.9830241,55.8878706,55.7255585,55.75044609999999,55.9094928,55.7419774,56.3264816,55.0282171,69.3498394,54.991375,52.9685433,51.767452,53.1937836,58.02148705,59.722256,55.9939587,47.2213858,54.6295687,53.198627,59.938731999999995,51.53952715,44.565550300000005,60.143707,60.0981084,44.9521459,43.5854823,44.8632577,55.8070323,61.254032,47.2392184,52.731118499999994,56.8596713,53.51495,60.428493,58.6124279,54.1930321,57.153534,54.3107593,54.7261409,48.481403,55.8917293,56.1307195,55.15984079999999,52.033409,55.4985162,55.9206499,62.0274078,57.6263877],\"legendgroup\":\"\",\"lon\":[52.2963777,48.0326203,83.7784496,36.5873394,83.1068095,85.2148673,127.527161,34.3668288,37.7087142,131.8855768,40.4075203,44.5153353,39.893276,39.2005858,38.6816824,30.646042,43.4617405,37.7680693,37.1623696,60.60824999999999,52.0539938,null,37.198534,48.5097031,40.5700972,53.19773074245531,104.280586,47.8972462,49.1242266,20.5105838,36.2598115,61.917797,36.4538645,49.2381709,36.7351318,38.7811165,30.604479,37.8326289,40.9269141,37.9798073,39.0261044,92.8725147,39.5936899,37.89377,58.983136,40.104053,47.5048717,52.308443,53.1071815,37.6174943,37.7339358,52.399207,44.0051395,82.9234509,88.200517,73.371529,36.0692477,55.097118,45.006741250609664,56.23076652679421,30.415731,40.3294411,39.7114196,39.7425039,50.113987,30.316229,46.03338615081432,33.45959860374677,30.207806,29.9597606,34.1024858,39.723109,43.4406913,38.1774172,73.3964,38.87550310009352,41.434199146086904,35.89524161906262,49.40757399999999,33.002235,82.0475315,37.61754,65.542274,48.3642771,55.947499,135.076935,37.4396994,47.2449597,61.4025547,113.500893,46.4186725,37.9915576,129.7319787,39.8933705],\"marker\":{\"color\":[1.0,1.0,6.0,3.0,1.0,1.0,2.0,3.0,1.0,27.0,3.0,4.0,2.0,15.0,2.0,1.0,1.0,1.0,1.0,47.0,1.0,1.0,1.0,1.0,2.0,6.0,4.0,1.0,28.0,2.0,1.0,1.0,1.0,4.0,1.0,1.0,2.0,2.0,4.0,1.0,27.0,4.0,1.0,2.0,1.0,1.0,3.0,1.0,1.0,637.0,2.0,6.0,28.0,28.0,1.0,4.0,1.0,1.0,4.0,12.0,2.0,1.0,19.0,6.0,20.0,137.0,6.0,3.0,1.0,1.0,3.0,4.0,1.0,1.0,1.0,2.0,2.0,1.0,6.0,1.0,14.0,2.0,2.0,8.0,14.0,2.0,1.0,7.0,11.0,1.0,1.0,1.0,2.0,4.0],\"coloraxis\":\"coloraxis\",\"size\":[54000.0,52500.0,70333.33333333333,44166.666666666664,50000.0,65000.0,70000.0,45983.333333333336,90000.0,91392.5925925926,40000.0,64212.5,46250.0,79513.33333333333,92500.0,45000.0,50000.0,90000.0,67500.0,71279.78723404255,130000.0,130000.0,60000.0,52500.0,86250.0,71083.33333333333,47250.0,34000.0,91250.0,48750.0,165000.0,50000.0,45000.0,51250.0,40000.0,92500.0,100000.0,150000.0,58750.0,80000.0,80611.11111111111,86250.0,100000.0,100000.0,130000.0,27000.0,73333.33333333333,54000.0,52500.0,151099.96860282574,92500.0,66994.5,100641.07142857143,93625.0,75000.0,47500.0,27000.0,30000.0,67500.0,105791.66666666667,100000.0,40000.0,74984.21052631579,52250.0,96985.0,115405.08029197081,66400.0,43333.333333333336,130000.0,130000.0,56666.666666666664,100000.0,60000.0,90000.0,35000.0,72250.0,80000.0,40000.0,58466.666666666664,80000.0,97857.14285714286,85000.0,52500.0,93125.0,60371.42857142857,50000.0,100000.0,67142.85714285714,54454.545454545456,50000.0,42000.0,130000.0,100000.0,124375.0],\"sizemode\":\"area\",\"sizeref\":412.5,\"symbol\":\"circle\"},\"mode\":\"markers+text\",\"name\":\"\",\"showlegend\":false,\"text\":[\"\\u0410\\u043b\\u044c\\u043c\\u0435\\u0442\\u044c\\u0435\\u0432\\u0441\\u043a\",\"\\u0410\\u0441\\u0442\\u0440\\u0430\\u0445\\u0430\\u043d\\u044c\",\"\\u0411\\u0430\\u0440\\u043d\\u0430\\u0443\\u043b\",\"\\u0411\\u0435\\u043b\\u0433\\u043e\\u0440\\u043e\\u0434\",\"\\u0411\\u0435\\u0440\\u0434\\u0441\\u043a\",\"\\u0411\\u0438\\u0439\\u0441\\u043a\",\"\\u0411\\u043b\\u0430\\u0433\\u043e\\u0432\\u0435\\u0449\\u0435\\u043d\\u0441\\u043a (\\u0410\\u043c\\u0443\\u0440\\u0441\\u043a\\u0430\\u044f \\u043e\\u0431\\u043b\\u0430\\u0441\\u0442\\u044c)\",\"\\u0411\\u0440\\u044f\\u043d\\u0441\\u043a\",\"\\u0412\\u0438\\u0434\\u043d\\u043e\\u0435\",\"\\u0412\\u043b\\u0430\\u0434\\u0438\\u0432\\u043e\\u0441\\u0442\\u043e\\u043a\",\"\\u0412\\u043b\\u0430\\u0434\\u0438\\u043c\\u0438\\u0440\",\"\\u0412\\u043e\\u043b\\u0433\\u043e\\u0433\\u0440\\u0430\\u0434\",\"\\u0412\\u043e\\u043b\\u043e\\u0433\\u0434\\u0430\",\"\\u0412\\u043e\\u0440\\u043e\\u043d\\u0435\\u0436\",\"\\u0412\\u043e\\u0441\\u043a\\u0440\\u0435\\u0441\\u0435\\u043d\\u0441\\u043a\",\"\\u0412\\u0441\\u0435\\u0432\\u043e\\u043b\\u043e\\u0436\\u0441\\u043a\",\"\\u0414\\u0437\\u0435\\u0440\\u0436\\u0438\\u043d\\u0441\\u043a (\\u041d\\u0438\\u0436\\u0435\\u0433\\u043e\\u0440\\u043e\\u0434\\u0441\\u043a\\u0430\\u044f \\u043e\\u0431\\u043b\\u0430\\u0441\\u0442\\u044c)\",\"\\u0414\\u043e\\u043c\\u043e\\u0434\\u0435\\u0434\\u043e\\u0432\\u043e\",\"\\u0414\\u0443\\u0431\\u043d\\u0430\",\"\\u0415\\u043a\\u0430\\u0442\\u0435\\u0440\\u0438\\u043d\\u0431\\u0443\\u0440\\u0433\",\"\\u0415\\u043b\\u0430\\u0431\\u0443\\u0433\\u0430\",\"\\u0417\\u0435\\u043b\\u0435\\u043d\\u043e\\u0433\\u043e\\u0440\\u0441\\u043a (\\u041b\\u0435\\u043d\\u0438\\u043d\\u0433\\u0440\\u0430\\u0434\\u0441\\u043a\\u0430\\u044f \\u043e\\u0431\\u043b)\",\"\\u0417\\u0435\\u043b\\u0435\\u043d\\u043e\\u0433\\u0440\\u0430\\u0434\",\"\\u0417\\u0435\\u043b\\u0435\\u043d\\u043e\\u0434\\u043e\\u043b\\u044c\\u0441\\u043a (\\u0420\\u0435\\u0441\\u043f\\u0443\\u0431\\u043b\\u0438\\u043a\\u0430 \\u0422\\u0430\\u0442\\u0430\\u0440\\u0441\\u0442\\u0430\\u043d)\",\"\\u0418\\u0432\\u0430\\u043d\\u043e\\u0432\\u043e (\\u0418\\u0432\\u0430\\u043d\\u043e\\u0432\\u0441\\u043a\\u0430\\u044f \\u043e\\u0431\\u043b\\u0430\\u0441\\u0442\\u044c)\",\"\\u0418\\u0436\\u0435\\u0432\\u0441\\u043a\",\"\\u0418\\u0440\\u043a\\u0443\\u0442\\u0441\\u043a\",\"\\u0419\\u043e\\u0448\\u043a\\u0430\\u0440-\\u041e\\u043b\\u0430\",\"\\u041a\\u0430\\u0437\\u0430\\u043d\\u044c\",\"\\u041a\\u0430\\u043b\\u0438\\u043d\\u0438\\u043d\\u0433\\u0440\\u0430\\u0434\",\"\\u041a\\u0430\\u043b\\u0443\\u0433\\u0430\",\"\\u041a\\u0430\\u043c\\u0435\\u043d\\u0441\\u043a-\\u0423\\u0440\\u0430\\u043b\\u044c\\u0441\\u043a\\u0438\\u0439\",\"\\u041a\\u0435\\u0440\\u0447\\u044c\",\"\\u041a\\u0438\\u0440\\u043e\\u0432 (\\u041a\\u0438\\u0440\\u043e\\u0432\\u0441\\u043a\\u0430\\u044f \\u043e\\u0431\\u043b\\u0430\\u0441\\u0442\\u044c)\",\"\\u041a\\u043b\\u0438\\u043d\",\"\\u041a\\u043e\\u043b\\u043e\\u043c\\u043d\\u0430\",\"\\u041a\\u043e\\u043b\\u043f\\u0438\\u043d\\u043e\",\"\\u041a\\u043e\\u0440\\u043e\\u043b\\u0435\\u0432\",\"\\u041a\\u043e\\u0441\\u0442\\u0440\\u043e\\u043c\\u0430\",\"\\u041a\\u0440\\u0430\\u0441\\u043a\\u043e\\u0432\\u043e\",\"\\u041a\\u0440\\u0430\\u0441\\u043d\\u043e\\u0434\\u0430\\u0440\",\"\\u041a\\u0440\\u0430\\u0441\\u043d\\u043e\\u044f\\u0440\\u0441\\u043a\",\"\\u041b\\u0438\\u043f\\u0435\\u0446\\u043a\",\"\\u041b\\u044e\\u0431\\u0435\\u0440\\u0446\\u044b\",\"\\u041c\\u0430\\u0433\\u043d\\u0438\\u0442\\u043e\\u0433\\u043e\\u0440\\u0441\\u043a\",\"\\u041c\\u0430\\u0439\\u043a\\u043e\\u043f\",\"\\u041c\\u0430\\u0445\\u0430\\u0447\\u043a\\u0430\\u043b\\u0430\",\"\\u041c\\u0435\\u043d\\u0434\\u0435\\u043b\\u0435\\u0435\\u0432\\u0441\\u043a\",\"\\u041c\\u0435\\u043d\\u0437\\u0435\\u043b\\u0438\\u043d\\u0441\\u043a\",\"\\u041c\\u043e\\u0441\\u043a\\u0432\\u0430\",\"\\u041c\\u044b\\u0442\\u0438\\u0449\\u0438\",\"\\u041d\\u0430\\u0431\\u0435\\u0440\\u0435\\u0436\\u043d\\u044b\\u0435 \\u0427\\u0435\\u043b\\u043d\\u044b\",\"\\u041d\\u0438\\u0436\\u043d\\u0438\\u0439 \\u041d\\u043e\\u0432\\u0433\\u043e\\u0440\\u043e\\u0434\",\"\\u041d\\u043e\\u0432\\u043e\\u0441\\u0438\\u0431\\u0438\\u0440\\u0441\\u043a\",\"\\u041d\\u043e\\u0440\\u0438\\u043b\\u044c\\u0441\\u043a\",\"\\u041e\\u043c\\u0441\\u043a\",\"\\u041e\\u0440\\u0435\\u043b\",\"\\u041e\\u0440\\u0435\\u043d\\u0431\\u0443\\u0440\\u0433\",\"\\u041f\\u0435\\u043d\\u0437\\u0430\",\"\\u041f\\u0435\\u0440\\u043c\\u044c\",\"\\u041f\\u0443\\u0448\\u043a\\u0438\\u043d\",\"\\u0420\\u0430\\u0434\\u0443\\u0436\\u043d\\u044b\\u0439 (\\u0412\\u043b\\u0430\\u0434\\u0438\\u043c\\u0438\\u0440\\u0441\\u043a\\u0430\\u044f \\u043e\\u0431\\u043b\\u0430\\u0441\\u0442\\u044c)\",\"\\u0420\\u043e\\u0441\\u0442\\u043e\\u0432-\\u043d\\u0430-\\u0414\\u043e\\u043d\\u0443\",\"\\u0420\\u044f\\u0437\\u0430\\u043d\\u044c\",\"\\u0421\\u0430\\u043c\\u0430\\u0440\\u0430\",\"\\u0421\\u0430\\u043d\\u043a\\u0442-\\u041f\\u0435\\u0442\\u0435\\u0440\\u0431\\u0443\\u0440\\u0433\",\"\\u0421\\u0430\\u0440\\u0430\\u0442\\u043e\\u0432\",\"\\u0421\\u0435\\u0432\\u0430\\u0441\\u0442\\u043e\\u043f\\u043e\\u043b\\u044c\",\"\\u0421\\u0435\\u0440\\u0442\\u043e\\u043b\\u043e\\u0432\\u043e\",\"\\u0421\\u0435\\u0441\\u0442\\u0440\\u043e\\u0440\\u0435\\u0446\\u043a\",\"\\u0421\\u0438\\u043c\\u0444\\u0435\\u0440\\u043e\\u043f\\u043e\\u043b\\u044c\",\"\\u0421\\u043e\\u0447\\u0438\",\"\\u0421\\u0442\\u0430\\u0432\\u0440\\u043e\\u043f\\u043e\\u043b\\u044c\",\"\\u0421\\u0442\\u0430\\u0440\\u0430\\u044f \\u041a\\u0443\\u043f\\u0430\\u0432\\u043d\\u0430\",\"\\u0421\\u0443\\u0440\\u0433\\u0443\\u0442\",\"\\u0422\\u0430\\u0433\\u0430\\u043d\\u0440\\u043e\\u0433\",\"\\u0422\\u0430\\u043c\\u0431\\u043e\\u0432\",\"\\u0422\\u0432\\u0435\\u0440\\u044c\",\"\\u0422\\u043e\\u043b\\u044c\\u044f\\u0442\\u0442\\u0438\",\"\\u0422\\u043e\\u043c\\u0438\\u043b\\u0438\\u043d\\u043e\",\"\\u0422\\u043e\\u043c\\u0441\\u043a\",\"\\u0422\\u0443\\u043b\\u0430\",\"\\u0422\\u044e\\u043c\\u0435\\u043d\\u044c\",\"\\u0423\\u043b\\u044c\\u044f\\u043d\\u043e\\u0432\\u0441\\u043a\",\"\\u0423\\u0444\\u0430\",\"\\u0425\\u0430\\u0431\\u0430\\u0440\\u043e\\u0432\\u0441\\u043a\",\"\\u0425\\u0438\\u043c\\u043a\\u0438\",\"\\u0427\\u0435\\u0431\\u043e\\u043a\\u0441\\u0430\\u0440\\u044b\",\"\\u0427\\u0435\\u043b\\u044f\\u0431\\u0438\\u043d\\u0441\\u043a\",\"\\u0427\\u0438\\u0442\\u0430\",\"\\u0428\\u0443\\u043c\\u0435\\u0440\\u043b\\u044f\",\"\\u0429\\u0435\\u043b\\u043a\\u043e\\u0432\\u043e\",\"\\u042f\\u043a\\u0443\\u0442\\u0441\\u043a\",\"\\u042f\\u0440\\u043e\\u0441\\u043b\\u0430\\u0432\\u043b\\u044c\"],\"type\":\"scattergeo\"}],                        {\"template\":{\"data\":{\"bar\":[{\"error_x\":{\"color\":\"#2a3f5f\"},\"error_y\":{\"color\":\"#2a3f5f\"},\"marker\":{\"line\":{\"color\":\"#E5ECF6\",\"width\":0.5},\"pattern\":{\"fillmode\":\"overlay\",\"size\":10,\"solidity\":0.2}},\"type\":\"bar\"}],\"barpolar\":[{\"marker\":{\"line\":{\"color\":\"#E5ECF6\",\"width\":0.5},\"pattern\":{\"fillmode\":\"overlay\",\"size\":10,\"solidity\":0.2}},\"type\":\"barpolar\"}],\"carpet\":[{\"aaxis\":{\"endlinecolor\":\"#2a3f5f\",\"gridcolor\":\"white\",\"linecolor\":\"white\",\"minorgridcolor\":\"white\",\"startlinecolor\":\"#2a3f5f\"},\"baxis\":{\"endlinecolor\":\"#2a3f5f\",\"gridcolor\":\"white\",\"linecolor\":\"white\",\"minorgridcolor\":\"white\",\"startlinecolor\":\"#2a3f5f\"},\"type\":\"carpet\"}],\"choropleth\":[{\"colorbar\":{\"outlinewidth\":0,\"ticks\":\"\"},\"type\":\"choropleth\"}],\"contour\":[{\"colorbar\":{\"outlinewidth\":0,\"ticks\":\"\"},\"colorscale\":[[0.0,\"#0d0887\"],[0.1111111111111111,\"#46039f\"],[0.2222222222222222,\"#7201a8\"],[0.3333333333333333,\"#9c179e\"],[0.4444444444444444,\"#bd3786\"],[0.5555555555555556,\"#d8576b\"],[0.6666666666666666,\"#ed7953\"],[0.7777777777777778,\"#fb9f3a\"],[0.8888888888888888,\"#fdca26\"],[1.0,\"#f0f921\"]],\"type\":\"contour\"}],\"contourcarpet\":[{\"colorbar\":{\"outlinewidth\":0,\"ticks\":\"\"},\"type\":\"contourcarpet\"}],\"heatmap\":[{\"colorbar\":{\"outlinewidth\":0,\"ticks\":\"\"},\"colorscale\":[[0.0,\"#0d0887\"],[0.1111111111111111,\"#46039f\"],[0.2222222222222222,\"#7201a8\"],[0.3333333333333333,\"#9c179e\"],[0.4444444444444444,\"#bd3786\"],[0.5555555555555556,\"#d8576b\"],[0.6666666666666666,\"#ed7953\"],[0.7777777777777778,\"#fb9f3a\"],[0.8888888888888888,\"#fdca26\"],[1.0,\"#f0f921\"]],\"type\":\"heatmap\"}],\"heatmapgl\":[{\"colorbar\":{\"outlinewidth\":0,\"ticks\":\"\"},\"colorscale\":[[0.0,\"#0d0887\"],[0.1111111111111111,\"#46039f\"],[0.2222222222222222,\"#7201a8\"],[0.3333333333333333,\"#9c179e\"],[0.4444444444444444,\"#bd3786\"],[0.5555555555555556,\"#d8576b\"],[0.6666666666666666,\"#ed7953\"],[0.7777777777777778,\"#fb9f3a\"],[0.8888888888888888,\"#fdca26\"],[1.0,\"#f0f921\"]],\"type\":\"heatmapgl\"}],\"histogram\":[{\"marker\":{\"pattern\":{\"fillmode\":\"overlay\",\"size\":10,\"solidity\":0.2}},\"type\":\"histogram\"}],\"histogram2d\":[{\"colorbar\":{\"outlinewidth\":0,\"ticks\":\"\"},\"colorscale\":[[0.0,\"#0d0887\"],[0.1111111111111111,\"#46039f\"],[0.2222222222222222,\"#7201a8\"],[0.3333333333333333,\"#9c179e\"],[0.4444444444444444,\"#bd3786\"],[0.5555555555555556,\"#d8576b\"],[0.6666666666666666,\"#ed7953\"],[0.7777777777777778,\"#fb9f3a\"],[0.8888888888888888,\"#fdca26\"],[1.0,\"#f0f921\"]],\"type\":\"histogram2d\"}],\"histogram2dcontour\":[{\"colorbar\":{\"outlinewidth\":0,\"ticks\":\"\"},\"colorscale\":[[0.0,\"#0d0887\"],[0.1111111111111111,\"#46039f\"],[0.2222222222222222,\"#7201a8\"],[0.3333333333333333,\"#9c179e\"],[0.4444444444444444,\"#bd3786\"],[0.5555555555555556,\"#d8576b\"],[0.6666666666666666,\"#ed7953\"],[0.7777777777777778,\"#fb9f3a\"],[0.8888888888888888,\"#fdca26\"],[1.0,\"#f0f921\"]],\"type\":\"histogram2dcontour\"}],\"mesh3d\":[{\"colorbar\":{\"outlinewidth\":0,\"ticks\":\"\"},\"type\":\"mesh3d\"}],\"parcoords\":[{\"line\":{\"colorbar\":{\"outlinewidth\":0,\"ticks\":\"\"}},\"type\":\"parcoords\"}],\"pie\":[{\"automargin\":true,\"type\":\"pie\"}],\"scatter\":[{\"marker\":{\"colorbar\":{\"outlinewidth\":0,\"ticks\":\"\"}},\"type\":\"scatter\"}],\"scatter3d\":[{\"line\":{\"colorbar\":{\"outlinewidth\":0,\"ticks\":\"\"}},\"marker\":{\"colorbar\":{\"outlinewidth\":0,\"ticks\":\"\"}},\"type\":\"scatter3d\"}],\"scattercarpet\":[{\"marker\":{\"colorbar\":{\"outlinewidth\":0,\"ticks\":\"\"}},\"type\":\"scattercarpet\"}],\"scattergeo\":[{\"marker\":{\"colorbar\":{\"outlinewidth\":0,\"ticks\":\"\"}},\"type\":\"scattergeo\"}],\"scattergl\":[{\"marker\":{\"colorbar\":{\"outlinewidth\":0,\"ticks\":\"\"}},\"type\":\"scattergl\"}],\"scattermapbox\":[{\"marker\":{\"colorbar\":{\"outlinewidth\":0,\"ticks\":\"\"}},\"type\":\"scattermapbox\"}],\"scatterpolar\":[{\"marker\":{\"colorbar\":{\"outlinewidth\":0,\"ticks\":\"\"}},\"type\":\"scatterpolar\"}],\"scatterpolargl\":[{\"marker\":{\"colorbar\":{\"outlinewidth\":0,\"ticks\":\"\"}},\"type\":\"scatterpolargl\"}],\"scatterternary\":[{\"marker\":{\"colorbar\":{\"outlinewidth\":0,\"ticks\":\"\"}},\"type\":\"scatterternary\"}],\"surface\":[{\"colorbar\":{\"outlinewidth\":0,\"ticks\":\"\"},\"colorscale\":[[0.0,\"#0d0887\"],[0.1111111111111111,\"#46039f\"],[0.2222222222222222,\"#7201a8\"],[0.3333333333333333,\"#9c179e\"],[0.4444444444444444,\"#bd3786\"],[0.5555555555555556,\"#d8576b\"],[0.6666666666666666,\"#ed7953\"],[0.7777777777777778,\"#fb9f3a\"],[0.8888888888888888,\"#fdca26\"],[1.0,\"#f0f921\"]],\"type\":\"surface\"}],\"table\":[{\"cells\":{\"fill\":{\"color\":\"#EBF0F8\"},\"line\":{\"color\":\"white\"}},\"header\":{\"fill\":{\"color\":\"#C8D4E3\"},\"line\":{\"color\":\"white\"}},\"type\":\"table\"}]},\"layout\":{\"annotationdefaults\":{\"arrowcolor\":\"#2a3f5f\",\"arrowhead\":0,\"arrowwidth\":1},\"autotypenumbers\":\"strict\",\"coloraxis\":{\"colorbar\":{\"outlinewidth\":0,\"ticks\":\"\"}},\"colorscale\":{\"diverging\":[[0,\"#8e0152\"],[0.1,\"#c51b7d\"],[0.2,\"#de77ae\"],[0.3,\"#f1b6da\"],[0.4,\"#fde0ef\"],[0.5,\"#f7f7f7\"],[0.6,\"#e6f5d0\"],[0.7,\"#b8e186\"],[0.8,\"#7fbc41\"],[0.9,\"#4d9221\"],[1,\"#276419\"]],\"sequential\":[[0.0,\"#0d0887\"],[0.1111111111111111,\"#46039f\"],[0.2222222222222222,\"#7201a8\"],[0.3333333333333333,\"#9c179e\"],[0.4444444444444444,\"#bd3786\"],[0.5555555555555556,\"#d8576b\"],[0.6666666666666666,\"#ed7953\"],[0.7777777777777778,\"#fb9f3a\"],[0.8888888888888888,\"#fdca26\"],[1.0,\"#f0f921\"]],\"sequentialminus\":[[0.0,\"#0d0887\"],[0.1111111111111111,\"#46039f\"],[0.2222222222222222,\"#7201a8\"],[0.3333333333333333,\"#9c179e\"],[0.4444444444444444,\"#bd3786\"],[0.5555555555555556,\"#d8576b\"],[0.6666666666666666,\"#ed7953\"],[0.7777777777777778,\"#fb9f3a\"],[0.8888888888888888,\"#fdca26\"],[1.0,\"#f0f921\"]]},\"colorway\":[\"#636efa\",\"#EF553B\",\"#00cc96\",\"#ab63fa\",\"#FFA15A\",\"#19d3f3\",\"#FF6692\",\"#B6E880\",\"#FF97FF\",\"#FECB52\"],\"font\":{\"color\":\"#2a3f5f\"},\"geo\":{\"bgcolor\":\"white\",\"lakecolor\":\"white\",\"landcolor\":\"#E5ECF6\",\"showlakes\":true,\"showland\":true,\"subunitcolor\":\"white\"},\"hoverlabel\":{\"align\":\"left\"},\"hovermode\":\"closest\",\"mapbox\":{\"style\":\"light\"},\"paper_bgcolor\":\"white\",\"plot_bgcolor\":\"#E5ECF6\",\"polar\":{\"angularaxis\":{\"gridcolor\":\"white\",\"linecolor\":\"white\",\"ticks\":\"\"},\"bgcolor\":\"#E5ECF6\",\"radialaxis\":{\"gridcolor\":\"white\",\"linecolor\":\"white\",\"ticks\":\"\"}},\"scene\":{\"xaxis\":{\"backgroundcolor\":\"#E5ECF6\",\"gridcolor\":\"white\",\"gridwidth\":2,\"linecolor\":\"white\",\"showbackground\":true,\"ticks\":\"\",\"zerolinecolor\":\"white\"},\"yaxis\":{\"backgroundcolor\":\"#E5ECF6\",\"gridcolor\":\"white\",\"gridwidth\":2,\"linecolor\":\"white\",\"showbackground\":true,\"ticks\":\"\",\"zerolinecolor\":\"white\"},\"zaxis\":{\"backgroundcolor\":\"#E5ECF6\",\"gridcolor\":\"white\",\"gridwidth\":2,\"linecolor\":\"white\",\"showbackground\":true,\"ticks\":\"\",\"zerolinecolor\":\"white\"}},\"shapedefaults\":{\"line\":{\"color\":\"#2a3f5f\"}},\"ternary\":{\"aaxis\":{\"gridcolor\":\"white\",\"linecolor\":\"white\",\"ticks\":\"\"},\"baxis\":{\"gridcolor\":\"white\",\"linecolor\":\"white\",\"ticks\":\"\"},\"bgcolor\":\"#E5ECF6\",\"caxis\":{\"gridcolor\":\"white\",\"linecolor\":\"white\",\"ticks\":\"\"}},\"title\":{\"x\":0.05},\"xaxis\":{\"automargin\":true,\"gridcolor\":\"white\",\"linecolor\":\"white\",\"ticks\":\"\",\"title\":{\"standoff\":15},\"zerolinecolor\":\"white\",\"zerolinewidth\":2},\"yaxis\":{\"automargin\":true,\"gridcolor\":\"white\",\"linecolor\":\"white\",\"ticks\":\"\",\"title\":{\"standoff\":15},\"zerolinecolor\":\"white\",\"zerolinewidth\":2}}},\"geo\":{\"domain\":{\"x\":[0.0,1.0],\"y\":[0.0,1.0]},\"center\":{}},\"coloraxis\":{\"colorbar\":{\"title\":{\"text\":\"total_vac\"}},\"colorscale\":[[0.0,\"rgb(0,0,131)\"],[0.2,\"rgb(0,60,170)\"],[0.4,\"rgb(5,255,255)\"],[0.6,\"rgb(255,255,0)\"],[0.8,\"rgb(250,0,0)\"],[1.0,\"rgb(128,0,0)\"]]},\"legend\":{\"tracegroupgap\":0,\"itemsizing\":\"constant\"},\"margin\":{\"t\":60},\"height\":900,\"width\":1000},                        {\"responsive\": true}                    ).then(function(){\n",
       "                            \n",
       "var gd = document.getElementById('6c02aad5-10f7-4b30-9c5b-3d0d459251fd');\n",
       "var x = new MutationObserver(function (mutations, observer) {{\n",
       "        var display = window.getComputedStyle(gd).display;\n",
       "        if (!display || display === 'none') {{\n",
       "            console.log([gd, 'removed!']);\n",
       "            Plotly.purge(gd);\n",
       "            observer.disconnect();\n",
       "        }}\n",
       "}});\n",
       "\n",
       "// Listen for the removal of the full notebook cells\n",
       "var notebookContainer = gd.closest('#notebook-container');\n",
       "if (notebookContainer) {{\n",
       "    x.observe(notebookContainer, {childList: true});\n",
       "}}\n",
       "\n",
       "// Listen for the clearing of the current output cell\n",
       "var outputEl = gd.closest('.output');\n",
       "if (outputEl) {{\n",
       "    x.observe(outputEl, {childList: true});\n",
       "}}\n",
       "\n",
       "                        })                };                });            </script>        </div>"
      ]
     },
     "metadata": {},
     "output_type": "display_data"
    }
   ],
   "source": [
    "fig = px.scatter_geo(df_grouped, lat='lat', lon='lon', \n",
    "                     color='total_vac', text='city', \n",
    "                     color_continuous_scale=px.colors.sequential.Jet, \n",
    "                     size='salary_mean', width=1000, height=900)\n",
    "fig.show()"
   ]
  }
 ],
 "metadata": {
  "colab": {
   "include_colab_link": true,
   "provenance": []
  },
  "kernelspec": {
   "display_name": "Python 3 (ipykernel)",
   "language": "python",
   "name": "python3"
  },
  "language_info": {
   "codemirror_mode": {
    "name": "ipython",
    "version": 3
   },
   "file_extension": ".py",
   "mimetype": "text/x-python",
   "name": "python",
   "nbconvert_exporter": "python",
   "pygments_lexer": "ipython3",
   "version": "3.9.12"
  },
  "widgets": {
   "application/vnd.jupyter.widget-state+json": {
    "099c89935b71489b809cd58d7fe91635": {
     "model_module": "@jupyter-widgets/base",
     "model_module_version": "1.2.0",
     "model_name": "LayoutModel",
     "state": {
      "_model_module": "@jupyter-widgets/base",
      "_model_module_version": "1.2.0",
      "_model_name": "LayoutModel",
      "_view_count": null,
      "_view_module": "@jupyter-widgets/base",
      "_view_module_version": "1.2.0",
      "_view_name": "LayoutView",
      "align_content": null,
      "align_items": null,
      "align_self": null,
      "border": null,
      "bottom": null,
      "display": null,
      "flex": null,
      "flex_flow": null,
      "grid_area": null,
      "grid_auto_columns": null,
      "grid_auto_flow": null,
      "grid_auto_rows": null,
      "grid_column": null,
      "grid_gap": null,
      "grid_row": null,
      "grid_template_areas": null,
      "grid_template_columns": null,
      "grid_template_rows": null,
      "height": null,
      "justify_content": null,
      "justify_items": null,
      "left": null,
      "margin": null,
      "max_height": null,
      "max_width": null,
      "min_height": null,
      "min_width": null,
      "object_fit": null,
      "object_position": null,
      "order": null,
      "overflow": null,
      "overflow_x": null,
      "overflow_y": null,
      "padding": null,
      "right": null,
      "top": null,
      "visibility": null,
      "width": null
     }
    },
    "09bbb94cb76e4f63b5b6426a1168ae49": {
     "model_module": "@jupyter-widgets/controls",
     "model_module_version": "1.5.0",
     "model_name": "DescriptionStyleModel",
     "state": {
      "_model_module": "@jupyter-widgets/controls",
      "_model_module_version": "1.5.0",
      "_model_name": "DescriptionStyleModel",
      "_view_count": null,
      "_view_module": "@jupyter-widgets/base",
      "_view_module_version": "1.2.0",
      "_view_name": "StyleView",
      "description_width": ""
     }
    },
    "0a92b5189d9a4db99c461847e1ebecd9": {
     "model_module": "@jupyter-widgets/controls",
     "model_module_version": "1.5.0",
     "model_name": "DescriptionStyleModel",
     "state": {
      "_model_module": "@jupyter-widgets/controls",
      "_model_module_version": "1.5.0",
      "_model_name": "DescriptionStyleModel",
      "_view_count": null,
      "_view_module": "@jupyter-widgets/base",
      "_view_module_version": "1.2.0",
      "_view_name": "StyleView",
      "description_width": ""
     }
    },
    "0ad0606a733944ed8fb2734b4c962095": {
     "model_module": "@jupyter-widgets/controls",
     "model_module_version": "1.5.0",
     "model_name": "HTMLModel",
     "state": {
      "_dom_classes": [],
      "_model_module": "@jupyter-widgets/controls",
      "_model_module_version": "1.5.0",
      "_model_name": "HTMLModel",
      "_view_count": null,
      "_view_module": "@jupyter-widgets/controls",
      "_view_module_version": "1.5.0",
      "_view_name": "HTMLView",
      "description": "",
      "description_tooltip": null,
      "layout": "IPY_MODEL_a58e2068112840a6ac764c298a41b257",
      "placeholder": "​",
      "style": "IPY_MODEL_c37ae15473294c19a99c930fdcbc8eb5",
      "value": " 50/50 [00:32&lt;00:00,  2.22it/s]"
     }
    },
    "0b99f9f611744225a06856f7a752f20b": {
     "model_module": "@jupyter-widgets/controls",
     "model_module_version": "1.5.0",
     "model_name": "HTMLModel",
     "state": {
      "_dom_classes": [],
      "_model_module": "@jupyter-widgets/controls",
      "_model_module_version": "1.5.0",
      "_model_name": "HTMLModel",
      "_view_count": null,
      "_view_module": "@jupyter-widgets/controls",
      "_view_module_version": "1.5.0",
      "_view_name": "HTMLView",
      "description": "",
      "description_tooltip": null,
      "layout": "IPY_MODEL_b4e540a1b7584b1bbadfe23f4b74e8b6",
      "placeholder": "​",
      "style": "IPY_MODEL_0a92b5189d9a4db99c461847e1ebecd9",
      "value": "100%"
     }
    },
    "0ea6eb083d29452085106baf4a625a7f": {
     "model_module": "@jupyter-widgets/base",
     "model_module_version": "1.2.0",
     "model_name": "LayoutModel",
     "state": {
      "_model_module": "@jupyter-widgets/base",
      "_model_module_version": "1.2.0",
      "_model_name": "LayoutModel",
      "_view_count": null,
      "_view_module": "@jupyter-widgets/base",
      "_view_module_version": "1.2.0",
      "_view_name": "LayoutView",
      "align_content": null,
      "align_items": null,
      "align_self": null,
      "border": null,
      "bottom": null,
      "display": null,
      "flex": null,
      "flex_flow": null,
      "grid_area": null,
      "grid_auto_columns": null,
      "grid_auto_flow": null,
      "grid_auto_rows": null,
      "grid_column": null,
      "grid_gap": null,
      "grid_row": null,
      "grid_template_areas": null,
      "grid_template_columns": null,
      "grid_template_rows": null,
      "height": null,
      "justify_content": null,
      "justify_items": null,
      "left": null,
      "margin": null,
      "max_height": null,
      "max_width": null,
      "min_height": null,
      "min_width": null,
      "object_fit": null,
      "object_position": null,
      "order": null,
      "overflow": null,
      "overflow_x": null,
      "overflow_y": null,
      "padding": null,
      "right": null,
      "top": null,
      "visibility": null,
      "width": null
     }
    },
    "102b70b816634d81969e39252dc6f84b": {
     "model_module": "@jupyter-widgets/base",
     "model_module_version": "1.2.0",
     "model_name": "LayoutModel",
     "state": {
      "_model_module": "@jupyter-widgets/base",
      "_model_module_version": "1.2.0",
      "_model_name": "LayoutModel",
      "_view_count": null,
      "_view_module": "@jupyter-widgets/base",
      "_view_module_version": "1.2.0",
      "_view_name": "LayoutView",
      "align_content": null,
      "align_items": null,
      "align_self": null,
      "border": null,
      "bottom": null,
      "display": null,
      "flex": null,
      "flex_flow": null,
      "grid_area": null,
      "grid_auto_columns": null,
      "grid_auto_flow": null,
      "grid_auto_rows": null,
      "grid_column": null,
      "grid_gap": null,
      "grid_row": null,
      "grid_template_areas": null,
      "grid_template_columns": null,
      "grid_template_rows": null,
      "height": null,
      "justify_content": null,
      "justify_items": null,
      "left": null,
      "margin": null,
      "max_height": null,
      "max_width": null,
      "min_height": null,
      "min_width": null,
      "object_fit": null,
      "object_position": null,
      "order": null,
      "overflow": null,
      "overflow_x": null,
      "overflow_y": null,
      "padding": null,
      "right": null,
      "top": null,
      "visibility": null,
      "width": null
     }
    },
    "1214fa7dcc52469f8aff84addf271067": {
     "model_module": "@jupyter-widgets/controls",
     "model_module_version": "1.5.0",
     "model_name": "DescriptionStyleModel",
     "state": {
      "_model_module": "@jupyter-widgets/controls",
      "_model_module_version": "1.5.0",
      "_model_name": "DescriptionStyleModel",
      "_view_count": null,
      "_view_module": "@jupyter-widgets/base",
      "_view_module_version": "1.2.0",
      "_view_name": "StyleView",
      "description_width": ""
     }
    },
    "149122715fe14b0695aa027a58fc9323": {
     "model_module": "@jupyter-widgets/controls",
     "model_module_version": "1.5.0",
     "model_name": "HBoxModel",
     "state": {
      "_dom_classes": [],
      "_model_module": "@jupyter-widgets/controls",
      "_model_module_version": "1.5.0",
      "_model_name": "HBoxModel",
      "_view_count": null,
      "_view_module": "@jupyter-widgets/controls",
      "_view_module_version": "1.5.0",
      "_view_name": "HBoxView",
      "box_style": "",
      "children": [
       "IPY_MODEL_0b99f9f611744225a06856f7a752f20b",
       "IPY_MODEL_96b960a848d2405081d8b31ab9b3fcf7",
       "IPY_MODEL_16628854deaa4899b5d1058eb642095b"
      ],
      "layout": "IPY_MODEL_5f9e644b2b68472c88b17df0e1e5c6a8"
     }
    },
    "14c58bb16b8b4a5c99db76d2d8e9550f": {
     "model_module": "@jupyter-widgets/base",
     "model_module_version": "1.2.0",
     "model_name": "LayoutModel",
     "state": {
      "_model_module": "@jupyter-widgets/base",
      "_model_module_version": "1.2.0",
      "_model_name": "LayoutModel",
      "_view_count": null,
      "_view_module": "@jupyter-widgets/base",
      "_view_module_version": "1.2.0",
      "_view_name": "LayoutView",
      "align_content": null,
      "align_items": null,
      "align_self": null,
      "border": null,
      "bottom": null,
      "display": null,
      "flex": null,
      "flex_flow": null,
      "grid_area": null,
      "grid_auto_columns": null,
      "grid_auto_flow": null,
      "grid_auto_rows": null,
      "grid_column": null,
      "grid_gap": null,
      "grid_row": null,
      "grid_template_areas": null,
      "grid_template_columns": null,
      "grid_template_rows": null,
      "height": null,
      "justify_content": null,
      "justify_items": null,
      "left": null,
      "margin": null,
      "max_height": null,
      "max_width": null,
      "min_height": null,
      "min_width": null,
      "object_fit": null,
      "object_position": null,
      "order": null,
      "overflow": null,
      "overflow_x": null,
      "overflow_y": null,
      "padding": null,
      "right": null,
      "top": null,
      "visibility": null,
      "width": null
     }
    },
    "16628854deaa4899b5d1058eb642095b": {
     "model_module": "@jupyter-widgets/controls",
     "model_module_version": "1.5.0",
     "model_name": "HTMLModel",
     "state": {
      "_dom_classes": [],
      "_model_module": "@jupyter-widgets/controls",
      "_model_module_version": "1.5.0",
      "_model_name": "HTMLModel",
      "_view_count": null,
      "_view_module": "@jupyter-widgets/controls",
      "_view_module_version": "1.5.0",
      "_view_name": "HTMLView",
      "description": "",
      "description_tooltip": null,
      "layout": "IPY_MODEL_cd48616c5f214281aa63f45b1b6301a9",
      "placeholder": "​",
      "style": "IPY_MODEL_352dbcf49f354877a1398b2129b6177f",
      "value": " 50/50 [00:37&lt;00:00,  2.27it/s]"
     }
    },
    "300253e2ded2423aaa3ea3156dd8cf12": {
     "model_module": "@jupyter-widgets/base",
     "model_module_version": "1.2.0",
     "model_name": "LayoutModel",
     "state": {
      "_model_module": "@jupyter-widgets/base",
      "_model_module_version": "1.2.0",
      "_model_name": "LayoutModel",
      "_view_count": null,
      "_view_module": "@jupyter-widgets/base",
      "_view_module_version": "1.2.0",
      "_view_name": "LayoutView",
      "align_content": null,
      "align_items": null,
      "align_self": null,
      "border": null,
      "bottom": null,
      "display": null,
      "flex": null,
      "flex_flow": null,
      "grid_area": null,
      "grid_auto_columns": null,
      "grid_auto_flow": null,
      "grid_auto_rows": null,
      "grid_column": null,
      "grid_gap": null,
      "grid_row": null,
      "grid_template_areas": null,
      "grid_template_columns": null,
      "grid_template_rows": null,
      "height": null,
      "justify_content": null,
      "justify_items": null,
      "left": null,
      "margin": null,
      "max_height": null,
      "max_width": null,
      "min_height": null,
      "min_width": null,
      "object_fit": null,
      "object_position": null,
      "order": null,
      "overflow": null,
      "overflow_x": null,
      "overflow_y": null,
      "padding": null,
      "right": null,
      "top": null,
      "visibility": null,
      "width": null
     }
    },
    "352dbcf49f354877a1398b2129b6177f": {
     "model_module": "@jupyter-widgets/controls",
     "model_module_version": "1.5.0",
     "model_name": "DescriptionStyleModel",
     "state": {
      "_model_module": "@jupyter-widgets/controls",
      "_model_module_version": "1.5.0",
      "_model_name": "DescriptionStyleModel",
      "_view_count": null,
      "_view_module": "@jupyter-widgets/base",
      "_view_module_version": "1.2.0",
      "_view_name": "StyleView",
      "description_width": ""
     }
    },
    "36fb1d60a7694814a15e833de0cdcf56": {
     "model_module": "@jupyter-widgets/controls",
     "model_module_version": "1.5.0",
     "model_name": "HTMLModel",
     "state": {
      "_dom_classes": [],
      "_model_module": "@jupyter-widgets/controls",
      "_model_module_version": "1.5.0",
      "_model_name": "HTMLModel",
      "_view_count": null,
      "_view_module": "@jupyter-widgets/controls",
      "_view_module_version": "1.5.0",
      "_view_name": "HTMLView",
      "description": "",
      "description_tooltip": null,
      "layout": "IPY_MODEL_099c89935b71489b809cd58d7fe91635",
      "placeholder": "​",
      "style": "IPY_MODEL_8ea5e5a3f4dd42a8b2148e5e3b612245",
      "value": " 50/50 [00:38&lt;00:00,  2.08it/s]"
     }
    },
    "3b16b24c7f3840abaa33e44db721eeb8": {
     "model_module": "@jupyter-widgets/controls",
     "model_module_version": "1.5.0",
     "model_name": "HBoxModel",
     "state": {
      "_dom_classes": [],
      "_model_module": "@jupyter-widgets/controls",
      "_model_module_version": "1.5.0",
      "_model_name": "HBoxModel",
      "_view_count": null,
      "_view_module": "@jupyter-widgets/controls",
      "_view_module_version": "1.5.0",
      "_view_name": "HBoxView",
      "box_style": "",
      "children": [
       "IPY_MODEL_4c0ff2eb03994276b4d7dbe08126a049",
       "IPY_MODEL_74eeda879853460e9ef998a650208147",
       "IPY_MODEL_0ad0606a733944ed8fb2734b4c962095"
      ],
      "layout": "IPY_MODEL_8c99063755254ae69663d6dc39790fe7"
     }
    },
    "4085f5f3bd3348398cd17df35a184e10": {
     "model_module": "@jupyter-widgets/controls",
     "model_module_version": "1.5.0",
     "model_name": "DescriptionStyleModel",
     "state": {
      "_model_module": "@jupyter-widgets/controls",
      "_model_module_version": "1.5.0",
      "_model_name": "DescriptionStyleModel",
      "_view_count": null,
      "_view_module": "@jupyter-widgets/base",
      "_view_module_version": "1.2.0",
      "_view_name": "StyleView",
      "description_width": ""
     }
    },
    "48ad59ceae9346eab0d1c960839ecc66": {
     "model_module": "@jupyter-widgets/controls",
     "model_module_version": "1.5.0",
     "model_name": "HTMLModel",
     "state": {
      "_dom_classes": [],
      "_model_module": "@jupyter-widgets/controls",
      "_model_module_version": "1.5.0",
      "_model_name": "HTMLModel",
      "_view_count": null,
      "_view_module": "@jupyter-widgets/controls",
      "_view_module_version": "1.5.0",
      "_view_name": "HTMLView",
      "description": "",
      "description_tooltip": null,
      "layout": "IPY_MODEL_7fad11998cbd4447b3a7b53e679dcca1",
      "placeholder": "​",
      "style": "IPY_MODEL_4085f5f3bd3348398cd17df35a184e10",
      "value": "100%"
     }
    },
    "4a8e332c1b28484d82f8dbd4033f6331": {
     "model_module": "@jupyter-widgets/controls",
     "model_module_version": "1.5.0",
     "model_name": "HTMLModel",
     "state": {
      "_dom_classes": [],
      "_model_module": "@jupyter-widgets/controls",
      "_model_module_version": "1.5.0",
      "_model_name": "HTMLModel",
      "_view_count": null,
      "_view_module": "@jupyter-widgets/controls",
      "_view_module_version": "1.5.0",
      "_view_name": "HTMLView",
      "description": "",
      "description_tooltip": null,
      "layout": "IPY_MODEL_300253e2ded2423aaa3ea3156dd8cf12",
      "placeholder": "​",
      "style": "IPY_MODEL_991882664b504efeb3759479bb857c99",
      "value": " 50/50 [00:26&lt;00:00,  2.19it/s]"
     }
    },
    "4c0ff2eb03994276b4d7dbe08126a049": {
     "model_module": "@jupyter-widgets/controls",
     "model_module_version": "1.5.0",
     "model_name": "HTMLModel",
     "state": {
      "_dom_classes": [],
      "_model_module": "@jupyter-widgets/controls",
      "_model_module_version": "1.5.0",
      "_model_name": "HTMLModel",
      "_view_count": null,
      "_view_module": "@jupyter-widgets/controls",
      "_view_module_version": "1.5.0",
      "_view_name": "HTMLView",
      "description": "",
      "description_tooltip": null,
      "layout": "IPY_MODEL_d40c4433e17846eba60729d102af0ab0",
      "placeholder": "​",
      "style": "IPY_MODEL_1214fa7dcc52469f8aff84addf271067",
      "value": "100%"
     }
    },
    "501bbbc270d04c9fa220bd32d590e21c": {
     "model_module": "@jupyter-widgets/base",
     "model_module_version": "1.2.0",
     "model_name": "LayoutModel",
     "state": {
      "_model_module": "@jupyter-widgets/base",
      "_model_module_version": "1.2.0",
      "_model_name": "LayoutModel",
      "_view_count": null,
      "_view_module": "@jupyter-widgets/base",
      "_view_module_version": "1.2.0",
      "_view_name": "LayoutView",
      "align_content": null,
      "align_items": null,
      "align_self": null,
      "border": null,
      "bottom": null,
      "display": null,
      "flex": null,
      "flex_flow": null,
      "grid_area": null,
      "grid_auto_columns": null,
      "grid_auto_flow": null,
      "grid_auto_rows": null,
      "grid_column": null,
      "grid_gap": null,
      "grid_row": null,
      "grid_template_areas": null,
      "grid_template_columns": null,
      "grid_template_rows": null,
      "height": null,
      "justify_content": null,
      "justify_items": null,
      "left": null,
      "margin": null,
      "max_height": null,
      "max_width": null,
      "min_height": null,
      "min_width": null,
      "object_fit": null,
      "object_position": null,
      "order": null,
      "overflow": null,
      "overflow_x": null,
      "overflow_y": null,
      "padding": null,
      "right": null,
      "top": null,
      "visibility": null,
      "width": null
     }
    },
    "584b9ba9b24c4cb39acca2bd389cb278": {
     "model_module": "@jupyter-widgets/base",
     "model_module_version": "1.2.0",
     "model_name": "LayoutModel",
     "state": {
      "_model_module": "@jupyter-widgets/base",
      "_model_module_version": "1.2.0",
      "_model_name": "LayoutModel",
      "_view_count": null,
      "_view_module": "@jupyter-widgets/base",
      "_view_module_version": "1.2.0",
      "_view_name": "LayoutView",
      "align_content": null,
      "align_items": null,
      "align_self": null,
      "border": null,
      "bottom": null,
      "display": null,
      "flex": null,
      "flex_flow": null,
      "grid_area": null,
      "grid_auto_columns": null,
      "grid_auto_flow": null,
      "grid_auto_rows": null,
      "grid_column": null,
      "grid_gap": null,
      "grid_row": null,
      "grid_template_areas": null,
      "grid_template_columns": null,
      "grid_template_rows": null,
      "height": null,
      "justify_content": null,
      "justify_items": null,
      "left": null,
      "margin": null,
      "max_height": null,
      "max_width": null,
      "min_height": null,
      "min_width": null,
      "object_fit": null,
      "object_position": null,
      "order": null,
      "overflow": null,
      "overflow_x": null,
      "overflow_y": null,
      "padding": null,
      "right": null,
      "top": null,
      "visibility": null,
      "width": null
     }
    },
    "5b652bee28194f41ad82d3a142673e77": {
     "model_module": "@jupyter-widgets/base",
     "model_module_version": "1.2.0",
     "model_name": "LayoutModel",
     "state": {
      "_model_module": "@jupyter-widgets/base",
      "_model_module_version": "1.2.0",
      "_model_name": "LayoutModel",
      "_view_count": null,
      "_view_module": "@jupyter-widgets/base",
      "_view_module_version": "1.2.0",
      "_view_name": "LayoutView",
      "align_content": null,
      "align_items": null,
      "align_self": null,
      "border": null,
      "bottom": null,
      "display": null,
      "flex": null,
      "flex_flow": null,
      "grid_area": null,
      "grid_auto_columns": null,
      "grid_auto_flow": null,
      "grid_auto_rows": null,
      "grid_column": null,
      "grid_gap": null,
      "grid_row": null,
      "grid_template_areas": null,
      "grid_template_columns": null,
      "grid_template_rows": null,
      "height": null,
      "justify_content": null,
      "justify_items": null,
      "left": null,
      "margin": null,
      "max_height": null,
      "max_width": null,
      "min_height": null,
      "min_width": null,
      "object_fit": null,
      "object_position": null,
      "order": null,
      "overflow": null,
      "overflow_x": null,
      "overflow_y": null,
      "padding": null,
      "right": null,
      "top": null,
      "visibility": null,
      "width": null
     }
    },
    "5f9e644b2b68472c88b17df0e1e5c6a8": {
     "model_module": "@jupyter-widgets/base",
     "model_module_version": "1.2.0",
     "model_name": "LayoutModel",
     "state": {
      "_model_module": "@jupyter-widgets/base",
      "_model_module_version": "1.2.0",
      "_model_name": "LayoutModel",
      "_view_count": null,
      "_view_module": "@jupyter-widgets/base",
      "_view_module_version": "1.2.0",
      "_view_name": "LayoutView",
      "align_content": null,
      "align_items": null,
      "align_self": null,
      "border": null,
      "bottom": null,
      "display": null,
      "flex": null,
      "flex_flow": null,
      "grid_area": null,
      "grid_auto_columns": null,
      "grid_auto_flow": null,
      "grid_auto_rows": null,
      "grid_column": null,
      "grid_gap": null,
      "grid_row": null,
      "grid_template_areas": null,
      "grid_template_columns": null,
      "grid_template_rows": null,
      "height": null,
      "justify_content": null,
      "justify_items": null,
      "left": null,
      "margin": null,
      "max_height": null,
      "max_width": null,
      "min_height": null,
      "min_width": null,
      "object_fit": null,
      "object_position": null,
      "order": null,
      "overflow": null,
      "overflow_x": null,
      "overflow_y": null,
      "padding": null,
      "right": null,
      "top": null,
      "visibility": null,
      "width": null
     }
    },
    "606c839e2e4f492e859523d1e89796af": {
     "model_module": "@jupyter-widgets/controls",
     "model_module_version": "1.5.0",
     "model_name": "ProgressStyleModel",
     "state": {
      "_model_module": "@jupyter-widgets/controls",
      "_model_module_version": "1.5.0",
      "_model_name": "ProgressStyleModel",
      "_view_count": null,
      "_view_module": "@jupyter-widgets/base",
      "_view_module_version": "1.2.0",
      "_view_name": "StyleView",
      "bar_color": null,
      "description_width": ""
     }
    },
    "74eeda879853460e9ef998a650208147": {
     "model_module": "@jupyter-widgets/controls",
     "model_module_version": "1.5.0",
     "model_name": "FloatProgressModel",
     "state": {
      "_dom_classes": [],
      "_model_module": "@jupyter-widgets/controls",
      "_model_module_version": "1.5.0",
      "_model_name": "FloatProgressModel",
      "_view_count": null,
      "_view_module": "@jupyter-widgets/controls",
      "_view_module_version": "1.5.0",
      "_view_name": "ProgressView",
      "bar_style": "success",
      "description": "",
      "description_tooltip": null,
      "layout": "IPY_MODEL_584b9ba9b24c4cb39acca2bd389cb278",
      "max": 50,
      "min": 0,
      "orientation": "horizontal",
      "style": "IPY_MODEL_89ff5e8987394182a86bf866a90fafc5",
      "value": 50
     }
    },
    "79e307d0dcdd4c609f6a3092897c221e": {
     "model_module": "@jupyter-widgets/controls",
     "model_module_version": "1.5.0",
     "model_name": "ProgressStyleModel",
     "state": {
      "_model_module": "@jupyter-widgets/controls",
      "_model_module_version": "1.5.0",
      "_model_name": "ProgressStyleModel",
      "_view_count": null,
      "_view_module": "@jupyter-widgets/base",
      "_view_module_version": "1.2.0",
      "_view_name": "StyleView",
      "bar_color": null,
      "description_width": ""
     }
    },
    "7fad11998cbd4447b3a7b53e679dcca1": {
     "model_module": "@jupyter-widgets/base",
     "model_module_version": "1.2.0",
     "model_name": "LayoutModel",
     "state": {
      "_model_module": "@jupyter-widgets/base",
      "_model_module_version": "1.2.0",
      "_model_name": "LayoutModel",
      "_view_count": null,
      "_view_module": "@jupyter-widgets/base",
      "_view_module_version": "1.2.0",
      "_view_name": "LayoutView",
      "align_content": null,
      "align_items": null,
      "align_self": null,
      "border": null,
      "bottom": null,
      "display": null,
      "flex": null,
      "flex_flow": null,
      "grid_area": null,
      "grid_auto_columns": null,
      "grid_auto_flow": null,
      "grid_auto_rows": null,
      "grid_column": null,
      "grid_gap": null,
      "grid_row": null,
      "grid_template_areas": null,
      "grid_template_columns": null,
      "grid_template_rows": null,
      "height": null,
      "justify_content": null,
      "justify_items": null,
      "left": null,
      "margin": null,
      "max_height": null,
      "max_width": null,
      "min_height": null,
      "min_width": null,
      "object_fit": null,
      "object_position": null,
      "order": null,
      "overflow": null,
      "overflow_x": null,
      "overflow_y": null,
      "padding": null,
      "right": null,
      "top": null,
      "visibility": null,
      "width": null
     }
    },
    "89ff5e8987394182a86bf866a90fafc5": {
     "model_module": "@jupyter-widgets/controls",
     "model_module_version": "1.5.0",
     "model_name": "ProgressStyleModel",
     "state": {
      "_model_module": "@jupyter-widgets/controls",
      "_model_module_version": "1.5.0",
      "_model_name": "ProgressStyleModel",
      "_view_count": null,
      "_view_module": "@jupyter-widgets/base",
      "_view_module_version": "1.2.0",
      "_view_name": "StyleView",
      "bar_color": null,
      "description_width": ""
     }
    },
    "8c99063755254ae69663d6dc39790fe7": {
     "model_module": "@jupyter-widgets/base",
     "model_module_version": "1.2.0",
     "model_name": "LayoutModel",
     "state": {
      "_model_module": "@jupyter-widgets/base",
      "_model_module_version": "1.2.0",
      "_model_name": "LayoutModel",
      "_view_count": null,
      "_view_module": "@jupyter-widgets/base",
      "_view_module_version": "1.2.0",
      "_view_name": "LayoutView",
      "align_content": null,
      "align_items": null,
      "align_self": null,
      "border": null,
      "bottom": null,
      "display": null,
      "flex": null,
      "flex_flow": null,
      "grid_area": null,
      "grid_auto_columns": null,
      "grid_auto_flow": null,
      "grid_auto_rows": null,
      "grid_column": null,
      "grid_gap": null,
      "grid_row": null,
      "grid_template_areas": null,
      "grid_template_columns": null,
      "grid_template_rows": null,
      "height": null,
      "justify_content": null,
      "justify_items": null,
      "left": null,
      "margin": null,
      "max_height": null,
      "max_width": null,
      "min_height": null,
      "min_width": null,
      "object_fit": null,
      "object_position": null,
      "order": null,
      "overflow": null,
      "overflow_x": null,
      "overflow_y": null,
      "padding": null,
      "right": null,
      "top": null,
      "visibility": null,
      "width": null
     }
    },
    "8ea5e5a3f4dd42a8b2148e5e3b612245": {
     "model_module": "@jupyter-widgets/controls",
     "model_module_version": "1.5.0",
     "model_name": "DescriptionStyleModel",
     "state": {
      "_model_module": "@jupyter-widgets/controls",
      "_model_module_version": "1.5.0",
      "_model_name": "DescriptionStyleModel",
      "_view_count": null,
      "_view_module": "@jupyter-widgets/base",
      "_view_module_version": "1.2.0",
      "_view_name": "StyleView",
      "description_width": ""
     }
    },
    "96b960a848d2405081d8b31ab9b3fcf7": {
     "model_module": "@jupyter-widgets/controls",
     "model_module_version": "1.5.0",
     "model_name": "FloatProgressModel",
     "state": {
      "_dom_classes": [],
      "_model_module": "@jupyter-widgets/controls",
      "_model_module_version": "1.5.0",
      "_model_name": "FloatProgressModel",
      "_view_count": null,
      "_view_module": "@jupyter-widgets/controls",
      "_view_module_version": "1.5.0",
      "_view_name": "ProgressView",
      "bar_style": "success",
      "description": "",
      "description_tooltip": null,
      "layout": "IPY_MODEL_14c58bb16b8b4a5c99db76d2d8e9550f",
      "max": 50,
      "min": 0,
      "orientation": "horizontal",
      "style": "IPY_MODEL_79e307d0dcdd4c609f6a3092897c221e",
      "value": 50
     }
    },
    "991882664b504efeb3759479bb857c99": {
     "model_module": "@jupyter-widgets/controls",
     "model_module_version": "1.5.0",
     "model_name": "DescriptionStyleModel",
     "state": {
      "_model_module": "@jupyter-widgets/controls",
      "_model_module_version": "1.5.0",
      "_model_name": "DescriptionStyleModel",
      "_view_count": null,
      "_view_module": "@jupyter-widgets/base",
      "_view_module_version": "1.2.0",
      "_view_name": "StyleView",
      "description_width": ""
     }
    },
    "9fb8180bc3374620b144148bfa274922": {
     "model_module": "@jupyter-widgets/base",
     "model_module_version": "1.2.0",
     "model_name": "LayoutModel",
     "state": {
      "_model_module": "@jupyter-widgets/base",
      "_model_module_version": "1.2.0",
      "_model_name": "LayoutModel",
      "_view_count": null,
      "_view_module": "@jupyter-widgets/base",
      "_view_module_version": "1.2.0",
      "_view_name": "LayoutView",
      "align_content": null,
      "align_items": null,
      "align_self": null,
      "border": null,
      "bottom": null,
      "display": null,
      "flex": null,
      "flex_flow": null,
      "grid_area": null,
      "grid_auto_columns": null,
      "grid_auto_flow": null,
      "grid_auto_rows": null,
      "grid_column": null,
      "grid_gap": null,
      "grid_row": null,
      "grid_template_areas": null,
      "grid_template_columns": null,
      "grid_template_rows": null,
      "height": null,
      "justify_content": null,
      "justify_items": null,
      "left": null,
      "margin": null,
      "max_height": null,
      "max_width": null,
      "min_height": null,
      "min_width": null,
      "object_fit": null,
      "object_position": null,
      "order": null,
      "overflow": null,
      "overflow_x": null,
      "overflow_y": null,
      "padding": null,
      "right": null,
      "top": null,
      "visibility": null,
      "width": null
     }
    },
    "a58e2068112840a6ac764c298a41b257": {
     "model_module": "@jupyter-widgets/base",
     "model_module_version": "1.2.0",
     "model_name": "LayoutModel",
     "state": {
      "_model_module": "@jupyter-widgets/base",
      "_model_module_version": "1.2.0",
      "_model_name": "LayoutModel",
      "_view_count": null,
      "_view_module": "@jupyter-widgets/base",
      "_view_module_version": "1.2.0",
      "_view_name": "LayoutView",
      "align_content": null,
      "align_items": null,
      "align_self": null,
      "border": null,
      "bottom": null,
      "display": null,
      "flex": null,
      "flex_flow": null,
      "grid_area": null,
      "grid_auto_columns": null,
      "grid_auto_flow": null,
      "grid_auto_rows": null,
      "grid_column": null,
      "grid_gap": null,
      "grid_row": null,
      "grid_template_areas": null,
      "grid_template_columns": null,
      "grid_template_rows": null,
      "height": null,
      "justify_content": null,
      "justify_items": null,
      "left": null,
      "margin": null,
      "max_height": null,
      "max_width": null,
      "min_height": null,
      "min_width": null,
      "object_fit": null,
      "object_position": null,
      "order": null,
      "overflow": null,
      "overflow_x": null,
      "overflow_y": null,
      "padding": null,
      "right": null,
      "top": null,
      "visibility": null,
      "width": null
     }
    },
    "a96c56bd715f4aa2b48e8f1321d759ba": {
     "model_module": "@jupyter-widgets/controls",
     "model_module_version": "1.5.0",
     "model_name": "FloatProgressModel",
     "state": {
      "_dom_classes": [],
      "_model_module": "@jupyter-widgets/controls",
      "_model_module_version": "1.5.0",
      "_model_name": "FloatProgressModel",
      "_view_count": null,
      "_view_module": "@jupyter-widgets/controls",
      "_view_module_version": "1.5.0",
      "_view_name": "ProgressView",
      "bar_style": "success",
      "description": "",
      "description_tooltip": null,
      "layout": "IPY_MODEL_0ea6eb083d29452085106baf4a625a7f",
      "max": 50,
      "min": 0,
      "orientation": "horizontal",
      "style": "IPY_MODEL_606c839e2e4f492e859523d1e89796af",
      "value": 50
     }
    },
    "b0f80af756b845bdb9757a8b3f339f6d": {
     "model_module": "@jupyter-widgets/controls",
     "model_module_version": "1.5.0",
     "model_name": "ProgressStyleModel",
     "state": {
      "_model_module": "@jupyter-widgets/controls",
      "_model_module_version": "1.5.0",
      "_model_name": "ProgressStyleModel",
      "_view_count": null,
      "_view_module": "@jupyter-widgets/base",
      "_view_module_version": "1.2.0",
      "_view_name": "StyleView",
      "bar_color": null,
      "description_width": ""
     }
    },
    "b19b76cee5ff4c798e2476a76f93a4b7": {
     "model_module": "@jupyter-widgets/controls",
     "model_module_version": "1.5.0",
     "model_name": "HBoxModel",
     "state": {
      "_dom_classes": [],
      "_model_module": "@jupyter-widgets/controls",
      "_model_module_version": "1.5.0",
      "_model_name": "HBoxModel",
      "_view_count": null,
      "_view_module": "@jupyter-widgets/controls",
      "_view_module_version": "1.5.0",
      "_view_name": "HBoxView",
      "box_style": "",
      "children": [
       "IPY_MODEL_d6fe6804f7b942258d3982430d0748ed",
       "IPY_MODEL_a96c56bd715f4aa2b48e8f1321d759ba",
       "IPY_MODEL_36fb1d60a7694814a15e833de0cdcf56"
      ],
      "layout": "IPY_MODEL_9fb8180bc3374620b144148bfa274922"
     }
    },
    "b4e540a1b7584b1bbadfe23f4b74e8b6": {
     "model_module": "@jupyter-widgets/base",
     "model_module_version": "1.2.0",
     "model_name": "LayoutModel",
     "state": {
      "_model_module": "@jupyter-widgets/base",
      "_model_module_version": "1.2.0",
      "_model_name": "LayoutModel",
      "_view_count": null,
      "_view_module": "@jupyter-widgets/base",
      "_view_module_version": "1.2.0",
      "_view_name": "LayoutView",
      "align_content": null,
      "align_items": null,
      "align_self": null,
      "border": null,
      "bottom": null,
      "display": null,
      "flex": null,
      "flex_flow": null,
      "grid_area": null,
      "grid_auto_columns": null,
      "grid_auto_flow": null,
      "grid_auto_rows": null,
      "grid_column": null,
      "grid_gap": null,
      "grid_row": null,
      "grid_template_areas": null,
      "grid_template_columns": null,
      "grid_template_rows": null,
      "height": null,
      "justify_content": null,
      "justify_items": null,
      "left": null,
      "margin": null,
      "max_height": null,
      "max_width": null,
      "min_height": null,
      "min_width": null,
      "object_fit": null,
      "object_position": null,
      "order": null,
      "overflow": null,
      "overflow_x": null,
      "overflow_y": null,
      "padding": null,
      "right": null,
      "top": null,
      "visibility": null,
      "width": null
     }
    },
    "c37ae15473294c19a99c930fdcbc8eb5": {
     "model_module": "@jupyter-widgets/controls",
     "model_module_version": "1.5.0",
     "model_name": "DescriptionStyleModel",
     "state": {
      "_model_module": "@jupyter-widgets/controls",
      "_model_module_version": "1.5.0",
      "_model_name": "DescriptionStyleModel",
      "_view_count": null,
      "_view_module": "@jupyter-widgets/base",
      "_view_module_version": "1.2.0",
      "_view_name": "StyleView",
      "description_width": ""
     }
    },
    "c3f6e9aa0b9f440abf47ccad74951322": {
     "model_module": "@jupyter-widgets/controls",
     "model_module_version": "1.5.0",
     "model_name": "HBoxModel",
     "state": {
      "_dom_classes": [],
      "_model_module": "@jupyter-widgets/controls",
      "_model_module_version": "1.5.0",
      "_model_name": "HBoxModel",
      "_view_count": null,
      "_view_module": "@jupyter-widgets/controls",
      "_view_module_version": "1.5.0",
      "_view_name": "HBoxView",
      "box_style": "",
      "children": [
       "IPY_MODEL_48ad59ceae9346eab0d1c960839ecc66",
       "IPY_MODEL_fd9d27e89b62462b9e4edc45683bab4f",
       "IPY_MODEL_4a8e332c1b28484d82f8dbd4033f6331"
      ],
      "layout": "IPY_MODEL_5b652bee28194f41ad82d3a142673e77"
     }
    },
    "cd48616c5f214281aa63f45b1b6301a9": {
     "model_module": "@jupyter-widgets/base",
     "model_module_version": "1.2.0",
     "model_name": "LayoutModel",
     "state": {
      "_model_module": "@jupyter-widgets/base",
      "_model_module_version": "1.2.0",
      "_model_name": "LayoutModel",
      "_view_count": null,
      "_view_module": "@jupyter-widgets/base",
      "_view_module_version": "1.2.0",
      "_view_name": "LayoutView",
      "align_content": null,
      "align_items": null,
      "align_self": null,
      "border": null,
      "bottom": null,
      "display": null,
      "flex": null,
      "flex_flow": null,
      "grid_area": null,
      "grid_auto_columns": null,
      "grid_auto_flow": null,
      "grid_auto_rows": null,
      "grid_column": null,
      "grid_gap": null,
      "grid_row": null,
      "grid_template_areas": null,
      "grid_template_columns": null,
      "grid_template_rows": null,
      "height": null,
      "justify_content": null,
      "justify_items": null,
      "left": null,
      "margin": null,
      "max_height": null,
      "max_width": null,
      "min_height": null,
      "min_width": null,
      "object_fit": null,
      "object_position": null,
      "order": null,
      "overflow": null,
      "overflow_x": null,
      "overflow_y": null,
      "padding": null,
      "right": null,
      "top": null,
      "visibility": null,
      "width": null
     }
    },
    "d40c4433e17846eba60729d102af0ab0": {
     "model_module": "@jupyter-widgets/base",
     "model_module_version": "1.2.0",
     "model_name": "LayoutModel",
     "state": {
      "_model_module": "@jupyter-widgets/base",
      "_model_module_version": "1.2.0",
      "_model_name": "LayoutModel",
      "_view_count": null,
      "_view_module": "@jupyter-widgets/base",
      "_view_module_version": "1.2.0",
      "_view_name": "LayoutView",
      "align_content": null,
      "align_items": null,
      "align_self": null,
      "border": null,
      "bottom": null,
      "display": null,
      "flex": null,
      "flex_flow": null,
      "grid_area": null,
      "grid_auto_columns": null,
      "grid_auto_flow": null,
      "grid_auto_rows": null,
      "grid_column": null,
      "grid_gap": null,
      "grid_row": null,
      "grid_template_areas": null,
      "grid_template_columns": null,
      "grid_template_rows": null,
      "height": null,
      "justify_content": null,
      "justify_items": null,
      "left": null,
      "margin": null,
      "max_height": null,
      "max_width": null,
      "min_height": null,
      "min_width": null,
      "object_fit": null,
      "object_position": null,
      "order": null,
      "overflow": null,
      "overflow_x": null,
      "overflow_y": null,
      "padding": null,
      "right": null,
      "top": null,
      "visibility": null,
      "width": null
     }
    },
    "d6fe6804f7b942258d3982430d0748ed": {
     "model_module": "@jupyter-widgets/controls",
     "model_module_version": "1.5.0",
     "model_name": "HTMLModel",
     "state": {
      "_dom_classes": [],
      "_model_module": "@jupyter-widgets/controls",
      "_model_module_version": "1.5.0",
      "_model_name": "HTMLModel",
      "_view_count": null,
      "_view_module": "@jupyter-widgets/controls",
      "_view_module_version": "1.5.0",
      "_view_name": "HTMLView",
      "description": "",
      "description_tooltip": null,
      "layout": "IPY_MODEL_501bbbc270d04c9fa220bd32d590e21c",
      "placeholder": "​",
      "style": "IPY_MODEL_09bbb94cb76e4f63b5b6426a1168ae49",
      "value": "100%"
     }
    },
    "fd9d27e89b62462b9e4edc45683bab4f": {
     "model_module": "@jupyter-widgets/controls",
     "model_module_version": "1.5.0",
     "model_name": "FloatProgressModel",
     "state": {
      "_dom_classes": [],
      "_model_module": "@jupyter-widgets/controls",
      "_model_module_version": "1.5.0",
      "_model_name": "FloatProgressModel",
      "_view_count": null,
      "_view_module": "@jupyter-widgets/controls",
      "_view_module_version": "1.5.0",
      "_view_name": "ProgressView",
      "bar_style": "success",
      "description": "",
      "description_tooltip": null,
      "layout": "IPY_MODEL_102b70b816634d81969e39252dc6f84b",
      "max": 50,
      "min": 0,
      "orientation": "horizontal",
      "style": "IPY_MODEL_b0f80af756b845bdb9757a8b3f339f6d",
      "value": 50
     }
    }
   }
  }
 },
 "nbformat": 4,
 "nbformat_minor": 4
}
